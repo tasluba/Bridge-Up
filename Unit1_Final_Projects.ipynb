{
 "cells": [
  {
   "cell_type": "markdown",
   "metadata": {
    "deletable": true,
    "editable": true
   },
   "source": [
    "# Analyzing your experimental data\n",
    "\n",
    "Use this Jupyter Notebook to analyze the data from your experiment"
   ]
  },
  {
   "cell_type": "markdown",
   "metadata": {
    "deletable": true,
    "editable": true
   },
   "source": [
    "Put your data into one or more list as relevant for your experiment (one sample, one list; two samples, two lists):"
   ]
  },
  {
   "cell_type": "code",
   "execution_count": 11,
   "metadata": {
    "collapsed": false,
    "deletable": true,
    "editable": true
   },
   "outputs": [
    {
     "name": "stdout",
     "output_type": "stream",
     "text": [
      "10\n"
     ]
    }
   ],
   "source": [
    "time= [69, 61, 61.6, 60, 52.02, 53.9, 48.69, 65, 36.42, 56.62]\n",
    "#since our experiment has multiple variables, we had to find the average, standard deviation and variance of each of the results for each of the variables\n",
    "pink= [48.69,65]\n",
    "white=[69,61]\n",
    "orange= [61.6,60]\n",
    "yellow= [52.02,53.9]\n",
    "green= [36.42,56.62]\n",
    "print (len(time))"
   ]
  },
  {
   "cell_type": "markdown",
   "metadata": {
    "deletable": true,
    "editable": true
   },
   "source": [
    "Consider how you can loops and/or conditionals to analyze your data. Use the cell below to do so if you think this would be helpful:"
   ]
  },
  {
   "cell_type": "code",
   "execution_count": null,
   "metadata": {
    "collapsed": true,
    "deletable": true,
    "editable": true
   },
   "outputs": [],
   "source": []
  },
  {
   "cell_type": "markdown",
   "metadata": {
    "deletable": true,
    "editable": true
   },
   "source": [
    "Now find the mean of your dataset(s). Hint: You will need to import numpy."
   ]
  },
  {
   "cell_type": "code",
   "execution_count": 18,
   "metadata": {
    "collapsed": false,
    "deletable": true,
    "editable": true
   },
   "outputs": [
    {
     "name": "stdout",
     "output_type": "stream",
     "text": [
      "56.425\n",
      "56.845\n",
      "65.0\n",
      "60.8\n",
      "52.96\n",
      "46.52\n"
     ]
    }
   ],
   "source": [
    "import numpy as np\n",
    "print (np.mean(time))\n",
    "pink_avg=(np.mean(pink))\n",
    "white_avg=(np.mean(white))\n",
    "orange_avg= (np.mean(orange))\n",
    "yellow_avg= (np.mean(yellow))\n",
    "green_avg= (np.mean(green))\n",
    "print (np.mean(pink))\n",
    "print (np.mean(white))\n",
    "print (np.mean(orange))\n",
    "print (np.mean(yellow))\n",
    "print (np.mean(green))"
   ]
  },
  {
   "cell_type": "markdown",
   "metadata": {
    "deletable": true,
    "editable": true
   },
   "source": [
    "Next, find the standard deviation and variance using the np.std() and np.var() functions."
   ]
  },
  {
   "cell_type": "code",
   "execution_count": 13,
   "metadata": {
    "collapsed": false,
    "deletable": true,
    "editable": true
   },
   "outputs": [
    {
     "name": "stdout",
     "output_type": "stream",
     "text": [
      "8.82043678057\n",
      "8.155\n",
      "4.0\n",
      "0.8\n",
      "0.94\n",
      "10.1\n"
     ]
    }
   ],
   "source": [
    "import numpy as np\n",
    "print (np.std(time))\n",
    "print (np.std(pink))\n",
    "print (np.std(white))\n",
    "print (np.std(orange))\n",
    "print (np.std(yellow))\n",
    "print (np.std(green))"
   ]
  },
  {
   "cell_type": "code",
   "execution_count": 14,
   "metadata": {
    "collapsed": false,
    "deletable": true,
    "editable": true
   },
   "outputs": [
    {
     "name": "stdout",
     "output_type": "stream",
     "text": [
      "77.800105\n",
      "66.504025\n",
      "16.0\n",
      "0.64\n",
      "0.8836\n",
      "102.01\n"
     ]
    }
   ],
   "source": [
    "import numpy as np\n",
    "print (np.var(time))\n",
    "print (np.var(pink))\n",
    "print (np.var(white))\n",
    "print (np.var(orange))\n",
    "print (np.var(yellow))\n",
    "print (np.var(green))"
   ]
  },
  {
   "cell_type": "markdown",
   "metadata": {
    "deletable": true,
    "editable": true
   },
   "source": [
    "Now, find your t-value. Use the relevant code below:"
   ]
  },
  {
   "cell_type": "code",
   "execution_count": 15,
   "metadata": {
    "collapsed": false,
    "deletable": true,
    "editable": true
   },
   "outputs": [
    {
     "ename": "NameError",
     "evalue": "name 'data_list' is not defined",
     "output_type": "error",
     "traceback": [
      "\u001b[0;31m---------------------------------------------------------------------------\u001b[0m",
      "\u001b[0;31mNameError\u001b[0m                                 Traceback (most recent call last)",
      "\u001b[0;32m<ipython-input-15-5ad60644f32a>\u001b[0m in \u001b[0;36m<module>\u001b[0;34m()\u001b[0m\n\u001b[1;32m      1\u001b[0m \u001b[0;31m#one sample t-test\u001b[0m\u001b[0;34m\u001b[0m\u001b[0;34m\u001b[0m\u001b[0m\n\u001b[1;32m      2\u001b[0m \u001b[0;32mfrom\u001b[0m \u001b[0mscipy\u001b[0m \u001b[0;32mimport\u001b[0m \u001b[0mstats\u001b[0m\u001b[0;34m\u001b[0m\u001b[0m\n\u001b[0;32m----> 3\u001b[0;31m \u001b[0mprint\u001b[0m\u001b[0;34m(\u001b[0m\u001b[0mstats\u001b[0m\u001b[0;34m.\u001b[0m\u001b[0mttest_1samp\u001b[0m\u001b[0;34m(\u001b[0m\u001b[0mdata_list\u001b[0m\u001b[0;34m,\u001b[0m \u001b[0mpop_mean\u001b[0m\u001b[0;34m)\u001b[0m\u001b[0;34m)\u001b[0m\u001b[0;34m\u001b[0m\u001b[0m\n\u001b[0m",
      "\u001b[0;31mNameError\u001b[0m: name 'data_list' is not defined"
     ]
    }
   ],
   "source": [
    "#one sample t-test\n",
    "from scipy import stats\n",
    "print(stats.ttest_1samp(data_list, pop_mean))"
   ]
  },
  {
   "cell_type": "code",
   "execution_count": 16,
   "metadata": {
    "collapsed": false,
    "deletable": true,
    "editable": true
   },
   "outputs": [
    {
     "ename": "NameError",
     "evalue": "name 'data_list_1' is not defined",
     "output_type": "error",
     "traceback": [
      "\u001b[0;31m---------------------------------------------------------------------------\u001b[0m",
      "\u001b[0;31mNameError\u001b[0m                                 Traceback (most recent call last)",
      "\u001b[0;32m<ipython-input-16-85e69412f8cf>\u001b[0m in \u001b[0;36m<module>\u001b[0;34m()\u001b[0m\n\u001b[1;32m      1\u001b[0m \u001b[0;31m#two sample t-test\u001b[0m\u001b[0;34m\u001b[0m\u001b[0;34m\u001b[0m\u001b[0m\n\u001b[1;32m      2\u001b[0m \u001b[0;32mfrom\u001b[0m \u001b[0mscipy\u001b[0m \u001b[0;32mimport\u001b[0m \u001b[0mstats\u001b[0m\u001b[0;34m\u001b[0m\u001b[0m\n\u001b[0;32m----> 3\u001b[0;31m \u001b[0mprint\u001b[0m\u001b[0;34m(\u001b[0m\u001b[0mstats\u001b[0m\u001b[0;34m.\u001b[0m\u001b[0mttest_ind\u001b[0m\u001b[0;34m(\u001b[0m\u001b[0mdata_list_1\u001b[0m\u001b[0;34m,\u001b[0m \u001b[0mdata_list_2\u001b[0m\u001b[0;34m)\u001b[0m\u001b[0;34m)\u001b[0m\u001b[0;34m\u001b[0m\u001b[0m\n\u001b[0m",
      "\u001b[0;31mNameError\u001b[0m: name 'data_list_1' is not defined"
     ]
    }
   ],
   "source": [
    "#two sample t-test\n",
    "from scipy import stats\n",
    "print(stats.ttest_ind(data_list_1, data_list_2))"
   ]
  },
  {
   "cell_type": "code",
   "execution_count": 17,
   "metadata": {
    "collapsed": false,
    "deletable": true,
    "editable": true
   },
   "outputs": [
    {
     "name": "stdout",
     "output_type": "stream",
     "text": [
      "F_onewayResult(statistic=1.3637221234145507, pvalue=0.36448690090747266)\n"
     ]
    }
   ],
   "source": [
    "from scipy import stats\n",
    "#our experiment contains multiple variables and a t-test will not work for multiple variables\n",
    "print(stats.f_oneway(white,orange,yellow,green,pink))"
   ]
  },
  {
   "cell_type": "markdown",
   "metadata": {
    "deletable": true,
    "editable": true
   },
   "source": [
    "Next, it's time to make a graph that visualizes your results. You can create a histogram for your datasets using matplotlib:"
   ]
  },
  {
   "cell_type": "code",
   "execution_count": 25,
   "metadata": {
    "collapsed": false,
    "deletable": true,
    "editable": true
   },
   "outputs": [
    {
     "data": {
      "image/png": "[encoded data removed]",
      "text/plain": [
       "<matplotlib.figure.Figure at 0x11e8923c8>"
      ]
     },
     "metadata": {},
     "output_type": "display_data"
    }
   ],
   "source": [
    "import matplotlib.pyplot as plt\n",
    "\n",
    "# Create a histogram\n",
    "plt.bar(1,pink_avg)\n",
    "plt.bar(2,green_avg)\n",
    "plt.bar(3,orange_avg)\n",
    "plt.bar(4,yellow_avg)\n",
    "plt.bar(5,white_avg)\n",
    "plt.xticks([1,2,3,4,5],(\"Pink\",\"Green\",\"Orange\",\"Yellow\",\"White\"))\n",
    "\n",
    "# Add a title and axis labels\n",
    "plt.suptitle(\"Effect of color on how a person works\")\n",
    "plt.xlabel(\"COLORS\")\n",
    "plt.ylabel(\"time in seconds\")\n",
    "\n",
    "# Show the graph\n",
    "plt.show()\n"
   ]
  },
  {
   "cell_type": "markdown",
   "metadata": {
    "deletable": true,
    "editable": true
   },
   "source": [
    "If you want to make another kind of graph, ask for help!"
   ]
  }
 ],
 "metadata": {
  "kernelspec": {
   "display_name": "Python 3",
   "language": "python",
   "name": "python3"
  },
  "language_info": {
   "codemirror_mode": {
    "name": "ipython",
    "version": 3
   },
   "file_extension": ".py",
   "mimetype": "text/x-python",
   "name": "python",
   "nbconvert_exporter": "python",
   "pygments_lexer": "ipython3",
   "version": "3.5.2"
  }
 },
 "nbformat": 4,
 "nbformat_minor": 2
}

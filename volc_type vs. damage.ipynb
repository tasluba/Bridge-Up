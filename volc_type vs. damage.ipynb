{
 "cells": [
  {
   "cell_type": "code",
   "execution_count": 18,
   "metadata": {
    "collapsed": false,
    "deletable": true,
    "editable": true
   },
   "outputs": [],
   "source": [
    "import pandas as pd\n",
    "import numpy as np\n",
    "import matplotlib.pyplot as plt"
   ]
  },
  {
   "cell_type": "code",
   "execution_count": 19,
   "metadata": {
    "collapsed": true,
    "deletable": true,
    "editable": true
   },
   "outputs": [],
   "source": [
    "df= pd.read_csv(\"volc_data.csv\")"
   ]
  },
  {
   "cell_type": "code",
   "execution_count": 20,
   "metadata": {
    "collapsed": false,
    "deletable": true,
    "editable": true
   },
   "outputs": [
    {
     "name": "stdout",
     "output_type": "stream",
     "text": [
      "[nan, 'Caldera', 'Stratovolcano', 'Complex volcano', 'Shield volcano', 'Pyroclastic shield', 'Volcanic field', 'Lava dome', 'Subglacial volcano', 'Crater rows', 'Tuff cone', 'Fissure vent', 'Pyroclastic cone', 'Submarine volcano', 'Lava cone', 'Pumice cone', 'Mud volcano', 'Cinder cone', 'Compound volcano', 'Maar']\n",
      "20\n"
     ]
    }
   ],
   "source": [
    "#FINDING ALL THE DIFFERENT TYPES OF VOLCANOES\n",
    "volc=[]\n",
    "typo=pd.unique(df[\"Type\"])\n",
    "for typo in typo:\n",
    "    if typo is not volc:\n",
    "        volc.append(typo)\n",
    "print(volc)\n",
    "print(len(volc))"
   ]
  },
  {
   "cell_type": "code",
   "execution_count": 23,
   "metadata": {
    "collapsed": false,
    "deletable": true,
    "editable": true
   },
   "outputs": [],
   "source": [
    "#FINDING THE MEAN VEI OF EACH TYPE OF VOLCANO\n",
    "vei= df[\"VEI\"]\n",
    "typo= df[\"Type\"]\n",
    "caldera=np.mean(df[\"VEI\"].loc[df[\"Type\"]==\"Caldera\"])\n",
    "stratovolcano=np.mean(df[\"VEI\"].loc[df[\"Type\"]==\"Stratovolcano\"])\n",
    "comp=np.mean(df[\"VEI\"].loc[df[\"Type\"]==\"Complex volcano\"])\n",
    "shield=np.mean(df[\"VEI\"].loc[df[\"Type\"]==\"Shield volcano\"])\n",
    "pyro_s=np.mean(df[\"VEI\"].loc[df[\"Type\"]==\"Pyroclastic shield\"])\n",
    "vol_field=np.mean(df[\"VEI\"].loc[df[\"Type\"]==\"Volcanic field\"])\n",
    "lava_dome=np.mean(df[\"VEI\"].loc[df[\"Type\"]==\"Lava dome\"])\n",
    "subglacial=np.mean(df[\"VEI\"].loc[df[\"Type\"]==\"Subglacial volcano\"])\n",
    "crater=np.mean(df[\"VEI\"].loc[df[\"Type\"]==\"Crater rows\"])\n",
    "tuff=np.mean(df[\"VEI\"].loc[df[\"Type\"]==\"Tuff cone\"])\n",
    "fissure=np.mean(df[\"VEI\"].loc[df[\"Type\"]==\"Fissure vent\"])\n",
    "pyro_c=np.mean(df[\"VEI\"].loc[df[\"Type\"]==\"Pyroclastic cone\"])\n",
    "sub=np.mean(df[\"VEI\"].loc[df[\"Type\"]==\"Submarine volcano\"])\n",
    "lava_cone=np.mean(df[\"VEI\"].loc[df[\"Type\"]==\"Lava cone\"])\n",
    "pumice_cone=np.mean(df[\"VEI\"].loc[df[\"Type\"]==\"Pumice cone\"])\n",
    "mud=np.mean(df[\"VEI\"].loc[df[\"Type\"]==\"Mud volcano\"])\n",
    "cinder=np.mean(df[\"VEI\"].loc[df[\"Type\"]==\"Cinder cone\"])\n",
    "compound=np.mean(df[\"VEI\"].loc[df[\"Type\"]==\"Compound volcano\"])\n",
    "maar=np.mean(df[\"VEI\"].loc[df[\"Type\"]==\"Maar\"])"
   ]
  },
  {
   "cell_type": "code",
   "execution_count": 24,
   "metadata": {
    "collapsed": false,
    "deletable": true,
    "editable": true
   },
   "outputs": [
    {
     "name": "stdout",
     "output_type": "stream",
     "text": [
      "3.37254901961\n"
     ]
    }
   ],
   "source": [
    "print (caldera)"
   ]
  },
  {
   "cell_type": "code",
   "execution_count": 33,
   "metadata": {
    "collapsed": false,
    "deletable": true,
    "editable": true
   },
   "outputs": [
    {
     "data": {
      "image/png": "[encoded data removed]",
      "text/plain": [
       "<matplotlib.figure.Figure at 0x11dd61f28>"
      ]
     },
     "metadata": {},
     "output_type": "display_data"
    }
   ],
   "source": [
    "#CREATING THE BAR GRAPH\n",
    "plt.bar(1,caldera,edgecolor=\"black\")\n",
    "plt.bar(2,stratovolcano,edgecolor=\"black\")\n",
    "plt.bar(3,comp,edgecolor=\"black\")\n",
    "plt.bar(4,shield,edgecolor=\"black\")\n",
    "plt.bar(5,pyro_s,edgecolor=\"black\")\n",
    "plt.bar(6,vol_field,edgecolor=\"black\")\n",
    "plt.bar(7,lava_dome,edgecolor=\"black\")\n",
    "plt.bar(8,subglacial,edgecolor=\"black\")\n",
    "plt.bar(9,crater,edgecolor=\"black\")\n",
    "plt.bar(10,tuff,edgecolor=\"black\")\n",
    "plt.bar(11,fissure,edgecolor=\"black\")\n",
    "plt.bar(12,pyro_c,edgecolor=\"black\")\n",
    "plt.bar(13,sub,edgecolor=\"black\")\n",
    "plt.bar(14,lava_cone,edgecolor=\"black\")\n",
    "plt.bar(15,pumice_cone,edgecolor=\"black\")\n",
    "plt.bar(16,mud,edgecolor=\"black\")\n",
    "plt.bar(17,cinder,edgecolor=\"black\")\n",
    "plt.bar(18,compound,edgecolor=\"black\")\n",
    "plt.bar(19,maar,edgecolor=\"black\")\n",
    "\n",
    "\n",
    "plt.xticks([1,2,3,4,5,6,7,8,9,10,11,12,13,14,15,16,17,18,19],\n",
    "           ('Caldera', 'Stratovolcano', 'Complex volcano', 'Shield volcano', 'Pyroclastic shield', 'Volcanic field', 'Lava dome', 'Subglacial volcano', 'Crater rows', 'Tuff cone', 'Fissure vent', 'Pyroclastic cone', 'Submarine volcano', 'Lava cone', 'Pumice cone', 'Mud volcano', 'Cinder cone', 'Compound volcano', 'Maar'),rotation=90)\n",
    "\n",
    "# Add a title and axis labels\n",
    "plt.suptitle(\"Type of Volcano v. Average VEI\")\n",
    "plt.xlabel(\"Type of Volcano\")\n",
    "plt.ylabel(\"Average VEI\")\n",
    "\n",
    "# Show the graph\n",
    "\n",
    "plt.show()\n",
    "\n"
   ]
  },
  {
   "cell_type": "code",
   "execution_count": null,
   "metadata": {
    "collapsed": true,
    "deletable": true,
    "editable": true
   },
   "outputs": [],
   "source": []
  },
  {
   "cell_type": "code",
   "execution_count": null,
   "metadata": {
    "collapsed": true,
    "deletable": true,
    "editable": true
   },
   "outputs": [],
   "source": []
  }
 ],
 "metadata": {
  "kernelspec": {
   "display_name": "Python 3",
   "language": "python",
   "name": "python3"
  },
  "language_info": {
   "codemirror_mode": {
    "name": "ipython",
    "version": 3
   },
   "file_extension": ".py",
   "mimetype": "text/x-python",
   "name": "python",
   "nbconvert_exporter": "python",
   "pygments_lexer": "ipython3",
   "version": "3.5.2"
  }
 },
 "nbformat": 4,
 "nbformat_minor": 2
}

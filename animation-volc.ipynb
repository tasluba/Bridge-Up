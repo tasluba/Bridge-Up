{
 "cells": [
  {
   "cell_type": "code",
   "execution_count": 1,
   "metadata": {
    "collapsed": true,
    "deletable": true,
    "editable": true
   },
   "outputs": [],
   "source": [
    "from plotly.offline import init_notebook_mode, iplot\n",
    "from IPython.display import display, HTML\n",
    "import pandas as pd\n",
    "\n"
   ]
  },
  {
   "cell_type": "code",
   "execution_count": 2,
   "metadata": {
    "collapsed": false,
    "deletable": true,
    "editable": true
   },
   "outputs": [],
   "source": [
    "dataset= pd.read_csv(\"volc_data.csv\")"
   ]
  },
  {
   "cell_type": "code",
   "execution_count": 3,
   "metadata": {
    "collapsed": false,
    "deletable": true,
    "editable": true
   },
   "outputs": [
    {
     "data": {
      "text/html": [
       "<script>requirejs.config({paths: { 'plotly': ['https://cdn.plot.ly/plotly-latest.min']},});if(!window.Plotly) {{require(['plotly'],function(plotly) {window.Plotly=plotly;});}}</script>"
      ],
      "text/vnd.plotly.v1+html": [
       "<script>requirejs.config({paths: { 'plotly': ['https://cdn.plot.ly/plotly-latest.min']},});if(!window.Plotly) {{require(['plotly'],function(plotly) {window.Plotly=plotly;});}}</script>"
      ]
     },
     "metadata": {},
     "output_type": "display_data"
    }
   ],
   "source": [
    "init_notebook_mode(connected=True)"
   ]
  },
  {
   "cell_type": "code",
   "execution_count": 18,
   "metadata": {
    "collapsed": true,
    "deletable": true,
    "editable": true
   },
   "outputs": [],
   "source": [
    "years = ['1800','1820','1840','1860','1880','1900','1910','1920','1930','1940','1950','1960','1970','1980','1990','2000','2010','2015','2018']\n",
    "\n",
    "\n"
   ]
  },
  {
   "cell_type": "code",
   "execution_count": 19,
   "metadata": {
    "collapsed": false,
    "deletable": true,
    "editable": true
   },
   "outputs": [
    {
     "data": {
      "text/plain": [
       "\"countries=[]\\nfor country in dataset['COUNTRY']:\\n    if country is not countries:\\n        countries.append(country)\""
      ]
     },
     "execution_count": 19,
     "metadata": {},
     "output_type": "execute_result"
    }
   ],
   "source": [
    "'''countries=[]\n",
    "for country in dataset['COUNTRY']:\n",
    "    if country is not countries:\n",
    "        countries.append(country)'''"
   ]
  },
  {
   "cell_type": "code",
   "execution_count": 20,
   "metadata": {
    "collapsed": false,
    "deletable": true,
    "editable": true
   },
   "outputs": [
    {
     "name": "stdout",
     "output_type": "stream",
     "text": [
      "[nan, 'New Zealand', 'Japan', 'Nicaragua', 'Papua New Guinea', 'Philippines', 'Italy', 'United States', 'Greece', 'Ecuador', 'Vanuatu', 'Yemen', 'Russia', 'Indonesia', 'El Salvador', 'Saudi Arabia', 'Iceland', 'Mexico', 'North Korea', 'Ethiopia', 'Guatemala', 'Solomon Is.', 'Portugal', 'Colombia', 'Pacific Ocean', 'Peru', 'China', 'Spain', 'Canada', 'Tanzania', 'St. Vincent & the Grenadines', 'Chile', 'Turkey', 'St. Kitts & Nevis', 'Guadeloupe', 'Cape Verde', 'Tonga', 'Taiwan', 'Eritrea', 'Comoros', 'Martinique', 'Samoa', 'Cameroon', 'Trinidad ', 'Congo, DRC', 'Costa Rica', 'Antarctica', 'Reunion', 'Montserrat']\n"
     ]
    }
   ],
   "source": [
    "countries=[]\n",
    "country=pd.unique(dataset[\"Country\"])\n",
    "for country in country:\n",
    "    if country is not countries:\n",
    "        countries.append(country)\n",
    "print(countries)"
   ]
  },
  {
   "cell_type": "code",
   "execution_count": 21,
   "metadata": {
    "collapsed": true,
    "deletable": true,
    "editable": true
   },
   "outputs": [],
   "source": [
    "#making figure dictionary\n",
    "figure = {\n",
    "    'data': [],\n",
    "    'layout': {},\n",
    "    'frames': []\n",
    "}"
   ]
  },
  {
   "cell_type": "code",
   "execution_count": 22,
   "metadata": {
    "collapsed": false,
    "deletable": true,
    "editable": true
   },
   "outputs": [],
   "source": [
    "figure['layout']['xaxis'] = {'range': [0, 180], 'title': 'Longitude'}\n",
    "figure['layout']['yaxis'] = {'title': 'Latitude'}\n",
    "figure['layout']['hovermode'] = 'closest'\n",
    "figure['layout']['sliders'] = {\n",
    "    'args': [\n",
    "        'transition', {\n",
    "            'duration': 400,\n",
    "            'easing': 'cubic-in-out'\n",
    "        }\n",
    "    ],\n",
    "    'initialValue': '-2150',\n",
    "    'plotlycommand': 'animate',\n",
    "    'values': years,\n",
    "    'visible': True\n",
    "}\n",
    "figure['layout']['updatemenus'] = [\n",
    "    {\n",
    "        'buttons': [\n",
    "            {\n",
    "                'args': [None, {'frame': {'duration': 500, 'redraw': False},\n",
    "                         'fromcurrent': True, 'transition': {'duration': 300, 'easing': 'quadratic-in-out'}}],\n",
    "                'label': 'Play',\n",
    "                'method': 'animate'\n",
    "            },\n",
    "            {\n",
    "                'args': [[None], {'frame': {'duration': 0, 'redraw': False}, 'mode': 'immediate',\n",
    "                'transition': {'duration': 0}}],\n",
    "                'label': 'Pause',\n",
    "                'method': 'animate'\n",
    "            }\n",
    "        ],\n",
    "        'direction': 'left',\n",
    "        'pad': {'r': 10, 't': 87},\n",
    "        'showactive': False,\n",
    "        'type': 'buttons',\n",
    "        'x': 0.1,\n",
    "        'xanchor': 'right',\n",
    "        'y': 0,\n",
    "        'yanchor': 'top'\n",
    "    }\n",
    "]\n",
    "sliders_dict = {\n",
    "    'active': 0,\n",
    "    'yanchor': 'top',\n",
    "    'xanchor': 'left',\n",
    "    'currentvalue': {\n",
    "        'font': {'size': 20},\n",
    "        'prefix': 'Year:',\n",
    "        'visible': True,\n",
    "        'xanchor': 'right'\n",
    "    },\n",
    "    'transition': {'duration': 300, 'easing': 'cubic-in-out'},\n",
    "    'pad': {'b': 10, 't': 50},\n",
    "    'len': 0.9,\n",
    "    'x': 0.1,\n",
    "    'y': 0,\n",
    "    'steps': []\n",
    "}\n"
   ]
  },
  {
   "cell_type": "code",
   "execution_count": 23,
   "metadata": {
    "collapsed": false,
    "deletable": true,
    "editable": true
   },
   "outputs": [],
   "source": [
    "# make data\n",
    "year = 1800\n",
    "for country in countries:\n",
    "    dataset_by_year = dataset[dataset['Year'] == year]\n",
    "    dataset_by_year_and_cont = dataset_by_year[dataset_by_year['Country'] == country]\n",
    "    data_dict = {\n",
    "        'x': list(dataset_by_year_and_cont['Longitude']),\n",
    "        'y': list(dataset_by_year_and_cont['Latitude']),\n",
    "        'mode': 'marker',\n",
    "        'text': list(dataset_by_year_and_cont['Country']),\n",
    "        'marker': {\n",
    "            'sizemode': 'area',\n",
    "            'sizeref': 200000,\n",
    "            'size': list(dataset_by_year_and_cont['VEI'])\n",
    "        },\n",
    "        'name': country\n",
    "    }\n",
    "    figure['data'].append(data_dict)"
   ]
  },
  {
   "cell_type": "code",
   "execution_count": 24,
   "metadata": {
    "collapsed": false,
    "deletable": true,
    "editable": true
   },
   "outputs": [],
   "source": [
    "# make frames\n",
    "for year in years:\n",
    "    frame = {'data': [], 'name': str(year)}\n",
    "    for country in countries:\n",
    "        dataset_by_year = dataset[dataset['Year'] == int(year)]\n",
    "        dataset_by_year_and_cont = dataset_by_year[dataset_by_year[\"Country\"] == country]\n",
    "        data_dict = {\n",
    "            'x': list(dataset_by_year_and_cont['Longitude']),\n",
    "            'y': list(dataset_by_year_and_cont['Latitude']),\n",
    "            'mode': 'marker',\n",
    "            'text': list(dataset_by_year_and_cont['Country']),\n",
    "            'marker': {\n",
    "                'sizemode': 'area',\n",
    "                'sizeref': 200000,\n",
    "                'size':list(dataset_by_year_and_cont['VEI'])\n",
    "            },\n",
    "            'name': country\n",
    "        }\n",
    "        frame['data'].append(data_dict)\n",
    "    figure['frames'].append(frame)\n",
    "    slider_step = {'args': [\n",
    "        [year],\n",
    "        {'frame': {'duration': 300, 'redraw': False},\n",
    "         'mode': 'immediate',\n",
    "       'transition': {'duration': 300}}\n",
    "     ],\n",
    "     'label': year,\n",
    "     'method': 'animate'}\n",
    "    sliders_dict['steps'].append(slider_step)\n",
    "    \n",
    "figure['layout']['sliders'] = [sliders_dict]\n",
    "\n"
   ]
  },
  {
   "cell_type": "code",
   "execution_count": 25,
   "metadata": {
    "collapsed": false,
    "deletable": true,
    "editable": true
   },
   "outputs": [
    {
     "data": {
      "application/vnd.plotly.v1+json": {
       "data": [
        {
         "marker": {
          "size": [],
          "sizemode": "area",
          "sizeref": 200000
         },
         "mode": "marker",
         "name": null,
         "text": [],
         "x": [],
         "y": []
        },
        {
         "marker": {
          "size": [],
          "sizemode": "area",
          "sizeref": 200000
         },
         "mode": "marker",
         "name": "New Zealand",
         "text": [],
         "x": [],
         "y": []
        },
        {
         "marker": {
          "size": [],
          "sizemode": "area",
          "sizeref": 200000
         },
         "mode": "marker",
         "name": "Japan",
         "text": [],
         "x": [],
         "y": []
        },
        {
         "marker": {
          "size": [],
          "sizemode": "area",
          "sizeref": 200000
         },
         "mode": "marker",
         "name": "Nicaragua",
         "text": [],
         "x": [],
         "y": []
        },
        {
         "marker": {
          "size": [],
          "sizemode": "area",
          "sizeref": 200000
         },
         "mode": "marker",
         "name": "Papua New Guinea",
         "text": [],
         "x": [],
         "y": []
        },
        {
         "marker": {
          "size": [
           2
          ],
          "sizemode": "area",
          "sizeref": 200000
         },
         "mode": "marker",
         "name": "Philippines",
         "text": [
          "Philippines"
         ],
         "x": [
          123.685
         ],
         "y": [
          13.257
         ]
        },
        {
         "marker": {
          "size": [],
          "sizemode": "area",
          "sizeref": 200000
         },
         "mode": "marker",
         "name": "Italy",
         "text": [],
         "x": [],
         "y": []
        },
        {
         "marker": {
          "size": [
           5,
           0
          ],
          "sizemode": "area",
          "sizeref": 200000
         },
         "mode": "marker",
         "name": "United States",
         "text": [
          "United States",
          "United States"
         ],
         "x": [
          -122.18,
          -155.87
         ],
         "y": [
          46.2,
          19.692
         ]
        },
        {
         "marker": {
          "size": [],
          "sizemode": "area",
          "sizeref": 200000
         },
         "mode": "marker",
         "name": "Greece",
         "text": [],
         "x": [],
         "y": []
        },
        {
         "marker": {
          "size": [],
          "sizemode": "area",
          "sizeref": 200000
         },
         "mode": "marker",
         "name": "Ecuador",
         "text": [],
         "x": [],
         "y": []
        },
        {
         "marker": {
          "size": [],
          "sizemode": "area",
          "sizeref": 200000
         },
         "mode": "marker",
         "name": "Vanuatu",
         "text": [],
         "x": [],
         "y": []
        },
        {
         "marker": {
          "size": [],
          "sizemode": "area",
          "sizeref": 200000
         },
         "mode": "marker",
         "name": "Yemen",
         "text": [],
         "x": [],
         "y": []
        },
        {
         "marker": {
          "size": [],
          "sizemode": "area",
          "sizeref": 200000
         },
         "mode": "marker",
         "name": "Russia",
         "text": [],
         "x": [],
         "y": []
        },
        {
         "marker": {
          "size": [
           null
          ],
          "sizemode": "area",
          "sizeref": 200000
         },
         "mode": "marker",
         "name": "Indonesia",
         "text": [
          "Indonesia"
         ],
         "x": [
          107.83
         ],
         "y": [
          -7.13
         ]
        },
        {
         "marker": {
          "size": [],
          "sizemode": "area",
          "sizeref": 200000
         },
         "mode": "marker",
         "name": "El Salvador",
         "text": [],
         "x": [],
         "y": []
        },
        {
         "marker": {
          "size": [],
          "sizemode": "area",
          "sizeref": 200000
         },
         "mode": "marker",
         "name": "Saudi Arabia",
         "text": [],
         "x": [],
         "y": []
        },
        {
         "marker": {
          "size": [],
          "sizemode": "area",
          "sizeref": 200000
         },
         "mode": "marker",
         "name": "Iceland",
         "text": [],
         "x": [],
         "y": []
        },
        {
         "marker": {
          "size": [],
          "sizemode": "area",
          "sizeref": 200000
         },
         "mode": "marker",
         "name": "Mexico",
         "text": [],
         "x": [],
         "y": []
        },
        {
         "marker": {
          "size": [],
          "sizemode": "area",
          "sizeref": 200000
         },
         "mode": "marker",
         "name": "North Korea",
         "text": [],
         "x": [],
         "y": []
        },
        {
         "marker": {
          "size": [],
          "sizemode": "area",
          "sizeref": 200000
         },
         "mode": "marker",
         "name": "Ethiopia",
         "text": [],
         "x": [],
         "y": []
        },
        {
         "marker": {
          "size": [],
          "sizemode": "area",
          "sizeref": 200000
         },
         "mode": "marker",
         "name": "Guatemala",
         "text": [],
         "x": [],
         "y": []
        },
        {
         "marker": {
          "size": [],
          "sizemode": "area",
          "sizeref": 200000
         },
         "mode": "marker",
         "name": "Solomon Is.",
         "text": [],
         "x": [],
         "y": []
        },
        {
         "marker": {
          "size": [
           1
          ],
          "sizemode": "area",
          "sizeref": 200000
         },
         "mode": "marker",
         "name": "Portugal",
         "text": [
          "Portugal"
         ],
         "x": [
          -28.08
         ],
         "y": [
          38.65
         ]
        },
        {
         "marker": {
          "size": [],
          "sizemode": "area",
          "sizeref": 200000
         },
         "mode": "marker",
         "name": "Colombia",
         "text": [],
         "x": [],
         "y": []
        },
        {
         "marker": {
          "size": [],
          "sizemode": "area",
          "sizeref": 200000
         },
         "mode": "marker",
         "name": "Pacific Ocean",
         "text": [],
         "x": [],
         "y": []
        },
        {
         "marker": {
          "size": [],
          "sizemode": "area",
          "sizeref": 200000
         },
         "mode": "marker",
         "name": "Peru",
         "text": [],
         "x": [],
         "y": []
        },
        {
         "marker": {
          "size": [],
          "sizemode": "area",
          "sizeref": 200000
         },
         "mode": "marker",
         "name": "China",
         "text": [],
         "x": [],
         "y": []
        },
        {
         "marker": {
          "size": [],
          "sizemode": "area",
          "sizeref": 200000
         },
         "mode": "marker",
         "name": "Spain",
         "text": [],
         "x": [],
         "y": []
        },
        {
         "marker": {
          "size": [],
          "sizemode": "area",
          "sizeref": 200000
         },
         "mode": "marker",
         "name": "Canada",
         "text": [],
         "x": [],
         "y": []
        },
        {
         "marker": {
          "size": [
           2
          ],
          "sizemode": "area",
          "sizeref": 200000
         },
         "mode": "marker",
         "name": "Tanzania",
         "text": [
          "Tanzania"
         ],
         "x": [
          33.78
         ],
         "y": [
          -9.23
         ]
        },
        {
         "marker": {
          "size": [],
          "sizemode": "area",
          "sizeref": 200000
         },
         "mode": "marker",
         "name": "St. Vincent & the Grenadines",
         "text": [],
         "x": [],
         "y": []
        },
        {
         "marker": {
          "size": [],
          "sizemode": "area",
          "sizeref": 200000
         },
         "mode": "marker",
         "name": "Chile",
         "text": [],
         "x": [],
         "y": []
        },
        {
         "marker": {
          "size": [],
          "sizemode": "area",
          "sizeref": 200000
         },
         "mode": "marker",
         "name": "Turkey",
         "text": [],
         "x": [],
         "y": []
        },
        {
         "marker": {
          "size": [],
          "sizemode": "area",
          "sizeref": 200000
         },
         "mode": "marker",
         "name": "St. Kitts & Nevis",
         "text": [],
         "x": [],
         "y": []
        },
        {
         "marker": {
          "size": [],
          "sizemode": "area",
          "sizeref": 200000
         },
         "mode": "marker",
         "name": "Guadeloupe",
         "text": [],
         "x": [],
         "y": []
        },
        {
         "marker": {
          "size": [],
          "sizemode": "area",
          "sizeref": 200000
         },
         "mode": "marker",
         "name": "Cape Verde",
         "text": [],
         "x": [],
         "y": []
        },
        {
         "marker": {
          "size": [],
          "sizemode": "area",
          "sizeref": 200000
         },
         "mode": "marker",
         "name": "Tonga",
         "text": [],
         "x": [],
         "y": []
        },
        {
         "marker": {
          "size": [],
          "sizemode": "area",
          "sizeref": 200000
         },
         "mode": "marker",
         "name": "Taiwan",
         "text": [],
         "x": [],
         "y": []
        },
        {
         "marker": {
          "size": [],
          "sizemode": "area",
          "sizeref": 200000
         },
         "mode": "marker",
         "name": "Eritrea",
         "text": [],
         "x": [],
         "y": []
        },
        {
         "marker": {
          "size": [],
          "sizemode": "area",
          "sizeref": 200000
         },
         "mode": "marker",
         "name": "Comoros",
         "text": [],
         "x": [],
         "y": []
        },
        {
         "marker": {
          "size": [],
          "sizemode": "area",
          "sizeref": 200000
         },
         "mode": "marker",
         "name": "Martinique",
         "text": [],
         "x": [],
         "y": []
        },
        {
         "marker": {
          "size": [],
          "sizemode": "area",
          "sizeref": 200000
         },
         "mode": "marker",
         "name": "Samoa",
         "text": [],
         "x": [],
         "y": []
        },
        {
         "marker": {
          "size": [],
          "sizemode": "area",
          "sizeref": 200000
         },
         "mode": "marker",
         "name": "Cameroon",
         "text": [],
         "x": [],
         "y": []
        },
        {
         "marker": {
          "size": [],
          "sizemode": "area",
          "sizeref": 200000
         },
         "mode": "marker",
         "name": "Trinidad ",
         "text": [],
         "x": [],
         "y": []
        },
        {
         "marker": {
          "size": [],
          "sizemode": "area",
          "sizeref": 200000
         },
         "mode": "marker",
         "name": "Congo, DRC",
         "text": [],
         "x": [],
         "y": []
        },
        {
         "marker": {
          "size": [],
          "sizemode": "area",
          "sizeref": 200000
         },
         "mode": "marker",
         "name": "Costa Rica",
         "text": [],
         "x": [],
         "y": []
        },
        {
         "marker": {
          "size": [],
          "sizemode": "area",
          "sizeref": 200000
         },
         "mode": "marker",
         "name": "Antarctica",
         "text": [],
         "x": [],
         "y": []
        },
        {
         "marker": {
          "size": [],
          "sizemode": "area",
          "sizeref": 200000
         },
         "mode": "marker",
         "name": "Reunion",
         "text": [],
         "x": [],
         "y": []
        },
        {
         "marker": {
          "size": [],
          "sizemode": "area",
          "sizeref": 200000
         },
         "mode": "marker",
         "name": "Montserrat",
         "text": [],
         "x": [],
         "y": []
        }
       ],
       "frames": [
        {
         "data": [
          {
           "marker": {
            "size": [],
            "sizemode": "area",
            "sizeref": 200000
           },
           "mode": "marker",
           "name": null,
           "text": [],
           "x": [],
           "y": []
          },
          {
           "marker": {
            "size": [],
            "sizemode": "area",
            "sizeref": 200000
           },
           "mode": "marker",
           "name": "New Zealand",
           "text": [],
           "x": [],
           "y": []
          },
          {
           "marker": {
            "size": [],
            "sizemode": "area",
            "sizeref": 200000
           },
           "mode": "marker",
           "name": "Japan",
           "text": [],
           "x": [],
           "y": []
          },
          {
           "marker": {
            "size": [],
            "sizemode": "area",
            "sizeref": 200000
           },
           "mode": "marker",
           "name": "Nicaragua",
           "text": [],
           "x": [],
           "y": []
          },
          {
           "marker": {
            "size": [],
            "sizemode": "area",
            "sizeref": 200000
           },
           "mode": "marker",
           "name": "Papua New Guinea",
           "text": [],
           "x": [],
           "y": []
          },
          {
           "marker": {
            "size": [
             2
            ],
            "sizemode": "area",
            "sizeref": 200000
           },
           "mode": "marker",
           "name": "Philippines",
           "text": [
            "Philippines"
           ],
           "x": [
            123.685
           ],
           "y": [
            13.257
           ]
          },
          {
           "marker": {
            "size": [],
            "sizemode": "area",
            "sizeref": 200000
           },
           "mode": "marker",
           "name": "Italy",
           "text": [],
           "x": [],
           "y": []
          },
          {
           "marker": {
            "size": [
             5,
             0
            ],
            "sizemode": "area",
            "sizeref": 200000
           },
           "mode": "marker",
           "name": "United States",
           "text": [
            "United States",
            "United States"
           ],
           "x": [
            -122.18,
            -155.87
           ],
           "y": [
            46.2,
            19.692
           ]
          },
          {
           "marker": {
            "size": [],
            "sizemode": "area",
            "sizeref": 200000
           },
           "mode": "marker",
           "name": "Greece",
           "text": [],
           "x": [],
           "y": []
          },
          {
           "marker": {
            "size": [],
            "sizemode": "area",
            "sizeref": 200000
           },
           "mode": "marker",
           "name": "Ecuador",
           "text": [],
           "x": [],
           "y": []
          },
          {
           "marker": {
            "size": [],
            "sizemode": "area",
            "sizeref": 200000
           },
           "mode": "marker",
           "name": "Vanuatu",
           "text": [],
           "x": [],
           "y": []
          },
          {
           "marker": {
            "size": [],
            "sizemode": "area",
            "sizeref": 200000
           },
           "mode": "marker",
           "name": "Yemen",
           "text": [],
           "x": [],
           "y": []
          },
          {
           "marker": {
            "size": [],
            "sizemode": "area",
            "sizeref": 200000
           },
           "mode": "marker",
           "name": "Russia",
           "text": [],
           "x": [],
           "y": []
          },
          {
           "marker": {
            "size": [
             null
            ],
            "sizemode": "area",
            "sizeref": 200000
           },
           "mode": "marker",
           "name": "Indonesia",
           "text": [
            "Indonesia"
           ],
           "x": [
            107.83
           ],
           "y": [
            -7.13
           ]
          },
          {
           "marker": {
            "size": [],
            "sizemode": "area",
            "sizeref": 200000
           },
           "mode": "marker",
           "name": "El Salvador",
           "text": [],
           "x": [],
           "y": []
          },
          {
           "marker": {
            "size": [],
            "sizemode": "area",
            "sizeref": 200000
           },
           "mode": "marker",
           "name": "Saudi Arabia",
           "text": [],
           "x": [],
           "y": []
          },
          {
           "marker": {
            "size": [],
            "sizemode": "area",
            "sizeref": 200000
           },
           "mode": "marker",
           "name": "Iceland",
           "text": [],
           "x": [],
           "y": []
          },
          {
           "marker": {
            "size": [],
            "sizemode": "area",
            "sizeref": 200000
           },
           "mode": "marker",
           "name": "Mexico",
           "text": [],
           "x": [],
           "y": []
          },
          {
           "marker": {
            "size": [],
            "sizemode": "area",
            "sizeref": 200000
           },
           "mode": "marker",
           "name": "North Korea",
           "text": [],
           "x": [],
           "y": []
          },
          {
           "marker": {
            "size": [],
            "sizemode": "area",
            "sizeref": 200000
           },
           "mode": "marker",
           "name": "Ethiopia",
           "text": [],
           "x": [],
           "y": []
          },
          {
           "marker": {
            "size": [],
            "sizemode": "area",
            "sizeref": 200000
           },
           "mode": "marker",
           "name": "Guatemala",
           "text": [],
           "x": [],
           "y": []
          },
          {
           "marker": {
            "size": [],
            "sizemode": "area",
            "sizeref": 200000
           },
           "mode": "marker",
           "name": "Solomon Is.",
           "text": [],
           "x": [],
           "y": []
          },
          {
           "marker": {
            "size": [
             1
            ],
            "sizemode": "area",
            "sizeref": 200000
           },
           "mode": "marker",
           "name": "Portugal",
           "text": [
            "Portugal"
           ],
           "x": [
            -28.08
           ],
           "y": [
            38.65
           ]
          },
          {
           "marker": {
            "size": [],
            "sizemode": "area",
            "sizeref": 200000
           },
           "mode": "marker",
           "name": "Colombia",
           "text": [],
           "x": [],
           "y": []
          },
          {
           "marker": {
            "size": [],
            "sizemode": "area",
            "sizeref": 200000
           },
           "mode": "marker",
           "name": "Pacific Ocean",
           "text": [],
           "x": [],
           "y": []
          },
          {
           "marker": {
            "size": [],
            "sizemode": "area",
            "sizeref": 200000
           },
           "mode": "marker",
           "name": "Peru",
           "text": [],
           "x": [],
           "y": []
          },
          {
           "marker": {
            "size": [],
            "sizemode": "area",
            "sizeref": 200000
           },
           "mode": "marker",
           "name": "China",
           "text": [],
           "x": [],
           "y": []
          },
          {
           "marker": {
            "size": [],
            "sizemode": "area",
            "sizeref": 200000
           },
           "mode": "marker",
           "name": "Spain",
           "text": [],
           "x": [],
           "y": []
          },
          {
           "marker": {
            "size": [],
            "sizemode": "area",
            "sizeref": 200000
           },
           "mode": "marker",
           "name": "Canada",
           "text": [],
           "x": [],
           "y": []
          },
          {
           "marker": {
            "size": [
             2
            ],
            "sizemode": "area",
            "sizeref": 200000
           },
           "mode": "marker",
           "name": "Tanzania",
           "text": [
            "Tanzania"
           ],
           "x": [
            33.78
           ],
           "y": [
            -9.23
           ]
          },
          {
           "marker": {
            "size": [],
            "sizemode": "area",
            "sizeref": 200000
           },
           "mode": "marker",
           "name": "St. Vincent & the Grenadines",
           "text": [],
           "x": [],
           "y": []
          },
          {
           "marker": {
            "size": [],
            "sizemode": "area",
            "sizeref": 200000
           },
           "mode": "marker",
           "name": "Chile",
           "text": [],
           "x": [],
           "y": []
          },
          {
           "marker": {
            "size": [],
            "sizemode": "area",
            "sizeref": 200000
           },
           "mode": "marker",
           "name": "Turkey",
           "text": [],
           "x": [],
           "y": []
          },
          {
           "marker": {
            "size": [],
            "sizemode": "area",
            "sizeref": 200000
           },
           "mode": "marker",
           "name": "St. Kitts & Nevis",
           "text": [],
           "x": [],
           "y": []
          },
          {
           "marker": {
            "size": [],
            "sizemode": "area",
            "sizeref": 200000
           },
           "mode": "marker",
           "name": "Guadeloupe",
           "text": [],
           "x": [],
           "y": []
          },
          {
           "marker": {
            "size": [],
            "sizemode": "area",
            "sizeref": 200000
           },
           "mode": "marker",
           "name": "Cape Verde",
           "text": [],
           "x": [],
           "y": []
          },
          {
           "marker": {
            "size": [],
            "sizemode": "area",
            "sizeref": 200000
           },
           "mode": "marker",
           "name": "Tonga",
           "text": [],
           "x": [],
           "y": []
          },
          {
           "marker": {
            "size": [],
            "sizemode": "area",
            "sizeref": 200000
           },
           "mode": "marker",
           "name": "Taiwan",
           "text": [],
           "x": [],
           "y": []
          },
          {
           "marker": {
            "size": [],
            "sizemode": "area",
            "sizeref": 200000
           },
           "mode": "marker",
           "name": "Eritrea",
           "text": [],
           "x": [],
           "y": []
          },
          {
           "marker": {
            "size": [],
            "sizemode": "area",
            "sizeref": 200000
           },
           "mode": "marker",
           "name": "Comoros",
           "text": [],
           "x": [],
           "y": []
          },
          {
           "marker": {
            "size": [],
            "sizemode": "area",
            "sizeref": 200000
           },
           "mode": "marker",
           "name": "Martinique",
           "text": [],
           "x": [],
           "y": []
          },
          {
           "marker": {
            "size": [],
            "sizemode": "area",
            "sizeref": 200000
           },
           "mode": "marker",
           "name": "Samoa",
           "text": [],
           "x": [],
           "y": []
          },
          {
           "marker": {
            "size": [],
            "sizemode": "area",
            "sizeref": 200000
           },
           "mode": "marker",
           "name": "Cameroon",
           "text": [],
           "x": [],
           "y": []
          },
          {
           "marker": {
            "size": [],
            "sizemode": "area",
            "sizeref": 200000
           },
           "mode": "marker",
           "name": "Trinidad ",
           "text": [],
           "x": [],
           "y": []
          },
          {
           "marker": {
            "size": [],
            "sizemode": "area",
            "sizeref": 200000
           },
           "mode": "marker",
           "name": "Congo, DRC",
           "text": [],
           "x": [],
           "y": []
          },
          {
           "marker": {
            "size": [],
            "sizemode": "area",
            "sizeref": 200000
           },
           "mode": "marker",
           "name": "Costa Rica",
           "text": [],
           "x": [],
           "y": []
          },
          {
           "marker": {
            "size": [],
            "sizemode": "area",
            "sizeref": 200000
           },
           "mode": "marker",
           "name": "Antarctica",
           "text": [],
           "x": [],
           "y": []
          },
          {
           "marker": {
            "size": [],
            "sizemode": "area",
            "sizeref": 200000
           },
           "mode": "marker",
           "name": "Reunion",
           "text": [],
           "x": [],
           "y": []
          },
          {
           "marker": {
            "size": [],
            "sizemode": "area",
            "sizeref": 200000
           },
           "mode": "marker",
           "name": "Montserrat",
           "text": [],
           "x": [],
           "y": []
          }
         ],
         "name": "1800"
        },
        {
         "data": [
          {
           "marker": {
            "size": [],
            "sizemode": "area",
            "sizeref": 200000
           },
           "mode": "marker",
           "name": null,
           "text": [],
           "x": [],
           "y": []
          },
          {
           "marker": {
            "size": [],
            "sizemode": "area",
            "sizeref": 200000
           },
           "mode": "marker",
           "name": "New Zealand",
           "text": [],
           "x": [],
           "y": []
          },
          {
           "marker": {
            "size": [],
            "sizemode": "area",
            "sizeref": 200000
           },
           "mode": "marker",
           "name": "Japan",
           "text": [],
           "x": [],
           "y": []
          },
          {
           "marker": {
            "size": [],
            "sizemode": "area",
            "sizeref": 200000
           },
           "mode": "marker",
           "name": "Nicaragua",
           "text": [],
           "x": [],
           "y": []
          },
          {
           "marker": {
            "size": [],
            "sizemode": "area",
            "sizeref": 200000
           },
           "mode": "marker",
           "name": "Papua New Guinea",
           "text": [],
           "x": [],
           "y": []
          },
          {
           "marker": {
            "size": [],
            "sizemode": "area",
            "sizeref": 200000
           },
           "mode": "marker",
           "name": "Philippines",
           "text": [],
           "x": [],
           "y": []
          },
          {
           "marker": {
            "size": [],
            "sizemode": "area",
            "sizeref": 200000
           },
           "mode": "marker",
           "name": "Italy",
           "text": [],
           "x": [],
           "y": []
          },
          {
           "marker": {
            "size": [
             2
            ],
            "sizemode": "area",
            "sizeref": 200000
           },
           "mode": "marker",
           "name": "United States",
           "text": [
            "United States"
           ],
           "x": [
            -164.65
           ],
           "y": [
            54.52
           ]
          },
          {
           "marker": {
            "size": [],
            "sizemode": "area",
            "sizeref": 200000
           },
           "mode": "marker",
           "name": "Greece",
           "text": [],
           "x": [],
           "y": []
          },
          {
           "marker": {
            "size": [],
            "sizemode": "area",
            "sizeref": 200000
           },
           "mode": "marker",
           "name": "Ecuador",
           "text": [],
           "x": [],
           "y": []
          },
          {
           "marker": {
            "size": [],
            "sizemode": "area",
            "sizeref": 200000
           },
           "mode": "marker",
           "name": "Vanuatu",
           "text": [],
           "x": [],
           "y": []
          },
          {
           "marker": {
            "size": [],
            "sizemode": "area",
            "sizeref": 200000
           },
           "mode": "marker",
           "name": "Yemen",
           "text": [],
           "x": [],
           "y": []
          },
          {
           "marker": {
            "size": [],
            "sizemode": "area",
            "sizeref": 200000
           },
           "mode": "marker",
           "name": "Russia",
           "text": [],
           "x": [],
           "y": []
          },
          {
           "marker": {
            "size": [],
            "sizemode": "area",
            "sizeref": 200000
           },
           "mode": "marker",
           "name": "Indonesia",
           "text": [],
           "x": [],
           "y": []
          },
          {
           "marker": {
            "size": [],
            "sizemode": "area",
            "sizeref": 200000
           },
           "mode": "marker",
           "name": "El Salvador",
           "text": [],
           "x": [],
           "y": []
          },
          {
           "marker": {
            "size": [],
            "sizemode": "area",
            "sizeref": 200000
           },
           "mode": "marker",
           "name": "Saudi Arabia",
           "text": [],
           "x": [],
           "y": []
          },
          {
           "marker": {
            "size": [],
            "sizemode": "area",
            "sizeref": 200000
           },
           "mode": "marker",
           "name": "Iceland",
           "text": [],
           "x": [],
           "y": []
          },
          {
           "marker": {
            "size": [],
            "sizemode": "area",
            "sizeref": 200000
           },
           "mode": "marker",
           "name": "Mexico",
           "text": [],
           "x": [],
           "y": []
          },
          {
           "marker": {
            "size": [],
            "sizemode": "area",
            "sizeref": 200000
           },
           "mode": "marker",
           "name": "North Korea",
           "text": [],
           "x": [],
           "y": []
          },
          {
           "marker": {
            "size": [],
            "sizemode": "area",
            "sizeref": 200000
           },
           "mode": "marker",
           "name": "Ethiopia",
           "text": [],
           "x": [],
           "y": []
          },
          {
           "marker": {
            "size": [],
            "sizemode": "area",
            "sizeref": 200000
           },
           "mode": "marker",
           "name": "Guatemala",
           "text": [],
           "x": [],
           "y": []
          },
          {
           "marker": {
            "size": [],
            "sizemode": "area",
            "sizeref": 200000
           },
           "mode": "marker",
           "name": "Solomon Is.",
           "text": [],
           "x": [],
           "y": []
          },
          {
           "marker": {
            "size": [],
            "sizemode": "area",
            "sizeref": 200000
           },
           "mode": "marker",
           "name": "Portugal",
           "text": [],
           "x": [],
           "y": []
          },
          {
           "marker": {
            "size": [],
            "sizemode": "area",
            "sizeref": 200000
           },
           "mode": "marker",
           "name": "Colombia",
           "text": [],
           "x": [],
           "y": []
          },
          {
           "marker": {
            "size": [
             2
            ],
            "sizemode": "area",
            "sizeref": 200000
           },
           "mode": "marker",
           "name": "Pacific Ocean",
           "text": [
            "Pacific Ocean"
           ],
           "x": [
            129.871
           ],
           "y": [
            -4.525
           ]
          },
          {
           "marker": {
            "size": [],
            "sizemode": "area",
            "sizeref": 200000
           },
           "mode": "marker",
           "name": "Peru",
           "text": [],
           "x": [],
           "y": []
          },
          {
           "marker": {
            "size": [],
            "sizemode": "area",
            "sizeref": 200000
           },
           "mode": "marker",
           "name": "China",
           "text": [],
           "x": [],
           "y": []
          },
          {
           "marker": {
            "size": [],
            "sizemode": "area",
            "sizeref": 200000
           },
           "mode": "marker",
           "name": "Spain",
           "text": [],
           "x": [],
           "y": []
          },
          {
           "marker": {
            "size": [],
            "sizemode": "area",
            "sizeref": 200000
           },
           "mode": "marker",
           "name": "Canada",
           "text": [],
           "x": [],
           "y": []
          },
          {
           "marker": {
            "size": [],
            "sizemode": "area",
            "sizeref": 200000
           },
           "mode": "marker",
           "name": "Tanzania",
           "text": [],
           "x": [],
           "y": []
          },
          {
           "marker": {
            "size": [],
            "sizemode": "area",
            "sizeref": 200000
           },
           "mode": "marker",
           "name": "St. Vincent & the Grenadines",
           "text": [],
           "x": [],
           "y": []
          },
          {
           "marker": {
            "size": [],
            "sizemode": "area",
            "sizeref": 200000
           },
           "mode": "marker",
           "name": "Chile",
           "text": [],
           "x": [],
           "y": []
          },
          {
           "marker": {
            "size": [],
            "sizemode": "area",
            "sizeref": 200000
           },
           "mode": "marker",
           "name": "Turkey",
           "text": [],
           "x": [],
           "y": []
          },
          {
           "marker": {
            "size": [],
            "sizemode": "area",
            "sizeref": 200000
           },
           "mode": "marker",
           "name": "St. Kitts & Nevis",
           "text": [],
           "x": [],
           "y": []
          },
          {
           "marker": {
            "size": [],
            "sizemode": "area",
            "sizeref": 200000
           },
           "mode": "marker",
           "name": "Guadeloupe",
           "text": [],
           "x": [],
           "y": []
          },
          {
           "marker": {
            "size": [],
            "sizemode": "area",
            "sizeref": 200000
           },
           "mode": "marker",
           "name": "Cape Verde",
           "text": [],
           "x": [],
           "y": []
          },
          {
           "marker": {
            "size": [],
            "sizemode": "area",
            "sizeref": 200000
           },
           "mode": "marker",
           "name": "Tonga",
           "text": [],
           "x": [],
           "y": []
          },
          {
           "marker": {
            "size": [],
            "sizemode": "area",
            "sizeref": 200000
           },
           "mode": "marker",
           "name": "Taiwan",
           "text": [],
           "x": [],
           "y": []
          },
          {
           "marker": {
            "size": [],
            "sizemode": "area",
            "sizeref": 200000
           },
           "mode": "marker",
           "name": "Eritrea",
           "text": [],
           "x": [],
           "y": []
          },
          {
           "marker": {
            "size": [],
            "sizemode": "area",
            "sizeref": 200000
           },
           "mode": "marker",
           "name": "Comoros",
           "text": [],
           "x": [],
           "y": []
          },
          {
           "marker": {
            "size": [],
            "sizemode": "area",
            "sizeref": 200000
           },
           "mode": "marker",
           "name": "Martinique",
           "text": [],
           "x": [],
           "y": []
          },
          {
           "marker": {
            "size": [],
            "sizemode": "area",
            "sizeref": 200000
           },
           "mode": "marker",
           "name": "Samoa",
           "text": [],
           "x": [],
           "y": []
          },
          {
           "marker": {
            "size": [],
            "sizemode": "area",
            "sizeref": 200000
           },
           "mode": "marker",
           "name": "Cameroon",
           "text": [],
           "x": [],
           "y": []
          },
          {
           "marker": {
            "size": [],
            "sizemode": "area",
            "sizeref": 200000
           },
           "mode": "marker",
           "name": "Trinidad ",
           "text": [],
           "x": [],
           "y": []
          },
          {
           "marker": {
            "size": [],
            "sizemode": "area",
            "sizeref": 200000
           },
           "mode": "marker",
           "name": "Congo, DRC",
           "text": [],
           "x": [],
           "y": []
          },
          {
           "marker": {
            "size": [],
            "sizemode": "area",
            "sizeref": 200000
           },
           "mode": "marker",
           "name": "Costa Rica",
           "text": [],
           "x": [],
           "y": []
          },
          {
           "marker": {
            "size": [],
            "sizemode": "area",
            "sizeref": 200000
           },
           "mode": "marker",
           "name": "Antarctica",
           "text": [],
           "x": [],
           "y": []
          },
          {
           "marker": {
            "size": [],
            "sizemode": "area",
            "sizeref": 200000
           },
           "mode": "marker",
           "name": "Reunion",
           "text": [],
           "x": [],
           "y": []
          },
          {
           "marker": {
            "size": [],
            "sizemode": "area",
            "sizeref": 200000
           },
           "mode": "marker",
           "name": "Montserrat",
           "text": [],
           "x": [],
           "y": []
          }
         ],
         "name": "1820"
        },
        {
         "data": [
          {
           "marker": {
            "size": [],
            "sizemode": "area",
            "sizeref": 200000
           },
           "mode": "marker",
           "name": null,
           "text": [],
           "x": [],
           "y": []
          },
          {
           "marker": {
            "size": [],
            "sizemode": "area",
            "sizeref": 200000
           },
           "mode": "marker",
           "name": "New Zealand",
           "text": [],
           "x": [],
           "y": []
          },
          {
           "marker": {
            "size": [],
            "sizemode": "area",
            "sizeref": 200000
           },
           "mode": "marker",
           "name": "Japan",
           "text": [],
           "x": [],
           "y": []
          },
          {
           "marker": {
            "size": [],
            "sizemode": "area",
            "sizeref": 200000
           },
           "mode": "marker",
           "name": "Nicaragua",
           "text": [],
           "x": [],
           "y": []
          },
          {
           "marker": {
            "size": [],
            "sizemode": "area",
            "sizeref": 200000
           },
           "mode": "marker",
           "name": "Papua New Guinea",
           "text": [],
           "x": [],
           "y": []
          },
          {
           "marker": {
            "size": [],
            "sizemode": "area",
            "sizeref": 200000
           },
           "mode": "marker",
           "name": "Philippines",
           "text": [],
           "x": [],
           "y": []
          },
          {
           "marker": {
            "size": [],
            "sizemode": "area",
            "sizeref": 200000
           },
           "mode": "marker",
           "name": "Italy",
           "text": [],
           "x": [],
           "y": []
          },
          {
           "marker": {
            "size": [
             0
            ],
            "sizemode": "area",
            "sizeref": 200000
           },
           "mode": "marker",
           "name": "United States",
           "text": [
            "United States"
           ],
           "x": [
            -155.292
           ],
           "y": [
            19.425
           ]
          },
          {
           "marker": {
            "size": [],
            "sizemode": "area",
            "sizeref": 200000
           },
           "mode": "marker",
           "name": "Greece",
           "text": [],
           "x": [],
           "y": []
          },
          {
           "marker": {
            "size": [],
            "sizemode": "area",
            "sizeref": 200000
           },
           "mode": "marker",
           "name": "Ecuador",
           "text": [],
           "x": [],
           "y": []
          },
          {
           "marker": {
            "size": [],
            "sizemode": "area",
            "sizeref": 200000
           },
           "mode": "marker",
           "name": "Vanuatu",
           "text": [],
           "x": [],
           "y": []
          },
          {
           "marker": {
            "size": [],
            "sizemode": "area",
            "sizeref": 200000
           },
           "mode": "marker",
           "name": "Yemen",
           "text": [],
           "x": [],
           "y": []
          },
          {
           "marker": {
            "size": [],
            "sizemode": "area",
            "sizeref": 200000
           },
           "mode": "marker",
           "name": "Russia",
           "text": [],
           "x": [],
           "y": []
          },
          {
           "marker": {
            "size": [
             2
            ],
            "sizemode": "area",
            "sizeref": 200000
           },
           "mode": "marker",
           "name": "Indonesia",
           "text": [
            "Indonesia"
           ],
           "x": [
            127.325
           ],
           "y": [
            0.8
           ]
          },
          {
           "marker": {
            "size": [],
            "sizemode": "area",
            "sizeref": 200000
           },
           "mode": "marker",
           "name": "El Salvador",
           "text": [],
           "x": [],
           "y": []
          },
          {
           "marker": {
            "size": [],
            "sizemode": "area",
            "sizeref": 200000
           },
           "mode": "marker",
           "name": "Saudi Arabia",
           "text": [],
           "x": [],
           "y": []
          },
          {
           "marker": {
            "size": [],
            "sizemode": "area",
            "sizeref": 200000
           },
           "mode": "marker",
           "name": "Iceland",
           "text": [],
           "x": [],
           "y": []
          },
          {
           "marker": {
            "size": [],
            "sizemode": "area",
            "sizeref": 200000
           },
           "mode": "marker",
           "name": "Mexico",
           "text": [],
           "x": [],
           "y": []
          },
          {
           "marker": {
            "size": [],
            "sizemode": "area",
            "sizeref": 200000
           },
           "mode": "marker",
           "name": "North Korea",
           "text": [],
           "x": [],
           "y": []
          },
          {
           "marker": {
            "size": [],
            "sizemode": "area",
            "sizeref": 200000
           },
           "mode": "marker",
           "name": "Ethiopia",
           "text": [],
           "x": [],
           "y": []
          },
          {
           "marker": {
            "size": [],
            "sizemode": "area",
            "sizeref": 200000
           },
           "mode": "marker",
           "name": "Guatemala",
           "text": [],
           "x": [],
           "y": []
          },
          {
           "marker": {
            "size": [
             3,
             3
            ],
            "sizemode": "area",
            "sizeref": 200000
           },
           "mode": "marker",
           "name": "Solomon Is.",
           "text": [
            "Solomon Is.",
            "Solomon Is."
           ],
           "x": [
            159.82,
            165.8
           ],
           "y": [
            -9.13,
            -10.38
           ]
          },
          {
           "marker": {
            "size": [],
            "sizemode": "area",
            "sizeref": 200000
           },
           "mode": "marker",
           "name": "Portugal",
           "text": [],
           "x": [],
           "y": []
          },
          {
           "marker": {
            "size": [],
            "sizemode": "area",
            "sizeref": 200000
           },
           "mode": "marker",
           "name": "Colombia",
           "text": [],
           "x": [],
           "y": []
          },
          {
           "marker": {
            "size": [],
            "sizemode": "area",
            "sizeref": 200000
           },
           "mode": "marker",
           "name": "Pacific Ocean",
           "text": [],
           "x": [],
           "y": []
          },
          {
           "marker": {
            "size": [],
            "sizemode": "area",
            "sizeref": 200000
           },
           "mode": "marker",
           "name": "Peru",
           "text": [],
           "x": [],
           "y": []
          },
          {
           "marker": {
            "size": [],
            "sizemode": "area",
            "sizeref": 200000
           },
           "mode": "marker",
           "name": "China",
           "text": [],
           "x": [],
           "y": []
          },
          {
           "marker": {
            "size": [],
            "sizemode": "area",
            "sizeref": 200000
           },
           "mode": "marker",
           "name": "Spain",
           "text": [],
           "x": [],
           "y": []
          },
          {
           "marker": {
            "size": [],
            "sizemode": "area",
            "sizeref": 200000
           },
           "mode": "marker",
           "name": "Canada",
           "text": [],
           "x": [],
           "y": []
          },
          {
           "marker": {
            "size": [],
            "sizemode": "area",
            "sizeref": 200000
           },
           "mode": "marker",
           "name": "Tanzania",
           "text": [],
           "x": [],
           "y": []
          },
          {
           "marker": {
            "size": [],
            "sizemode": "area",
            "sizeref": 200000
           },
           "mode": "marker",
           "name": "St. Vincent & the Grenadines",
           "text": [],
           "x": [],
           "y": []
          },
          {
           "marker": {
            "size": [],
            "sizemode": "area",
            "sizeref": 200000
           },
           "mode": "marker",
           "name": "Chile",
           "text": [],
           "x": [],
           "y": []
          },
          {
           "marker": {
            "size": [
             3
            ],
            "sizemode": "area",
            "sizeref": 200000
           },
           "mode": "marker",
           "name": "Turkey",
           "text": [
            "Turkey"
           ],
           "x": [
            44.28
           ],
           "y": [
            39.7
           ]
          },
          {
           "marker": {
            "size": [],
            "sizemode": "area",
            "sizeref": 200000
           },
           "mode": "marker",
           "name": "St. Kitts & Nevis",
           "text": [],
           "x": [],
           "y": []
          },
          {
           "marker": {
            "size": [],
            "sizemode": "area",
            "sizeref": 200000
           },
           "mode": "marker",
           "name": "Guadeloupe",
           "text": [],
           "x": [],
           "y": []
          },
          {
           "marker": {
            "size": [],
            "sizemode": "area",
            "sizeref": 200000
           },
           "mode": "marker",
           "name": "Cape Verde",
           "text": [],
           "x": [],
           "y": []
          },
          {
           "marker": {
            "size": [],
            "sizemode": "area",
            "sizeref": 200000
           },
           "mode": "marker",
           "name": "Tonga",
           "text": [],
           "x": [],
           "y": []
          },
          {
           "marker": {
            "size": [],
            "sizemode": "area",
            "sizeref": 200000
           },
           "mode": "marker",
           "name": "Taiwan",
           "text": [],
           "x": [],
           "y": []
          },
          {
           "marker": {
            "size": [],
            "sizemode": "area",
            "sizeref": 200000
           },
           "mode": "marker",
           "name": "Eritrea",
           "text": [],
           "x": [],
           "y": []
          },
          {
           "marker": {
            "size": [],
            "sizemode": "area",
            "sizeref": 200000
           },
           "mode": "marker",
           "name": "Comoros",
           "text": [],
           "x": [],
           "y": []
          },
          {
           "marker": {
            "size": [],
            "sizemode": "area",
            "sizeref": 200000
           },
           "mode": "marker",
           "name": "Martinique",
           "text": [],
           "x": [],
           "y": []
          },
          {
           "marker": {
            "size": [],
            "sizemode": "area",
            "sizeref": 200000
           },
           "mode": "marker",
           "name": "Samoa",
           "text": [],
           "x": [],
           "y": []
          },
          {
           "marker": {
            "size": [],
            "sizemode": "area",
            "sizeref": 200000
           },
           "mode": "marker",
           "name": "Cameroon",
           "text": [],
           "x": [],
           "y": []
          },
          {
           "marker": {
            "size": [],
            "sizemode": "area",
            "sizeref": 200000
           },
           "mode": "marker",
           "name": "Trinidad ",
           "text": [],
           "x": [],
           "y": []
          },
          {
           "marker": {
            "size": [],
            "sizemode": "area",
            "sizeref": 200000
           },
           "mode": "marker",
           "name": "Congo, DRC",
           "text": [],
           "x": [],
           "y": []
          },
          {
           "marker": {
            "size": [],
            "sizemode": "area",
            "sizeref": 200000
           },
           "mode": "marker",
           "name": "Costa Rica",
           "text": [],
           "x": [],
           "y": []
          },
          {
           "marker": {
            "size": [],
            "sizemode": "area",
            "sizeref": 200000
           },
           "mode": "marker",
           "name": "Antarctica",
           "text": [],
           "x": [],
           "y": []
          },
          {
           "marker": {
            "size": [],
            "sizemode": "area",
            "sizeref": 200000
           },
           "mode": "marker",
           "name": "Reunion",
           "text": [],
           "x": [],
           "y": []
          },
          {
           "marker": {
            "size": [],
            "sizemode": "area",
            "sizeref": 200000
           },
           "mode": "marker",
           "name": "Montserrat",
           "text": [],
           "x": [],
           "y": []
          }
         ],
         "name": "1840"
        },
        {
         "data": [
          {
           "marker": {
            "size": [],
            "sizemode": "area",
            "sizeref": 200000
           },
           "mode": "marker",
           "name": null,
           "text": [],
           "x": [],
           "y": []
          },
          {
           "marker": {
            "size": [],
            "sizemode": "area",
            "sizeref": 200000
           },
           "mode": "marker",
           "name": "New Zealand",
           "text": [],
           "x": [],
           "y": []
          },
          {
           "marker": {
            "size": [],
            "sizemode": "area",
            "sizeref": 200000
           },
           "mode": "marker",
           "name": "Japan",
           "text": [],
           "x": [],
           "y": []
          },
          {
           "marker": {
            "size": [],
            "sizemode": "area",
            "sizeref": 200000
           },
           "mode": "marker",
           "name": "Nicaragua",
           "text": [],
           "x": [],
           "y": []
          },
          {
           "marker": {
            "size": [],
            "sizemode": "area",
            "sizeref": 200000
           },
           "mode": "marker",
           "name": "Papua New Guinea",
           "text": [],
           "x": [],
           "y": []
          },
          {
           "marker": {
            "size": [],
            "sizemode": "area",
            "sizeref": 200000
           },
           "mode": "marker",
           "name": "Philippines",
           "text": [],
           "x": [],
           "y": []
          },
          {
           "marker": {
            "size": [],
            "sizemode": "area",
            "sizeref": 200000
           },
           "mode": "marker",
           "name": "Italy",
           "text": [],
           "x": [],
           "y": []
          },
          {
           "marker": {
            "size": [],
            "sizemode": "area",
            "sizeref": 200000
           },
           "mode": "marker",
           "name": "United States",
           "text": [],
           "x": [],
           "y": []
          },
          {
           "marker": {
            "size": [],
            "sizemode": "area",
            "sizeref": 200000
           },
           "mode": "marker",
           "name": "Greece",
           "text": [],
           "x": [],
           "y": []
          },
          {
           "marker": {
            "size": [],
            "sizemode": "area",
            "sizeref": 200000
           },
           "mode": "marker",
           "name": "Ecuador",
           "text": [],
           "x": [],
           "y": []
          },
          {
           "marker": {
            "size": [],
            "sizemode": "area",
            "sizeref": 200000
           },
           "mode": "marker",
           "name": "Vanuatu",
           "text": [],
           "x": [],
           "y": []
          },
          {
           "marker": {
            "size": [],
            "sizemode": "area",
            "sizeref": 200000
           },
           "mode": "marker",
           "name": "Yemen",
           "text": [],
           "x": [],
           "y": []
          },
          {
           "marker": {
            "size": [],
            "sizemode": "area",
            "sizeref": 200000
           },
           "mode": "marker",
           "name": "Russia",
           "text": [],
           "x": [],
           "y": []
          },
          {
           "marker": {
            "size": [
             2
            ],
            "sizemode": "area",
            "sizeref": 200000
           },
           "mode": "marker",
           "name": "Indonesia",
           "text": [
            "Indonesia"
           ],
           "x": [
            112.92
           ],
           "y": [
            -8.107999999999999
           ]
          },
          {
           "marker": {
            "size": [],
            "sizemode": "area",
            "sizeref": 200000
           },
           "mode": "marker",
           "name": "El Salvador",
           "text": [],
           "x": [],
           "y": []
          },
          {
           "marker": {
            "size": [],
            "sizemode": "area",
            "sizeref": 200000
           },
           "mode": "marker",
           "name": "Saudi Arabia",
           "text": [],
           "x": [],
           "y": []
          },
          {
           "marker": {
            "size": [
             null
            ],
            "sizemode": "area",
            "sizeref": 200000
           },
           "mode": "marker",
           "name": "Iceland",
           "text": [
            "Iceland"
           ],
           "x": [
            -17.33
           ],
           "y": [
            64.42
           ]
          },
          {
           "marker": {
            "size": [],
            "sizemode": "area",
            "sizeref": 200000
           },
           "mode": "marker",
           "name": "Mexico",
           "text": [],
           "x": [],
           "y": []
          },
          {
           "marker": {
            "size": [],
            "sizemode": "area",
            "sizeref": 200000
           },
           "mode": "marker",
           "name": "North Korea",
           "text": [],
           "x": [],
           "y": []
          },
          {
           "marker": {
            "size": [],
            "sizemode": "area",
            "sizeref": 200000
           },
           "mode": "marker",
           "name": "Ethiopia",
           "text": [],
           "x": [],
           "y": []
          },
          {
           "marker": {
            "size": [
             2
            ],
            "sizemode": "area",
            "sizeref": 200000
           },
           "mode": "marker",
           "name": "Guatemala",
           "text": [
            "Guatemala"
           ],
           "x": [
            -90.88
           ],
           "y": [
            14.472999999999999
           ]
          },
          {
           "marker": {
            "size": [],
            "sizemode": "area",
            "sizeref": 200000
           },
           "mode": "marker",
           "name": "Solomon Is.",
           "text": [],
           "x": [],
           "y": []
          },
          {
           "marker": {
            "size": [],
            "sizemode": "area",
            "sizeref": 200000
           },
           "mode": "marker",
           "name": "Portugal",
           "text": [],
           "x": [],
           "y": []
          },
          {
           "marker": {
            "size": [],
            "sizemode": "area",
            "sizeref": 200000
           },
           "mode": "marker",
           "name": "Colombia",
           "text": [],
           "x": [],
           "y": []
          },
          {
           "marker": {
            "size": [],
            "sizemode": "area",
            "sizeref": 200000
           },
           "mode": "marker",
           "name": "Pacific Ocean",
           "text": [],
           "x": [],
           "y": []
          },
          {
           "marker": {
            "size": [],
            "sizemode": "area",
            "sizeref": 200000
           },
           "mode": "marker",
           "name": "Peru",
           "text": [],
           "x": [],
           "y": []
          },
          {
           "marker": {
            "size": [],
            "sizemode": "area",
            "sizeref": 200000
           },
           "mode": "marker",
           "name": "China",
           "text": [],
           "x": [],
           "y": []
          },
          {
           "marker": {
            "size": [],
            "sizemode": "area",
            "sizeref": 200000
           },
           "mode": "marker",
           "name": "Spain",
           "text": [],
           "x": [],
           "y": []
          },
          {
           "marker": {
            "size": [],
            "sizemode": "area",
            "sizeref": 200000
           },
           "mode": "marker",
           "name": "Canada",
           "text": [],
           "x": [],
           "y": []
          },
          {
           "marker": {
            "size": [],
            "sizemode": "area",
            "sizeref": 200000
           },
           "mode": "marker",
           "name": "Tanzania",
           "text": [],
           "x": [],
           "y": []
          },
          {
           "marker": {
            "size": [],
            "sizemode": "area",
            "sizeref": 200000
           },
           "mode": "marker",
           "name": "St. Vincent & the Grenadines",
           "text": [],
           "x": [],
           "y": []
          },
          {
           "marker": {
            "size": [],
            "sizemode": "area",
            "sizeref": 200000
           },
           "mode": "marker",
           "name": "Chile",
           "text": [],
           "x": [],
           "y": []
          },
          {
           "marker": {
            "size": [],
            "sizemode": "area",
            "sizeref": 200000
           },
           "mode": "marker",
           "name": "Turkey",
           "text": [],
           "x": [],
           "y": []
          },
          {
           "marker": {
            "size": [],
            "sizemode": "area",
            "sizeref": 200000
           },
           "mode": "marker",
           "name": "St. Kitts & Nevis",
           "text": [],
           "x": [],
           "y": []
          },
          {
           "marker": {
            "size": [],
            "sizemode": "area",
            "sizeref": 200000
           },
           "mode": "marker",
           "name": "Guadeloupe",
           "text": [],
           "x": [],
           "y": []
          },
          {
           "marker": {
            "size": [],
            "sizemode": "area",
            "sizeref": 200000
           },
           "mode": "marker",
           "name": "Cape Verde",
           "text": [],
           "x": [],
           "y": []
          },
          {
           "marker": {
            "size": [],
            "sizemode": "area",
            "sizeref": 200000
           },
           "mode": "marker",
           "name": "Tonga",
           "text": [],
           "x": [],
           "y": []
          },
          {
           "marker": {
            "size": [],
            "sizemode": "area",
            "sizeref": 200000
           },
           "mode": "marker",
           "name": "Taiwan",
           "text": [],
           "x": [],
           "y": []
          },
          {
           "marker": {
            "size": [],
            "sizemode": "area",
            "sizeref": 200000
           },
           "mode": "marker",
           "name": "Eritrea",
           "text": [],
           "x": [],
           "y": []
          },
          {
           "marker": {
            "size": [],
            "sizemode": "area",
            "sizeref": 200000
           },
           "mode": "marker",
           "name": "Comoros",
           "text": [],
           "x": [],
           "y": []
          },
          {
           "marker": {
            "size": [],
            "sizemode": "area",
            "sizeref": 200000
           },
           "mode": "marker",
           "name": "Martinique",
           "text": [],
           "x": [],
           "y": []
          },
          {
           "marker": {
            "size": [],
            "sizemode": "area",
            "sizeref": 200000
           },
           "mode": "marker",
           "name": "Samoa",
           "text": [],
           "x": [],
           "y": []
          },
          {
           "marker": {
            "size": [],
            "sizemode": "area",
            "sizeref": 200000
           },
           "mode": "marker",
           "name": "Cameroon",
           "text": [],
           "x": [],
           "y": []
          },
          {
           "marker": {
            "size": [],
            "sizemode": "area",
            "sizeref": 200000
           },
           "mode": "marker",
           "name": "Trinidad ",
           "text": [],
           "x": [],
           "y": []
          },
          {
           "marker": {
            "size": [],
            "sizemode": "area",
            "sizeref": 200000
           },
           "mode": "marker",
           "name": "Congo, DRC",
           "text": [],
           "x": [],
           "y": []
          },
          {
           "marker": {
            "size": [],
            "sizemode": "area",
            "sizeref": 200000
           },
           "mode": "marker",
           "name": "Costa Rica",
           "text": [],
           "x": [],
           "y": []
          },
          {
           "marker": {
            "size": [],
            "sizemode": "area",
            "sizeref": 200000
           },
           "mode": "marker",
           "name": "Antarctica",
           "text": [],
           "x": [],
           "y": []
          },
          {
           "marker": {
            "size": [],
            "sizemode": "area",
            "sizeref": 200000
           },
           "mode": "marker",
           "name": "Reunion",
           "text": [],
           "x": [],
           "y": []
          },
          {
           "marker": {
            "size": [],
            "sizemode": "area",
            "sizeref": 200000
           },
           "mode": "marker",
           "name": "Montserrat",
           "text": [],
           "x": [],
           "y": []
          }
         ],
         "name": "1860"
        },
        {
         "data": [
          {
           "marker": {
            "size": [],
            "sizemode": "area",
            "sizeref": 200000
           },
           "mode": "marker",
           "name": null,
           "text": [],
           "x": [],
           "y": []
          },
          {
           "marker": {
            "size": [],
            "sizemode": "area",
            "sizeref": 200000
           },
           "mode": "marker",
           "name": "New Zealand",
           "text": [],
           "x": [],
           "y": []
          },
          {
           "marker": {
            "size": [],
            "sizemode": "area",
            "sizeref": 200000
           },
           "mode": "marker",
           "name": "Japan",
           "text": [],
           "x": [],
           "y": []
          },
          {
           "marker": {
            "size": [],
            "sizemode": "area",
            "sizeref": 200000
           },
           "mode": "marker",
           "name": "Nicaragua",
           "text": [],
           "x": [],
           "y": []
          },
          {
           "marker": {
            "size": [],
            "sizemode": "area",
            "sizeref": 200000
           },
           "mode": "marker",
           "name": "Papua New Guinea",
           "text": [],
           "x": [],
           "y": []
          },
          {
           "marker": {
            "size": [],
            "sizemode": "area",
            "sizeref": 200000
           },
           "mode": "marker",
           "name": "Philippines",
           "text": [],
           "x": [],
           "y": []
          },
          {
           "marker": {
            "size": [],
            "sizemode": "area",
            "sizeref": 200000
           },
           "mode": "marker",
           "name": "Italy",
           "text": [],
           "x": [],
           "y": []
          },
          {
           "marker": {
            "size": [],
            "sizemode": "area",
            "sizeref": 200000
           },
           "mode": "marker",
           "name": "United States",
           "text": [],
           "x": [],
           "y": []
          },
          {
           "marker": {
            "size": [],
            "sizemode": "area",
            "sizeref": 200000
           },
           "mode": "marker",
           "name": "Greece",
           "text": [],
           "x": [],
           "y": []
          },
          {
           "marker": {
            "size": [],
            "sizemode": "area",
            "sizeref": 200000
           },
           "mode": "marker",
           "name": "Ecuador",
           "text": [],
           "x": [],
           "y": []
          },
          {
           "marker": {
            "size": [],
            "sizemode": "area",
            "sizeref": 200000
           },
           "mode": "marker",
           "name": "Vanuatu",
           "text": [],
           "x": [],
           "y": []
          },
          {
           "marker": {
            "size": [],
            "sizemode": "area",
            "sizeref": 200000
           },
           "mode": "marker",
           "name": "Yemen",
           "text": [],
           "x": [],
           "y": []
          },
          {
           "marker": {
            "size": [],
            "sizemode": "area",
            "sizeref": 200000
           },
           "mode": "marker",
           "name": "Russia",
           "text": [],
           "x": [],
           "y": []
          },
          {
           "marker": {
            "size": [],
            "sizemode": "area",
            "sizeref": 200000
           },
           "mode": "marker",
           "name": "Indonesia",
           "text": [],
           "x": [],
           "y": []
          },
          {
           "marker": {
            "size": [],
            "sizemode": "area",
            "sizeref": 200000
           },
           "mode": "marker",
           "name": "El Salvador",
           "text": [],
           "x": [],
           "y": []
          },
          {
           "marker": {
            "size": [],
            "sizemode": "area",
            "sizeref": 200000
           },
           "mode": "marker",
           "name": "Saudi Arabia",
           "text": [],
           "x": [],
           "y": []
          },
          {
           "marker": {
            "size": [],
            "sizemode": "area",
            "sizeref": 200000
           },
           "mode": "marker",
           "name": "Iceland",
           "text": [],
           "x": [],
           "y": []
          },
          {
           "marker": {
            "size": [],
            "sizemode": "area",
            "sizeref": 200000
           },
           "mode": "marker",
           "name": "Mexico",
           "text": [],
           "x": [],
           "y": []
          },
          {
           "marker": {
            "size": [],
            "sizemode": "area",
            "sizeref": 200000
           },
           "mode": "marker",
           "name": "North Korea",
           "text": [],
           "x": [],
           "y": []
          },
          {
           "marker": {
            "size": [],
            "sizemode": "area",
            "sizeref": 200000
           },
           "mode": "marker",
           "name": "Ethiopia",
           "text": [],
           "x": [],
           "y": []
          },
          {
           "marker": {
            "size": [],
            "sizemode": "area",
            "sizeref": 200000
           },
           "mode": "marker",
           "name": "Guatemala",
           "text": [],
           "x": [],
           "y": []
          },
          {
           "marker": {
            "size": [],
            "sizemode": "area",
            "sizeref": 200000
           },
           "mode": "marker",
           "name": "Solomon Is.",
           "text": [],
           "x": [],
           "y": []
          },
          {
           "marker": {
            "size": [],
            "sizemode": "area",
            "sizeref": 200000
           },
           "mode": "marker",
           "name": "Portugal",
           "text": [],
           "x": [],
           "y": []
          },
          {
           "marker": {
            "size": [],
            "sizemode": "area",
            "sizeref": 200000
           },
           "mode": "marker",
           "name": "Colombia",
           "text": [],
           "x": [],
           "y": []
          },
          {
           "marker": {
            "size": [],
            "sizemode": "area",
            "sizeref": 200000
           },
           "mode": "marker",
           "name": "Pacific Ocean",
           "text": [],
           "x": [],
           "y": []
          },
          {
           "marker": {
            "size": [],
            "sizemode": "area",
            "sizeref": 200000
           },
           "mode": "marker",
           "name": "Peru",
           "text": [],
           "x": [],
           "y": []
          },
          {
           "marker": {
            "size": [],
            "sizemode": "area",
            "sizeref": 200000
           },
           "mode": "marker",
           "name": "China",
           "text": [],
           "x": [],
           "y": []
          },
          {
           "marker": {
            "size": [],
            "sizemode": "area",
            "sizeref": 200000
           },
           "mode": "marker",
           "name": "Spain",
           "text": [],
           "x": [],
           "y": []
          },
          {
           "marker": {
            "size": [],
            "sizemode": "area",
            "sizeref": 200000
           },
           "mode": "marker",
           "name": "Canada",
           "text": [],
           "x": [],
           "y": []
          },
          {
           "marker": {
            "size": [],
            "sizemode": "area",
            "sizeref": 200000
           },
           "mode": "marker",
           "name": "Tanzania",
           "text": [],
           "x": [],
           "y": []
          },
          {
           "marker": {
            "size": [],
            "sizemode": "area",
            "sizeref": 200000
           },
           "mode": "marker",
           "name": "St. Vincent & the Grenadines",
           "text": [],
           "x": [],
           "y": []
          },
          {
           "marker": {
            "size": [],
            "sizemode": "area",
            "sizeref": 200000
           },
           "mode": "marker",
           "name": "Chile",
           "text": [],
           "x": [],
           "y": []
          },
          {
           "marker": {
            "size": [],
            "sizemode": "area",
            "sizeref": 200000
           },
           "mode": "marker",
           "name": "Turkey",
           "text": [],
           "x": [],
           "y": []
          },
          {
           "marker": {
            "size": [],
            "sizemode": "area",
            "sizeref": 200000
           },
           "mode": "marker",
           "name": "St. Kitts & Nevis",
           "text": [],
           "x": [],
           "y": []
          },
          {
           "marker": {
            "size": [],
            "sizemode": "area",
            "sizeref": 200000
           },
           "mode": "marker",
           "name": "Guadeloupe",
           "text": [],
           "x": [],
           "y": []
          },
          {
           "marker": {
            "size": [],
            "sizemode": "area",
            "sizeref": 200000
           },
           "mode": "marker",
           "name": "Cape Verde",
           "text": [],
           "x": [],
           "y": []
          },
          {
           "marker": {
            "size": [],
            "sizemode": "area",
            "sizeref": 200000
           },
           "mode": "marker",
           "name": "Tonga",
           "text": [],
           "x": [],
           "y": []
          },
          {
           "marker": {
            "size": [],
            "sizemode": "area",
            "sizeref": 200000
           },
           "mode": "marker",
           "name": "Taiwan",
           "text": [],
           "x": [],
           "y": []
          },
          {
           "marker": {
            "size": [],
            "sizemode": "area",
            "sizeref": 200000
           },
           "mode": "marker",
           "name": "Eritrea",
           "text": [],
           "x": [],
           "y": []
          },
          {
           "marker": {
            "size": [],
            "sizemode": "area",
            "sizeref": 200000
           },
           "mode": "marker",
           "name": "Comoros",
           "text": [],
           "x": [],
           "y": []
          },
          {
           "marker": {
            "size": [],
            "sizemode": "area",
            "sizeref": 200000
           },
           "mode": "marker",
           "name": "Martinique",
           "text": [],
           "x": [],
           "y": []
          },
          {
           "marker": {
            "size": [],
            "sizemode": "area",
            "sizeref": 200000
           },
           "mode": "marker",
           "name": "Samoa",
           "text": [],
           "x": [],
           "y": []
          },
          {
           "marker": {
            "size": [],
            "sizemode": "area",
            "sizeref": 200000
           },
           "mode": "marker",
           "name": "Cameroon",
           "text": [],
           "x": [],
           "y": []
          },
          {
           "marker": {
            "size": [],
            "sizemode": "area",
            "sizeref": 200000
           },
           "mode": "marker",
           "name": "Trinidad ",
           "text": [],
           "x": [],
           "y": []
          },
          {
           "marker": {
            "size": [],
            "sizemode": "area",
            "sizeref": 200000
           },
           "mode": "marker",
           "name": "Congo, DRC",
           "text": [],
           "x": [],
           "y": []
          },
          {
           "marker": {
            "size": [],
            "sizemode": "area",
            "sizeref": 200000
           },
           "mode": "marker",
           "name": "Costa Rica",
           "text": [],
           "x": [],
           "y": []
          },
          {
           "marker": {
            "size": [],
            "sizemode": "area",
            "sizeref": 200000
           },
           "mode": "marker",
           "name": "Antarctica",
           "text": [],
           "x": [],
           "y": []
          },
          {
           "marker": {
            "size": [],
            "sizemode": "area",
            "sizeref": 200000
           },
           "mode": "marker",
           "name": "Reunion",
           "text": [],
           "x": [],
           "y": []
          },
          {
           "marker": {
            "size": [],
            "sizemode": "area",
            "sizeref": 200000
           },
           "mode": "marker",
           "name": "Montserrat",
           "text": [],
           "x": [],
           "y": []
          }
         ],
         "name": "1880"
        },
        {
         "data": [
          {
           "marker": {
            "size": [],
            "sizemode": "area",
            "sizeref": 200000
           },
           "mode": "marker",
           "name": null,
           "text": [],
           "x": [],
           "y": []
          },
          {
           "marker": {
            "size": [],
            "sizemode": "area",
            "sizeref": 200000
           },
           "mode": "marker",
           "name": "New Zealand",
           "text": [],
           "x": [],
           "y": []
          },
          {
           "marker": {
            "size": [
             2,
             2,
             2
            ],
            "sizemode": "area",
            "sizeref": 200000
           },
           "mode": "marker",
           "name": "Japan",
           "text": [
            "Japan",
            "Japan",
            "Japan"
           ],
           "x": [
            138.53,
            130.87,
            140.28
           ],
           "y": [
            36.4,
            31.93,
            37.62
           ]
          },
          {
           "marker": {
            "size": [],
            "sizemode": "area",
            "sizeref": 200000
           },
           "mode": "marker",
           "name": "Nicaragua",
           "text": [],
           "x": [],
           "y": []
          },
          {
           "marker": {
            "size": [],
            "sizemode": "area",
            "sizeref": 200000
           },
           "mode": "marker",
           "name": "Papua New Guinea",
           "text": [],
           "x": [],
           "y": []
          },
          {
           "marker": {
            "size": [],
            "sizemode": "area",
            "sizeref": 200000
           },
           "mode": "marker",
           "name": "Philippines",
           "text": [],
           "x": [],
           "y": []
          },
          {
           "marker": {
            "size": [],
            "sizemode": "area",
            "sizeref": 200000
           },
           "mode": "marker",
           "name": "Italy",
           "text": [],
           "x": [],
           "y": []
          },
          {
           "marker": {
            "size": [],
            "sizemode": "area",
            "sizeref": 200000
           },
           "mode": "marker",
           "name": "United States",
           "text": [],
           "x": [],
           "y": []
          },
          {
           "marker": {
            "size": [],
            "sizemode": "area",
            "sizeref": 200000
           },
           "mode": "marker",
           "name": "Greece",
           "text": [],
           "x": [],
           "y": []
          },
          {
           "marker": {
            "size": [],
            "sizemode": "area",
            "sizeref": 200000
           },
           "mode": "marker",
           "name": "Ecuador",
           "text": [],
           "x": [],
           "y": []
          },
          {
           "marker": {
            "size": [],
            "sizemode": "area",
            "sizeref": 200000
           },
           "mode": "marker",
           "name": "Vanuatu",
           "text": [],
           "x": [],
           "y": []
          },
          {
           "marker": {
            "size": [],
            "sizemode": "area",
            "sizeref": 200000
           },
           "mode": "marker",
           "name": "Yemen",
           "text": [],
           "x": [],
           "y": []
          },
          {
           "marker": {
            "size": [],
            "sizemode": "area",
            "sizeref": 200000
           },
           "mode": "marker",
           "name": "Russia",
           "text": [],
           "x": [],
           "y": []
          },
          {
           "marker": {
            "size": [],
            "sizemode": "area",
            "sizeref": 200000
           },
           "mode": "marker",
           "name": "Indonesia",
           "text": [],
           "x": [],
           "y": []
          },
          {
           "marker": {
            "size": [],
            "sizemode": "area",
            "sizeref": 200000
           },
           "mode": "marker",
           "name": "El Salvador",
           "text": [],
           "x": [],
           "y": []
          },
          {
           "marker": {
            "size": [],
            "sizemode": "area",
            "sizeref": 200000
           },
           "mode": "marker",
           "name": "Saudi Arabia",
           "text": [],
           "x": [],
           "y": []
          },
          {
           "marker": {
            "size": [],
            "sizemode": "area",
            "sizeref": 200000
           },
           "mode": "marker",
           "name": "Iceland",
           "text": [],
           "x": [],
           "y": []
          },
          {
           "marker": {
            "size": [],
            "sizemode": "area",
            "sizeref": 200000
           },
           "mode": "marker",
           "name": "Mexico",
           "text": [],
           "x": [],
           "y": []
          },
          {
           "marker": {
            "size": [],
            "sizemode": "area",
            "sizeref": 200000
           },
           "mode": "marker",
           "name": "North Korea",
           "text": [],
           "x": [],
           "y": []
          },
          {
           "marker": {
            "size": [
             null
            ],
            "sizemode": "area",
            "sizeref": 200000
           },
           "mode": "marker",
           "name": "Ethiopia",
           "text": [
            "Ethiopia"
           ],
           "x": [
            39.13
           ],
           "y": [
            8.158
           ]
          },
          {
           "marker": {
            "size": [],
            "sizemode": "area",
            "sizeref": 200000
           },
           "mode": "marker",
           "name": "Guatemala",
           "text": [],
           "x": [],
           "y": []
          },
          {
           "marker": {
            "size": [],
            "sizemode": "area",
            "sizeref": 200000
           },
           "mode": "marker",
           "name": "Solomon Is.",
           "text": [],
           "x": [],
           "y": []
          },
          {
           "marker": {
            "size": [],
            "sizemode": "area",
            "sizeref": 200000
           },
           "mode": "marker",
           "name": "Portugal",
           "text": [],
           "x": [],
           "y": []
          },
          {
           "marker": {
            "size": [],
            "sizemode": "area",
            "sizeref": 200000
           },
           "mode": "marker",
           "name": "Colombia",
           "text": [],
           "x": [],
           "y": []
          },
          {
           "marker": {
            "size": [],
            "sizemode": "area",
            "sizeref": 200000
           },
           "mode": "marker",
           "name": "Pacific Ocean",
           "text": [],
           "x": [],
           "y": []
          },
          {
           "marker": {
            "size": [],
            "sizemode": "area",
            "sizeref": 200000
           },
           "mode": "marker",
           "name": "Peru",
           "text": [],
           "x": [],
           "y": []
          },
          {
           "marker": {
            "size": [],
            "sizemode": "area",
            "sizeref": 200000
           },
           "mode": "marker",
           "name": "China",
           "text": [],
           "x": [],
           "y": []
          },
          {
           "marker": {
            "size": [],
            "sizemode": "area",
            "sizeref": 200000
           },
           "mode": "marker",
           "name": "Spain",
           "text": [],
           "x": [],
           "y": []
          },
          {
           "marker": {
            "size": [],
            "sizemode": "area",
            "sizeref": 200000
           },
           "mode": "marker",
           "name": "Canada",
           "text": [],
           "x": [],
           "y": []
          },
          {
           "marker": {
            "size": [],
            "sizemode": "area",
            "sizeref": 200000
           },
           "mode": "marker",
           "name": "Tanzania",
           "text": [],
           "x": [],
           "y": []
          },
          {
           "marker": {
            "size": [],
            "sizemode": "area",
            "sizeref": 200000
           },
           "mode": "marker",
           "name": "St. Vincent & the Grenadines",
           "text": [],
           "x": [],
           "y": []
          },
          {
           "marker": {
            "size": [],
            "sizemode": "area",
            "sizeref": 200000
           },
           "mode": "marker",
           "name": "Chile",
           "text": [],
           "x": [],
           "y": []
          },
          {
           "marker": {
            "size": [],
            "sizemode": "area",
            "sizeref": 200000
           },
           "mode": "marker",
           "name": "Turkey",
           "text": [],
           "x": [],
           "y": []
          },
          {
           "marker": {
            "size": [],
            "sizemode": "area",
            "sizeref": 200000
           },
           "mode": "marker",
           "name": "St. Kitts & Nevis",
           "text": [],
           "x": [],
           "y": []
          },
          {
           "marker": {
            "size": [],
            "sizemode": "area",
            "sizeref": 200000
           },
           "mode": "marker",
           "name": "Guadeloupe",
           "text": [],
           "x": [],
           "y": []
          },
          {
           "marker": {
            "size": [],
            "sizemode": "area",
            "sizeref": 200000
           },
           "mode": "marker",
           "name": "Cape Verde",
           "text": [],
           "x": [],
           "y": []
          },
          {
           "marker": {
            "size": [],
            "sizemode": "area",
            "sizeref": 200000
           },
           "mode": "marker",
           "name": "Tonga",
           "text": [],
           "x": [],
           "y": []
          },
          {
           "marker": {
            "size": [],
            "sizemode": "area",
            "sizeref": 200000
           },
           "mode": "marker",
           "name": "Taiwan",
           "text": [],
           "x": [],
           "y": []
          },
          {
           "marker": {
            "size": [],
            "sizemode": "area",
            "sizeref": 200000
           },
           "mode": "marker",
           "name": "Eritrea",
           "text": [],
           "x": [],
           "y": []
          },
          {
           "marker": {
            "size": [],
            "sizemode": "area",
            "sizeref": 200000
           },
           "mode": "marker",
           "name": "Comoros",
           "text": [],
           "x": [],
           "y": []
          },
          {
           "marker": {
            "size": [],
            "sizemode": "area",
            "sizeref": 200000
           },
           "mode": "marker",
           "name": "Martinique",
           "text": [],
           "x": [],
           "y": []
          },
          {
           "marker": {
            "size": [],
            "sizemode": "area",
            "sizeref": 200000
           },
           "mode": "marker",
           "name": "Samoa",
           "text": [],
           "x": [],
           "y": []
          },
          {
           "marker": {
            "size": [],
            "sizemode": "area",
            "sizeref": 200000
           },
           "mode": "marker",
           "name": "Cameroon",
           "text": [],
           "x": [],
           "y": []
          },
          {
           "marker": {
            "size": [],
            "sizemode": "area",
            "sizeref": 200000
           },
           "mode": "marker",
           "name": "Trinidad ",
           "text": [],
           "x": [],
           "y": []
          },
          {
           "marker": {
            "size": [],
            "sizemode": "area",
            "sizeref": 200000
           },
           "mode": "marker",
           "name": "Congo, DRC",
           "text": [],
           "x": [],
           "y": []
          },
          {
           "marker": {
            "size": [],
            "sizemode": "area",
            "sizeref": 200000
           },
           "mode": "marker",
           "name": "Costa Rica",
           "text": [],
           "x": [],
           "y": []
          },
          {
           "marker": {
            "size": [],
            "sizemode": "area",
            "sizeref": 200000
           },
           "mode": "marker",
           "name": "Antarctica",
           "text": [],
           "x": [],
           "y": []
          },
          {
           "marker": {
            "size": [],
            "sizemode": "area",
            "sizeref": 200000
           },
           "mode": "marker",
           "name": "Reunion",
           "text": [],
           "x": [],
           "y": []
          },
          {
           "marker": {
            "size": [],
            "sizemode": "area",
            "sizeref": 200000
           },
           "mode": "marker",
           "name": "Montserrat",
           "text": [],
           "x": [],
           "y": []
          }
         ],
         "name": "1900"
        },
        {
         "data": [
          {
           "marker": {
            "size": [],
            "sizemode": "area",
            "sizeref": 200000
           },
           "mode": "marker",
           "name": null,
           "text": [],
           "x": [],
           "y": []
          },
          {
           "marker": {
            "size": [
             null
            ],
            "sizemode": "area",
            "sizeref": 200000
           },
           "mode": "marker",
           "name": "New Zealand",
           "text": [
            "New Zealand"
           ],
           "x": [
            176
           ],
           "y": [
            -38.82
           ]
          },
          {
           "marker": {
            "size": [
             2
            ],
            "sizemode": "area",
            "sizeref": 200000
           },
           "mode": "marker",
           "name": "Japan",
           "text": [
            "Japan"
           ],
           "x": [
            140.83
           ],
           "y": [
            42.53
           ]
          },
          {
           "marker": {
            "size": [],
            "sizemode": "area",
            "sizeref": 200000
           },
           "mode": "marker",
           "name": "Nicaragua",
           "text": [],
           "x": [],
           "y": []
          },
          {
           "marker": {
            "size": [],
            "sizemode": "area",
            "sizeref": 200000
           },
           "mode": "marker",
           "name": "Papua New Guinea",
           "text": [],
           "x": [],
           "y": []
          },
          {
           "marker": {
            "size": [],
            "sizemode": "area",
            "sizeref": 200000
           },
           "mode": "marker",
           "name": "Philippines",
           "text": [],
           "x": [],
           "y": []
          },
          {
           "marker": {
            "size": [],
            "sizemode": "area",
            "sizeref": 200000
           },
           "mode": "marker",
           "name": "Italy",
           "text": [],
           "x": [],
           "y": []
          },
          {
           "marker": {
            "size": [],
            "sizemode": "area",
            "sizeref": 200000
           },
           "mode": "marker",
           "name": "United States",
           "text": [],
           "x": [],
           "y": []
          },
          {
           "marker": {
            "size": [],
            "sizemode": "area",
            "sizeref": 200000
           },
           "mode": "marker",
           "name": "Greece",
           "text": [],
           "x": [],
           "y": []
          },
          {
           "marker": {
            "size": [],
            "sizemode": "area",
            "sizeref": 200000
           },
           "mode": "marker",
           "name": "Ecuador",
           "text": [],
           "x": [],
           "y": []
          },
          {
           "marker": {
            "size": [],
            "sizemode": "area",
            "sizeref": 200000
           },
           "mode": "marker",
           "name": "Vanuatu",
           "text": [],
           "x": [],
           "y": []
          },
          {
           "marker": {
            "size": [],
            "sizemode": "area",
            "sizeref": 200000
           },
           "mode": "marker",
           "name": "Yemen",
           "text": [],
           "x": [],
           "y": []
          },
          {
           "marker": {
            "size": [],
            "sizemode": "area",
            "sizeref": 200000
           },
           "mode": "marker",
           "name": "Russia",
           "text": [],
           "x": [],
           "y": []
          },
          {
           "marker": {
            "size": [],
            "sizemode": "area",
            "sizeref": 200000
           },
           "mode": "marker",
           "name": "Indonesia",
           "text": [],
           "x": [],
           "y": []
          },
          {
           "marker": {
            "size": [],
            "sizemode": "area",
            "sizeref": 200000
           },
           "mode": "marker",
           "name": "El Salvador",
           "text": [],
           "x": [],
           "y": []
          },
          {
           "marker": {
            "size": [],
            "sizemode": "area",
            "sizeref": 200000
           },
           "mode": "marker",
           "name": "Saudi Arabia",
           "text": [],
           "x": [],
           "y": []
          },
          {
           "marker": {
            "size": [],
            "sizemode": "area",
            "sizeref": 200000
           },
           "mode": "marker",
           "name": "Iceland",
           "text": [],
           "x": [],
           "y": []
          },
          {
           "marker": {
            "size": [],
            "sizemode": "area",
            "sizeref": 200000
           },
           "mode": "marker",
           "name": "Mexico",
           "text": [],
           "x": [],
           "y": []
          },
          {
           "marker": {
            "size": [],
            "sizemode": "area",
            "sizeref": 200000
           },
           "mode": "marker",
           "name": "North Korea",
           "text": [],
           "x": [],
           "y": []
          },
          {
           "marker": {
            "size": [],
            "sizemode": "area",
            "sizeref": 200000
           },
           "mode": "marker",
           "name": "Ethiopia",
           "text": [],
           "x": [],
           "y": []
          },
          {
           "marker": {
            "size": [],
            "sizemode": "area",
            "sizeref": 200000
           },
           "mode": "marker",
           "name": "Guatemala",
           "text": [],
           "x": [],
           "y": []
          },
          {
           "marker": {
            "size": [],
            "sizemode": "area",
            "sizeref": 200000
           },
           "mode": "marker",
           "name": "Solomon Is.",
           "text": [],
           "x": [],
           "y": []
          },
          {
           "marker": {
            "size": [],
            "sizemode": "area",
            "sizeref": 200000
           },
           "mode": "marker",
           "name": "Portugal",
           "text": [],
           "x": [],
           "y": []
          },
          {
           "marker": {
            "size": [],
            "sizemode": "area",
            "sizeref": 200000
           },
           "mode": "marker",
           "name": "Colombia",
           "text": [],
           "x": [],
           "y": []
          },
          {
           "marker": {
            "size": [],
            "sizemode": "area",
            "sizeref": 200000
           },
           "mode": "marker",
           "name": "Pacific Ocean",
           "text": [],
           "x": [],
           "y": []
          },
          {
           "marker": {
            "size": [],
            "sizemode": "area",
            "sizeref": 200000
           },
           "mode": "marker",
           "name": "Peru",
           "text": [],
           "x": [],
           "y": []
          },
          {
           "marker": {
            "size": [],
            "sizemode": "area",
            "sizeref": 200000
           },
           "mode": "marker",
           "name": "China",
           "text": [],
           "x": [],
           "y": []
          },
          {
           "marker": {
            "size": [],
            "sizemode": "area",
            "sizeref": 200000
           },
           "mode": "marker",
           "name": "Spain",
           "text": [],
           "x": [],
           "y": []
          },
          {
           "marker": {
            "size": [],
            "sizemode": "area",
            "sizeref": 200000
           },
           "mode": "marker",
           "name": "Canada",
           "text": [],
           "x": [],
           "y": []
          },
          {
           "marker": {
            "size": [],
            "sizemode": "area",
            "sizeref": 200000
           },
           "mode": "marker",
           "name": "Tanzania",
           "text": [],
           "x": [],
           "y": []
          },
          {
           "marker": {
            "size": [],
            "sizemode": "area",
            "sizeref": 200000
           },
           "mode": "marker",
           "name": "St. Vincent & the Grenadines",
           "text": [],
           "x": [],
           "y": []
          },
          {
           "marker": {
            "size": [],
            "sizemode": "area",
            "sizeref": 200000
           },
           "mode": "marker",
           "name": "Chile",
           "text": [],
           "x": [],
           "y": []
          },
          {
           "marker": {
            "size": [],
            "sizemode": "area",
            "sizeref": 200000
           },
           "mode": "marker",
           "name": "Turkey",
           "text": [],
           "x": [],
           "y": []
          },
          {
           "marker": {
            "size": [],
            "sizemode": "area",
            "sizeref": 200000
           },
           "mode": "marker",
           "name": "St. Kitts & Nevis",
           "text": [],
           "x": [],
           "y": []
          },
          {
           "marker": {
            "size": [],
            "sizemode": "area",
            "sizeref": 200000
           },
           "mode": "marker",
           "name": "Guadeloupe",
           "text": [],
           "x": [],
           "y": []
          },
          {
           "marker": {
            "size": [],
            "sizemode": "area",
            "sizeref": 200000
           },
           "mode": "marker",
           "name": "Cape Verde",
           "text": [],
           "x": [],
           "y": []
          },
          {
           "marker": {
            "size": [],
            "sizemode": "area",
            "sizeref": 200000
           },
           "mode": "marker",
           "name": "Tonga",
           "text": [],
           "x": [],
           "y": []
          },
          {
           "marker": {
            "size": [],
            "sizemode": "area",
            "sizeref": 200000
           },
           "mode": "marker",
           "name": "Taiwan",
           "text": [],
           "x": [],
           "y": []
          },
          {
           "marker": {
            "size": [],
            "sizemode": "area",
            "sizeref": 200000
           },
           "mode": "marker",
           "name": "Eritrea",
           "text": [],
           "x": [],
           "y": []
          },
          {
           "marker": {
            "size": [],
            "sizemode": "area",
            "sizeref": 200000
           },
           "mode": "marker",
           "name": "Comoros",
           "text": [],
           "x": [],
           "y": []
          },
          {
           "marker": {
            "size": [],
            "sizemode": "area",
            "sizeref": 200000
           },
           "mode": "marker",
           "name": "Martinique",
           "text": [],
           "x": [],
           "y": []
          },
          {
           "marker": {
            "size": [],
            "sizemode": "area",
            "sizeref": 200000
           },
           "mode": "marker",
           "name": "Samoa",
           "text": [],
           "x": [],
           "y": []
          },
          {
           "marker": {
            "size": [],
            "sizemode": "area",
            "sizeref": 200000
           },
           "mode": "marker",
           "name": "Cameroon",
           "text": [],
           "x": [],
           "y": []
          },
          {
           "marker": {
            "size": [],
            "sizemode": "area",
            "sizeref": 200000
           },
           "mode": "marker",
           "name": "Trinidad ",
           "text": [],
           "x": [],
           "y": []
          },
          {
           "marker": {
            "size": [],
            "sizemode": "area",
            "sizeref": 200000
           },
           "mode": "marker",
           "name": "Congo, DRC",
           "text": [],
           "x": [],
           "y": []
          },
          {
           "marker": {
            "size": [],
            "sizemode": "area",
            "sizeref": 200000
           },
           "mode": "marker",
           "name": "Costa Rica",
           "text": [],
           "x": [],
           "y": []
          },
          {
           "marker": {
            "size": [],
            "sizemode": "area",
            "sizeref": 200000
           },
           "mode": "marker",
           "name": "Antarctica",
           "text": [],
           "x": [],
           "y": []
          },
          {
           "marker": {
            "size": [],
            "sizemode": "area",
            "sizeref": 200000
           },
           "mode": "marker",
           "name": "Reunion",
           "text": [],
           "x": [],
           "y": []
          },
          {
           "marker": {
            "size": [],
            "sizemode": "area",
            "sizeref": 200000
           },
           "mode": "marker",
           "name": "Montserrat",
           "text": [],
           "x": [],
           "y": []
          }
         ],
         "name": "1910"
        },
        {
         "data": [
          {
           "marker": {
            "size": [],
            "sizemode": "area",
            "sizeref": 200000
           },
           "mode": "marker",
           "name": null,
           "text": [],
           "x": [],
           "y": []
          },
          {
           "marker": {
            "size": [],
            "sizemode": "area",
            "sizeref": 200000
           },
           "mode": "marker",
           "name": "New Zealand",
           "text": [],
           "x": [],
           "y": []
          },
          {
           "marker": {
            "size": [],
            "sizemode": "area",
            "sizeref": 200000
           },
           "mode": "marker",
           "name": "Japan",
           "text": [],
           "x": [],
           "y": []
          },
          {
           "marker": {
            "size": [],
            "sizemode": "area",
            "sizeref": 200000
           },
           "mode": "marker",
           "name": "Nicaragua",
           "text": [],
           "x": [],
           "y": []
          },
          {
           "marker": {
            "size": [],
            "sizemode": "area",
            "sizeref": 200000
           },
           "mode": "marker",
           "name": "Papua New Guinea",
           "text": [],
           "x": [],
           "y": []
          },
          {
           "marker": {
            "size": [],
            "sizemode": "area",
            "sizeref": 200000
           },
           "mode": "marker",
           "name": "Philippines",
           "text": [],
           "x": [],
           "y": []
          },
          {
           "marker": {
            "size": [],
            "sizemode": "area",
            "sizeref": 200000
           },
           "mode": "marker",
           "name": "Italy",
           "text": [],
           "x": [],
           "y": []
          },
          {
           "marker": {
            "size": [],
            "sizemode": "area",
            "sizeref": 200000
           },
           "mode": "marker",
           "name": "United States",
           "text": [],
           "x": [],
           "y": []
          },
          {
           "marker": {
            "size": [],
            "sizemode": "area",
            "sizeref": 200000
           },
           "mode": "marker",
           "name": "Greece",
           "text": [],
           "x": [],
           "y": []
          },
          {
           "marker": {
            "size": [],
            "sizemode": "area",
            "sizeref": 200000
           },
           "mode": "marker",
           "name": "Ecuador",
           "text": [],
           "x": [],
           "y": []
          },
          {
           "marker": {
            "size": [],
            "sizemode": "area",
            "sizeref": 200000
           },
           "mode": "marker",
           "name": "Vanuatu",
           "text": [],
           "x": [],
           "y": []
          },
          {
           "marker": {
            "size": [],
            "sizemode": "area",
            "sizeref": 200000
           },
           "mode": "marker",
           "name": "Yemen",
           "text": [],
           "x": [],
           "y": []
          },
          {
           "marker": {
            "size": [],
            "sizemode": "area",
            "sizeref": 200000
           },
           "mode": "marker",
           "name": "Russia",
           "text": [],
           "x": [],
           "y": []
          },
          {
           "marker": {
            "size": [
             3
            ],
            "sizemode": "area",
            "sizeref": 200000
           },
           "mode": "marker",
           "name": "Indonesia",
           "text": [
            "Indonesia"
           ],
           "x": [
            110.44200000000001
           ],
           "y": [
            -7.542000000000001
           ]
          },
          {
           "marker": {
            "size": [
             3
            ],
            "sizemode": "area",
            "sizeref": 200000
           },
           "mode": "marker",
           "name": "El Salvador",
           "text": [
            "El Salvador"
           ],
           "x": [
            -89.633
           ],
           "y": [
            13.812999999999999
           ]
          },
          {
           "marker": {
            "size": [],
            "sizemode": "area",
            "sizeref": 200000
           },
           "mode": "marker",
           "name": "Saudi Arabia",
           "text": [],
           "x": [],
           "y": []
          },
          {
           "marker": {
            "size": [],
            "sizemode": "area",
            "sizeref": 200000
           },
           "mode": "marker",
           "name": "Iceland",
           "text": [],
           "x": [],
           "y": []
          },
          {
           "marker": {
            "size": [],
            "sizemode": "area",
            "sizeref": 200000
           },
           "mode": "marker",
           "name": "Mexico",
           "text": [],
           "x": [],
           "y": []
          },
          {
           "marker": {
            "size": [],
            "sizemode": "area",
            "sizeref": 200000
           },
           "mode": "marker",
           "name": "North Korea",
           "text": [],
           "x": [],
           "y": []
          },
          {
           "marker": {
            "size": [],
            "sizemode": "area",
            "sizeref": 200000
           },
           "mode": "marker",
           "name": "Ethiopia",
           "text": [],
           "x": [],
           "y": []
          },
          {
           "marker": {
            "size": [],
            "sizemode": "area",
            "sizeref": 200000
           },
           "mode": "marker",
           "name": "Guatemala",
           "text": [],
           "x": [],
           "y": []
          },
          {
           "marker": {
            "size": [],
            "sizemode": "area",
            "sizeref": 200000
           },
           "mode": "marker",
           "name": "Solomon Is.",
           "text": [],
           "x": [],
           "y": []
          },
          {
           "marker": {
            "size": [],
            "sizemode": "area",
            "sizeref": 200000
           },
           "mode": "marker",
           "name": "Portugal",
           "text": [],
           "x": [],
           "y": []
          },
          {
           "marker": {
            "size": [],
            "sizemode": "area",
            "sizeref": 200000
           },
           "mode": "marker",
           "name": "Colombia",
           "text": [],
           "x": [],
           "y": []
          },
          {
           "marker": {
            "size": [],
            "sizemode": "area",
            "sizeref": 200000
           },
           "mode": "marker",
           "name": "Pacific Ocean",
           "text": [],
           "x": [],
           "y": []
          },
          {
           "marker": {
            "size": [],
            "sizemode": "area",
            "sizeref": 200000
           },
           "mode": "marker",
           "name": "Peru",
           "text": [],
           "x": [],
           "y": []
          },
          {
           "marker": {
            "size": [],
            "sizemode": "area",
            "sizeref": 200000
           },
           "mode": "marker",
           "name": "China",
           "text": [],
           "x": [],
           "y": []
          },
          {
           "marker": {
            "size": [],
            "sizemode": "area",
            "sizeref": 200000
           },
           "mode": "marker",
           "name": "Spain",
           "text": [],
           "x": [],
           "y": []
          },
          {
           "marker": {
            "size": [],
            "sizemode": "area",
            "sizeref": 200000
           },
           "mode": "marker",
           "name": "Canada",
           "text": [],
           "x": [],
           "y": []
          },
          {
           "marker": {
            "size": [],
            "sizemode": "area",
            "sizeref": 200000
           },
           "mode": "marker",
           "name": "Tanzania",
           "text": [],
           "x": [],
           "y": []
          },
          {
           "marker": {
            "size": [],
            "sizemode": "area",
            "sizeref": 200000
           },
           "mode": "marker",
           "name": "St. Vincent & the Grenadines",
           "text": [],
           "x": [],
           "y": []
          },
          {
           "marker": {
            "size": [],
            "sizemode": "area",
            "sizeref": 200000
           },
           "mode": "marker",
           "name": "Chile",
           "text": [],
           "x": [],
           "y": []
          },
          {
           "marker": {
            "size": [],
            "sizemode": "area",
            "sizeref": 200000
           },
           "mode": "marker",
           "name": "Turkey",
           "text": [],
           "x": [],
           "y": []
          },
          {
           "marker": {
            "size": [],
            "sizemode": "area",
            "sizeref": 200000
           },
           "mode": "marker",
           "name": "St. Kitts & Nevis",
           "text": [],
           "x": [],
           "y": []
          },
          {
           "marker": {
            "size": [],
            "sizemode": "area",
            "sizeref": 200000
           },
           "mode": "marker",
           "name": "Guadeloupe",
           "text": [],
           "x": [],
           "y": []
          },
          {
           "marker": {
            "size": [],
            "sizemode": "area",
            "sizeref": 200000
           },
           "mode": "marker",
           "name": "Cape Verde",
           "text": [],
           "x": [],
           "y": []
          },
          {
           "marker": {
            "size": [],
            "sizemode": "area",
            "sizeref": 200000
           },
           "mode": "marker",
           "name": "Tonga",
           "text": [],
           "x": [],
           "y": []
          },
          {
           "marker": {
            "size": [],
            "sizemode": "area",
            "sizeref": 200000
           },
           "mode": "marker",
           "name": "Taiwan",
           "text": [],
           "x": [],
           "y": []
          },
          {
           "marker": {
            "size": [],
            "sizemode": "area",
            "sizeref": 200000
           },
           "mode": "marker",
           "name": "Eritrea",
           "text": [],
           "x": [],
           "y": []
          },
          {
           "marker": {
            "size": [],
            "sizemode": "area",
            "sizeref": 200000
           },
           "mode": "marker",
           "name": "Comoros",
           "text": [],
           "x": [],
           "y": []
          },
          {
           "marker": {
            "size": [],
            "sizemode": "area",
            "sizeref": 200000
           },
           "mode": "marker",
           "name": "Martinique",
           "text": [],
           "x": [],
           "y": []
          },
          {
           "marker": {
            "size": [],
            "sizemode": "area",
            "sizeref": 200000
           },
           "mode": "marker",
           "name": "Samoa",
           "text": [],
           "x": [],
           "y": []
          },
          {
           "marker": {
            "size": [],
            "sizemode": "area",
            "sizeref": 200000
           },
           "mode": "marker",
           "name": "Cameroon",
           "text": [],
           "x": [],
           "y": []
          },
          {
           "marker": {
            "size": [],
            "sizemode": "area",
            "sizeref": 200000
           },
           "mode": "marker",
           "name": "Trinidad ",
           "text": [],
           "x": [],
           "y": []
          },
          {
           "marker": {
            "size": [],
            "sizemode": "area",
            "sizeref": 200000
           },
           "mode": "marker",
           "name": "Congo, DRC",
           "text": [],
           "x": [],
           "y": []
          },
          {
           "marker": {
            "size": [],
            "sizemode": "area",
            "sizeref": 200000
           },
           "mode": "marker",
           "name": "Costa Rica",
           "text": [],
           "x": [],
           "y": []
          },
          {
           "marker": {
            "size": [],
            "sizemode": "area",
            "sizeref": 200000
           },
           "mode": "marker",
           "name": "Antarctica",
           "text": [],
           "x": [],
           "y": []
          },
          {
           "marker": {
            "size": [],
            "sizemode": "area",
            "sizeref": 200000
           },
           "mode": "marker",
           "name": "Reunion",
           "text": [],
           "x": [],
           "y": []
          },
          {
           "marker": {
            "size": [],
            "sizemode": "area",
            "sizeref": 200000
           },
           "mode": "marker",
           "name": "Montserrat",
           "text": [],
           "x": [],
           "y": []
          }
         ],
         "name": "1920"
        },
        {
         "data": [
          {
           "marker": {
            "size": [],
            "sizemode": "area",
            "sizeref": 200000
           },
           "mode": "marker",
           "name": null,
           "text": [],
           "x": [],
           "y": []
          },
          {
           "marker": {
            "size": [],
            "sizemode": "area",
            "sizeref": 200000
           },
           "mode": "marker",
           "name": "New Zealand",
           "text": [],
           "x": [],
           "y": []
          },
          {
           "marker": {
            "size": [
             3
            ],
            "sizemode": "area",
            "sizeref": 200000
           },
           "mode": "marker",
           "name": "Japan",
           "text": [
            "Japan"
           ],
           "x": [
            138.53
           ],
           "y": [
            36.4
           ]
          },
          {
           "marker": {
            "size": [],
            "sizemode": "area",
            "sizeref": 200000
           },
           "mode": "marker",
           "name": "Nicaragua",
           "text": [],
           "x": [],
           "y": []
          },
          {
           "marker": {
            "size": [],
            "sizemode": "area",
            "sizeref": 200000
           },
           "mode": "marker",
           "name": "Papua New Guinea",
           "text": [],
           "x": [],
           "y": []
          },
          {
           "marker": {
            "size": [],
            "sizemode": "area",
            "sizeref": 200000
           },
           "mode": "marker",
           "name": "Philippines",
           "text": [],
           "x": [],
           "y": []
          },
          {
           "marker": {
            "size": [
             3
            ],
            "sizemode": "area",
            "sizeref": 200000
           },
           "mode": "marker",
           "name": "Italy",
           "text": [
            "Italy"
           ],
           "x": [
            15.213
           ],
           "y": [
            38.789
           ]
          },
          {
           "marker": {
            "size": [],
            "sizemode": "area",
            "sizeref": 200000
           },
           "mode": "marker",
           "name": "United States",
           "text": [],
           "x": [],
           "y": []
          },
          {
           "marker": {
            "size": [],
            "sizemode": "area",
            "sizeref": 200000
           },
           "mode": "marker",
           "name": "Greece",
           "text": [],
           "x": [],
           "y": []
          },
          {
           "marker": {
            "size": [],
            "sizemode": "area",
            "sizeref": 200000
           },
           "mode": "marker",
           "name": "Ecuador",
           "text": [],
           "x": [],
           "y": []
          },
          {
           "marker": {
            "size": [],
            "sizemode": "area",
            "sizeref": 200000
           },
           "mode": "marker",
           "name": "Vanuatu",
           "text": [],
           "x": [],
           "y": []
          },
          {
           "marker": {
            "size": [],
            "sizemode": "area",
            "sizeref": 200000
           },
           "mode": "marker",
           "name": "Yemen",
           "text": [],
           "x": [],
           "y": []
          },
          {
           "marker": {
            "size": [],
            "sizemode": "area",
            "sizeref": 200000
           },
           "mode": "marker",
           "name": "Russia",
           "text": [],
           "x": [],
           "y": []
          },
          {
           "marker": {
            "size": [
             2,
             3
            ],
            "sizemode": "area",
            "sizeref": 200000
           },
           "mode": "marker",
           "name": "Indonesia",
           "text": [
            "Indonesia",
            "Indonesia"
           ],
           "x": [
            105.42299999999999,
            110.44200000000001
           ],
           "y": [
            -6.102,
            -7.542000000000001
           ]
          },
          {
           "marker": {
            "size": [],
            "sizemode": "area",
            "sizeref": 200000
           },
           "mode": "marker",
           "name": "El Salvador",
           "text": [],
           "x": [],
           "y": []
          },
          {
           "marker": {
            "size": [],
            "sizemode": "area",
            "sizeref": 200000
           },
           "mode": "marker",
           "name": "Saudi Arabia",
           "text": [],
           "x": [],
           "y": []
          },
          {
           "marker": {
            "size": [],
            "sizemode": "area",
            "sizeref": 200000
           },
           "mode": "marker",
           "name": "Iceland",
           "text": [],
           "x": [],
           "y": []
          },
          {
           "marker": {
            "size": [],
            "sizemode": "area",
            "sizeref": 200000
           },
           "mode": "marker",
           "name": "Mexico",
           "text": [],
           "x": [],
           "y": []
          },
          {
           "marker": {
            "size": [],
            "sizemode": "area",
            "sizeref": 200000
           },
           "mode": "marker",
           "name": "North Korea",
           "text": [],
           "x": [],
           "y": []
          },
          {
           "marker": {
            "size": [],
            "sizemode": "area",
            "sizeref": 200000
           },
           "mode": "marker",
           "name": "Ethiopia",
           "text": [],
           "x": [],
           "y": []
          },
          {
           "marker": {
            "size": [],
            "sizemode": "area",
            "sizeref": 200000
           },
           "mode": "marker",
           "name": "Guatemala",
           "text": [],
           "x": [],
           "y": []
          },
          {
           "marker": {
            "size": [],
            "sizemode": "area",
            "sizeref": 200000
           },
           "mode": "marker",
           "name": "Solomon Is.",
           "text": [],
           "x": [],
           "y": []
          },
          {
           "marker": {
            "size": [],
            "sizemode": "area",
            "sizeref": 200000
           },
           "mode": "marker",
           "name": "Portugal",
           "text": [],
           "x": [],
           "y": []
          },
          {
           "marker": {
            "size": [],
            "sizemode": "area",
            "sizeref": 200000
           },
           "mode": "marker",
           "name": "Colombia",
           "text": [],
           "x": [],
           "y": []
          },
          {
           "marker": {
            "size": [],
            "sizemode": "area",
            "sizeref": 200000
           },
           "mode": "marker",
           "name": "Pacific Ocean",
           "text": [],
           "x": [],
           "y": []
          },
          {
           "marker": {
            "size": [],
            "sizemode": "area",
            "sizeref": 200000
           },
           "mode": "marker",
           "name": "Peru",
           "text": [],
           "x": [],
           "y": []
          },
          {
           "marker": {
            "size": [],
            "sizemode": "area",
            "sizeref": 200000
           },
           "mode": "marker",
           "name": "China",
           "text": [],
           "x": [],
           "y": []
          },
          {
           "marker": {
            "size": [],
            "sizemode": "area",
            "sizeref": 200000
           },
           "mode": "marker",
           "name": "Spain",
           "text": [],
           "x": [],
           "y": []
          },
          {
           "marker": {
            "size": [],
            "sizemode": "area",
            "sizeref": 200000
           },
           "mode": "marker",
           "name": "Canada",
           "text": [],
           "x": [],
           "y": []
          },
          {
           "marker": {
            "size": [],
            "sizemode": "area",
            "sizeref": 200000
           },
           "mode": "marker",
           "name": "Tanzania",
           "text": [],
           "x": [],
           "y": []
          },
          {
           "marker": {
            "size": [],
            "sizemode": "area",
            "sizeref": 200000
           },
           "mode": "marker",
           "name": "St. Vincent & the Grenadines",
           "text": [],
           "x": [],
           "y": []
          },
          {
           "marker": {
            "size": [],
            "sizemode": "area",
            "sizeref": 200000
           },
           "mode": "marker",
           "name": "Chile",
           "text": [],
           "x": [],
           "y": []
          },
          {
           "marker": {
            "size": [],
            "sizemode": "area",
            "sizeref": 200000
           },
           "mode": "marker",
           "name": "Turkey",
           "text": [],
           "x": [],
           "y": []
          },
          {
           "marker": {
            "size": [],
            "sizemode": "area",
            "sizeref": 200000
           },
           "mode": "marker",
           "name": "St. Kitts & Nevis",
           "text": [],
           "x": [],
           "y": []
          },
          {
           "marker": {
            "size": [],
            "sizemode": "area",
            "sizeref": 200000
           },
           "mode": "marker",
           "name": "Guadeloupe",
           "text": [],
           "x": [],
           "y": []
          },
          {
           "marker": {
            "size": [],
            "sizemode": "area",
            "sizeref": 200000
           },
           "mode": "marker",
           "name": "Cape Verde",
           "text": [],
           "x": [],
           "y": []
          },
          {
           "marker": {
            "size": [],
            "sizemode": "area",
            "sizeref": 200000
           },
           "mode": "marker",
           "name": "Tonga",
           "text": [],
           "x": [],
           "y": []
          },
          {
           "marker": {
            "size": [],
            "sizemode": "area",
            "sizeref": 200000
           },
           "mode": "marker",
           "name": "Taiwan",
           "text": [],
           "x": [],
           "y": []
          },
          {
           "marker": {
            "size": [],
            "sizemode": "area",
            "sizeref": 200000
           },
           "mode": "marker",
           "name": "Eritrea",
           "text": [],
           "x": [],
           "y": []
          },
          {
           "marker": {
            "size": [],
            "sizemode": "area",
            "sizeref": 200000
           },
           "mode": "marker",
           "name": "Comoros",
           "text": [],
           "x": [],
           "y": []
          },
          {
           "marker": {
            "size": [],
            "sizemode": "area",
            "sizeref": 200000
           },
           "mode": "marker",
           "name": "Martinique",
           "text": [],
           "x": [],
           "y": []
          },
          {
           "marker": {
            "size": [],
            "sizemode": "area",
            "sizeref": 200000
           },
           "mode": "marker",
           "name": "Samoa",
           "text": [],
           "x": [],
           "y": []
          },
          {
           "marker": {
            "size": [],
            "sizemode": "area",
            "sizeref": 200000
           },
           "mode": "marker",
           "name": "Cameroon",
           "text": [],
           "x": [],
           "y": []
          },
          {
           "marker": {
            "size": [],
            "sizemode": "area",
            "sizeref": 200000
           },
           "mode": "marker",
           "name": "Trinidad ",
           "text": [],
           "x": [],
           "y": []
          },
          {
           "marker": {
            "size": [],
            "sizemode": "area",
            "sizeref": 200000
           },
           "mode": "marker",
           "name": "Congo, DRC",
           "text": [],
           "x": [],
           "y": []
          },
          {
           "marker": {
            "size": [],
            "sizemode": "area",
            "sizeref": 200000
           },
           "mode": "marker",
           "name": "Costa Rica",
           "text": [],
           "x": [],
           "y": []
          },
          {
           "marker": {
            "size": [],
            "sizemode": "area",
            "sizeref": 200000
           },
           "mode": "marker",
           "name": "Antarctica",
           "text": [],
           "x": [],
           "y": []
          },
          {
           "marker": {
            "size": [],
            "sizemode": "area",
            "sizeref": 200000
           },
           "mode": "marker",
           "name": "Reunion",
           "text": [],
           "x": [],
           "y": []
          },
          {
           "marker": {
            "size": [],
            "sizemode": "area",
            "sizeref": 200000
           },
           "mode": "marker",
           "name": "Montserrat",
           "text": [],
           "x": [],
           "y": []
          }
         ],
         "name": "1930"
        },
        {
         "data": [
          {
           "marker": {
            "size": [],
            "sizemode": "area",
            "sizeref": 200000
           },
           "mode": "marker",
           "name": null,
           "text": [],
           "x": [],
           "y": []
          },
          {
           "marker": {
            "size": [],
            "sizemode": "area",
            "sizeref": 200000
           },
           "mode": "marker",
           "name": "New Zealand",
           "text": [],
           "x": [],
           "y": []
          },
          {
           "marker": {
            "size": [
             2
            ],
            "sizemode": "area",
            "sizeref": 200000
           },
           "mode": "marker",
           "name": "Japan",
           "text": [
            "Japan"
           ],
           "x": [
            139.53
           ],
           "y": [
            34.08
           ]
          },
          {
           "marker": {
            "size": [],
            "sizemode": "area",
            "sizeref": 200000
           },
           "mode": "marker",
           "name": "Nicaragua",
           "text": [],
           "x": [],
           "y": []
          },
          {
           "marker": {
            "size": [],
            "sizemode": "area",
            "sizeref": 200000
           },
           "mode": "marker",
           "name": "Papua New Guinea",
           "text": [],
           "x": [],
           "y": []
          },
          {
           "marker": {
            "size": [],
            "sizemode": "area",
            "sizeref": 200000
           },
           "mode": "marker",
           "name": "Philippines",
           "text": [],
           "x": [],
           "y": []
          },
          {
           "marker": {
            "size": [],
            "sizemode": "area",
            "sizeref": 200000
           },
           "mode": "marker",
           "name": "Italy",
           "text": [],
           "x": [],
           "y": []
          },
          {
           "marker": {
            "size": [],
            "sizemode": "area",
            "sizeref": 200000
           },
           "mode": "marker",
           "name": "United States",
           "text": [],
           "x": [],
           "y": []
          },
          {
           "marker": {
            "size": [],
            "sizemode": "area",
            "sizeref": 200000
           },
           "mode": "marker",
           "name": "Greece",
           "text": [],
           "x": [],
           "y": []
          },
          {
           "marker": {
            "size": [],
            "sizemode": "area",
            "sizeref": 200000
           },
           "mode": "marker",
           "name": "Ecuador",
           "text": [],
           "x": [],
           "y": []
          },
          {
           "marker": {
            "size": [],
            "sizemode": "area",
            "sizeref": 200000
           },
           "mode": "marker",
           "name": "Vanuatu",
           "text": [],
           "x": [],
           "y": []
          },
          {
           "marker": {
            "size": [],
            "sizemode": "area",
            "sizeref": 200000
           },
           "mode": "marker",
           "name": "Yemen",
           "text": [],
           "x": [],
           "y": []
          },
          {
           "marker": {
            "size": [],
            "sizemode": "area",
            "sizeref": 200000
           },
           "mode": "marker",
           "name": "Russia",
           "text": [],
           "x": [],
           "y": []
          },
          {
           "marker": {
            "size": [
             2
            ],
            "sizemode": "area",
            "sizeref": 200000
           },
           "mode": "marker",
           "name": "Indonesia",
           "text": [
            "Indonesia"
           ],
           "x": [
            125.48
           ],
           "y": [
            2.78
           ]
          },
          {
           "marker": {
            "size": [],
            "sizemode": "area",
            "sizeref": 200000
           },
           "mode": "marker",
           "name": "El Salvador",
           "text": [],
           "x": [],
           "y": []
          },
          {
           "marker": {
            "size": [],
            "sizemode": "area",
            "sizeref": 200000
           },
           "mode": "marker",
           "name": "Saudi Arabia",
           "text": [],
           "x": [],
           "y": []
          },
          {
           "marker": {
            "size": [],
            "sizemode": "area",
            "sizeref": 200000
           },
           "mode": "marker",
           "name": "Iceland",
           "text": [],
           "x": [],
           "y": []
          },
          {
           "marker": {
            "size": [],
            "sizemode": "area",
            "sizeref": 200000
           },
           "mode": "marker",
           "name": "Mexico",
           "text": [],
           "x": [],
           "y": []
          },
          {
           "marker": {
            "size": [],
            "sizemode": "area",
            "sizeref": 200000
           },
           "mode": "marker",
           "name": "North Korea",
           "text": [],
           "x": [],
           "y": []
          },
          {
           "marker": {
            "size": [],
            "sizemode": "area",
            "sizeref": 200000
           },
           "mode": "marker",
           "name": "Ethiopia",
           "text": [],
           "x": [],
           "y": []
          },
          {
           "marker": {
            "size": [],
            "sizemode": "area",
            "sizeref": 200000
           },
           "mode": "marker",
           "name": "Guatemala",
           "text": [],
           "x": [],
           "y": []
          },
          {
           "marker": {
            "size": [],
            "sizemode": "area",
            "sizeref": 200000
           },
           "mode": "marker",
           "name": "Solomon Is.",
           "text": [],
           "x": [],
           "y": []
          },
          {
           "marker": {
            "size": [],
            "sizemode": "area",
            "sizeref": 200000
           },
           "mode": "marker",
           "name": "Portugal",
           "text": [],
           "x": [],
           "y": []
          },
          {
           "marker": {
            "size": [],
            "sizemode": "area",
            "sizeref": 200000
           },
           "mode": "marker",
           "name": "Colombia",
           "text": [],
           "x": [],
           "y": []
          },
          {
           "marker": {
            "size": [],
            "sizemode": "area",
            "sizeref": 200000
           },
           "mode": "marker",
           "name": "Pacific Ocean",
           "text": [],
           "x": [],
           "y": []
          },
          {
           "marker": {
            "size": [],
            "sizemode": "area",
            "sizeref": 200000
           },
           "mode": "marker",
           "name": "Peru",
           "text": [],
           "x": [],
           "y": []
          },
          {
           "marker": {
            "size": [],
            "sizemode": "area",
            "sizeref": 200000
           },
           "mode": "marker",
           "name": "China",
           "text": [],
           "x": [],
           "y": []
          },
          {
           "marker": {
            "size": [],
            "sizemode": "area",
            "sizeref": 200000
           },
           "mode": "marker",
           "name": "Spain",
           "text": [],
           "x": [],
           "y": []
          },
          {
           "marker": {
            "size": [],
            "sizemode": "area",
            "sizeref": 200000
           },
           "mode": "marker",
           "name": "Canada",
           "text": [],
           "x": [],
           "y": []
          },
          {
           "marker": {
            "size": [
             2
            ],
            "sizemode": "area",
            "sizeref": 200000
           },
           "mode": "marker",
           "name": "Tanzania",
           "text": [
            "Tanzania"
           ],
           "x": [
            35.902
           ],
           "y": [
            -2.7510000000000003
           ]
          },
          {
           "marker": {
            "size": [],
            "sizemode": "area",
            "sizeref": 200000
           },
           "mode": "marker",
           "name": "St. Vincent & the Grenadines",
           "text": [],
           "x": [],
           "y": []
          },
          {
           "marker": {
            "size": [],
            "sizemode": "area",
            "sizeref": 200000
           },
           "mode": "marker",
           "name": "Chile",
           "text": [],
           "x": [],
           "y": []
          },
          {
           "marker": {
            "size": [],
            "sizemode": "area",
            "sizeref": 200000
           },
           "mode": "marker",
           "name": "Turkey",
           "text": [],
           "x": [],
           "y": []
          },
          {
           "marker": {
            "size": [],
            "sizemode": "area",
            "sizeref": 200000
           },
           "mode": "marker",
           "name": "St. Kitts & Nevis",
           "text": [],
           "x": [],
           "y": []
          },
          {
           "marker": {
            "size": [],
            "sizemode": "area",
            "sizeref": 200000
           },
           "mode": "marker",
           "name": "Guadeloupe",
           "text": [],
           "x": [],
           "y": []
          },
          {
           "marker": {
            "size": [],
            "sizemode": "area",
            "sizeref": 200000
           },
           "mode": "marker",
           "name": "Cape Verde",
           "text": [],
           "x": [],
           "y": []
          },
          {
           "marker": {
            "size": [],
            "sizemode": "area",
            "sizeref": 200000
           },
           "mode": "marker",
           "name": "Tonga",
           "text": [],
           "x": [],
           "y": []
          },
          {
           "marker": {
            "size": [],
            "sizemode": "area",
            "sizeref": 200000
           },
           "mode": "marker",
           "name": "Taiwan",
           "text": [],
           "x": [],
           "y": []
          },
          {
           "marker": {
            "size": [],
            "sizemode": "area",
            "sizeref": 200000
           },
           "mode": "marker",
           "name": "Eritrea",
           "text": [],
           "x": [],
           "y": []
          },
          {
           "marker": {
            "size": [],
            "sizemode": "area",
            "sizeref": 200000
           },
           "mode": "marker",
           "name": "Comoros",
           "text": [],
           "x": [],
           "y": []
          },
          {
           "marker": {
            "size": [],
            "sizemode": "area",
            "sizeref": 200000
           },
           "mode": "marker",
           "name": "Martinique",
           "text": [],
           "x": [],
           "y": []
          },
          {
           "marker": {
            "size": [],
            "sizemode": "area",
            "sizeref": 200000
           },
           "mode": "marker",
           "name": "Samoa",
           "text": [],
           "x": [],
           "y": []
          },
          {
           "marker": {
            "size": [],
            "sizemode": "area",
            "sizeref": 200000
           },
           "mode": "marker",
           "name": "Cameroon",
           "text": [],
           "x": [],
           "y": []
          },
          {
           "marker": {
            "size": [],
            "sizemode": "area",
            "sizeref": 200000
           },
           "mode": "marker",
           "name": "Trinidad ",
           "text": [],
           "x": [],
           "y": []
          },
          {
           "marker": {
            "size": [],
            "sizemode": "area",
            "sizeref": 200000
           },
           "mode": "marker",
           "name": "Congo, DRC",
           "text": [],
           "x": [],
           "y": []
          },
          {
           "marker": {
            "size": [],
            "sizemode": "area",
            "sizeref": 200000
           },
           "mode": "marker",
           "name": "Costa Rica",
           "text": [],
           "x": [],
           "y": []
          },
          {
           "marker": {
            "size": [],
            "sizemode": "area",
            "sizeref": 200000
           },
           "mode": "marker",
           "name": "Antarctica",
           "text": [],
           "x": [],
           "y": []
          },
          {
           "marker": {
            "size": [],
            "sizemode": "area",
            "sizeref": 200000
           },
           "mode": "marker",
           "name": "Reunion",
           "text": [],
           "x": [],
           "y": []
          },
          {
           "marker": {
            "size": [],
            "sizemode": "area",
            "sizeref": 200000
           },
           "mode": "marker",
           "name": "Montserrat",
           "text": [],
           "x": [],
           "y": []
          }
         ],
         "name": "1940"
        },
        {
         "data": [
          {
           "marker": {
            "size": [],
            "sizemode": "area",
            "sizeref": 200000
           },
           "mode": "marker",
           "name": null,
           "text": [],
           "x": [],
           "y": []
          },
          {
           "marker": {
            "size": [],
            "sizemode": "area",
            "sizeref": 200000
           },
           "mode": "marker",
           "name": "New Zealand",
           "text": [],
           "x": [],
           "y": []
          },
          {
           "marker": {
            "size": [
             2
            ],
            "sizemode": "area",
            "sizeref": 200000
           },
           "mode": "marker",
           "name": "Japan",
           "text": [
            "Japan"
           ],
           "x": [
            138.53
           ],
           "y": [
            36.4
           ]
          },
          {
           "marker": {
            "size": [],
            "sizemode": "area",
            "sizeref": 200000
           },
           "mode": "marker",
           "name": "Nicaragua",
           "text": [],
           "x": [],
           "y": []
          },
          {
           "marker": {
            "size": [],
            "sizemode": "area",
            "sizeref": 200000
           },
           "mode": "marker",
           "name": "Papua New Guinea",
           "text": [],
           "x": [],
           "y": []
          },
          {
           "marker": {
            "size": [
             3
            ],
            "sizemode": "area",
            "sizeref": 200000
           },
           "mode": "marker",
           "name": "Philippines",
           "text": [
            "Philippines"
           ],
           "x": [
            124.67299999999999
           ],
           "y": [
            9.203
           ]
          },
          {
           "marker": {
            "size": [],
            "sizemode": "area",
            "sizeref": 200000
           },
           "mode": "marker",
           "name": "Italy",
           "text": [],
           "x": [],
           "y": []
          },
          {
           "marker": {
            "size": [],
            "sizemode": "area",
            "sizeref": 200000
           },
           "mode": "marker",
           "name": "United States",
           "text": [],
           "x": [],
           "y": []
          },
          {
           "marker": {
            "size": [],
            "sizemode": "area",
            "sizeref": 200000
           },
           "mode": "marker",
           "name": "Greece",
           "text": [],
           "x": [],
           "y": []
          },
          {
           "marker": {
            "size": [],
            "sizemode": "area",
            "sizeref": 200000
           },
           "mode": "marker",
           "name": "Ecuador",
           "text": [],
           "x": [],
           "y": []
          },
          {
           "marker": {
            "size": [],
            "sizemode": "area",
            "sizeref": 200000
           },
           "mode": "marker",
           "name": "Vanuatu",
           "text": [],
           "x": [],
           "y": []
          },
          {
           "marker": {
            "size": [],
            "sizemode": "area",
            "sizeref": 200000
           },
           "mode": "marker",
           "name": "Yemen",
           "text": [],
           "x": [],
           "y": []
          },
          {
           "marker": {
            "size": [],
            "sizemode": "area",
            "sizeref": 200000
           },
           "mode": "marker",
           "name": "Russia",
           "text": [],
           "x": [],
           "y": []
          },
          {
           "marker": {
            "size": [
             1
            ],
            "sizemode": "area",
            "sizeref": 200000
           },
           "mode": "marker",
           "name": "Indonesia",
           "text": [
            "Indonesia"
           ],
           "x": [
            112.92
           ],
           "y": [
            -8.107999999999999
           ]
          },
          {
           "marker": {
            "size": [],
            "sizemode": "area",
            "sizeref": 200000
           },
           "mode": "marker",
           "name": "El Salvador",
           "text": [],
           "x": [],
           "y": []
          },
          {
           "marker": {
            "size": [],
            "sizemode": "area",
            "sizeref": 200000
           },
           "mode": "marker",
           "name": "Saudi Arabia",
           "text": [],
           "x": [],
           "y": []
          },
          {
           "marker": {
            "size": [],
            "sizemode": "area",
            "sizeref": 200000
           },
           "mode": "marker",
           "name": "Iceland",
           "text": [],
           "x": [],
           "y": []
          },
          {
           "marker": {
            "size": [],
            "sizemode": "area",
            "sizeref": 200000
           },
           "mode": "marker",
           "name": "Mexico",
           "text": [],
           "x": [],
           "y": []
          },
          {
           "marker": {
            "size": [],
            "sizemode": "area",
            "sizeref": 200000
           },
           "mode": "marker",
           "name": "North Korea",
           "text": [],
           "x": [],
           "y": []
          },
          {
           "marker": {
            "size": [],
            "sizemode": "area",
            "sizeref": 200000
           },
           "mode": "marker",
           "name": "Ethiopia",
           "text": [],
           "x": [],
           "y": []
          },
          {
           "marker": {
            "size": [],
            "sizemode": "area",
            "sizeref": 200000
           },
           "mode": "marker",
           "name": "Guatemala",
           "text": [],
           "x": [],
           "y": []
          },
          {
           "marker": {
            "size": [],
            "sizemode": "area",
            "sizeref": 200000
           },
           "mode": "marker",
           "name": "Solomon Is.",
           "text": [],
           "x": [],
           "y": []
          },
          {
           "marker": {
            "size": [],
            "sizemode": "area",
            "sizeref": 200000
           },
           "mode": "marker",
           "name": "Portugal",
           "text": [],
           "x": [],
           "y": []
          },
          {
           "marker": {
            "size": [],
            "sizemode": "area",
            "sizeref": 200000
           },
           "mode": "marker",
           "name": "Colombia",
           "text": [],
           "x": [],
           "y": []
          },
          {
           "marker": {
            "size": [],
            "sizemode": "area",
            "sizeref": 200000
           },
           "mode": "marker",
           "name": "Pacific Ocean",
           "text": [],
           "x": [],
           "y": []
          },
          {
           "marker": {
            "size": [],
            "sizemode": "area",
            "sizeref": 200000
           },
           "mode": "marker",
           "name": "Peru",
           "text": [],
           "x": [],
           "y": []
          },
          {
           "marker": {
            "size": [],
            "sizemode": "area",
            "sizeref": 200000
           },
           "mode": "marker",
           "name": "China",
           "text": [],
           "x": [],
           "y": []
          },
          {
           "marker": {
            "size": [],
            "sizemode": "area",
            "sizeref": 200000
           },
           "mode": "marker",
           "name": "Spain",
           "text": [],
           "x": [],
           "y": []
          },
          {
           "marker": {
            "size": [],
            "sizemode": "area",
            "sizeref": 200000
           },
           "mode": "marker",
           "name": "Canada",
           "text": [],
           "x": [],
           "y": []
          },
          {
           "marker": {
            "size": [],
            "sizemode": "area",
            "sizeref": 200000
           },
           "mode": "marker",
           "name": "Tanzania",
           "text": [],
           "x": [],
           "y": []
          },
          {
           "marker": {
            "size": [],
            "sizemode": "area",
            "sizeref": 200000
           },
           "mode": "marker",
           "name": "St. Vincent & the Grenadines",
           "text": [],
           "x": [],
           "y": []
          },
          {
           "marker": {
            "size": [],
            "sizemode": "area",
            "sizeref": 200000
           },
           "mode": "marker",
           "name": "Chile",
           "text": [],
           "x": [],
           "y": []
          },
          {
           "marker": {
            "size": [],
            "sizemode": "area",
            "sizeref": 200000
           },
           "mode": "marker",
           "name": "Turkey",
           "text": [],
           "x": [],
           "y": []
          },
          {
           "marker": {
            "size": [],
            "sizemode": "area",
            "sizeref": 200000
           },
           "mode": "marker",
           "name": "St. Kitts & Nevis",
           "text": [],
           "x": [],
           "y": []
          },
          {
           "marker": {
            "size": [],
            "sizemode": "area",
            "sizeref": 200000
           },
           "mode": "marker",
           "name": "Guadeloupe",
           "text": [],
           "x": [],
           "y": []
          },
          {
           "marker": {
            "size": [],
            "sizemode": "area",
            "sizeref": 200000
           },
           "mode": "marker",
           "name": "Cape Verde",
           "text": [],
           "x": [],
           "y": []
          },
          {
           "marker": {
            "size": [],
            "sizemode": "area",
            "sizeref": 200000
           },
           "mode": "marker",
           "name": "Tonga",
           "text": [],
           "x": [],
           "y": []
          },
          {
           "marker": {
            "size": [],
            "sizemode": "area",
            "sizeref": 200000
           },
           "mode": "marker",
           "name": "Taiwan",
           "text": [],
           "x": [],
           "y": []
          },
          {
           "marker": {
            "size": [],
            "sizemode": "area",
            "sizeref": 200000
           },
           "mode": "marker",
           "name": "Eritrea",
           "text": [],
           "x": [],
           "y": []
          },
          {
           "marker": {
            "size": [],
            "sizemode": "area",
            "sizeref": 200000
           },
           "mode": "marker",
           "name": "Comoros",
           "text": [],
           "x": [],
           "y": []
          },
          {
           "marker": {
            "size": [],
            "sizemode": "area",
            "sizeref": 200000
           },
           "mode": "marker",
           "name": "Martinique",
           "text": [],
           "x": [],
           "y": []
          },
          {
           "marker": {
            "size": [],
            "sizemode": "area",
            "sizeref": 200000
           },
           "mode": "marker",
           "name": "Samoa",
           "text": [],
           "x": [],
           "y": []
          },
          {
           "marker": {
            "size": [],
            "sizemode": "area",
            "sizeref": 200000
           },
           "mode": "marker",
           "name": "Cameroon",
           "text": [],
           "x": [],
           "y": []
          },
          {
           "marker": {
            "size": [],
            "sizemode": "area",
            "sizeref": 200000
           },
           "mode": "marker",
           "name": "Trinidad ",
           "text": [],
           "x": [],
           "y": []
          },
          {
           "marker": {
            "size": [],
            "sizemode": "area",
            "sizeref": 200000
           },
           "mode": "marker",
           "name": "Congo, DRC",
           "text": [],
           "x": [],
           "y": []
          },
          {
           "marker": {
            "size": [],
            "sizemode": "area",
            "sizeref": 200000
           },
           "mode": "marker",
           "name": "Costa Rica",
           "text": [],
           "x": [],
           "y": []
          },
          {
           "marker": {
            "size": [],
            "sizemode": "area",
            "sizeref": 200000
           },
           "mode": "marker",
           "name": "Antarctica",
           "text": [],
           "x": [],
           "y": []
          },
          {
           "marker": {
            "size": [],
            "sizemode": "area",
            "sizeref": 200000
           },
           "mode": "marker",
           "name": "Reunion",
           "text": [],
           "x": [],
           "y": []
          },
          {
           "marker": {
            "size": [],
            "sizemode": "area",
            "sizeref": 200000
           },
           "mode": "marker",
           "name": "Montserrat",
           "text": [],
           "x": [],
           "y": []
          }
         ],
         "name": "1950"
        },
        {
         "data": [
          {
           "marker": {
            "size": [],
            "sizemode": "area",
            "sizeref": 200000
           },
           "mode": "marker",
           "name": null,
           "text": [],
           "x": [],
           "y": []
          },
          {
           "marker": {
            "size": [],
            "sizemode": "area",
            "sizeref": 200000
           },
           "mode": "marker",
           "name": "New Zealand",
           "text": [],
           "x": [],
           "y": []
          },
          {
           "marker": {
            "size": [],
            "sizemode": "area",
            "sizeref": 200000
           },
           "mode": "marker",
           "name": "Japan",
           "text": [],
           "x": [],
           "y": []
          },
          {
           "marker": {
            "size": [],
            "sizemode": "area",
            "sizeref": 200000
           },
           "mode": "marker",
           "name": "Nicaragua",
           "text": [],
           "x": [],
           "y": []
          },
          {
           "marker": {
            "size": [],
            "sizemode": "area",
            "sizeref": 200000
           },
           "mode": "marker",
           "name": "Papua New Guinea",
           "text": [],
           "x": [],
           "y": []
          },
          {
           "marker": {
            "size": [],
            "sizemode": "area",
            "sizeref": 200000
           },
           "mode": "marker",
           "name": "Philippines",
           "text": [],
           "x": [],
           "y": []
          },
          {
           "marker": {
            "size": [],
            "sizemode": "area",
            "sizeref": 200000
           },
           "mode": "marker",
           "name": "Italy",
           "text": [],
           "x": [],
           "y": []
          },
          {
           "marker": {
            "size": [],
            "sizemode": "area",
            "sizeref": 200000
           },
           "mode": "marker",
           "name": "United States",
           "text": [],
           "x": [],
           "y": []
          },
          {
           "marker": {
            "size": [],
            "sizemode": "area",
            "sizeref": 200000
           },
           "mode": "marker",
           "name": "Greece",
           "text": [],
           "x": [],
           "y": []
          },
          {
           "marker": {
            "size": [],
            "sizemode": "area",
            "sizeref": 200000
           },
           "mode": "marker",
           "name": "Ecuador",
           "text": [],
           "x": [],
           "y": []
          },
          {
           "marker": {
            "size": [],
            "sizemode": "area",
            "sizeref": 200000
           },
           "mode": "marker",
           "name": "Vanuatu",
           "text": [],
           "x": [],
           "y": []
          },
          {
           "marker": {
            "size": [],
            "sizemode": "area",
            "sizeref": 200000
           },
           "mode": "marker",
           "name": "Yemen",
           "text": [],
           "x": [],
           "y": []
          },
          {
           "marker": {
            "size": [],
            "sizemode": "area",
            "sizeref": 200000
           },
           "mode": "marker",
           "name": "Russia",
           "text": [],
           "x": [],
           "y": []
          },
          {
           "marker": {
            "size": [],
            "sizemode": "area",
            "sizeref": 200000
           },
           "mode": "marker",
           "name": "Indonesia",
           "text": [],
           "x": [],
           "y": []
          },
          {
           "marker": {
            "size": [],
            "sizemode": "area",
            "sizeref": 200000
           },
           "mode": "marker",
           "name": "El Salvador",
           "text": [],
           "x": [],
           "y": []
          },
          {
           "marker": {
            "size": [],
            "sizemode": "area",
            "sizeref": 200000
           },
           "mode": "marker",
           "name": "Saudi Arabia",
           "text": [],
           "x": [],
           "y": []
          },
          {
           "marker": {
            "size": [],
            "sizemode": "area",
            "sizeref": 200000
           },
           "mode": "marker",
           "name": "Iceland",
           "text": [],
           "x": [],
           "y": []
          },
          {
           "marker": {
            "size": [],
            "sizemode": "area",
            "sizeref": 200000
           },
           "mode": "marker",
           "name": "Mexico",
           "text": [],
           "x": [],
           "y": []
          },
          {
           "marker": {
            "size": [],
            "sizemode": "area",
            "sizeref": 200000
           },
           "mode": "marker",
           "name": "North Korea",
           "text": [],
           "x": [],
           "y": []
          },
          {
           "marker": {
            "size": [],
            "sizemode": "area",
            "sizeref": 200000
           },
           "mode": "marker",
           "name": "Ethiopia",
           "text": [],
           "x": [],
           "y": []
          },
          {
           "marker": {
            "size": [],
            "sizemode": "area",
            "sizeref": 200000
           },
           "mode": "marker",
           "name": "Guatemala",
           "text": [],
           "x": [],
           "y": []
          },
          {
           "marker": {
            "size": [],
            "sizemode": "area",
            "sizeref": 200000
           },
           "mode": "marker",
           "name": "Solomon Is.",
           "text": [],
           "x": [],
           "y": []
          },
          {
           "marker": {
            "size": [],
            "sizemode": "area",
            "sizeref": 200000
           },
           "mode": "marker",
           "name": "Portugal",
           "text": [],
           "x": [],
           "y": []
          },
          {
           "marker": {
            "size": [],
            "sizemode": "area",
            "sizeref": 200000
           },
           "mode": "marker",
           "name": "Colombia",
           "text": [],
           "x": [],
           "y": []
          },
          {
           "marker": {
            "size": [],
            "sizemode": "area",
            "sizeref": 200000
           },
           "mode": "marker",
           "name": "Pacific Ocean",
           "text": [],
           "x": [],
           "y": []
          },
          {
           "marker": {
            "size": [],
            "sizemode": "area",
            "sizeref": 200000
           },
           "mode": "marker",
           "name": "Peru",
           "text": [],
           "x": [],
           "y": []
          },
          {
           "marker": {
            "size": [],
            "sizemode": "area",
            "sizeref": 200000
           },
           "mode": "marker",
           "name": "China",
           "text": [],
           "x": [],
           "y": []
          },
          {
           "marker": {
            "size": [],
            "sizemode": "area",
            "sizeref": 200000
           },
           "mode": "marker",
           "name": "Spain",
           "text": [],
           "x": [],
           "y": []
          },
          {
           "marker": {
            "size": [],
            "sizemode": "area",
            "sizeref": 200000
           },
           "mode": "marker",
           "name": "Canada",
           "text": [],
           "x": [],
           "y": []
          },
          {
           "marker": {
            "size": [],
            "sizemode": "area",
            "sizeref": 200000
           },
           "mode": "marker",
           "name": "Tanzania",
           "text": [],
           "x": [],
           "y": []
          },
          {
           "marker": {
            "size": [],
            "sizemode": "area",
            "sizeref": 200000
           },
           "mode": "marker",
           "name": "St. Vincent & the Grenadines",
           "text": [],
           "x": [],
           "y": []
          },
          {
           "marker": {
            "size": [
             3
            ],
            "sizemode": "area",
            "sizeref": 200000
           },
           "mode": "marker",
           "name": "Chile",
           "text": [
            "Chile"
           ],
           "x": [
            -72.117
           ],
           "y": [
            -40.59
           ]
          },
          {
           "marker": {
            "size": [],
            "sizemode": "area",
            "sizeref": 200000
           },
           "mode": "marker",
           "name": "Turkey",
           "text": [],
           "x": [],
           "y": []
          },
          {
           "marker": {
            "size": [],
            "sizemode": "area",
            "sizeref": 200000
           },
           "mode": "marker",
           "name": "St. Kitts & Nevis",
           "text": [],
           "x": [],
           "y": []
          },
          {
           "marker": {
            "size": [],
            "sizemode": "area",
            "sizeref": 200000
           },
           "mode": "marker",
           "name": "Guadeloupe",
           "text": [],
           "x": [],
           "y": []
          },
          {
           "marker": {
            "size": [],
            "sizemode": "area",
            "sizeref": 200000
           },
           "mode": "marker",
           "name": "Cape Verde",
           "text": [],
           "x": [],
           "y": []
          },
          {
           "marker": {
            "size": [],
            "sizemode": "area",
            "sizeref": 200000
           },
           "mode": "marker",
           "name": "Tonga",
           "text": [],
           "x": [],
           "y": []
          },
          {
           "marker": {
            "size": [],
            "sizemode": "area",
            "sizeref": 200000
           },
           "mode": "marker",
           "name": "Taiwan",
           "text": [],
           "x": [],
           "y": []
          },
          {
           "marker": {
            "size": [],
            "sizemode": "area",
            "sizeref": 200000
           },
           "mode": "marker",
           "name": "Eritrea",
           "text": [],
           "x": [],
           "y": []
          },
          {
           "marker": {
            "size": [],
            "sizemode": "area",
            "sizeref": 200000
           },
           "mode": "marker",
           "name": "Comoros",
           "text": [],
           "x": [],
           "y": []
          },
          {
           "marker": {
            "size": [],
            "sizemode": "area",
            "sizeref": 200000
           },
           "mode": "marker",
           "name": "Martinique",
           "text": [],
           "x": [],
           "y": []
          },
          {
           "marker": {
            "size": [],
            "sizemode": "area",
            "sizeref": 200000
           },
           "mode": "marker",
           "name": "Samoa",
           "text": [],
           "x": [],
           "y": []
          },
          {
           "marker": {
            "size": [],
            "sizemode": "area",
            "sizeref": 200000
           },
           "mode": "marker",
           "name": "Cameroon",
           "text": [],
           "x": [],
           "y": []
          },
          {
           "marker": {
            "size": [],
            "sizemode": "area",
            "sizeref": 200000
           },
           "mode": "marker",
           "name": "Trinidad ",
           "text": [],
           "x": [],
           "y": []
          },
          {
           "marker": {
            "size": [],
            "sizemode": "area",
            "sizeref": 200000
           },
           "mode": "marker",
           "name": "Congo, DRC",
           "text": [],
           "x": [],
           "y": []
          },
          {
           "marker": {
            "size": [],
            "sizemode": "area",
            "sizeref": 200000
           },
           "mode": "marker",
           "name": "Costa Rica",
           "text": [],
           "x": [],
           "y": []
          },
          {
           "marker": {
            "size": [],
            "sizemode": "area",
            "sizeref": 200000
           },
           "mode": "marker",
           "name": "Antarctica",
           "text": [],
           "x": [],
           "y": []
          },
          {
           "marker": {
            "size": [],
            "sizemode": "area",
            "sizeref": 200000
           },
           "mode": "marker",
           "name": "Reunion",
           "text": [],
           "x": [],
           "y": []
          },
          {
           "marker": {
            "size": [],
            "sizemode": "area",
            "sizeref": 200000
           },
           "mode": "marker",
           "name": "Montserrat",
           "text": [],
           "x": [],
           "y": []
          }
         ],
         "name": "1960"
        },
        {
         "data": [
          {
           "marker": {
            "size": [],
            "sizemode": "area",
            "sizeref": 200000
           },
           "mode": "marker",
           "name": null,
           "text": [],
           "x": [],
           "y": []
          },
          {
           "marker": {
            "size": [],
            "sizemode": "area",
            "sizeref": 200000
           },
           "mode": "marker",
           "name": "New Zealand",
           "text": [],
           "x": [],
           "y": []
          },
          {
           "marker": {
            "size": [],
            "sizemode": "area",
            "sizeref": 200000
           },
           "mode": "marker",
           "name": "Japan",
           "text": [],
           "x": [],
           "y": []
          },
          {
           "marker": {
            "size": [],
            "sizemode": "area",
            "sizeref": 200000
           },
           "mode": "marker",
           "name": "Nicaragua",
           "text": [],
           "x": [],
           "y": []
          },
          {
           "marker": {
            "size": [],
            "sizemode": "area",
            "sizeref": 200000
           },
           "mode": "marker",
           "name": "Papua New Guinea",
           "text": [],
           "x": [],
           "y": []
          },
          {
           "marker": {
            "size": [],
            "sizemode": "area",
            "sizeref": 200000
           },
           "mode": "marker",
           "name": "Philippines",
           "text": [],
           "x": [],
           "y": []
          },
          {
           "marker": {
            "size": [
             null
            ],
            "sizemode": "area",
            "sizeref": 200000
           },
           "mode": "marker",
           "name": "Italy",
           "text": [
            "Italy"
           ],
           "x": [
            14.139000000000001
           ],
           "y": [
            40.827
           ]
          },
          {
           "marker": {
            "size": [],
            "sizemode": "area",
            "sizeref": 200000
           },
           "mode": "marker",
           "name": "United States",
           "text": [],
           "x": [],
           "y": []
          },
          {
           "marker": {
            "size": [],
            "sizemode": "area",
            "sizeref": 200000
           },
           "mode": "marker",
           "name": "Greece",
           "text": [],
           "x": [],
           "y": []
          },
          {
           "marker": {
            "size": [],
            "sizemode": "area",
            "sizeref": 200000
           },
           "mode": "marker",
           "name": "Ecuador",
           "text": [],
           "x": [],
           "y": []
          },
          {
           "marker": {
            "size": [],
            "sizemode": "area",
            "sizeref": 200000
           },
           "mode": "marker",
           "name": "Vanuatu",
           "text": [],
           "x": [],
           "y": []
          },
          {
           "marker": {
            "size": [],
            "sizemode": "area",
            "sizeref": 200000
           },
           "mode": "marker",
           "name": "Yemen",
           "text": [],
           "x": [],
           "y": []
          },
          {
           "marker": {
            "size": [],
            "sizemode": "area",
            "sizeref": 200000
           },
           "mode": "marker",
           "name": "Russia",
           "text": [],
           "x": [],
           "y": []
          },
          {
           "marker": {
            "size": [],
            "sizemode": "area",
            "sizeref": 200000
           },
           "mode": "marker",
           "name": "Indonesia",
           "text": [],
           "x": [],
           "y": []
          },
          {
           "marker": {
            "size": [],
            "sizemode": "area",
            "sizeref": 200000
           },
           "mode": "marker",
           "name": "El Salvador",
           "text": [],
           "x": [],
           "y": []
          },
          {
           "marker": {
            "size": [],
            "sizemode": "area",
            "sizeref": 200000
           },
           "mode": "marker",
           "name": "Saudi Arabia",
           "text": [],
           "x": [],
           "y": []
          },
          {
           "marker": {
            "size": [
             3
            ],
            "sizemode": "area",
            "sizeref": 200000
           },
           "mode": "marker",
           "name": "Iceland",
           "text": [
            "Iceland"
           ],
           "x": [
            -19.7
           ],
           "y": [
            63.98
           ]
          },
          {
           "marker": {
            "size": [],
            "sizemode": "area",
            "sizeref": 200000
           },
           "mode": "marker",
           "name": "Mexico",
           "text": [],
           "x": [],
           "y": []
          },
          {
           "marker": {
            "size": [],
            "sizemode": "area",
            "sizeref": 200000
           },
           "mode": "marker",
           "name": "North Korea",
           "text": [],
           "x": [],
           "y": []
          },
          {
           "marker": {
            "size": [],
            "sizemode": "area",
            "sizeref": 200000
           },
           "mode": "marker",
           "name": "Ethiopia",
           "text": [],
           "x": [],
           "y": []
          },
          {
           "marker": {
            "size": [],
            "sizemode": "area",
            "sizeref": 200000
           },
           "mode": "marker",
           "name": "Guatemala",
           "text": [],
           "x": [],
           "y": []
          },
          {
           "marker": {
            "size": [],
            "sizemode": "area",
            "sizeref": 200000
           },
           "mode": "marker",
           "name": "Solomon Is.",
           "text": [],
           "x": [],
           "y": []
          },
          {
           "marker": {
            "size": [],
            "sizemode": "area",
            "sizeref": 200000
           },
           "mode": "marker",
           "name": "Portugal",
           "text": [],
           "x": [],
           "y": []
          },
          {
           "marker": {
            "size": [],
            "sizemode": "area",
            "sizeref": 200000
           },
           "mode": "marker",
           "name": "Colombia",
           "text": [],
           "x": [],
           "y": []
          },
          {
           "marker": {
            "size": [],
            "sizemode": "area",
            "sizeref": 200000
           },
           "mode": "marker",
           "name": "Pacific Ocean",
           "text": [],
           "x": [],
           "y": []
          },
          {
           "marker": {
            "size": [],
            "sizemode": "area",
            "sizeref": 200000
           },
           "mode": "marker",
           "name": "Peru",
           "text": [],
           "x": [],
           "y": []
          },
          {
           "marker": {
            "size": [],
            "sizemode": "area",
            "sizeref": 200000
           },
           "mode": "marker",
           "name": "China",
           "text": [],
           "x": [],
           "y": []
          },
          {
           "marker": {
            "size": [],
            "sizemode": "area",
            "sizeref": 200000
           },
           "mode": "marker",
           "name": "Spain",
           "text": [],
           "x": [],
           "y": []
          },
          {
           "marker": {
            "size": [],
            "sizemode": "area",
            "sizeref": 200000
           },
           "mode": "marker",
           "name": "Canada",
           "text": [],
           "x": [],
           "y": []
          },
          {
           "marker": {
            "size": [],
            "sizemode": "area",
            "sizeref": 200000
           },
           "mode": "marker",
           "name": "Tanzania",
           "text": [],
           "x": [],
           "y": []
          },
          {
           "marker": {
            "size": [],
            "sizemode": "area",
            "sizeref": 200000
           },
           "mode": "marker",
           "name": "St. Vincent & the Grenadines",
           "text": [],
           "x": [],
           "y": []
          },
          {
           "marker": {
            "size": [],
            "sizemode": "area",
            "sizeref": 200000
           },
           "mode": "marker",
           "name": "Chile",
           "text": [],
           "x": [],
           "y": []
          },
          {
           "marker": {
            "size": [],
            "sizemode": "area",
            "sizeref": 200000
           },
           "mode": "marker",
           "name": "Turkey",
           "text": [],
           "x": [],
           "y": []
          },
          {
           "marker": {
            "size": [],
            "sizemode": "area",
            "sizeref": 200000
           },
           "mode": "marker",
           "name": "St. Kitts & Nevis",
           "text": [],
           "x": [],
           "y": []
          },
          {
           "marker": {
            "size": [],
            "sizemode": "area",
            "sizeref": 200000
           },
           "mode": "marker",
           "name": "Guadeloupe",
           "text": [],
           "x": [],
           "y": []
          },
          {
           "marker": {
            "size": [],
            "sizemode": "area",
            "sizeref": 200000
           },
           "mode": "marker",
           "name": "Cape Verde",
           "text": [],
           "x": [],
           "y": []
          },
          {
           "marker": {
            "size": [],
            "sizemode": "area",
            "sizeref": 200000
           },
           "mode": "marker",
           "name": "Tonga",
           "text": [],
           "x": [],
           "y": []
          },
          {
           "marker": {
            "size": [],
            "sizemode": "area",
            "sizeref": 200000
           },
           "mode": "marker",
           "name": "Taiwan",
           "text": [],
           "x": [],
           "y": []
          },
          {
           "marker": {
            "size": [],
            "sizemode": "area",
            "sizeref": 200000
           },
           "mode": "marker",
           "name": "Eritrea",
           "text": [],
           "x": [],
           "y": []
          },
          {
           "marker": {
            "size": [],
            "sizemode": "area",
            "sizeref": 200000
           },
           "mode": "marker",
           "name": "Comoros",
           "text": [],
           "x": [],
           "y": []
          },
          {
           "marker": {
            "size": [],
            "sizemode": "area",
            "sizeref": 200000
           },
           "mode": "marker",
           "name": "Martinique",
           "text": [],
           "x": [],
           "y": []
          },
          {
           "marker": {
            "size": [],
            "sizemode": "area",
            "sizeref": 200000
           },
           "mode": "marker",
           "name": "Samoa",
           "text": [],
           "x": [],
           "y": []
          },
          {
           "marker": {
            "size": [],
            "sizemode": "area",
            "sizeref": 200000
           },
           "mode": "marker",
           "name": "Cameroon",
           "text": [],
           "x": [],
           "y": []
          },
          {
           "marker": {
            "size": [],
            "sizemode": "area",
            "sizeref": 200000
           },
           "mode": "marker",
           "name": "Trinidad ",
           "text": [],
           "x": [],
           "y": []
          },
          {
           "marker": {
            "size": [],
            "sizemode": "area",
            "sizeref": 200000
           },
           "mode": "marker",
           "name": "Congo, DRC",
           "text": [],
           "x": [],
           "y": []
          },
          {
           "marker": {
            "size": [],
            "sizemode": "area",
            "sizeref": 200000
           },
           "mode": "marker",
           "name": "Costa Rica",
           "text": [],
           "x": [],
           "y": []
          },
          {
           "marker": {
            "size": [],
            "sizemode": "area",
            "sizeref": 200000
           },
           "mode": "marker",
           "name": "Antarctica",
           "text": [],
           "x": [],
           "y": []
          },
          {
           "marker": {
            "size": [],
            "sizemode": "area",
            "sizeref": 200000
           },
           "mode": "marker",
           "name": "Reunion",
           "text": [],
           "x": [],
           "y": []
          },
          {
           "marker": {
            "size": [],
            "sizemode": "area",
            "sizeref": 200000
           },
           "mode": "marker",
           "name": "Montserrat",
           "text": [],
           "x": [],
           "y": []
          }
         ],
         "name": "1970"
        },
        {
         "data": [
          {
           "marker": {
            "size": [],
            "sizemode": "area",
            "sizeref": 200000
           },
           "mode": "marker",
           "name": null,
           "text": [],
           "x": [],
           "y": []
          },
          {
           "marker": {
            "size": [],
            "sizemode": "area",
            "sizeref": 200000
           },
           "mode": "marker",
           "name": "New Zealand",
           "text": [],
           "x": [],
           "y": []
          },
          {
           "marker": {
            "size": [],
            "sizemode": "area",
            "sizeref": 200000
           },
           "mode": "marker",
           "name": "Japan",
           "text": [],
           "x": [],
           "y": []
          },
          {
           "marker": {
            "size": [],
            "sizemode": "area",
            "sizeref": 200000
           },
           "mode": "marker",
           "name": "Nicaragua",
           "text": [],
           "x": [],
           "y": []
          },
          {
           "marker": {
            "size": [],
            "sizemode": "area",
            "sizeref": 200000
           },
           "mode": "marker",
           "name": "Papua New Guinea",
           "text": [],
           "x": [],
           "y": []
          },
          {
           "marker": {
            "size": [],
            "sizemode": "area",
            "sizeref": 200000
           },
           "mode": "marker",
           "name": "Philippines",
           "text": [],
           "x": [],
           "y": []
          },
          {
           "marker": {
            "size": [],
            "sizemode": "area",
            "sizeref": 200000
           },
           "mode": "marker",
           "name": "Italy",
           "text": [],
           "x": [],
           "y": []
          },
          {
           "marker": {
            "size": [
             5,
             null
            ],
            "sizemode": "area",
            "sizeref": 200000
           },
           "mode": "marker",
           "name": "United States",
           "text": [
            "United States",
            "United States"
           ],
           "x": [
            -122.18,
            -121.694
           ],
           "y": [
            46.2,
            45.373999999999995
           ]
          },
          {
           "marker": {
            "size": [],
            "sizemode": "area",
            "sizeref": 200000
           },
           "mode": "marker",
           "name": "Greece",
           "text": [],
           "x": [],
           "y": []
          },
          {
           "marker": {
            "size": [],
            "sizemode": "area",
            "sizeref": 200000
           },
           "mode": "marker",
           "name": "Ecuador",
           "text": [],
           "x": [],
           "y": []
          },
          {
           "marker": {
            "size": [],
            "sizemode": "area",
            "sizeref": 200000
           },
           "mode": "marker",
           "name": "Vanuatu",
           "text": [],
           "x": [],
           "y": []
          },
          {
           "marker": {
            "size": [],
            "sizemode": "area",
            "sizeref": 200000
           },
           "mode": "marker",
           "name": "Yemen",
           "text": [],
           "x": [],
           "y": []
          },
          {
           "marker": {
            "size": [],
            "sizemode": "area",
            "sizeref": 200000
           },
           "mode": "marker",
           "name": "Russia",
           "text": [],
           "x": [],
           "y": []
          },
          {
           "marker": {
            "size": [],
            "sizemode": "area",
            "sizeref": 200000
           },
           "mode": "marker",
           "name": "Indonesia",
           "text": [],
           "x": [],
           "y": []
          },
          {
           "marker": {
            "size": [],
            "sizemode": "area",
            "sizeref": 200000
           },
           "mode": "marker",
           "name": "El Salvador",
           "text": [],
           "x": [],
           "y": []
          },
          {
           "marker": {
            "size": [],
            "sizemode": "area",
            "sizeref": 200000
           },
           "mode": "marker",
           "name": "Saudi Arabia",
           "text": [],
           "x": [],
           "y": []
          },
          {
           "marker": {
            "size": [
             3
            ],
            "sizemode": "area",
            "sizeref": 200000
           },
           "mode": "marker",
           "name": "Iceland",
           "text": [
            "Iceland"
           ],
           "x": [
            -19.7
           ],
           "y": [
            63.98
           ]
          },
          {
           "marker": {
            "size": [],
            "sizemode": "area",
            "sizeref": 200000
           },
           "mode": "marker",
           "name": "Mexico",
           "text": [],
           "x": [],
           "y": []
          },
          {
           "marker": {
            "size": [],
            "sizemode": "area",
            "sizeref": 200000
           },
           "mode": "marker",
           "name": "North Korea",
           "text": [],
           "x": [],
           "y": []
          },
          {
           "marker": {
            "size": [],
            "sizemode": "area",
            "sizeref": 200000
           },
           "mode": "marker",
           "name": "Ethiopia",
           "text": [],
           "x": [],
           "y": []
          },
          {
           "marker": {
            "size": [],
            "sizemode": "area",
            "sizeref": 200000
           },
           "mode": "marker",
           "name": "Guatemala",
           "text": [],
           "x": [],
           "y": []
          },
          {
           "marker": {
            "size": [],
            "sizemode": "area",
            "sizeref": 200000
           },
           "mode": "marker",
           "name": "Solomon Is.",
           "text": [],
           "x": [],
           "y": []
          },
          {
           "marker": {
            "size": [],
            "sizemode": "area",
            "sizeref": 200000
           },
           "mode": "marker",
           "name": "Portugal",
           "text": [],
           "x": [],
           "y": []
          },
          {
           "marker": {
            "size": [],
            "sizemode": "area",
            "sizeref": 200000
           },
           "mode": "marker",
           "name": "Colombia",
           "text": [],
           "x": [],
           "y": []
          },
          {
           "marker": {
            "size": [],
            "sizemode": "area",
            "sizeref": 200000
           },
           "mode": "marker",
           "name": "Pacific Ocean",
           "text": [],
           "x": [],
           "y": []
          },
          {
           "marker": {
            "size": [],
            "sizemode": "area",
            "sizeref": 200000
           },
           "mode": "marker",
           "name": "Peru",
           "text": [],
           "x": [],
           "y": []
          },
          {
           "marker": {
            "size": [],
            "sizemode": "area",
            "sizeref": 200000
           },
           "mode": "marker",
           "name": "China",
           "text": [],
           "x": [],
           "y": []
          },
          {
           "marker": {
            "size": [],
            "sizemode": "area",
            "sizeref": 200000
           },
           "mode": "marker",
           "name": "Spain",
           "text": [],
           "x": [],
           "y": []
          },
          {
           "marker": {
            "size": [],
            "sizemode": "area",
            "sizeref": 200000
           },
           "mode": "marker",
           "name": "Canada",
           "text": [],
           "x": [],
           "y": []
          },
          {
           "marker": {
            "size": [],
            "sizemode": "area",
            "sizeref": 200000
           },
           "mode": "marker",
           "name": "Tanzania",
           "text": [],
           "x": [],
           "y": []
          },
          {
           "marker": {
            "size": [],
            "sizemode": "area",
            "sizeref": 200000
           },
           "mode": "marker",
           "name": "St. Vincent & the Grenadines",
           "text": [],
           "x": [],
           "y": []
          },
          {
           "marker": {
            "size": [],
            "sizemode": "area",
            "sizeref": 200000
           },
           "mode": "marker",
           "name": "Chile",
           "text": [],
           "x": [],
           "y": []
          },
          {
           "marker": {
            "size": [],
            "sizemode": "area",
            "sizeref": 200000
           },
           "mode": "marker",
           "name": "Turkey",
           "text": [],
           "x": [],
           "y": []
          },
          {
           "marker": {
            "size": [],
            "sizemode": "area",
            "sizeref": 200000
           },
           "mode": "marker",
           "name": "St. Kitts & Nevis",
           "text": [],
           "x": [],
           "y": []
          },
          {
           "marker": {
            "size": [],
            "sizemode": "area",
            "sizeref": 200000
           },
           "mode": "marker",
           "name": "Guadeloupe",
           "text": [],
           "x": [],
           "y": []
          },
          {
           "marker": {
            "size": [],
            "sizemode": "area",
            "sizeref": 200000
           },
           "mode": "marker",
           "name": "Cape Verde",
           "text": [],
           "x": [],
           "y": []
          },
          {
           "marker": {
            "size": [],
            "sizemode": "area",
            "sizeref": 200000
           },
           "mode": "marker",
           "name": "Tonga",
           "text": [],
           "x": [],
           "y": []
          },
          {
           "marker": {
            "size": [],
            "sizemode": "area",
            "sizeref": 200000
           },
           "mode": "marker",
           "name": "Taiwan",
           "text": [],
           "x": [],
           "y": []
          },
          {
           "marker": {
            "size": [],
            "sizemode": "area",
            "sizeref": 200000
           },
           "mode": "marker",
           "name": "Eritrea",
           "text": [],
           "x": [],
           "y": []
          },
          {
           "marker": {
            "size": [],
            "sizemode": "area",
            "sizeref": 200000
           },
           "mode": "marker",
           "name": "Comoros",
           "text": [],
           "x": [],
           "y": []
          },
          {
           "marker": {
            "size": [],
            "sizemode": "area",
            "sizeref": 200000
           },
           "mode": "marker",
           "name": "Martinique",
           "text": [],
           "x": [],
           "y": []
          },
          {
           "marker": {
            "size": [],
            "sizemode": "area",
            "sizeref": 200000
           },
           "mode": "marker",
           "name": "Samoa",
           "text": [],
           "x": [],
           "y": []
          },
          {
           "marker": {
            "size": [],
            "sizemode": "area",
            "sizeref": 200000
           },
           "mode": "marker",
           "name": "Cameroon",
           "text": [],
           "x": [],
           "y": []
          },
          {
           "marker": {
            "size": [],
            "sizemode": "area",
            "sizeref": 200000
           },
           "mode": "marker",
           "name": "Trinidad ",
           "text": [],
           "x": [],
           "y": []
          },
          {
           "marker": {
            "size": [],
            "sizemode": "area",
            "sizeref": 200000
           },
           "mode": "marker",
           "name": "Congo, DRC",
           "text": [],
           "x": [],
           "y": []
          },
          {
           "marker": {
            "size": [],
            "sizemode": "area",
            "sizeref": 200000
           },
           "mode": "marker",
           "name": "Costa Rica",
           "text": [],
           "x": [],
           "y": []
          },
          {
           "marker": {
            "size": [],
            "sizemode": "area",
            "sizeref": 200000
           },
           "mode": "marker",
           "name": "Antarctica",
           "text": [],
           "x": [],
           "y": []
          },
          {
           "marker": {
            "size": [],
            "sizemode": "area",
            "sizeref": 200000
           },
           "mode": "marker",
           "name": "Reunion",
           "text": [],
           "x": [],
           "y": []
          },
          {
           "marker": {
            "size": [],
            "sizemode": "area",
            "sizeref": 200000
           },
           "mode": "marker",
           "name": "Montserrat",
           "text": [],
           "x": [],
           "y": []
          }
         ],
         "name": "1980"
        },
        {
         "data": [
          {
           "marker": {
            "size": [],
            "sizemode": "area",
            "sizeref": 200000
           },
           "mode": "marker",
           "name": null,
           "text": [],
           "x": [],
           "y": []
          },
          {
           "marker": {
            "size": [],
            "sizemode": "area",
            "sizeref": 200000
           },
           "mode": "marker",
           "name": "New Zealand",
           "text": [],
           "x": [],
           "y": []
          },
          {
           "marker": {
            "size": [
             2,
             2,
             2
            ],
            "sizemode": "area",
            "sizeref": 200000
           },
           "mode": "marker",
           "name": "Japan",
           "text": [
            "Japan",
            "Japan",
            "Japan"
           ],
           "x": [
            131.1,
            131.1,
            131.1
           ],
           "y": [
            32.88,
            32.88,
            32.88
           ]
          },
          {
           "marker": {
            "size": [],
            "sizemode": "area",
            "sizeref": 200000
           },
           "mode": "marker",
           "name": "Nicaragua",
           "text": [],
           "x": [],
           "y": []
          },
          {
           "marker": {
            "size": [
             null
            ],
            "sizemode": "area",
            "sizeref": 200000
           },
           "mode": "marker",
           "name": "Papua New Guinea",
           "text": [
            "Papua New Guinea"
           ],
           "x": [
            152.203
           ],
           "y": [
            -4.271
           ]
          },
          {
           "marker": {
            "size": [],
            "sizemode": "area",
            "sizeref": 200000
           },
           "mode": "marker",
           "name": "Philippines",
           "text": [],
           "x": [],
           "y": []
          },
          {
           "marker": {
            "size": [],
            "sizemode": "area",
            "sizeref": 200000
           },
           "mode": "marker",
           "name": "Italy",
           "text": [],
           "x": [],
           "y": []
          },
          {
           "marker": {
            "size": [],
            "sizemode": "area",
            "sizeref": 200000
           },
           "mode": "marker",
           "name": "United States",
           "text": [],
           "x": [],
           "y": []
          },
          {
           "marker": {
            "size": [],
            "sizemode": "area",
            "sizeref": 200000
           },
           "mode": "marker",
           "name": "Greece",
           "text": [],
           "x": [],
           "y": []
          },
          {
           "marker": {
            "size": [],
            "sizemode": "area",
            "sizeref": 200000
           },
           "mode": "marker",
           "name": "Ecuador",
           "text": [],
           "x": [],
           "y": []
          },
          {
           "marker": {
            "size": [],
            "sizemode": "area",
            "sizeref": 200000
           },
           "mode": "marker",
           "name": "Vanuatu",
           "text": [],
           "x": [],
           "y": []
          },
          {
           "marker": {
            "size": [],
            "sizemode": "area",
            "sizeref": 200000
           },
           "mode": "marker",
           "name": "Yemen",
           "text": [],
           "x": [],
           "y": []
          },
          {
           "marker": {
            "size": [
             3
            ],
            "sizemode": "area",
            "sizeref": 200000
           },
           "mode": "marker",
           "name": "Russia",
           "text": [
            "Russia"
           ],
           "x": [
            161.36
           ],
           "y": [
            56.653
           ]
          },
          {
           "marker": {
            "size": [
             4,
             null
            ],
            "sizemode": "area",
            "sizeref": 200000
           },
           "mode": "marker",
           "name": "Indonesia",
           "text": [
            "Indonesia",
            "Indonesia"
           ],
           "x": [
            112.30799999999999,
            112.30799999999999
           ],
           "y": [
            -7.93,
            -7.93
           ]
          },
          {
           "marker": {
            "size": [],
            "sizemode": "area",
            "sizeref": 200000
           },
           "mode": "marker",
           "name": "El Salvador",
           "text": [],
           "x": [],
           "y": []
          },
          {
           "marker": {
            "size": [],
            "sizemode": "area",
            "sizeref": 200000
           },
           "mode": "marker",
           "name": "Saudi Arabia",
           "text": [],
           "x": [],
           "y": []
          },
          {
           "marker": {
            "size": [],
            "sizemode": "area",
            "sizeref": 200000
           },
           "mode": "marker",
           "name": "Iceland",
           "text": [],
           "x": [],
           "y": []
          },
          {
           "marker": {
            "size": [],
            "sizemode": "area",
            "sizeref": 200000
           },
           "mode": "marker",
           "name": "Mexico",
           "text": [],
           "x": [],
           "y": []
          },
          {
           "marker": {
            "size": [],
            "sizemode": "area",
            "sizeref": 200000
           },
           "mode": "marker",
           "name": "North Korea",
           "text": [],
           "x": [],
           "y": []
          },
          {
           "marker": {
            "size": [],
            "sizemode": "area",
            "sizeref": 200000
           },
           "mode": "marker",
           "name": "Ethiopia",
           "text": [],
           "x": [],
           "y": []
          },
          {
           "marker": {
            "size": [
             3
            ],
            "sizemode": "area",
            "sizeref": 200000
           },
           "mode": "marker",
           "name": "Guatemala",
           "text": [
            "Guatemala"
           ],
           "x": [
            -91.552
           ],
           "y": [
            14.755999999999998
           ]
          },
          {
           "marker": {
            "size": [],
            "sizemode": "area",
            "sizeref": 200000
           },
           "mode": "marker",
           "name": "Solomon Is.",
           "text": [],
           "x": [],
           "y": []
          },
          {
           "marker": {
            "size": [],
            "sizemode": "area",
            "sizeref": 200000
           },
           "mode": "marker",
           "name": "Portugal",
           "text": [],
           "x": [],
           "y": []
          },
          {
           "marker": {
            "size": [],
            "sizemode": "area",
            "sizeref": 200000
           },
           "mode": "marker",
           "name": "Colombia",
           "text": [],
           "x": [],
           "y": []
          },
          {
           "marker": {
            "size": [],
            "sizemode": "area",
            "sizeref": 200000
           },
           "mode": "marker",
           "name": "Pacific Ocean",
           "text": [],
           "x": [],
           "y": []
          },
          {
           "marker": {
            "size": [
             3
            ],
            "sizemode": "area",
            "sizeref": 200000
           },
           "mode": "marker",
           "name": "Peru",
           "text": [
            "Peru"
           ],
           "x": [
            -71.85
           ],
           "y": [
            -15.78
           ]
          },
          {
           "marker": {
            "size": [],
            "sizemode": "area",
            "sizeref": 200000
           },
           "mode": "marker",
           "name": "China",
           "text": [],
           "x": [],
           "y": []
          },
          {
           "marker": {
            "size": [],
            "sizemode": "area",
            "sizeref": 200000
           },
           "mode": "marker",
           "name": "Spain",
           "text": [],
           "x": [],
           "y": []
          },
          {
           "marker": {
            "size": [],
            "sizemode": "area",
            "sizeref": 200000
           },
           "mode": "marker",
           "name": "Canada",
           "text": [],
           "x": [],
           "y": []
          },
          {
           "marker": {
            "size": [],
            "sizemode": "area",
            "sizeref": 200000
           },
           "mode": "marker",
           "name": "Tanzania",
           "text": [],
           "x": [],
           "y": []
          },
          {
           "marker": {
            "size": [],
            "sizemode": "area",
            "sizeref": 200000
           },
           "mode": "marker",
           "name": "St. Vincent & the Grenadines",
           "text": [],
           "x": [],
           "y": []
          },
          {
           "marker": {
            "size": [],
            "sizemode": "area",
            "sizeref": 200000
           },
           "mode": "marker",
           "name": "Chile",
           "text": [],
           "x": [],
           "y": []
          },
          {
           "marker": {
            "size": [],
            "sizemode": "area",
            "sizeref": 200000
           },
           "mode": "marker",
           "name": "Turkey",
           "text": [],
           "x": [],
           "y": []
          },
          {
           "marker": {
            "size": [],
            "sizemode": "area",
            "sizeref": 200000
           },
           "mode": "marker",
           "name": "St. Kitts & Nevis",
           "text": [],
           "x": [],
           "y": []
          },
          {
           "marker": {
            "size": [],
            "sizemode": "area",
            "sizeref": 200000
           },
           "mode": "marker",
           "name": "Guadeloupe",
           "text": [],
           "x": [],
           "y": []
          },
          {
           "marker": {
            "size": [],
            "sizemode": "area",
            "sizeref": 200000
           },
           "mode": "marker",
           "name": "Cape Verde",
           "text": [],
           "x": [],
           "y": []
          },
          {
           "marker": {
            "size": [],
            "sizemode": "area",
            "sizeref": 200000
           },
           "mode": "marker",
           "name": "Tonga",
           "text": [],
           "x": [],
           "y": []
          },
          {
           "marker": {
            "size": [],
            "sizemode": "area",
            "sizeref": 200000
           },
           "mode": "marker",
           "name": "Taiwan",
           "text": [],
           "x": [],
           "y": []
          },
          {
           "marker": {
            "size": [],
            "sizemode": "area",
            "sizeref": 200000
           },
           "mode": "marker",
           "name": "Eritrea",
           "text": [],
           "x": [],
           "y": []
          },
          {
           "marker": {
            "size": [],
            "sizemode": "area",
            "sizeref": 200000
           },
           "mode": "marker",
           "name": "Comoros",
           "text": [],
           "x": [],
           "y": []
          },
          {
           "marker": {
            "size": [],
            "sizemode": "area",
            "sizeref": 200000
           },
           "mode": "marker",
           "name": "Martinique",
           "text": [],
           "x": [],
           "y": []
          },
          {
           "marker": {
            "size": [],
            "sizemode": "area",
            "sizeref": 200000
           },
           "mode": "marker",
           "name": "Samoa",
           "text": [],
           "x": [],
           "y": []
          },
          {
           "marker": {
            "size": [],
            "sizemode": "area",
            "sizeref": 200000
           },
           "mode": "marker",
           "name": "Cameroon",
           "text": [],
           "x": [],
           "y": []
          },
          {
           "marker": {
            "size": [],
            "sizemode": "area",
            "sizeref": 200000
           },
           "mode": "marker",
           "name": "Trinidad ",
           "text": [],
           "x": [],
           "y": []
          },
          {
           "marker": {
            "size": [
             null
            ],
            "sizemode": "area",
            "sizeref": 200000
           },
           "mode": "marker",
           "name": "Congo, DRC",
           "text": [
            "Congo, DRC"
           ],
           "x": [
            29.25
           ],
           "y": [
            -1.52
           ]
          },
          {
           "marker": {
            "size": [],
            "sizemode": "area",
            "sizeref": 200000
           },
           "mode": "marker",
           "name": "Costa Rica",
           "text": [],
           "x": [],
           "y": []
          },
          {
           "marker": {
            "size": [],
            "sizemode": "area",
            "sizeref": 200000
           },
           "mode": "marker",
           "name": "Antarctica",
           "text": [],
           "x": [],
           "y": []
          },
          {
           "marker": {
            "size": [],
            "sizemode": "area",
            "sizeref": 200000
           },
           "mode": "marker",
           "name": "Reunion",
           "text": [],
           "x": [],
           "y": []
          },
          {
           "marker": {
            "size": [],
            "sizemode": "area",
            "sizeref": 200000
           },
           "mode": "marker",
           "name": "Montserrat",
           "text": [],
           "x": [],
           "y": []
          }
         ],
         "name": "1990"
        },
        {
         "data": [
          {
           "marker": {
            "size": [],
            "sizemode": "area",
            "sizeref": 200000
           },
           "mode": "marker",
           "name": null,
           "text": [],
           "x": [],
           "y": []
          },
          {
           "marker": {
            "size": [],
            "sizemode": "area",
            "sizeref": 200000
           },
           "mode": "marker",
           "name": "New Zealand",
           "text": [],
           "x": [],
           "y": []
          },
          {
           "marker": {
            "size": [
             2
            ],
            "sizemode": "area",
            "sizeref": 200000
           },
           "mode": "marker",
           "name": "Japan",
           "text": [
            "Japan"
           ],
           "x": [
            139.53
           ],
           "y": [
            34.08
           ]
          },
          {
           "marker": {
            "size": [],
            "sizemode": "area",
            "sizeref": 200000
           },
           "mode": "marker",
           "name": "Nicaragua",
           "text": [],
           "x": [],
           "y": []
          },
          {
           "marker": {
            "size": [],
            "sizemode": "area",
            "sizeref": 200000
           },
           "mode": "marker",
           "name": "Papua New Guinea",
           "text": [],
           "x": [],
           "y": []
          },
          {
           "marker": {
            "size": [],
            "sizemode": "area",
            "sizeref": 200000
           },
           "mode": "marker",
           "name": "Philippines",
           "text": [],
           "x": [],
           "y": []
          },
          {
           "marker": {
            "size": [],
            "sizemode": "area",
            "sizeref": 200000
           },
           "mode": "marker",
           "name": "Italy",
           "text": [],
           "x": [],
           "y": []
          },
          {
           "marker": {
            "size": [
             null
            ],
            "sizemode": "area",
            "sizeref": 200000
           },
           "mode": "marker",
           "name": "United States",
           "text": [
            "United States"
           ],
           "x": [
            -155.292
           ],
           "y": [
            19.425
           ]
          },
          {
           "marker": {
            "size": [],
            "sizemode": "area",
            "sizeref": 200000
           },
           "mode": "marker",
           "name": "Greece",
           "text": [],
           "x": [],
           "y": []
          },
          {
           "marker": {
            "size": [],
            "sizemode": "area",
            "sizeref": 200000
           },
           "mode": "marker",
           "name": "Ecuador",
           "text": [],
           "x": [],
           "y": []
          },
          {
           "marker": {
            "size": [],
            "sizemode": "area",
            "sizeref": 200000
           },
           "mode": "marker",
           "name": "Vanuatu",
           "text": [],
           "x": [],
           "y": []
          },
          {
           "marker": {
            "size": [],
            "sizemode": "area",
            "sizeref": 200000
           },
           "mode": "marker",
           "name": "Yemen",
           "text": [],
           "x": [],
           "y": []
          },
          {
           "marker": {
            "size": [],
            "sizemode": "area",
            "sizeref": 200000
           },
           "mode": "marker",
           "name": "Russia",
           "text": [],
           "x": [],
           "y": []
          },
          {
           "marker": {
            "size": [
             3,
             2
            ],
            "sizemode": "area",
            "sizeref": 200000
           },
           "mode": "marker",
           "name": "Indonesia",
           "text": [
            "Indonesia",
            "Indonesia"
           ],
           "x": [
            112.92,
            110.44200000000001
           ],
           "y": [
            -8.107999999999999,
            -7.542000000000001
           ]
          },
          {
           "marker": {
            "size": [],
            "sizemode": "area",
            "sizeref": 200000
           },
           "mode": "marker",
           "name": "El Salvador",
           "text": [],
           "x": [],
           "y": []
          },
          {
           "marker": {
            "size": [],
            "sizemode": "area",
            "sizeref": 200000
           },
           "mode": "marker",
           "name": "Saudi Arabia",
           "text": [],
           "x": [],
           "y": []
          },
          {
           "marker": {
            "size": [],
            "sizemode": "area",
            "sizeref": 200000
           },
           "mode": "marker",
           "name": "Iceland",
           "text": [],
           "x": [],
           "y": []
          },
          {
           "marker": {
            "size": [],
            "sizemode": "area",
            "sizeref": 200000
           },
           "mode": "marker",
           "name": "Mexico",
           "text": [],
           "x": [],
           "y": []
          },
          {
           "marker": {
            "size": [],
            "sizemode": "area",
            "sizeref": 200000
           },
           "mode": "marker",
           "name": "North Korea",
           "text": [],
           "x": [],
           "y": []
          },
          {
           "marker": {
            "size": [],
            "sizemode": "area",
            "sizeref": 200000
           },
           "mode": "marker",
           "name": "Ethiopia",
           "text": [],
           "x": [],
           "y": []
          },
          {
           "marker": {
            "size": [],
            "sizemode": "area",
            "sizeref": 200000
           },
           "mode": "marker",
           "name": "Guatemala",
           "text": [],
           "x": [],
           "y": []
          },
          {
           "marker": {
            "size": [],
            "sizemode": "area",
            "sizeref": 200000
           },
           "mode": "marker",
           "name": "Solomon Is.",
           "text": [],
           "x": [],
           "y": []
          },
          {
           "marker": {
            "size": [],
            "sizemode": "area",
            "sizeref": 200000
           },
           "mode": "marker",
           "name": "Portugal",
           "text": [],
           "x": [],
           "y": []
          },
          {
           "marker": {
            "size": [],
            "sizemode": "area",
            "sizeref": 200000
           },
           "mode": "marker",
           "name": "Colombia",
           "text": [],
           "x": [],
           "y": []
          },
          {
           "marker": {
            "size": [],
            "sizemode": "area",
            "sizeref": 200000
           },
           "mode": "marker",
           "name": "Pacific Ocean",
           "text": [],
           "x": [],
           "y": []
          },
          {
           "marker": {
            "size": [],
            "sizemode": "area",
            "sizeref": 200000
           },
           "mode": "marker",
           "name": "Peru",
           "text": [],
           "x": [],
           "y": []
          },
          {
           "marker": {
            "size": [],
            "sizemode": "area",
            "sizeref": 200000
           },
           "mode": "marker",
           "name": "China",
           "text": [],
           "x": [],
           "y": []
          },
          {
           "marker": {
            "size": [],
            "sizemode": "area",
            "sizeref": 200000
           },
           "mode": "marker",
           "name": "Spain",
           "text": [],
           "x": [],
           "y": []
          },
          {
           "marker": {
            "size": [],
            "sizemode": "area",
            "sizeref": 200000
           },
           "mode": "marker",
           "name": "Canada",
           "text": [],
           "x": [],
           "y": []
          },
          {
           "marker": {
            "size": [],
            "sizemode": "area",
            "sizeref": 200000
           },
           "mode": "marker",
           "name": "Tanzania",
           "text": [],
           "x": [],
           "y": []
          },
          {
           "marker": {
            "size": [],
            "sizemode": "area",
            "sizeref": 200000
           },
           "mode": "marker",
           "name": "St. Vincent & the Grenadines",
           "text": [],
           "x": [],
           "y": []
          },
          {
           "marker": {
            "size": [],
            "sizemode": "area",
            "sizeref": 200000
           },
           "mode": "marker",
           "name": "Chile",
           "text": [],
           "x": [],
           "y": []
          },
          {
           "marker": {
            "size": [],
            "sizemode": "area",
            "sizeref": 200000
           },
           "mode": "marker",
           "name": "Turkey",
           "text": [],
           "x": [],
           "y": []
          },
          {
           "marker": {
            "size": [],
            "sizemode": "area",
            "sizeref": 200000
           },
           "mode": "marker",
           "name": "St. Kitts & Nevis",
           "text": [],
           "x": [],
           "y": []
          },
          {
           "marker": {
            "size": [],
            "sizemode": "area",
            "sizeref": 200000
           },
           "mode": "marker",
           "name": "Guadeloupe",
           "text": [],
           "x": [],
           "y": []
          },
          {
           "marker": {
            "size": [],
            "sizemode": "area",
            "sizeref": 200000
           },
           "mode": "marker",
           "name": "Cape Verde",
           "text": [],
           "x": [],
           "y": []
          },
          {
           "marker": {
            "size": [],
            "sizemode": "area",
            "sizeref": 200000
           },
           "mode": "marker",
           "name": "Tonga",
           "text": [],
           "x": [],
           "y": []
          },
          {
           "marker": {
            "size": [],
            "sizemode": "area",
            "sizeref": 200000
           },
           "mode": "marker",
           "name": "Taiwan",
           "text": [],
           "x": [],
           "y": []
          },
          {
           "marker": {
            "size": [],
            "sizemode": "area",
            "sizeref": 200000
           },
           "mode": "marker",
           "name": "Eritrea",
           "text": [],
           "x": [],
           "y": []
          },
          {
           "marker": {
            "size": [],
            "sizemode": "area",
            "sizeref": 200000
           },
           "mode": "marker",
           "name": "Comoros",
           "text": [],
           "x": [],
           "y": []
          },
          {
           "marker": {
            "size": [],
            "sizemode": "area",
            "sizeref": 200000
           },
           "mode": "marker",
           "name": "Martinique",
           "text": [],
           "x": [],
           "y": []
          },
          {
           "marker": {
            "size": [],
            "sizemode": "area",
            "sizeref": 200000
           },
           "mode": "marker",
           "name": "Samoa",
           "text": [],
           "x": [],
           "y": []
          },
          {
           "marker": {
            "size": [],
            "sizemode": "area",
            "sizeref": 200000
           },
           "mode": "marker",
           "name": "Cameroon",
           "text": [],
           "x": [],
           "y": []
          },
          {
           "marker": {
            "size": [],
            "sizemode": "area",
            "sizeref": 200000
           },
           "mode": "marker",
           "name": "Trinidad ",
           "text": [],
           "x": [],
           "y": []
          },
          {
           "marker": {
            "size": [],
            "sizemode": "area",
            "sizeref": 200000
           },
           "mode": "marker",
           "name": "Congo, DRC",
           "text": [],
           "x": [],
           "y": []
          },
          {
           "marker": {
            "size": [
             3
            ],
            "sizemode": "area",
            "sizeref": 200000
           },
           "mode": "marker",
           "name": "Costa Rica",
           "text": [
            "Costa Rica"
           ],
           "x": [
            -84.70299999999999
           ],
           "y": [
            10.463
           ]
          },
          {
           "marker": {
            "size": [],
            "sizemode": "area",
            "sizeref": 200000
           },
           "mode": "marker",
           "name": "Antarctica",
           "text": [],
           "x": [],
           "y": []
          },
          {
           "marker": {
            "size": [],
            "sizemode": "area",
            "sizeref": 200000
           },
           "mode": "marker",
           "name": "Reunion",
           "text": [],
           "x": [],
           "y": []
          },
          {
           "marker": {
            "size": [],
            "sizemode": "area",
            "sizeref": 200000
           },
           "mode": "marker",
           "name": "Montserrat",
           "text": [],
           "x": [],
           "y": []
          }
         ],
         "name": "2000"
        },
        {
         "data": [
          {
           "marker": {
            "size": [],
            "sizemode": "area",
            "sizeref": 200000
           },
           "mode": "marker",
           "name": null,
           "text": [],
           "x": [],
           "y": []
          },
          {
           "marker": {
            "size": [],
            "sizemode": "area",
            "sizeref": 200000
           },
           "mode": "marker",
           "name": "New Zealand",
           "text": [],
           "x": [],
           "y": []
          },
          {
           "marker": {
            "size": [],
            "sizemode": "area",
            "sizeref": 200000
           },
           "mode": "marker",
           "name": "Japan",
           "text": [],
           "x": [],
           "y": []
          },
          {
           "marker": {
            "size": [],
            "sizemode": "area",
            "sizeref": 200000
           },
           "mode": "marker",
           "name": "Nicaragua",
           "text": [],
           "x": [],
           "y": []
          },
          {
           "marker": {
            "size": [],
            "sizemode": "area",
            "sizeref": 200000
           },
           "mode": "marker",
           "name": "Papua New Guinea",
           "text": [],
           "x": [],
           "y": []
          },
          {
           "marker": {
            "size": [],
            "sizemode": "area",
            "sizeref": 200000
           },
           "mode": "marker",
           "name": "Philippines",
           "text": [],
           "x": [],
           "y": []
          },
          {
           "marker": {
            "size": [],
            "sizemode": "area",
            "sizeref": 200000
           },
           "mode": "marker",
           "name": "Italy",
           "text": [],
           "x": [],
           "y": []
          },
          {
           "marker": {
            "size": [
             null
            ],
            "sizemode": "area",
            "sizeref": 200000
           },
           "mode": "marker",
           "name": "United States",
           "text": [
            "United States"
           ],
           "x": [
            145.78
           ],
           "y": [
            16.708
           ]
          },
          {
           "marker": {
            "size": [],
            "sizemode": "area",
            "sizeref": 200000
           },
           "mode": "marker",
           "name": "Greece",
           "text": [],
           "x": [],
           "y": []
          },
          {
           "marker": {
            "size": [
             3,
             3
            ],
            "sizemode": "area",
            "sizeref": 200000
           },
           "mode": "marker",
           "name": "Ecuador",
           "text": [
            "Ecuador",
            "Ecuador"
           ],
           "x": [
            -78.442,
            -78.442
           ],
           "y": [
            -1.4669999999999999,
            -1.4669999999999999
           ]
          },
          {
           "marker": {
            "size": [],
            "sizemode": "area",
            "sizeref": 200000
           },
           "mode": "marker",
           "name": "Vanuatu",
           "text": [],
           "x": [],
           "y": []
          },
          {
           "marker": {
            "size": [],
            "sizemode": "area",
            "sizeref": 200000
           },
           "mode": "marker",
           "name": "Yemen",
           "text": [],
           "x": [],
           "y": []
          },
          {
           "marker": {
            "size": [],
            "sizemode": "area",
            "sizeref": 200000
           },
           "mode": "marker",
           "name": "Russia",
           "text": [],
           "x": [],
           "y": []
          },
          {
           "marker": {
            "size": [
             3,
             null,
             null,
             null
            ],
            "sizemode": "area",
            "sizeref": 200000
           },
           "mode": "marker",
           "name": "Indonesia",
           "text": [
            "Indonesia",
            "Indonesia",
            "Indonesia",
            "Indonesia"
           ],
           "x": [
            125.48,
            98.39200000000001,
            110.44200000000001,
            112.95
           ],
           "y": [
            2.78,
            3.17,
            -7.542000000000001,
            -7.942
           ]
          },
          {
           "marker": {
            "size": [],
            "sizemode": "area",
            "sizeref": 200000
           },
           "mode": "marker",
           "name": "El Salvador",
           "text": [],
           "x": [],
           "y": []
          },
          {
           "marker": {
            "size": [],
            "sizemode": "area",
            "sizeref": 200000
           },
           "mode": "marker",
           "name": "Saudi Arabia",
           "text": [],
           "x": [],
           "y": []
          },
          {
           "marker": {
            "size": [
             2
            ],
            "sizemode": "area",
            "sizeref": 200000
           },
           "mode": "marker",
           "name": "Iceland",
           "text": [
            "Iceland"
           ],
           "x": [
            -19.62
           ],
           "y": [
            63.63
           ]
          },
          {
           "marker": {
            "size": [],
            "sizemode": "area",
            "sizeref": 200000
           },
           "mode": "marker",
           "name": "Mexico",
           "text": [],
           "x": [],
           "y": []
          },
          {
           "marker": {
            "size": [],
            "sizemode": "area",
            "sizeref": 200000
           },
           "mode": "marker",
           "name": "North Korea",
           "text": [],
           "x": [],
           "y": []
          },
          {
           "marker": {
            "size": [],
            "sizemode": "area",
            "sizeref": 200000
           },
           "mode": "marker",
           "name": "Ethiopia",
           "text": [],
           "x": [],
           "y": []
          },
          {
           "marker": {
            "size": [
             1
            ],
            "sizemode": "area",
            "sizeref": 200000
           },
           "mode": "marker",
           "name": "Guatemala",
           "text": [
            "Guatemala"
           ],
           "x": [
            -90.601
           ],
           "y": [
            14.380999999999998
           ]
          },
          {
           "marker": {
            "size": [],
            "sizemode": "area",
            "sizeref": 200000
           },
           "mode": "marker",
           "name": "Solomon Is.",
           "text": [],
           "x": [],
           "y": []
          },
          {
           "marker": {
            "size": [],
            "sizemode": "area",
            "sizeref": 200000
           },
           "mode": "marker",
           "name": "Portugal",
           "text": [],
           "x": [],
           "y": []
          },
          {
           "marker": {
            "size": [],
            "sizemode": "area",
            "sizeref": 200000
           },
           "mode": "marker",
           "name": "Colombia",
           "text": [],
           "x": [],
           "y": []
          },
          {
           "marker": {
            "size": [],
            "sizemode": "area",
            "sizeref": 200000
           },
           "mode": "marker",
           "name": "Pacific Ocean",
           "text": [],
           "x": [],
           "y": []
          },
          {
           "marker": {
            "size": [],
            "sizemode": "area",
            "sizeref": 200000
           },
           "mode": "marker",
           "name": "Peru",
           "text": [],
           "x": [],
           "y": []
          },
          {
           "marker": {
            "size": [],
            "sizemode": "area",
            "sizeref": 200000
           },
           "mode": "marker",
           "name": "China",
           "text": [],
           "x": [],
           "y": []
          },
          {
           "marker": {
            "size": [],
            "sizemode": "area",
            "sizeref": 200000
           },
           "mode": "marker",
           "name": "Spain",
           "text": [],
           "x": [],
           "y": []
          },
          {
           "marker": {
            "size": [],
            "sizemode": "area",
            "sizeref": 200000
           },
           "mode": "marker",
           "name": "Canada",
           "text": [],
           "x": [],
           "y": []
          },
          {
           "marker": {
            "size": [],
            "sizemode": "area",
            "sizeref": 200000
           },
           "mode": "marker",
           "name": "Tanzania",
           "text": [],
           "x": [],
           "y": []
          },
          {
           "marker": {
            "size": [],
            "sizemode": "area",
            "sizeref": 200000
           },
           "mode": "marker",
           "name": "St. Vincent & the Grenadines",
           "text": [],
           "x": [],
           "y": []
          },
          {
           "marker": {
            "size": [],
            "sizemode": "area",
            "sizeref": 200000
           },
           "mode": "marker",
           "name": "Chile",
           "text": [],
           "x": [],
           "y": []
          },
          {
           "marker": {
            "size": [],
            "sizemode": "area",
            "sizeref": 200000
           },
           "mode": "marker",
           "name": "Turkey",
           "text": [],
           "x": [],
           "y": []
          },
          {
           "marker": {
            "size": [],
            "sizemode": "area",
            "sizeref": 200000
           },
           "mode": "marker",
           "name": "St. Kitts & Nevis",
           "text": [],
           "x": [],
           "y": []
          },
          {
           "marker": {
            "size": [],
            "sizemode": "area",
            "sizeref": 200000
           },
           "mode": "marker",
           "name": "Guadeloupe",
           "text": [],
           "x": [],
           "y": []
          },
          {
           "marker": {
            "size": [],
            "sizemode": "area",
            "sizeref": 200000
           },
           "mode": "marker",
           "name": "Cape Verde",
           "text": [],
           "x": [],
           "y": []
          },
          {
           "marker": {
            "size": [],
            "sizemode": "area",
            "sizeref": 200000
           },
           "mode": "marker",
           "name": "Tonga",
           "text": [],
           "x": [],
           "y": []
          },
          {
           "marker": {
            "size": [],
            "sizemode": "area",
            "sizeref": 200000
           },
           "mode": "marker",
           "name": "Taiwan",
           "text": [],
           "x": [],
           "y": []
          },
          {
           "marker": {
            "size": [],
            "sizemode": "area",
            "sizeref": 200000
           },
           "mode": "marker",
           "name": "Eritrea",
           "text": [],
           "x": [],
           "y": []
          },
          {
           "marker": {
            "size": [],
            "sizemode": "area",
            "sizeref": 200000
           },
           "mode": "marker",
           "name": "Comoros",
           "text": [],
           "x": [],
           "y": []
          },
          {
           "marker": {
            "size": [],
            "sizemode": "area",
            "sizeref": 200000
           },
           "mode": "marker",
           "name": "Martinique",
           "text": [],
           "x": [],
           "y": []
          },
          {
           "marker": {
            "size": [],
            "sizemode": "area",
            "sizeref": 200000
           },
           "mode": "marker",
           "name": "Samoa",
           "text": [],
           "x": [],
           "y": []
          },
          {
           "marker": {
            "size": [],
            "sizemode": "area",
            "sizeref": 200000
           },
           "mode": "marker",
           "name": "Cameroon",
           "text": [],
           "x": [],
           "y": []
          },
          {
           "marker": {
            "size": [],
            "sizemode": "area",
            "sizeref": 200000
           },
           "mode": "marker",
           "name": "Trinidad ",
           "text": [],
           "x": [],
           "y": []
          },
          {
           "marker": {
            "size": [],
            "sizemode": "area",
            "sizeref": 200000
           },
           "mode": "marker",
           "name": "Congo, DRC",
           "text": [],
           "x": [],
           "y": []
          },
          {
           "marker": {
            "size": [],
            "sizemode": "area",
            "sizeref": 200000
           },
           "mode": "marker",
           "name": "Costa Rica",
           "text": [],
           "x": [],
           "y": []
          },
          {
           "marker": {
            "size": [],
            "sizemode": "area",
            "sizeref": 200000
           },
           "mode": "marker",
           "name": "Antarctica",
           "text": [],
           "x": [],
           "y": []
          },
          {
           "marker": {
            "size": [],
            "sizemode": "area",
            "sizeref": 200000
           },
           "mode": "marker",
           "name": "Reunion",
           "text": [],
           "x": [],
           "y": []
          },
          {
           "marker": {
            "size": [],
            "sizemode": "area",
            "sizeref": 200000
           },
           "mode": "marker",
           "name": "Montserrat",
           "text": [],
           "x": [],
           "y": []
          }
         ],
         "name": "2010"
        },
        {
         "data": [
          {
           "marker": {
            "size": [],
            "sizemode": "area",
            "sizeref": 200000
           },
           "mode": "marker",
           "name": null,
           "text": [],
           "x": [],
           "y": []
          },
          {
           "marker": {
            "size": [
             null
            ],
            "sizemode": "area",
            "sizeref": 200000
           },
           "mode": "marker",
           "name": "New Zealand",
           "text": [
            "New Zealand"
           ],
           "x": [
            176.5
           ],
           "y": [
            -38.12
           ]
          },
          {
           "marker": {
            "size": [],
            "sizemode": "area",
            "sizeref": 200000
           },
           "mode": "marker",
           "name": "Japan",
           "text": [],
           "x": [],
           "y": []
          },
          {
           "marker": {
            "size": [],
            "sizemode": "area",
            "sizeref": 200000
           },
           "mode": "marker",
           "name": "Nicaragua",
           "text": [],
           "x": [],
           "y": []
          },
          {
           "marker": {
            "size": [
             2
            ],
            "sizemode": "area",
            "sizeref": 200000
           },
           "mode": "marker",
           "name": "Papua New Guinea",
           "text": [
            "Papua New Guinea"
           ],
           "x": [
            145.061
           ],
           "y": [
            -4.1
           ]
          },
          {
           "marker": {
            "size": [],
            "sizemode": "area",
            "sizeref": 200000
           },
           "mode": "marker",
           "name": "Philippines",
           "text": [],
           "x": [],
           "y": []
          },
          {
           "marker": {
            "size": [],
            "sizemode": "area",
            "sizeref": 200000
           },
           "mode": "marker",
           "name": "Italy",
           "text": [],
           "x": [],
           "y": []
          },
          {
           "marker": {
            "size": [],
            "sizemode": "area",
            "sizeref": 200000
           },
           "mode": "marker",
           "name": "United States",
           "text": [],
           "x": [],
           "y": []
          },
          {
           "marker": {
            "size": [],
            "sizemode": "area",
            "sizeref": 200000
           },
           "mode": "marker",
           "name": "Greece",
           "text": [],
           "x": [],
           "y": []
          },
          {
           "marker": {
            "size": [],
            "sizemode": "area",
            "sizeref": 200000
           },
           "mode": "marker",
           "name": "Ecuador",
           "text": [],
           "x": [],
           "y": []
          },
          {
           "marker": {
            "size": [],
            "sizemode": "area",
            "sizeref": 200000
           },
           "mode": "marker",
           "name": "Vanuatu",
           "text": [],
           "x": [],
           "y": []
          },
          {
           "marker": {
            "size": [],
            "sizemode": "area",
            "sizeref": 200000
           },
           "mode": "marker",
           "name": "Yemen",
           "text": [],
           "x": [],
           "y": []
          },
          {
           "marker": {
            "size": [],
            "sizemode": "area",
            "sizeref": 200000
           },
           "mode": "marker",
           "name": "Russia",
           "text": [],
           "x": [],
           "y": []
          },
          {
           "marker": {
            "size": [
             null,
             null,
             null
            ],
            "sizemode": "area",
            "sizeref": 200000
           },
           "mode": "marker",
           "name": "Indonesia",
           "text": [
            "Indonesia",
            "Indonesia",
            "Indonesia"
           ],
           "x": [
            98.39200000000001,
            125.48,
            98.39200000000001
           ],
           "y": [
            3.17,
            2.78,
            3.17
           ]
          },
          {
           "marker": {
            "size": [],
            "sizemode": "area",
            "sizeref": 200000
           },
           "mode": "marker",
           "name": "El Salvador",
           "text": [],
           "x": [],
           "y": []
          },
          {
           "marker": {
            "size": [],
            "sizemode": "area",
            "sizeref": 200000
           },
           "mode": "marker",
           "name": "Saudi Arabia",
           "text": [],
           "x": [],
           "y": []
          },
          {
           "marker": {
            "size": [],
            "sizemode": "area",
            "sizeref": 200000
           },
           "mode": "marker",
           "name": "Iceland",
           "text": [],
           "x": [],
           "y": []
          },
          {
           "marker": {
            "size": [],
            "sizemode": "area",
            "sizeref": 200000
           },
           "mode": "marker",
           "name": "Mexico",
           "text": [],
           "x": [],
           "y": []
          },
          {
           "marker": {
            "size": [],
            "sizemode": "area",
            "sizeref": 200000
           },
           "mode": "marker",
           "name": "North Korea",
           "text": [],
           "x": [],
           "y": []
          },
          {
           "marker": {
            "size": [],
            "sizemode": "area",
            "sizeref": 200000
           },
           "mode": "marker",
           "name": "Ethiopia",
           "text": [],
           "x": [],
           "y": []
          },
          {
           "marker": {
            "size": [],
            "sizemode": "area",
            "sizeref": 200000
           },
           "mode": "marker",
           "name": "Guatemala",
           "text": [],
           "x": [],
           "y": []
          },
          {
           "marker": {
            "size": [],
            "sizemode": "area",
            "sizeref": 200000
           },
           "mode": "marker",
           "name": "Solomon Is.",
           "text": [],
           "x": [],
           "y": []
          },
          {
           "marker": {
            "size": [],
            "sizemode": "area",
            "sizeref": 200000
           },
           "mode": "marker",
           "name": "Portugal",
           "text": [],
           "x": [],
           "y": []
          },
          {
           "marker": {
            "size": [],
            "sizemode": "area",
            "sizeref": 200000
           },
           "mode": "marker",
           "name": "Colombia",
           "text": [],
           "x": [],
           "y": []
          },
          {
           "marker": {
            "size": [],
            "sizemode": "area",
            "sizeref": 200000
           },
           "mode": "marker",
           "name": "Pacific Ocean",
           "text": [],
           "x": [],
           "y": []
          },
          {
           "marker": {
            "size": [],
            "sizemode": "area",
            "sizeref": 200000
           },
           "mode": "marker",
           "name": "Peru",
           "text": [],
           "x": [],
           "y": []
          },
          {
           "marker": {
            "size": [],
            "sizemode": "area",
            "sizeref": 200000
           },
           "mode": "marker",
           "name": "China",
           "text": [],
           "x": [],
           "y": []
          },
          {
           "marker": {
            "size": [],
            "sizemode": "area",
            "sizeref": 200000
           },
           "mode": "marker",
           "name": "Spain",
           "text": [],
           "x": [],
           "y": []
          },
          {
           "marker": {
            "size": [],
            "sizemode": "area",
            "sizeref": 200000
           },
           "mode": "marker",
           "name": "Canada",
           "text": [],
           "x": [],
           "y": []
          },
          {
           "marker": {
            "size": [],
            "sizemode": "area",
            "sizeref": 200000
           },
           "mode": "marker",
           "name": "Tanzania",
           "text": [],
           "x": [],
           "y": []
          },
          {
           "marker": {
            "size": [],
            "sizemode": "area",
            "sizeref": 200000
           },
           "mode": "marker",
           "name": "St. Vincent & the Grenadines",
           "text": [],
           "x": [],
           "y": []
          },
          {
           "marker": {
            "size": [
             null
            ],
            "sizemode": "area",
            "sizeref": 200000
           },
           "mode": "marker",
           "name": "Chile",
           "text": [
            "Chile"
           ],
           "x": [
            -72.61399999999999
           ],
           "y": [
            -41.326
           ]
          },
          {
           "marker": {
            "size": [],
            "sizemode": "area",
            "sizeref": 200000
           },
           "mode": "marker",
           "name": "Turkey",
           "text": [],
           "x": [],
           "y": []
          },
          {
           "marker": {
            "size": [],
            "sizemode": "area",
            "sizeref": 200000
           },
           "mode": "marker",
           "name": "St. Kitts & Nevis",
           "text": [],
           "x": [],
           "y": []
          },
          {
           "marker": {
            "size": [],
            "sizemode": "area",
            "sizeref": 200000
           },
           "mode": "marker",
           "name": "Guadeloupe",
           "text": [],
           "x": [],
           "y": []
          },
          {
           "marker": {
            "size": [],
            "sizemode": "area",
            "sizeref": 200000
           },
           "mode": "marker",
           "name": "Cape Verde",
           "text": [],
           "x": [],
           "y": []
          },
          {
           "marker": {
            "size": [],
            "sizemode": "area",
            "sizeref": 200000
           },
           "mode": "marker",
           "name": "Tonga",
           "text": [],
           "x": [],
           "y": []
          },
          {
           "marker": {
            "size": [],
            "sizemode": "area",
            "sizeref": 200000
           },
           "mode": "marker",
           "name": "Taiwan",
           "text": [],
           "x": [],
           "y": []
          },
          {
           "marker": {
            "size": [],
            "sizemode": "area",
            "sizeref": 200000
           },
           "mode": "marker",
           "name": "Eritrea",
           "text": [],
           "x": [],
           "y": []
          },
          {
           "marker": {
            "size": [],
            "sizemode": "area",
            "sizeref": 200000
           },
           "mode": "marker",
           "name": "Comoros",
           "text": [],
           "x": [],
           "y": []
          },
          {
           "marker": {
            "size": [],
            "sizemode": "area",
            "sizeref": 200000
           },
           "mode": "marker",
           "name": "Martinique",
           "text": [],
           "x": [],
           "y": []
          },
          {
           "marker": {
            "size": [],
            "sizemode": "area",
            "sizeref": 200000
           },
           "mode": "marker",
           "name": "Samoa",
           "text": [],
           "x": [],
           "y": []
          },
          {
           "marker": {
            "size": [],
            "sizemode": "area",
            "sizeref": 200000
           },
           "mode": "marker",
           "name": "Cameroon",
           "text": [],
           "x": [],
           "y": []
          },
          {
           "marker": {
            "size": [],
            "sizemode": "area",
            "sizeref": 200000
           },
           "mode": "marker",
           "name": "Trinidad ",
           "text": [],
           "x": [],
           "y": []
          },
          {
           "marker": {
            "size": [],
            "sizemode": "area",
            "sizeref": 200000
           },
           "mode": "marker",
           "name": "Congo, DRC",
           "text": [],
           "x": [],
           "y": []
          },
          {
           "marker": {
            "size": [],
            "sizemode": "area",
            "sizeref": 200000
           },
           "mode": "marker",
           "name": "Costa Rica",
           "text": [],
           "x": [],
           "y": []
          },
          {
           "marker": {
            "size": [],
            "sizemode": "area",
            "sizeref": 200000
           },
           "mode": "marker",
           "name": "Antarctica",
           "text": [],
           "x": [],
           "y": []
          },
          {
           "marker": {
            "size": [],
            "sizemode": "area",
            "sizeref": 200000
           },
           "mode": "marker",
           "name": "Reunion",
           "text": [],
           "x": [],
           "y": []
          },
          {
           "marker": {
            "size": [],
            "sizemode": "area",
            "sizeref": 200000
           },
           "mode": "marker",
           "name": "Montserrat",
           "text": [],
           "x": [],
           "y": []
          }
         ],
         "name": "2015"
        },
        {
         "data": [
          {
           "marker": {
            "size": [],
            "sizemode": "area",
            "sizeref": 200000
           },
           "mode": "marker",
           "name": null,
           "text": [],
           "x": [],
           "y": []
          },
          {
           "marker": {
            "size": [],
            "sizemode": "area",
            "sizeref": 200000
           },
           "mode": "marker",
           "name": "New Zealand",
           "text": [],
           "x": [],
           "y": []
          },
          {
           "marker": {
            "size": [
             null
            ],
            "sizemode": "area",
            "sizeref": 200000
           },
           "mode": "marker",
           "name": "Japan",
           "text": [
            "Japan"
           ],
           "x": [
            138.55
           ],
           "y": [
            36.62
           ]
          },
          {
           "marker": {
            "size": [],
            "sizemode": "area",
            "sizeref": 200000
           },
           "mode": "marker",
           "name": "Nicaragua",
           "text": [],
           "x": [],
           "y": []
          },
          {
           "marker": {
            "size": [
             null,
             null
            ],
            "sizemode": "area",
            "sizeref": 200000
           },
           "mode": "marker",
           "name": "Papua New Guinea",
           "text": [
            "Papua New Guinea",
            "Papua New Guinea"
           ],
           "x": [
            144.62,
            144.62
           ],
           "y": [
            -3.62,
            -3.62
           ]
          },
          {
           "marker": {
            "size": [
             null
            ],
            "sizemode": "area",
            "sizeref": 200000
           },
           "mode": "marker",
           "name": "Philippines",
           "text": [
            "Philippines"
           ],
           "x": [
            123.685
           ],
           "y": [
            13.257
           ]
          },
          {
           "marker": {
            "size": [],
            "sizemode": "area",
            "sizeref": 200000
           },
           "mode": "marker",
           "name": "Italy",
           "text": [],
           "x": [],
           "y": []
          },
          {
           "marker": {
            "size": [
             1,
             1,
             null
            ],
            "sizemode": "area",
            "sizeref": 200000
           },
           "mode": "marker",
           "name": "United States",
           "text": [
            "United States",
            "United States",
            "United States"
           ],
           "x": [
            -155.292,
            -155.292,
            -155.292
           ],
           "y": [
            19.425,
            19.425,
            19.425
           ]
          },
          {
           "marker": {
            "size": [],
            "sizemode": "area",
            "sizeref": 200000
           },
           "mode": "marker",
           "name": "Greece",
           "text": [],
           "x": [],
           "y": []
          },
          {
           "marker": {
            "size": [],
            "sizemode": "area",
            "sizeref": 200000
           },
           "mode": "marker",
           "name": "Ecuador",
           "text": [],
           "x": [],
           "y": []
          },
          {
           "marker": {
            "size": [
             3
            ],
            "sizemode": "area",
            "sizeref": 200000
           },
           "mode": "marker",
           "name": "Vanuatu",
           "text": [
            "Vanuatu"
           ],
           "x": [
            167.83
           ],
           "y": [
            -15.4
           ]
          },
          {
           "marker": {
            "size": [],
            "sizemode": "area",
            "sizeref": 200000
           },
           "mode": "marker",
           "name": "Yemen",
           "text": [],
           "x": [],
           "y": []
          },
          {
           "marker": {
            "size": [],
            "sizemode": "area",
            "sizeref": 200000
           },
           "mode": "marker",
           "name": "Russia",
           "text": [],
           "x": [],
           "y": []
          },
          {
           "marker": {
            "size": [
             null
            ],
            "sizemode": "area",
            "sizeref": 200000
           },
           "mode": "marker",
           "name": "Indonesia",
           "text": [
            "Indonesia"
           ],
           "x": [
            114.242
           ],
           "y": [
            -8.058
           ]
          },
          {
           "marker": {
            "size": [],
            "sizemode": "area",
            "sizeref": 200000
           },
           "mode": "marker",
           "name": "El Salvador",
           "text": [],
           "x": [],
           "y": []
          },
          {
           "marker": {
            "size": [],
            "sizemode": "area",
            "sizeref": 200000
           },
           "mode": "marker",
           "name": "Saudi Arabia",
           "text": [],
           "x": [],
           "y": []
          },
          {
           "marker": {
            "size": [],
            "sizemode": "area",
            "sizeref": 200000
           },
           "mode": "marker",
           "name": "Iceland",
           "text": [],
           "x": [],
           "y": []
          },
          {
           "marker": {
            "size": [],
            "sizemode": "area",
            "sizeref": 200000
           },
           "mode": "marker",
           "name": "Mexico",
           "text": [],
           "x": [],
           "y": []
          },
          {
           "marker": {
            "size": [],
            "sizemode": "area",
            "sizeref": 200000
           },
           "mode": "marker",
           "name": "North Korea",
           "text": [],
           "x": [],
           "y": []
          },
          {
           "marker": {
            "size": [],
            "sizemode": "area",
            "sizeref": 200000
           },
           "mode": "marker",
           "name": "Ethiopia",
           "text": [],
           "x": [],
           "y": []
          },
          {
           "marker": {
            "size": [
             2
            ],
            "sizemode": "area",
            "sizeref": 200000
           },
           "mode": "marker",
           "name": "Guatemala",
           "text": [
            "Guatemala"
           ],
           "x": [
            -90.88
           ],
           "y": [
            14.472999999999999
           ]
          },
          {
           "marker": {
            "size": [],
            "sizemode": "area",
            "sizeref": 200000
           },
           "mode": "marker",
           "name": "Solomon Is.",
           "text": [],
           "x": [],
           "y": []
          },
          {
           "marker": {
            "size": [],
            "sizemode": "area",
            "sizeref": 200000
           },
           "mode": "marker",
           "name": "Portugal",
           "text": [],
           "x": [],
           "y": []
          },
          {
           "marker": {
            "size": [],
            "sizemode": "area",
            "sizeref": 200000
           },
           "mode": "marker",
           "name": "Colombia",
           "text": [],
           "x": [],
           "y": []
          },
          {
           "marker": {
            "size": [],
            "sizemode": "area",
            "sizeref": 200000
           },
           "mode": "marker",
           "name": "Pacific Ocean",
           "text": [],
           "x": [],
           "y": []
          },
          {
           "marker": {
            "size": [],
            "sizemode": "area",
            "sizeref": 200000
           },
           "mode": "marker",
           "name": "Peru",
           "text": [],
           "x": [],
           "y": []
          },
          {
           "marker": {
            "size": [],
            "sizemode": "area",
            "sizeref": 200000
           },
           "mode": "marker",
           "name": "China",
           "text": [],
           "x": [],
           "y": []
          },
          {
           "marker": {
            "size": [],
            "sizemode": "area",
            "sizeref": 200000
           },
           "mode": "marker",
           "name": "Spain",
           "text": [],
           "x": [],
           "y": []
          },
          {
           "marker": {
            "size": [],
            "sizemode": "area",
            "sizeref": 200000
           },
           "mode": "marker",
           "name": "Canada",
           "text": [],
           "x": [],
           "y": []
          },
          {
           "marker": {
            "size": [],
            "sizemode": "area",
            "sizeref": 200000
           },
           "mode": "marker",
           "name": "Tanzania",
           "text": [],
           "x": [],
           "y": []
          },
          {
           "marker": {
            "size": [],
            "sizemode": "area",
            "sizeref": 200000
           },
           "mode": "marker",
           "name": "St. Vincent & the Grenadines",
           "text": [],
           "x": [],
           "y": []
          },
          {
           "marker": {
            "size": [],
            "sizemode": "area",
            "sizeref": 200000
           },
           "mode": "marker",
           "name": "Chile",
           "text": [],
           "x": [],
           "y": []
          },
          {
           "marker": {
            "size": [],
            "sizemode": "area",
            "sizeref": 200000
           },
           "mode": "marker",
           "name": "Turkey",
           "text": [],
           "x": [],
           "y": []
          },
          {
           "marker": {
            "size": [],
            "sizemode": "area",
            "sizeref": 200000
           },
           "mode": "marker",
           "name": "St. Kitts & Nevis",
           "text": [],
           "x": [],
           "y": []
          },
          {
           "marker": {
            "size": [],
            "sizemode": "area",
            "sizeref": 200000
           },
           "mode": "marker",
           "name": "Guadeloupe",
           "text": [],
           "x": [],
           "y": []
          },
          {
           "marker": {
            "size": [],
            "sizemode": "area",
            "sizeref": 200000
           },
           "mode": "marker",
           "name": "Cape Verde",
           "text": [],
           "x": [],
           "y": []
          },
          {
           "marker": {
            "size": [],
            "sizemode": "area",
            "sizeref": 200000
           },
           "mode": "marker",
           "name": "Tonga",
           "text": [],
           "x": [],
           "y": []
          },
          {
           "marker": {
            "size": [],
            "sizemode": "area",
            "sizeref": 200000
           },
           "mode": "marker",
           "name": "Taiwan",
           "text": [],
           "x": [],
           "y": []
          },
          {
           "marker": {
            "size": [],
            "sizemode": "area",
            "sizeref": 200000
           },
           "mode": "marker",
           "name": "Eritrea",
           "text": [],
           "x": [],
           "y": []
          },
          {
           "marker": {
            "size": [],
            "sizemode": "area",
            "sizeref": 200000
           },
           "mode": "marker",
           "name": "Comoros",
           "text": [],
           "x": [],
           "y": []
          },
          {
           "marker": {
            "size": [],
            "sizemode": "area",
            "sizeref": 200000
           },
           "mode": "marker",
           "name": "Martinique",
           "text": [],
           "x": [],
           "y": []
          },
          {
           "marker": {
            "size": [],
            "sizemode": "area",
            "sizeref": 200000
           },
           "mode": "marker",
           "name": "Samoa",
           "text": [],
           "x": [],
           "y": []
          },
          {
           "marker": {
            "size": [],
            "sizemode": "area",
            "sizeref": 200000
           },
           "mode": "marker",
           "name": "Cameroon",
           "text": [],
           "x": [],
           "y": []
          },
          {
           "marker": {
            "size": [],
            "sizemode": "area",
            "sizeref": 200000
           },
           "mode": "marker",
           "name": "Trinidad ",
           "text": [],
           "x": [],
           "y": []
          },
          {
           "marker": {
            "size": [],
            "sizemode": "area",
            "sizeref": 200000
           },
           "mode": "marker",
           "name": "Congo, DRC",
           "text": [],
           "x": [],
           "y": []
          },
          {
           "marker": {
            "size": [],
            "sizemode": "area",
            "sizeref": 200000
           },
           "mode": "marker",
           "name": "Costa Rica",
           "text": [],
           "x": [],
           "y": []
          },
          {
           "marker": {
            "size": [],
            "sizemode": "area",
            "sizeref": 200000
           },
           "mode": "marker",
           "name": "Antarctica",
           "text": [],
           "x": [],
           "y": []
          },
          {
           "marker": {
            "size": [],
            "sizemode": "area",
            "sizeref": 200000
           },
           "mode": "marker",
           "name": "Reunion",
           "text": [],
           "x": [],
           "y": []
          },
          {
           "marker": {
            "size": [],
            "sizemode": "area",
            "sizeref": 200000
           },
           "mode": "marker",
           "name": "Montserrat",
           "text": [],
           "x": [],
           "y": []
          }
         ],
         "name": "2018"
        }
       ],
       "layout": {
        "hovermode": "closest",
        "sliders": [
         {
          "active": 0,
          "currentvalue": {
           "font": {
            "size": 20
           },
           "prefix": "Year:",
           "visible": true,
           "xanchor": "right"
          },
          "len": 0.9,
          "pad": {
           "b": 10,
           "t": 50
          },
          "steps": [
           {
            "args": [
             [
              "1800"
             ],
             {
              "frame": {
               "duration": 300,
               "redraw": false
              },
              "mode": "immediate",
              "transition": {
               "duration": 300
              }
             }
            ],
            "label": "1800",
            "method": "animate"
           },
           {
            "args": [
             [
              "1820"
             ],
             {
              "frame": {
               "duration": 300,
               "redraw": false
              },
              "mode": "immediate",
              "transition": {
               "duration": 300
              }
             }
            ],
            "label": "1820",
            "method": "animate"
           },
           {
            "args": [
             [
              "1840"
             ],
             {
              "frame": {
               "duration": 300,
               "redraw": false
              },
              "mode": "immediate",
              "transition": {
               "duration": 300
              }
             }
            ],
            "label": "1840",
            "method": "animate"
           },
           {
            "args": [
             [
              "1860"
             ],
             {
              "frame": {
               "duration": 300,
               "redraw": false
              },
              "mode": "immediate",
              "transition": {
               "duration": 300
              }
             }
            ],
            "label": "1860",
            "method": "animate"
           },
           {
            "args": [
             [
              "1880"
             ],
             {
              "frame": {
               "duration": 300,
               "redraw": false
              },
              "mode": "immediate",
              "transition": {
               "duration": 300
              }
             }
            ],
            "label": "1880",
            "method": "animate"
           },
           {
            "args": [
             [
              "1900"
             ],
             {
              "frame": {
               "duration": 300,
               "redraw": false
              },
              "mode": "immediate",
              "transition": {
               "duration": 300
              }
             }
            ],
            "label": "1900",
            "method": "animate"
           },
           {
            "args": [
             [
              "1910"
             ],
             {
              "frame": {
               "duration": 300,
               "redraw": false
              },
              "mode": "immediate",
              "transition": {
               "duration": 300
              }
             }
            ],
            "label": "1910",
            "method": "animate"
           },
           {
            "args": [
             [
              "1920"
             ],
             {
              "frame": {
               "duration": 300,
               "redraw": false
              },
              "mode": "immediate",
              "transition": {
               "duration": 300
              }
             }
            ],
            "label": "1920",
            "method": "animate"
           },
           {
            "args": [
             [
              "1930"
             ],
             {
              "frame": {
               "duration": 300,
               "redraw": false
              },
              "mode": "immediate",
              "transition": {
               "duration": 300
              }
             }
            ],
            "label": "1930",
            "method": "animate"
           },
           {
            "args": [
             [
              "1940"
             ],
             {
              "frame": {
               "duration": 300,
               "redraw": false
              },
              "mode": "immediate",
              "transition": {
               "duration": 300
              }
             }
            ],
            "label": "1940",
            "method": "animate"
           },
           {
            "args": [
             [
              "1950"
             ],
             {
              "frame": {
               "duration": 300,
               "redraw": false
              },
              "mode": "immediate",
              "transition": {
               "duration": 300
              }
             }
            ],
            "label": "1950",
            "method": "animate"
           },
           {
            "args": [
             [
              "1960"
             ],
             {
              "frame": {
               "duration": 300,
               "redraw": false
              },
              "mode": "immediate",
              "transition": {
               "duration": 300
              }
             }
            ],
            "label": "1960",
            "method": "animate"
           },
           {
            "args": [
             [
              "1970"
             ],
             {
              "frame": {
               "duration": 300,
               "redraw": false
              },
              "mode": "immediate",
              "transition": {
               "duration": 300
              }
             }
            ],
            "label": "1970",
            "method": "animate"
           },
           {
            "args": [
             [
              "1980"
             ],
             {
              "frame": {
               "duration": 300,
               "redraw": false
              },
              "mode": "immediate",
              "transition": {
               "duration": 300
              }
             }
            ],
            "label": "1980",
            "method": "animate"
           },
           {
            "args": [
             [
              "1990"
             ],
             {
              "frame": {
               "duration": 300,
               "redraw": false
              },
              "mode": "immediate",
              "transition": {
               "duration": 300
              }
             }
            ],
            "label": "1990",
            "method": "animate"
           },
           {
            "args": [
             [
              "2000"
             ],
             {
              "frame": {
               "duration": 300,
               "redraw": false
              },
              "mode": "immediate",
              "transition": {
               "duration": 300
              }
             }
            ],
            "label": "2000",
            "method": "animate"
           },
           {
            "args": [
             [
              "2010"
             ],
             {
              "frame": {
               "duration": 300,
               "redraw": false
              },
              "mode": "immediate",
              "transition": {
               "duration": 300
              }
             }
            ],
            "label": "2010",
            "method": "animate"
           },
           {
            "args": [
             [
              "2015"
             ],
             {
              "frame": {
               "duration": 300,
               "redraw": false
              },
              "mode": "immediate",
              "transition": {
               "duration": 300
              }
             }
            ],
            "label": "2015",
            "method": "animate"
           },
           {
            "args": [
             [
              "2018"
             ],
             {
              "frame": {
               "duration": 300,
               "redraw": false
              },
              "mode": "immediate",
              "transition": {
               "duration": 300
              }
             }
            ],
            "label": "2018",
            "method": "animate"
           }
          ],
          "transition": {
           "duration": 300,
           "easing": "cubic-in-out"
          },
          "x": 0.1,
          "xanchor": "left",
          "y": 0,
          "yanchor": "top"
         }
        ],
        "updatemenus": [
         {
          "buttons": [
           {
            "args": [
             null,
             {
              "frame": {
               "duration": 500,
               "redraw": false
              },
              "fromcurrent": true,
              "transition": {
               "duration": 300,
               "easing": "quadratic-in-out"
              }
             }
            ],
            "label": "Play",
            "method": "animate"
           },
           {
            "args": [
             [
              null
             ],
             {
              "frame": {
               "duration": 0,
               "redraw": false
              },
              "mode": "immediate",
              "transition": {
               "duration": 0
              }
             }
            ],
            "label": "Pause",
            "method": "animate"
           }
          ],
          "direction": "left",
          "pad": {
           "r": 10,
           "t": 87
          },
          "showactive": false,
          "type": "buttons",
          "x": 0.1,
          "xanchor": "right",
          "y": 0,
          "yanchor": "top"
         }
        ],
        "xaxis": {
         "range": [
          0,
          180
         ],
         "title": "Longitude"
        },
        "yaxis": {
         "title": "Latitude"
        }
       }
      },
      "text/html": [
       "<div id=\"3d8bb84c-9b5b-4102-bbfc-167dc00ef41d\" style=\"height: 525px; width: 100%;\" class=\"plotly-graph-div\"></div><script type=\"text/javascript\">require([\"plotly\"], function(Plotly) { window.PLOTLYENV=window.PLOTLYENV || {};window.PLOTLYENV.BASE_URL=\"https://plot.ly\";\n",
       "        Plotly.plot(\n",
       "            '3d8bb84c-9b5b-4102-bbfc-167dc00ef41d',\n",
       "            [{\"text\": [], \"y\": [], \"mode\": \"marker\", \"marker\": {\"sizeref\": 200000, \"sizemode\": \"area\", \"size\": []}, \"name\": null, \"x\": []}, {\"text\": [], \"y\": [], \"mode\": \"marker\", \"marker\": {\"sizeref\": 200000, \"sizemode\": \"area\", \"size\": []}, \"name\": \"New Zealand\", \"x\": []}, {\"text\": [], \"y\": [], \"mode\": \"marker\", \"marker\": {\"sizeref\": 200000, \"sizemode\": \"area\", \"size\": []}, \"name\": \"Japan\", \"x\": []}, {\"text\": [], \"y\": [], \"mode\": \"marker\", \"marker\": {\"sizeref\": 200000, \"sizemode\": \"area\", \"size\": []}, \"name\": \"Nicaragua\", \"x\": []}, {\"text\": [], \"y\": [], \"mode\": \"marker\", \"marker\": {\"sizeref\": 200000, \"sizemode\": \"area\", \"size\": []}, \"name\": \"Papua New Guinea\", \"x\": []}, {\"text\": [\"Philippines\"], \"y\": [13.257], \"mode\": \"marker\", \"marker\": {\"sizeref\": 200000, \"sizemode\": \"area\", \"size\": [2.0]}, \"name\": \"Philippines\", \"x\": [123.685]}, {\"text\": [], \"y\": [], \"mode\": \"marker\", \"marker\": {\"sizeref\": 200000, \"sizemode\": \"area\", \"size\": []}, \"name\": \"Italy\", \"x\": []}, {\"text\": [\"United States\", \"United States\"], \"y\": [46.2, 19.692], \"mode\": \"marker\", \"marker\": {\"sizeref\": 200000, \"sizemode\": \"area\", \"size\": [5.0, 0.0]}, \"name\": \"United States\", \"x\": [-122.18, -155.87]}, {\"text\": [], \"y\": [], \"mode\": \"marker\", \"marker\": {\"sizeref\": 200000, \"sizemode\": \"area\", \"size\": []}, \"name\": \"Greece\", \"x\": []}, {\"text\": [], \"y\": [], \"mode\": \"marker\", \"marker\": {\"sizeref\": 200000, \"sizemode\": \"area\", \"size\": []}, \"name\": \"Ecuador\", \"x\": []}, {\"text\": [], \"y\": [], \"mode\": \"marker\", \"marker\": {\"sizeref\": 200000, \"sizemode\": \"area\", \"size\": []}, \"name\": \"Vanuatu\", \"x\": []}, {\"text\": [], \"y\": [], \"mode\": \"marker\", \"marker\": {\"sizeref\": 200000, \"sizemode\": \"area\", \"size\": []}, \"name\": \"Yemen\", \"x\": []}, {\"text\": [], \"y\": [], \"mode\": \"marker\", \"marker\": {\"sizeref\": 200000, \"sizemode\": \"area\", \"size\": []}, \"name\": \"Russia\", \"x\": []}, {\"text\": [\"Indonesia\"], \"y\": [-7.13], \"mode\": \"marker\", \"marker\": {\"sizeref\": 200000, \"sizemode\": \"area\", \"size\": [null]}, \"name\": \"Indonesia\", \"x\": [107.83]}, {\"text\": [], \"y\": [], \"mode\": \"marker\", \"marker\": {\"sizeref\": 200000, \"sizemode\": \"area\", \"size\": []}, \"name\": \"El Salvador\", \"x\": []}, {\"text\": [], \"y\": [], \"mode\": \"marker\", \"marker\": {\"sizeref\": 200000, \"sizemode\": \"area\", \"size\": []}, \"name\": \"Saudi Arabia\", \"x\": []}, {\"text\": [], \"y\": [], \"mode\": \"marker\", \"marker\": {\"sizeref\": 200000, \"sizemode\": \"area\", \"size\": []}, \"name\": \"Iceland\", \"x\": []}, {\"text\": [], \"y\": [], \"mode\": \"marker\", \"marker\": {\"sizeref\": 200000, \"sizemode\": \"area\", \"size\": []}, \"name\": \"Mexico\", \"x\": []}, {\"text\": [], \"y\": [], \"mode\": \"marker\", \"marker\": {\"sizeref\": 200000, \"sizemode\": \"area\", \"size\": []}, \"name\": \"North Korea\", \"x\": []}, {\"text\": [], \"y\": [], \"mode\": \"marker\", \"marker\": {\"sizeref\": 200000, \"sizemode\": \"area\", \"size\": []}, \"name\": \"Ethiopia\", \"x\": []}, {\"text\": [], \"y\": [], \"mode\": \"marker\", \"marker\": {\"sizeref\": 200000, \"sizemode\": \"area\", \"size\": []}, \"name\": \"Guatemala\", \"x\": []}, {\"text\": [], \"y\": [], \"mode\": \"marker\", \"marker\": {\"sizeref\": 200000, \"sizemode\": \"area\", \"size\": []}, \"name\": \"Solomon Is.\", \"x\": []}, {\"text\": [\"Portugal\"], \"y\": [38.65], \"mode\": \"marker\", \"marker\": {\"sizeref\": 200000, \"sizemode\": \"area\", \"size\": [1.0]}, \"name\": \"Portugal\", \"x\": [-28.08]}, {\"text\": [], \"y\": [], \"mode\": \"marker\", \"marker\": {\"sizeref\": 200000, \"sizemode\": \"area\", \"size\": []}, \"name\": \"Colombia\", \"x\": []}, {\"text\": [], \"y\": [], \"mode\": \"marker\", \"marker\": {\"sizeref\": 200000, \"sizemode\": \"area\", \"size\": []}, \"name\": \"Pacific Ocean\", \"x\": []}, {\"text\": [], \"y\": [], \"mode\": \"marker\", \"marker\": {\"sizeref\": 200000, \"sizemode\": \"area\", \"size\": []}, \"name\": \"Peru\", \"x\": []}, {\"text\": [], \"y\": [], \"mode\": \"marker\", \"marker\": {\"sizeref\": 200000, \"sizemode\": \"area\", \"size\": []}, \"name\": \"China\", \"x\": []}, {\"text\": [], \"y\": [], \"mode\": \"marker\", \"marker\": {\"sizeref\": 200000, \"sizemode\": \"area\", \"size\": []}, \"name\": \"Spain\", \"x\": []}, {\"text\": [], \"y\": [], \"mode\": \"marker\", \"marker\": {\"sizeref\": 200000, \"sizemode\": \"area\", \"size\": []}, \"name\": \"Canada\", \"x\": []}, {\"text\": [\"Tanzania\"], \"y\": [-9.23], \"mode\": \"marker\", \"marker\": {\"sizeref\": 200000, \"sizemode\": \"area\", \"size\": [2.0]}, \"name\": \"Tanzania\", \"x\": [33.78]}, {\"text\": [], \"y\": [], \"mode\": \"marker\", \"marker\": {\"sizeref\": 200000, \"sizemode\": \"area\", \"size\": []}, \"name\": \"St. Vincent & the Grenadines\", \"x\": []}, {\"text\": [], \"y\": [], \"mode\": \"marker\", \"marker\": {\"sizeref\": 200000, \"sizemode\": \"area\", \"size\": []}, \"name\": \"Chile\", \"x\": []}, {\"text\": [], \"y\": [], \"mode\": \"marker\", \"marker\": {\"sizeref\": 200000, \"sizemode\": \"area\", \"size\": []}, \"name\": \"Turkey\", \"x\": []}, {\"text\": [], \"y\": [], \"mode\": \"marker\", \"marker\": {\"sizeref\": 200000, \"sizemode\": \"area\", \"size\": []}, \"name\": \"St. Kitts & Nevis\", \"x\": []}, {\"text\": [], \"y\": [], \"mode\": \"marker\", \"marker\": {\"sizeref\": 200000, \"sizemode\": \"area\", \"size\": []}, \"name\": \"Guadeloupe\", \"x\": []}, {\"text\": [], \"y\": [], \"mode\": \"marker\", \"marker\": {\"sizeref\": 200000, \"sizemode\": \"area\", \"size\": []}, \"name\": \"Cape Verde\", \"x\": []}, {\"text\": [], \"y\": [], \"mode\": \"marker\", \"marker\": {\"sizeref\": 200000, \"sizemode\": \"area\", \"size\": []}, \"name\": \"Tonga\", \"x\": []}, {\"text\": [], \"y\": [], \"mode\": \"marker\", \"marker\": {\"sizeref\": 200000, \"sizemode\": \"area\", \"size\": []}, \"name\": \"Taiwan\", \"x\": []}, {\"text\": [], \"y\": [], \"mode\": \"marker\", \"marker\": {\"sizeref\": 200000, \"sizemode\": \"area\", \"size\": []}, \"name\": \"Eritrea\", \"x\": []}, {\"text\": [], \"y\": [], \"mode\": \"marker\", \"marker\": {\"sizeref\": 200000, \"sizemode\": \"area\", \"size\": []}, \"name\": \"Comoros\", \"x\": []}, {\"text\": [], \"y\": [], \"mode\": \"marker\", \"marker\": {\"sizeref\": 200000, \"sizemode\": \"area\", \"size\": []}, \"name\": \"Martinique\", \"x\": []}, {\"text\": [], \"y\": [], \"mode\": \"marker\", \"marker\": {\"sizeref\": 200000, \"sizemode\": \"area\", \"size\": []}, \"name\": \"Samoa\", \"x\": []}, {\"text\": [], \"y\": [], \"mode\": \"marker\", \"marker\": {\"sizeref\": 200000, \"sizemode\": \"area\", \"size\": []}, \"name\": \"Cameroon\", \"x\": []}, {\"text\": [], \"y\": [], \"mode\": \"marker\", \"marker\": {\"sizeref\": 200000, \"sizemode\": \"area\", \"size\": []}, \"name\": \"Trinidad \", \"x\": []}, {\"text\": [], \"y\": [], \"mode\": \"marker\", \"marker\": {\"sizeref\": 200000, \"sizemode\": \"area\", \"size\": []}, \"name\": \"Congo, DRC\", \"x\": []}, {\"text\": [], \"y\": [], \"mode\": \"marker\", \"marker\": {\"sizeref\": 200000, \"sizemode\": \"area\", \"size\": []}, \"name\": \"Costa Rica\", \"x\": []}, {\"text\": [], \"y\": [], \"mode\": \"marker\", \"marker\": {\"sizeref\": 200000, \"sizemode\": \"area\", \"size\": []}, \"name\": \"Antarctica\", \"x\": []}, {\"text\": [], \"y\": [], \"mode\": \"marker\", \"marker\": {\"sizeref\": 200000, \"sizemode\": \"area\", \"size\": []}, \"name\": \"Reunion\", \"x\": []}, {\"text\": [], \"y\": [], \"mode\": \"marker\", \"marker\": {\"sizeref\": 200000, \"sizemode\": \"area\", \"size\": []}, \"name\": \"Montserrat\", \"x\": []}],\n",
       "            {\"hovermode\": \"closest\", \"xaxis\": {\"range\": [0, 180], \"title\": \"Longitude\"}, \"yaxis\": {\"title\": \"Latitude\"}, \"updatemenus\": [{\"y\": 0, \"buttons\": [{\"method\": \"animate\", \"label\": \"Play\", \"args\": [null, {\"frame\": {\"duration\": 500, \"redraw\": false}, \"fromcurrent\": true, \"transition\": {\"duration\": 300, \"easing\": \"quadratic-in-out\"}}]}, {\"method\": \"animate\", \"label\": \"Pause\", \"args\": [[null], {\"frame\": {\"duration\": 0, \"redraw\": false}, \"mode\": \"immediate\", \"transition\": {\"duration\": 0}}]}], \"showactive\": false, \"yanchor\": \"top\", \"pad\": {\"t\": 87, \"r\": 10}, \"xanchor\": \"right\", \"direction\": \"left\", \"type\": \"buttons\", \"x\": 0.1}], \"sliders\": [{\"currentvalue\": {\"font\": {\"size\": 20}, \"visible\": true, \"xanchor\": \"right\", \"prefix\": \"Year:\"}, \"y\": 0, \"active\": 0, \"transition\": {\"duration\": 300, \"easing\": \"cubic-in-out\"}, \"yanchor\": \"top\", \"pad\": {\"t\": 50, \"b\": 10}, \"xanchor\": \"left\", \"len\": 0.9, \"steps\": [{\"method\": \"animate\", \"label\": \"1800\", \"args\": [[\"1800\"], {\"frame\": {\"duration\": 300, \"redraw\": false}, \"mode\": \"immediate\", \"transition\": {\"duration\": 300}}]}, {\"method\": \"animate\", \"label\": \"1820\", \"args\": [[\"1820\"], {\"frame\": {\"duration\": 300, \"redraw\": false}, \"mode\": \"immediate\", \"transition\": {\"duration\": 300}}]}, {\"method\": \"animate\", \"label\": \"1840\", \"args\": [[\"1840\"], {\"frame\": {\"duration\": 300, \"redraw\": false}, \"mode\": \"immediate\", \"transition\": {\"duration\": 300}}]}, {\"method\": \"animate\", \"label\": \"1860\", \"args\": [[\"1860\"], {\"frame\": {\"duration\": 300, \"redraw\": false}, \"mode\": \"immediate\", \"transition\": {\"duration\": 300}}]}, {\"method\": \"animate\", \"label\": \"1880\", \"args\": [[\"1880\"], {\"frame\": {\"duration\": 300, \"redraw\": false}, \"mode\": \"immediate\", \"transition\": {\"duration\": 300}}]}, {\"method\": \"animate\", \"label\": \"1900\", \"args\": [[\"1900\"], {\"frame\": {\"duration\": 300, \"redraw\": false}, \"mode\": \"immediate\", \"transition\": {\"duration\": 300}}]}, {\"method\": \"animate\", \"label\": \"1910\", \"args\": [[\"1910\"], {\"frame\": {\"duration\": 300, \"redraw\": false}, \"mode\": \"immediate\", \"transition\": {\"duration\": 300}}]}, {\"method\": \"animate\", \"label\": \"1920\", \"args\": [[\"1920\"], {\"frame\": {\"duration\": 300, \"redraw\": false}, \"mode\": \"immediate\", \"transition\": {\"duration\": 300}}]}, {\"method\": \"animate\", \"label\": \"1930\", \"args\": [[\"1930\"], {\"frame\": {\"duration\": 300, \"redraw\": false}, \"mode\": \"immediate\", \"transition\": {\"duration\": 300}}]}, {\"method\": \"animate\", \"label\": \"1940\", \"args\": [[\"1940\"], {\"frame\": {\"duration\": 300, \"redraw\": false}, \"mode\": \"immediate\", \"transition\": {\"duration\": 300}}]}, {\"method\": \"animate\", \"label\": \"1950\", \"args\": [[\"1950\"], {\"frame\": {\"duration\": 300, \"redraw\": false}, \"mode\": \"immediate\", \"transition\": {\"duration\": 300}}]}, {\"method\": \"animate\", \"label\": \"1960\", \"args\": [[\"1960\"], {\"frame\": {\"duration\": 300, \"redraw\": false}, \"mode\": \"immediate\", \"transition\": {\"duration\": 300}}]}, {\"method\": \"animate\", \"label\": \"1970\", \"args\": [[\"1970\"], {\"frame\": {\"duration\": 300, \"redraw\": false}, \"mode\": \"immediate\", \"transition\": {\"duration\": 300}}]}, {\"method\": \"animate\", \"label\": \"1980\", \"args\": [[\"1980\"], {\"frame\": {\"duration\": 300, \"redraw\": false}, \"mode\": \"immediate\", \"transition\": {\"duration\": 300}}]}, {\"method\": \"animate\", \"label\": \"1990\", \"args\": [[\"1990\"], {\"frame\": {\"duration\": 300, \"redraw\": false}, \"mode\": \"immediate\", \"transition\": {\"duration\": 300}}]}, {\"method\": \"animate\", \"label\": \"2000\", \"args\": [[\"2000\"], {\"frame\": {\"duration\": 300, \"redraw\": false}, \"mode\": \"immediate\", \"transition\": {\"duration\": 300}}]}, {\"method\": \"animate\", \"label\": \"2010\", \"args\": [[\"2010\"], {\"frame\": {\"duration\": 300, \"redraw\": false}, \"mode\": \"immediate\", \"transition\": {\"duration\": 300}}]}, {\"method\": \"animate\", \"label\": \"2015\", \"args\": [[\"2015\"], {\"frame\": {\"duration\": 300, \"redraw\": false}, \"mode\": \"immediate\", \"transition\": {\"duration\": 300}}]}, {\"method\": \"animate\", \"label\": \"2018\", \"args\": [[\"2018\"], {\"frame\": {\"duration\": 300, \"redraw\": false}, \"mode\": \"immediate\", \"transition\": {\"duration\": 300}}]}], \"x\": 0.1}]},\n",
       "            {\"showLink\": true, \"linkText\": \"Export to plot.ly\"}\n",
       "        ).then(function () {return Plotly.addFrames('3d8bb84c-9b5b-4102-bbfc-167dc00ef41d',[{\"data\": [{\"text\": [], \"y\": [], \"mode\": \"marker\", \"marker\": {\"sizeref\": 200000, \"sizemode\": \"area\", \"size\": []}, \"name\": null, \"x\": []}, {\"text\": [], \"y\": [], \"mode\": \"marker\", \"marker\": {\"sizeref\": 200000, \"sizemode\": \"area\", \"size\": []}, \"name\": \"New Zealand\", \"x\": []}, {\"text\": [], \"y\": [], \"mode\": \"marker\", \"marker\": {\"sizeref\": 200000, \"sizemode\": \"area\", \"size\": []}, \"name\": \"Japan\", \"x\": []}, {\"text\": [], \"y\": [], \"mode\": \"marker\", \"marker\": {\"sizeref\": 200000, \"sizemode\": \"area\", \"size\": []}, \"name\": \"Nicaragua\", \"x\": []}, {\"text\": [], \"y\": [], \"mode\": \"marker\", \"marker\": {\"sizeref\": 200000, \"sizemode\": \"area\", \"size\": []}, \"name\": \"Papua New Guinea\", \"x\": []}, {\"text\": [\"Philippines\"], \"y\": [13.257], \"mode\": \"marker\", \"marker\": {\"sizeref\": 200000, \"sizemode\": \"area\", \"size\": [2.0]}, \"name\": \"Philippines\", \"x\": [123.685]}, {\"text\": [], \"y\": [], \"mode\": \"marker\", \"marker\": {\"sizeref\": 200000, \"sizemode\": \"area\", \"size\": []}, \"name\": \"Italy\", \"x\": []}, {\"text\": [\"United States\", \"United States\"], \"y\": [46.2, 19.692], \"mode\": \"marker\", \"marker\": {\"sizeref\": 200000, \"sizemode\": \"area\", \"size\": [5.0, 0.0]}, \"name\": \"United States\", \"x\": [-122.18, -155.87]}, {\"text\": [], \"y\": [], \"mode\": \"marker\", \"marker\": {\"sizeref\": 200000, \"sizemode\": \"area\", \"size\": []}, \"name\": \"Greece\", \"x\": []}, {\"text\": [], \"y\": [], \"mode\": \"marker\", \"marker\": {\"sizeref\": 200000, \"sizemode\": \"area\", \"size\": []}, \"name\": \"Ecuador\", \"x\": []}, {\"text\": [], \"y\": [], \"mode\": \"marker\", \"marker\": {\"sizeref\": 200000, \"sizemode\": \"area\", \"size\": []}, \"name\": \"Vanuatu\", \"x\": []}, {\"text\": [], \"y\": [], \"mode\": \"marker\", \"marker\": {\"sizeref\": 200000, \"sizemode\": \"area\", \"size\": []}, \"name\": \"Yemen\", \"x\": []}, {\"text\": [], \"y\": [], \"mode\": \"marker\", \"marker\": {\"sizeref\": 200000, \"sizemode\": \"area\", \"size\": []}, \"name\": \"Russia\", \"x\": []}, {\"text\": [\"Indonesia\"], \"y\": [-7.13], \"mode\": \"marker\", \"marker\": {\"sizeref\": 200000, \"sizemode\": \"area\", \"size\": [null]}, \"name\": \"Indonesia\", \"x\": [107.83]}, {\"text\": [], \"y\": [], \"mode\": \"marker\", \"marker\": {\"sizeref\": 200000, \"sizemode\": \"area\", \"size\": []}, \"name\": \"El Salvador\", \"x\": []}, {\"text\": [], \"y\": [], \"mode\": \"marker\", \"marker\": {\"sizeref\": 200000, \"sizemode\": \"area\", \"size\": []}, \"name\": \"Saudi Arabia\", \"x\": []}, {\"text\": [], \"y\": [], \"mode\": \"marker\", \"marker\": {\"sizeref\": 200000, \"sizemode\": \"area\", \"size\": []}, \"name\": \"Iceland\", \"x\": []}, {\"text\": [], \"y\": [], \"mode\": \"marker\", \"marker\": {\"sizeref\": 200000, \"sizemode\": \"area\", \"size\": []}, \"name\": \"Mexico\", \"x\": []}, {\"text\": [], \"y\": [], \"mode\": \"marker\", \"marker\": {\"sizeref\": 200000, \"sizemode\": \"area\", \"size\": []}, \"name\": \"North Korea\", \"x\": []}, {\"text\": [], \"y\": [], \"mode\": \"marker\", \"marker\": {\"sizeref\": 200000, \"sizemode\": \"area\", \"size\": []}, \"name\": \"Ethiopia\", \"x\": []}, {\"text\": [], \"y\": [], \"mode\": \"marker\", \"marker\": {\"sizeref\": 200000, \"sizemode\": \"area\", \"size\": []}, \"name\": \"Guatemala\", \"x\": []}, {\"text\": [], \"y\": [], \"mode\": \"marker\", \"marker\": {\"sizeref\": 200000, \"sizemode\": \"area\", \"size\": []}, \"name\": \"Solomon Is.\", \"x\": []}, {\"text\": [\"Portugal\"], \"y\": [38.65], \"mode\": \"marker\", \"marker\": {\"sizeref\": 200000, \"sizemode\": \"area\", \"size\": [1.0]}, \"name\": \"Portugal\", \"x\": [-28.08]}, {\"text\": [], \"y\": [], \"mode\": \"marker\", \"marker\": {\"sizeref\": 200000, \"sizemode\": \"area\", \"size\": []}, \"name\": \"Colombia\", \"x\": []}, {\"text\": [], \"y\": [], \"mode\": \"marker\", \"marker\": {\"sizeref\": 200000, \"sizemode\": \"area\", \"size\": []}, \"name\": \"Pacific Ocean\", \"x\": []}, {\"text\": [], \"y\": [], \"mode\": \"marker\", \"marker\": {\"sizeref\": 200000, \"sizemode\": \"area\", \"size\": []}, \"name\": \"Peru\", \"x\": []}, {\"text\": [], \"y\": [], \"mode\": \"marker\", \"marker\": {\"sizeref\": 200000, \"sizemode\": \"area\", \"size\": []}, \"name\": \"China\", \"x\": []}, {\"text\": [], \"y\": [], \"mode\": \"marker\", \"marker\": {\"sizeref\": 200000, \"sizemode\": \"area\", \"size\": []}, \"name\": \"Spain\", \"x\": []}, {\"text\": [], \"y\": [], \"mode\": \"marker\", \"marker\": {\"sizeref\": 200000, \"sizemode\": \"area\", \"size\": []}, \"name\": \"Canada\", \"x\": []}, {\"text\": [\"Tanzania\"], \"y\": [-9.23], \"mode\": \"marker\", \"marker\": {\"sizeref\": 200000, \"sizemode\": \"area\", \"size\": [2.0]}, \"name\": \"Tanzania\", \"x\": [33.78]}, {\"text\": [], \"y\": [], \"mode\": \"marker\", \"marker\": {\"sizeref\": 200000, \"sizemode\": \"area\", \"size\": []}, \"name\": \"St. Vincent & the Grenadines\", \"x\": []}, {\"text\": [], \"y\": [], \"mode\": \"marker\", \"marker\": {\"sizeref\": 200000, \"sizemode\": \"area\", \"size\": []}, \"name\": \"Chile\", \"x\": []}, {\"text\": [], \"y\": [], \"mode\": \"marker\", \"marker\": {\"sizeref\": 200000, \"sizemode\": \"area\", \"size\": []}, \"name\": \"Turkey\", \"x\": []}, {\"text\": [], \"y\": [], \"mode\": \"marker\", \"marker\": {\"sizeref\": 200000, \"sizemode\": \"area\", \"size\": []}, \"name\": \"St. Kitts & Nevis\", \"x\": []}, {\"text\": [], \"y\": [], \"mode\": \"marker\", \"marker\": {\"sizeref\": 200000, \"sizemode\": \"area\", \"size\": []}, \"name\": \"Guadeloupe\", \"x\": []}, {\"text\": [], \"y\": [], \"mode\": \"marker\", \"marker\": {\"sizeref\": 200000, \"sizemode\": \"area\", \"size\": []}, \"name\": \"Cape Verde\", \"x\": []}, {\"text\": [], \"y\": [], \"mode\": \"marker\", \"marker\": {\"sizeref\": 200000, \"sizemode\": \"area\", \"size\": []}, \"name\": \"Tonga\", \"x\": []}, {\"text\": [], \"y\": [], \"mode\": \"marker\", \"marker\": {\"sizeref\": 200000, \"sizemode\": \"area\", \"size\": []}, \"name\": \"Taiwan\", \"x\": []}, {\"text\": [], \"y\": [], \"mode\": \"marker\", \"marker\": {\"sizeref\": 200000, \"sizemode\": \"area\", \"size\": []}, \"name\": \"Eritrea\", \"x\": []}, {\"text\": [], \"y\": [], \"mode\": \"marker\", \"marker\": {\"sizeref\": 200000, \"sizemode\": \"area\", \"size\": []}, \"name\": \"Comoros\", \"x\": []}, {\"text\": [], \"y\": [], \"mode\": \"marker\", \"marker\": {\"sizeref\": 200000, \"sizemode\": \"area\", \"size\": []}, \"name\": \"Martinique\", \"x\": []}, {\"text\": [], \"y\": [], \"mode\": \"marker\", \"marker\": {\"sizeref\": 200000, \"sizemode\": \"area\", \"size\": []}, \"name\": \"Samoa\", \"x\": []}, {\"text\": [], \"y\": [], \"mode\": \"marker\", \"marker\": {\"sizeref\": 200000, \"sizemode\": \"area\", \"size\": []}, \"name\": \"Cameroon\", \"x\": []}, {\"text\": [], \"y\": [], \"mode\": \"marker\", \"marker\": {\"sizeref\": 200000, \"sizemode\": \"area\", \"size\": []}, \"name\": \"Trinidad \", \"x\": []}, {\"text\": [], \"y\": [], \"mode\": \"marker\", \"marker\": {\"sizeref\": 200000, \"sizemode\": \"area\", \"size\": []}, \"name\": \"Congo, DRC\", \"x\": []}, {\"text\": [], \"y\": [], \"mode\": \"marker\", \"marker\": {\"sizeref\": 200000, \"sizemode\": \"area\", \"size\": []}, \"name\": \"Costa Rica\", \"x\": []}, {\"text\": [], \"y\": [], \"mode\": \"marker\", \"marker\": {\"sizeref\": 200000, \"sizemode\": \"area\", \"size\": []}, \"name\": \"Antarctica\", \"x\": []}, {\"text\": [], \"y\": [], \"mode\": \"marker\", \"marker\": {\"sizeref\": 200000, \"sizemode\": \"area\", \"size\": []}, \"name\": \"Reunion\", \"x\": []}, {\"text\": [], \"y\": [], \"mode\": \"marker\", \"marker\": {\"sizeref\": 200000, \"sizemode\": \"area\", \"size\": []}, \"name\": \"Montserrat\", \"x\": []}], \"name\": \"1800\"}, {\"data\": [{\"text\": [], \"y\": [], \"mode\": \"marker\", \"marker\": {\"sizeref\": 200000, \"sizemode\": \"area\", \"size\": []}, \"name\": null, \"x\": []}, {\"text\": [], \"y\": [], \"mode\": \"marker\", \"marker\": {\"sizeref\": 200000, \"sizemode\": \"area\", \"size\": []}, \"name\": \"New Zealand\", \"x\": []}, {\"text\": [], \"y\": [], \"mode\": \"marker\", \"marker\": {\"sizeref\": 200000, \"sizemode\": \"area\", \"size\": []}, \"name\": \"Japan\", \"x\": []}, {\"text\": [], \"y\": [], \"mode\": \"marker\", \"marker\": {\"sizeref\": 200000, \"sizemode\": \"area\", \"size\": []}, \"name\": \"Nicaragua\", \"x\": []}, {\"text\": [], \"y\": [], \"mode\": \"marker\", \"marker\": {\"sizeref\": 200000, \"sizemode\": \"area\", \"size\": []}, \"name\": \"Papua New Guinea\", \"x\": []}, {\"text\": [], \"y\": [], \"mode\": \"marker\", \"marker\": {\"sizeref\": 200000, \"sizemode\": \"area\", \"size\": []}, \"name\": \"Philippines\", \"x\": []}, {\"text\": [], \"y\": [], \"mode\": \"marker\", \"marker\": {\"sizeref\": 200000, \"sizemode\": \"area\", \"size\": []}, \"name\": \"Italy\", \"x\": []}, {\"text\": [\"United States\"], \"y\": [54.52], \"mode\": \"marker\", \"marker\": {\"sizeref\": 200000, \"sizemode\": \"area\", \"size\": [2.0]}, \"name\": \"United States\", \"x\": [-164.65]}, {\"text\": [], \"y\": [], \"mode\": \"marker\", \"marker\": {\"sizeref\": 200000, \"sizemode\": \"area\", \"size\": []}, \"name\": \"Greece\", \"x\": []}, {\"text\": [], \"y\": [], \"mode\": \"marker\", \"marker\": {\"sizeref\": 200000, \"sizemode\": \"area\", \"size\": []}, \"name\": \"Ecuador\", \"x\": []}, {\"text\": [], \"y\": [], \"mode\": \"marker\", \"marker\": {\"sizeref\": 200000, \"sizemode\": \"area\", \"size\": []}, \"name\": \"Vanuatu\", \"x\": []}, {\"text\": [], \"y\": [], \"mode\": \"marker\", \"marker\": {\"sizeref\": 200000, \"sizemode\": \"area\", \"size\": []}, \"name\": \"Yemen\", \"x\": []}, {\"text\": [], \"y\": [], \"mode\": \"marker\", \"marker\": {\"sizeref\": 200000, \"sizemode\": \"area\", \"size\": []}, \"name\": \"Russia\", \"x\": []}, {\"text\": [], \"y\": [], \"mode\": \"marker\", \"marker\": {\"sizeref\": 200000, \"sizemode\": \"area\", \"size\": []}, \"name\": \"Indonesia\", \"x\": []}, {\"text\": [], \"y\": [], \"mode\": \"marker\", \"marker\": {\"sizeref\": 200000, \"sizemode\": \"area\", \"size\": []}, \"name\": \"El Salvador\", \"x\": []}, {\"text\": [], \"y\": [], \"mode\": \"marker\", \"marker\": {\"sizeref\": 200000, \"sizemode\": \"area\", \"size\": []}, \"name\": \"Saudi Arabia\", \"x\": []}, {\"text\": [], \"y\": [], \"mode\": \"marker\", \"marker\": {\"sizeref\": 200000, \"sizemode\": \"area\", \"size\": []}, \"name\": \"Iceland\", \"x\": []}, {\"text\": [], \"y\": [], \"mode\": \"marker\", \"marker\": {\"sizeref\": 200000, \"sizemode\": \"area\", \"size\": []}, \"name\": \"Mexico\", \"x\": []}, {\"text\": [], \"y\": [], \"mode\": \"marker\", \"marker\": {\"sizeref\": 200000, \"sizemode\": \"area\", \"size\": []}, \"name\": \"North Korea\", \"x\": []}, {\"text\": [], \"y\": [], \"mode\": \"marker\", \"marker\": {\"sizeref\": 200000, \"sizemode\": \"area\", \"size\": []}, \"name\": \"Ethiopia\", \"x\": []}, {\"text\": [], \"y\": [], \"mode\": \"marker\", \"marker\": {\"sizeref\": 200000, \"sizemode\": \"area\", \"size\": []}, \"name\": \"Guatemala\", \"x\": []}, {\"text\": [], \"y\": [], \"mode\": \"marker\", \"marker\": {\"sizeref\": 200000, \"sizemode\": \"area\", \"size\": []}, \"name\": \"Solomon Is.\", \"x\": []}, {\"text\": [], \"y\": [], \"mode\": \"marker\", \"marker\": {\"sizeref\": 200000, \"sizemode\": \"area\", \"size\": []}, \"name\": \"Portugal\", \"x\": []}, {\"text\": [], \"y\": [], \"mode\": \"marker\", \"marker\": {\"sizeref\": 200000, \"sizemode\": \"area\", \"size\": []}, \"name\": \"Colombia\", \"x\": []}, {\"text\": [\"Pacific Ocean\"], \"y\": [-4.525], \"mode\": \"marker\", \"marker\": {\"sizeref\": 200000, \"sizemode\": \"area\", \"size\": [2.0]}, \"name\": \"Pacific Ocean\", \"x\": [129.871]}, {\"text\": [], \"y\": [], \"mode\": \"marker\", \"marker\": {\"sizeref\": 200000, \"sizemode\": \"area\", \"size\": []}, \"name\": \"Peru\", \"x\": []}, {\"text\": [], \"y\": [], \"mode\": \"marker\", \"marker\": {\"sizeref\": 200000, \"sizemode\": \"area\", \"size\": []}, \"name\": \"China\", \"x\": []}, {\"text\": [], \"y\": [], \"mode\": \"marker\", \"marker\": {\"sizeref\": 200000, \"sizemode\": \"area\", \"size\": []}, \"name\": \"Spain\", \"x\": []}, {\"text\": [], \"y\": [], \"mode\": \"marker\", \"marker\": {\"sizeref\": 200000, \"sizemode\": \"area\", \"size\": []}, \"name\": \"Canada\", \"x\": []}, {\"text\": [], \"y\": [], \"mode\": \"marker\", \"marker\": {\"sizeref\": 200000, \"sizemode\": \"area\", \"size\": []}, \"name\": \"Tanzania\", \"x\": []}, {\"text\": [], \"y\": [], \"mode\": \"marker\", \"marker\": {\"sizeref\": 200000, \"sizemode\": \"area\", \"size\": []}, \"name\": \"St. Vincent & the Grenadines\", \"x\": []}, {\"text\": [], \"y\": [], \"mode\": \"marker\", \"marker\": {\"sizeref\": 200000, \"sizemode\": \"area\", \"size\": []}, \"name\": \"Chile\", \"x\": []}, {\"text\": [], \"y\": [], \"mode\": \"marker\", \"marker\": {\"sizeref\": 200000, \"sizemode\": \"area\", \"size\": []}, \"name\": \"Turkey\", \"x\": []}, {\"text\": [], \"y\": [], \"mode\": \"marker\", \"marker\": {\"sizeref\": 200000, \"sizemode\": \"area\", \"size\": []}, \"name\": \"St. Kitts & Nevis\", \"x\": []}, {\"text\": [], \"y\": [], \"mode\": \"marker\", \"marker\": {\"sizeref\": 200000, \"sizemode\": \"area\", \"size\": []}, \"name\": \"Guadeloupe\", \"x\": []}, {\"text\": [], \"y\": [], \"mode\": \"marker\", \"marker\": {\"sizeref\": 200000, \"sizemode\": \"area\", \"size\": []}, \"name\": \"Cape Verde\", \"x\": []}, {\"text\": [], \"y\": [], \"mode\": \"marker\", \"marker\": {\"sizeref\": 200000, \"sizemode\": \"area\", \"size\": []}, \"name\": \"Tonga\", \"x\": []}, {\"text\": [], \"y\": [], \"mode\": \"marker\", \"marker\": {\"sizeref\": 200000, \"sizemode\": \"area\", \"size\": []}, \"name\": \"Taiwan\", \"x\": []}, {\"text\": [], \"y\": [], \"mode\": \"marker\", \"marker\": {\"sizeref\": 200000, \"sizemode\": \"area\", \"size\": []}, \"name\": \"Eritrea\", \"x\": []}, {\"text\": [], \"y\": [], \"mode\": \"marker\", \"marker\": {\"sizeref\": 200000, \"sizemode\": \"area\", \"size\": []}, \"name\": \"Comoros\", \"x\": []}, {\"text\": [], \"y\": [], \"mode\": \"marker\", \"marker\": {\"sizeref\": 200000, \"sizemode\": \"area\", \"size\": []}, \"name\": \"Martinique\", \"x\": []}, {\"text\": [], \"y\": [], \"mode\": \"marker\", \"marker\": {\"sizeref\": 200000, \"sizemode\": \"area\", \"size\": []}, \"name\": \"Samoa\", \"x\": []}, {\"text\": [], \"y\": [], \"mode\": \"marker\", \"marker\": {\"sizeref\": 200000, \"sizemode\": \"area\", \"size\": []}, \"name\": \"Cameroon\", \"x\": []}, {\"text\": [], \"y\": [], \"mode\": \"marker\", \"marker\": {\"sizeref\": 200000, \"sizemode\": \"area\", \"size\": []}, \"name\": \"Trinidad \", \"x\": []}, {\"text\": [], \"y\": [], \"mode\": \"marker\", \"marker\": {\"sizeref\": 200000, \"sizemode\": \"area\", \"size\": []}, \"name\": \"Congo, DRC\", \"x\": []}, {\"text\": [], \"y\": [], \"mode\": \"marker\", \"marker\": {\"sizeref\": 200000, \"sizemode\": \"area\", \"size\": []}, \"name\": \"Costa Rica\", \"x\": []}, {\"text\": [], \"y\": [], \"mode\": \"marker\", \"marker\": {\"sizeref\": 200000, \"sizemode\": \"area\", \"size\": []}, \"name\": \"Antarctica\", \"x\": []}, {\"text\": [], \"y\": [], \"mode\": \"marker\", \"marker\": {\"sizeref\": 200000, \"sizemode\": \"area\", \"size\": []}, \"name\": \"Reunion\", \"x\": []}, {\"text\": [], \"y\": [], \"mode\": \"marker\", \"marker\": {\"sizeref\": 200000, \"sizemode\": \"area\", \"size\": []}, \"name\": \"Montserrat\", \"x\": []}], \"name\": \"1820\"}, {\"data\": [{\"text\": [], \"y\": [], \"mode\": \"marker\", \"marker\": {\"sizeref\": 200000, \"sizemode\": \"area\", \"size\": []}, \"name\": null, \"x\": []}, {\"text\": [], \"y\": [], \"mode\": \"marker\", \"marker\": {\"sizeref\": 200000, \"sizemode\": \"area\", \"size\": []}, \"name\": \"New Zealand\", \"x\": []}, {\"text\": [], \"y\": [], \"mode\": \"marker\", \"marker\": {\"sizeref\": 200000, \"sizemode\": \"area\", \"size\": []}, \"name\": \"Japan\", \"x\": []}, {\"text\": [], \"y\": [], \"mode\": \"marker\", \"marker\": {\"sizeref\": 200000, \"sizemode\": \"area\", \"size\": []}, \"name\": \"Nicaragua\", \"x\": []}, {\"text\": [], \"y\": [], \"mode\": \"marker\", \"marker\": {\"sizeref\": 200000, \"sizemode\": \"area\", \"size\": []}, \"name\": \"Papua New Guinea\", \"x\": []}, {\"text\": [], \"y\": [], \"mode\": \"marker\", \"marker\": {\"sizeref\": 200000, \"sizemode\": \"area\", \"size\": []}, \"name\": \"Philippines\", \"x\": []}, {\"text\": [], \"y\": [], \"mode\": \"marker\", \"marker\": {\"sizeref\": 200000, \"sizemode\": \"area\", \"size\": []}, \"name\": \"Italy\", \"x\": []}, {\"text\": [\"United States\"], \"y\": [19.425], \"mode\": \"marker\", \"marker\": {\"sizeref\": 200000, \"sizemode\": \"area\", \"size\": [0.0]}, \"name\": \"United States\", \"x\": [-155.292]}, {\"text\": [], \"y\": [], \"mode\": \"marker\", \"marker\": {\"sizeref\": 200000, \"sizemode\": \"area\", \"size\": []}, \"name\": \"Greece\", \"x\": []}, {\"text\": [], \"y\": [], \"mode\": \"marker\", \"marker\": {\"sizeref\": 200000, \"sizemode\": \"area\", \"size\": []}, \"name\": \"Ecuador\", \"x\": []}, {\"text\": [], \"y\": [], \"mode\": \"marker\", \"marker\": {\"sizeref\": 200000, \"sizemode\": \"area\", \"size\": []}, \"name\": \"Vanuatu\", \"x\": []}, {\"text\": [], \"y\": [], \"mode\": \"marker\", \"marker\": {\"sizeref\": 200000, \"sizemode\": \"area\", \"size\": []}, \"name\": \"Yemen\", \"x\": []}, {\"text\": [], \"y\": [], \"mode\": \"marker\", \"marker\": {\"sizeref\": 200000, \"sizemode\": \"area\", \"size\": []}, \"name\": \"Russia\", \"x\": []}, {\"text\": [\"Indonesia\"], \"y\": [0.8], \"mode\": \"marker\", \"marker\": {\"sizeref\": 200000, \"sizemode\": \"area\", \"size\": [2.0]}, \"name\": \"Indonesia\", \"x\": [127.325]}, {\"text\": [], \"y\": [], \"mode\": \"marker\", \"marker\": {\"sizeref\": 200000, \"sizemode\": \"area\", \"size\": []}, \"name\": \"El Salvador\", \"x\": []}, {\"text\": [], \"y\": [], \"mode\": \"marker\", \"marker\": {\"sizeref\": 200000, \"sizemode\": \"area\", \"size\": []}, \"name\": \"Saudi Arabia\", \"x\": []}, {\"text\": [], \"y\": [], \"mode\": \"marker\", \"marker\": {\"sizeref\": 200000, \"sizemode\": \"area\", \"size\": []}, \"name\": \"Iceland\", \"x\": []}, {\"text\": [], \"y\": [], \"mode\": \"marker\", \"marker\": {\"sizeref\": 200000, \"sizemode\": \"area\", \"size\": []}, \"name\": \"Mexico\", \"x\": []}, {\"text\": [], \"y\": [], \"mode\": \"marker\", \"marker\": {\"sizeref\": 200000, \"sizemode\": \"area\", \"size\": []}, \"name\": \"North Korea\", \"x\": []}, {\"text\": [], \"y\": [], \"mode\": \"marker\", \"marker\": {\"sizeref\": 200000, \"sizemode\": \"area\", \"size\": []}, \"name\": \"Ethiopia\", \"x\": []}, {\"text\": [], \"y\": [], \"mode\": \"marker\", \"marker\": {\"sizeref\": 200000, \"sizemode\": \"area\", \"size\": []}, \"name\": \"Guatemala\", \"x\": []}, {\"text\": [\"Solomon Is.\", \"Solomon Is.\"], \"y\": [-9.13, -10.38], \"mode\": \"marker\", \"marker\": {\"sizeref\": 200000, \"sizemode\": \"area\", \"size\": [3.0, 3.0]}, \"name\": \"Solomon Is.\", \"x\": [159.82, 165.8]}, {\"text\": [], \"y\": [], \"mode\": \"marker\", \"marker\": {\"sizeref\": 200000, \"sizemode\": \"area\", \"size\": []}, \"name\": \"Portugal\", \"x\": []}, {\"text\": [], \"y\": [], \"mode\": \"marker\", \"marker\": {\"sizeref\": 200000, \"sizemode\": \"area\", \"size\": []}, \"name\": \"Colombia\", \"x\": []}, {\"text\": [], \"y\": [], \"mode\": \"marker\", \"marker\": {\"sizeref\": 200000, \"sizemode\": \"area\", \"size\": []}, \"name\": \"Pacific Ocean\", \"x\": []}, {\"text\": [], \"y\": [], \"mode\": \"marker\", \"marker\": {\"sizeref\": 200000, \"sizemode\": \"area\", \"size\": []}, \"name\": \"Peru\", \"x\": []}, {\"text\": [], \"y\": [], \"mode\": \"marker\", \"marker\": {\"sizeref\": 200000, \"sizemode\": \"area\", \"size\": []}, \"name\": \"China\", \"x\": []}, {\"text\": [], \"y\": [], \"mode\": \"marker\", \"marker\": {\"sizeref\": 200000, \"sizemode\": \"area\", \"size\": []}, \"name\": \"Spain\", \"x\": []}, {\"text\": [], \"y\": [], \"mode\": \"marker\", \"marker\": {\"sizeref\": 200000, \"sizemode\": \"area\", \"size\": []}, \"name\": \"Canada\", \"x\": []}, {\"text\": [], \"y\": [], \"mode\": \"marker\", \"marker\": {\"sizeref\": 200000, \"sizemode\": \"area\", \"size\": []}, \"name\": \"Tanzania\", \"x\": []}, {\"text\": [], \"y\": [], \"mode\": \"marker\", \"marker\": {\"sizeref\": 200000, \"sizemode\": \"area\", \"size\": []}, \"name\": \"St. Vincent & the Grenadines\", \"x\": []}, {\"text\": [], \"y\": [], \"mode\": \"marker\", \"marker\": {\"sizeref\": 200000, \"sizemode\": \"area\", \"size\": []}, \"name\": \"Chile\", \"x\": []}, {\"text\": [\"Turkey\"], \"y\": [39.7], \"mode\": \"marker\", \"marker\": {\"sizeref\": 200000, \"sizemode\": \"area\", \"size\": [3.0]}, \"name\": \"Turkey\", \"x\": [44.28]}, {\"text\": [], \"y\": [], \"mode\": \"marker\", \"marker\": {\"sizeref\": 200000, \"sizemode\": \"area\", \"size\": []}, \"name\": \"St. Kitts & Nevis\", \"x\": []}, {\"text\": [], \"y\": [], \"mode\": \"marker\", \"marker\": {\"sizeref\": 200000, \"sizemode\": \"area\", \"size\": []}, \"name\": \"Guadeloupe\", \"x\": []}, {\"text\": [], \"y\": [], \"mode\": \"marker\", \"marker\": {\"sizeref\": 200000, \"sizemode\": \"area\", \"size\": []}, \"name\": \"Cape Verde\", \"x\": []}, {\"text\": [], \"y\": [], \"mode\": \"marker\", \"marker\": {\"sizeref\": 200000, \"sizemode\": \"area\", \"size\": []}, \"name\": \"Tonga\", \"x\": []}, {\"text\": [], \"y\": [], \"mode\": \"marker\", \"marker\": {\"sizeref\": 200000, \"sizemode\": \"area\", \"size\": []}, \"name\": \"Taiwan\", \"x\": []}, {\"text\": [], \"y\": [], \"mode\": \"marker\", \"marker\": {\"sizeref\": 200000, \"sizemode\": \"area\", \"size\": []}, \"name\": \"Eritrea\", \"x\": []}, {\"text\": [], \"y\": [], \"mode\": \"marker\", \"marker\": {\"sizeref\": 200000, \"sizemode\": \"area\", \"size\": []}, \"name\": \"Comoros\", \"x\": []}, {\"text\": [], \"y\": [], \"mode\": \"marker\", \"marker\": {\"sizeref\": 200000, \"sizemode\": \"area\", \"size\": []}, \"name\": \"Martinique\", \"x\": []}, {\"text\": [], \"y\": [], \"mode\": \"marker\", \"marker\": {\"sizeref\": 200000, \"sizemode\": \"area\", \"size\": []}, \"name\": \"Samoa\", \"x\": []}, {\"text\": [], \"y\": [], \"mode\": \"marker\", \"marker\": {\"sizeref\": 200000, \"sizemode\": \"area\", \"size\": []}, \"name\": \"Cameroon\", \"x\": []}, {\"text\": [], \"y\": [], \"mode\": \"marker\", \"marker\": {\"sizeref\": 200000, \"sizemode\": \"area\", \"size\": []}, \"name\": \"Trinidad \", \"x\": []}, {\"text\": [], \"y\": [], \"mode\": \"marker\", \"marker\": {\"sizeref\": 200000, \"sizemode\": \"area\", \"size\": []}, \"name\": \"Congo, DRC\", \"x\": []}, {\"text\": [], \"y\": [], \"mode\": \"marker\", \"marker\": {\"sizeref\": 200000, \"sizemode\": \"area\", \"size\": []}, \"name\": \"Costa Rica\", \"x\": []}, {\"text\": [], \"y\": [], \"mode\": \"marker\", \"marker\": {\"sizeref\": 200000, \"sizemode\": \"area\", \"size\": []}, \"name\": \"Antarctica\", \"x\": []}, {\"text\": [], \"y\": [], \"mode\": \"marker\", \"marker\": {\"sizeref\": 200000, \"sizemode\": \"area\", \"size\": []}, \"name\": \"Reunion\", \"x\": []}, {\"text\": [], \"y\": [], \"mode\": \"marker\", \"marker\": {\"sizeref\": 200000, \"sizemode\": \"area\", \"size\": []}, \"name\": \"Montserrat\", \"x\": []}], \"name\": \"1840\"}, {\"data\": [{\"text\": [], \"y\": [], \"mode\": \"marker\", \"marker\": {\"sizeref\": 200000, \"sizemode\": \"area\", \"size\": []}, \"name\": null, \"x\": []}, {\"text\": [], \"y\": [], \"mode\": \"marker\", \"marker\": {\"sizeref\": 200000, \"sizemode\": \"area\", \"size\": []}, \"name\": \"New Zealand\", \"x\": []}, {\"text\": [], \"y\": [], \"mode\": \"marker\", \"marker\": {\"sizeref\": 200000, \"sizemode\": \"area\", \"size\": []}, \"name\": \"Japan\", \"x\": []}, {\"text\": [], \"y\": [], \"mode\": \"marker\", \"marker\": {\"sizeref\": 200000, \"sizemode\": \"area\", \"size\": []}, \"name\": \"Nicaragua\", \"x\": []}, {\"text\": [], \"y\": [], \"mode\": \"marker\", \"marker\": {\"sizeref\": 200000, \"sizemode\": \"area\", \"size\": []}, \"name\": \"Papua New Guinea\", \"x\": []}, {\"text\": [], \"y\": [], \"mode\": \"marker\", \"marker\": {\"sizeref\": 200000, \"sizemode\": \"area\", \"size\": []}, \"name\": \"Philippines\", \"x\": []}, {\"text\": [], \"y\": [], \"mode\": \"marker\", \"marker\": {\"sizeref\": 200000, \"sizemode\": \"area\", \"size\": []}, \"name\": \"Italy\", \"x\": []}, {\"text\": [], \"y\": [], \"mode\": \"marker\", \"marker\": {\"sizeref\": 200000, \"sizemode\": \"area\", \"size\": []}, \"name\": \"United States\", \"x\": []}, {\"text\": [], \"y\": [], \"mode\": \"marker\", \"marker\": {\"sizeref\": 200000, \"sizemode\": \"area\", \"size\": []}, \"name\": \"Greece\", \"x\": []}, {\"text\": [], \"y\": [], \"mode\": \"marker\", \"marker\": {\"sizeref\": 200000, \"sizemode\": \"area\", \"size\": []}, \"name\": \"Ecuador\", \"x\": []}, {\"text\": [], \"y\": [], \"mode\": \"marker\", \"marker\": {\"sizeref\": 200000, \"sizemode\": \"area\", \"size\": []}, \"name\": \"Vanuatu\", \"x\": []}, {\"text\": [], \"y\": [], \"mode\": \"marker\", \"marker\": {\"sizeref\": 200000, \"sizemode\": \"area\", \"size\": []}, \"name\": \"Yemen\", \"x\": []}, {\"text\": [], \"y\": [], \"mode\": \"marker\", \"marker\": {\"sizeref\": 200000, \"sizemode\": \"area\", \"size\": []}, \"name\": \"Russia\", \"x\": []}, {\"text\": [\"Indonesia\"], \"y\": [-8.107999999999999], \"mode\": \"marker\", \"marker\": {\"sizeref\": 200000, \"sizemode\": \"area\", \"size\": [2.0]}, \"name\": \"Indonesia\", \"x\": [112.92]}, {\"text\": [], \"y\": [], \"mode\": \"marker\", \"marker\": {\"sizeref\": 200000, \"sizemode\": \"area\", \"size\": []}, \"name\": \"El Salvador\", \"x\": []}, {\"text\": [], \"y\": [], \"mode\": \"marker\", \"marker\": {\"sizeref\": 200000, \"sizemode\": \"area\", \"size\": []}, \"name\": \"Saudi Arabia\", \"x\": []}, {\"text\": [\"Iceland\"], \"y\": [64.42], \"mode\": \"marker\", \"marker\": {\"sizeref\": 200000, \"sizemode\": \"area\", \"size\": [null]}, \"name\": \"Iceland\", \"x\": [-17.33]}, {\"text\": [], \"y\": [], \"mode\": \"marker\", \"marker\": {\"sizeref\": 200000, \"sizemode\": \"area\", \"size\": []}, \"name\": \"Mexico\", \"x\": []}, {\"text\": [], \"y\": [], \"mode\": \"marker\", \"marker\": {\"sizeref\": 200000, \"sizemode\": \"area\", \"size\": []}, \"name\": \"North Korea\", \"x\": []}, {\"text\": [], \"y\": [], \"mode\": \"marker\", \"marker\": {\"sizeref\": 200000, \"sizemode\": \"area\", \"size\": []}, \"name\": \"Ethiopia\", \"x\": []}, {\"text\": [\"Guatemala\"], \"y\": [14.472999999999999], \"mode\": \"marker\", \"marker\": {\"sizeref\": 200000, \"sizemode\": \"area\", \"size\": [2.0]}, \"name\": \"Guatemala\", \"x\": [-90.88]}, {\"text\": [], \"y\": [], \"mode\": \"marker\", \"marker\": {\"sizeref\": 200000, \"sizemode\": \"area\", \"size\": []}, \"name\": \"Solomon Is.\", \"x\": []}, {\"text\": [], \"y\": [], \"mode\": \"marker\", \"marker\": {\"sizeref\": 200000, \"sizemode\": \"area\", \"size\": []}, \"name\": \"Portugal\", \"x\": []}, {\"text\": [], \"y\": [], \"mode\": \"marker\", \"marker\": {\"sizeref\": 200000, \"sizemode\": \"area\", \"size\": []}, \"name\": \"Colombia\", \"x\": []}, {\"text\": [], \"y\": [], \"mode\": \"marker\", \"marker\": {\"sizeref\": 200000, \"sizemode\": \"area\", \"size\": []}, \"name\": \"Pacific Ocean\", \"x\": []}, {\"text\": [], \"y\": [], \"mode\": \"marker\", \"marker\": {\"sizeref\": 200000, \"sizemode\": \"area\", \"size\": []}, \"name\": \"Peru\", \"x\": []}, {\"text\": [], \"y\": [], \"mode\": \"marker\", \"marker\": {\"sizeref\": 200000, \"sizemode\": \"area\", \"size\": []}, \"name\": \"China\", \"x\": []}, {\"text\": [], \"y\": [], \"mode\": \"marker\", \"marker\": {\"sizeref\": 200000, \"sizemode\": \"area\", \"size\": []}, \"name\": \"Spain\", \"x\": []}, {\"text\": [], \"y\": [], \"mode\": \"marker\", \"marker\": {\"sizeref\": 200000, \"sizemode\": \"area\", \"size\": []}, \"name\": \"Canada\", \"x\": []}, {\"text\": [], \"y\": [], \"mode\": \"marker\", \"marker\": {\"sizeref\": 200000, \"sizemode\": \"area\", \"size\": []}, \"name\": \"Tanzania\", \"x\": []}, {\"text\": [], \"y\": [], \"mode\": \"marker\", \"marker\": {\"sizeref\": 200000, \"sizemode\": \"area\", \"size\": []}, \"name\": \"St. Vincent & the Grenadines\", \"x\": []}, {\"text\": [], \"y\": [], \"mode\": \"marker\", \"marker\": {\"sizeref\": 200000, \"sizemode\": \"area\", \"size\": []}, \"name\": \"Chile\", \"x\": []}, {\"text\": [], \"y\": [], \"mode\": \"marker\", \"marker\": {\"sizeref\": 200000, \"sizemode\": \"area\", \"size\": []}, \"name\": \"Turkey\", \"x\": []}, {\"text\": [], \"y\": [], \"mode\": \"marker\", \"marker\": {\"sizeref\": 200000, \"sizemode\": \"area\", \"size\": []}, \"name\": \"St. Kitts & Nevis\", \"x\": []}, {\"text\": [], \"y\": [], \"mode\": \"marker\", \"marker\": {\"sizeref\": 200000, \"sizemode\": \"area\", \"size\": []}, \"name\": \"Guadeloupe\", \"x\": []}, {\"text\": [], \"y\": [], \"mode\": \"marker\", \"marker\": {\"sizeref\": 200000, \"sizemode\": \"area\", \"size\": []}, \"name\": \"Cape Verde\", \"x\": []}, {\"text\": [], \"y\": [], \"mode\": \"marker\", \"marker\": {\"sizeref\": 200000, \"sizemode\": \"area\", \"size\": []}, \"name\": \"Tonga\", \"x\": []}, {\"text\": [], \"y\": [], \"mode\": \"marker\", \"marker\": {\"sizeref\": 200000, \"sizemode\": \"area\", \"size\": []}, \"name\": \"Taiwan\", \"x\": []}, {\"text\": [], \"y\": [], \"mode\": \"marker\", \"marker\": {\"sizeref\": 200000, \"sizemode\": \"area\", \"size\": []}, \"name\": \"Eritrea\", \"x\": []}, {\"text\": [], \"y\": [], \"mode\": \"marker\", \"marker\": {\"sizeref\": 200000, \"sizemode\": \"area\", \"size\": []}, \"name\": \"Comoros\", \"x\": []}, {\"text\": [], \"y\": [], \"mode\": \"marker\", \"marker\": {\"sizeref\": 200000, \"sizemode\": \"area\", \"size\": []}, \"name\": \"Martinique\", \"x\": []}, {\"text\": [], \"y\": [], \"mode\": \"marker\", \"marker\": {\"sizeref\": 200000, \"sizemode\": \"area\", \"size\": []}, \"name\": \"Samoa\", \"x\": []}, {\"text\": [], \"y\": [], \"mode\": \"marker\", \"marker\": {\"sizeref\": 200000, \"sizemode\": \"area\", \"size\": []}, \"name\": \"Cameroon\", \"x\": []}, {\"text\": [], \"y\": [], \"mode\": \"marker\", \"marker\": {\"sizeref\": 200000, \"sizemode\": \"area\", \"size\": []}, \"name\": \"Trinidad \", \"x\": []}, {\"text\": [], \"y\": [], \"mode\": \"marker\", \"marker\": {\"sizeref\": 200000, \"sizemode\": \"area\", \"size\": []}, \"name\": \"Congo, DRC\", \"x\": []}, {\"text\": [], \"y\": [], \"mode\": \"marker\", \"marker\": {\"sizeref\": 200000, \"sizemode\": \"area\", \"size\": []}, \"name\": \"Costa Rica\", \"x\": []}, {\"text\": [], \"y\": [], \"mode\": \"marker\", \"marker\": {\"sizeref\": 200000, \"sizemode\": \"area\", \"size\": []}, \"name\": \"Antarctica\", \"x\": []}, {\"text\": [], \"y\": [], \"mode\": \"marker\", \"marker\": {\"sizeref\": 200000, \"sizemode\": \"area\", \"size\": []}, \"name\": \"Reunion\", \"x\": []}, {\"text\": [], \"y\": [], \"mode\": \"marker\", \"marker\": {\"sizeref\": 200000, \"sizemode\": \"area\", \"size\": []}, \"name\": \"Montserrat\", \"x\": []}], \"name\": \"1860\"}, {\"data\": [{\"text\": [], \"y\": [], \"mode\": \"marker\", \"marker\": {\"sizeref\": 200000, \"sizemode\": \"area\", \"size\": []}, \"name\": null, \"x\": []}, {\"text\": [], \"y\": [], \"mode\": \"marker\", \"marker\": {\"sizeref\": 200000, \"sizemode\": \"area\", \"size\": []}, \"name\": \"New Zealand\", \"x\": []}, {\"text\": [], \"y\": [], \"mode\": \"marker\", \"marker\": {\"sizeref\": 200000, \"sizemode\": \"area\", \"size\": []}, \"name\": \"Japan\", \"x\": []}, {\"text\": [], \"y\": [], \"mode\": \"marker\", \"marker\": {\"sizeref\": 200000, \"sizemode\": \"area\", \"size\": []}, \"name\": \"Nicaragua\", \"x\": []}, {\"text\": [], \"y\": [], \"mode\": \"marker\", \"marker\": {\"sizeref\": 200000, \"sizemode\": \"area\", \"size\": []}, \"name\": \"Papua New Guinea\", \"x\": []}, {\"text\": [], \"y\": [], \"mode\": \"marker\", \"marker\": {\"sizeref\": 200000, \"sizemode\": \"area\", \"size\": []}, \"name\": \"Philippines\", \"x\": []}, {\"text\": [], \"y\": [], \"mode\": \"marker\", \"marker\": {\"sizeref\": 200000, \"sizemode\": \"area\", \"size\": []}, \"name\": \"Italy\", \"x\": []}, {\"text\": [], \"y\": [], \"mode\": \"marker\", \"marker\": {\"sizeref\": 200000, \"sizemode\": \"area\", \"size\": []}, \"name\": \"United States\", \"x\": []}, {\"text\": [], \"y\": [], \"mode\": \"marker\", \"marker\": {\"sizeref\": 200000, \"sizemode\": \"area\", \"size\": []}, \"name\": \"Greece\", \"x\": []}, {\"text\": [], \"y\": [], \"mode\": \"marker\", \"marker\": {\"sizeref\": 200000, \"sizemode\": \"area\", \"size\": []}, \"name\": \"Ecuador\", \"x\": []}, {\"text\": [], \"y\": [], \"mode\": \"marker\", \"marker\": {\"sizeref\": 200000, \"sizemode\": \"area\", \"size\": []}, \"name\": \"Vanuatu\", \"x\": []}, {\"text\": [], \"y\": [], \"mode\": \"marker\", \"marker\": {\"sizeref\": 200000, \"sizemode\": \"area\", \"size\": []}, \"name\": \"Yemen\", \"x\": []}, {\"text\": [], \"y\": [], \"mode\": \"marker\", \"marker\": {\"sizeref\": 200000, \"sizemode\": \"area\", \"size\": []}, \"name\": \"Russia\", \"x\": []}, {\"text\": [], \"y\": [], \"mode\": \"marker\", \"marker\": {\"sizeref\": 200000, \"sizemode\": \"area\", \"size\": []}, \"name\": \"Indonesia\", \"x\": []}, {\"text\": [], \"y\": [], \"mode\": \"marker\", \"marker\": {\"sizeref\": 200000, \"sizemode\": \"area\", \"size\": []}, \"name\": \"El Salvador\", \"x\": []}, {\"text\": [], \"y\": [], \"mode\": \"marker\", \"marker\": {\"sizeref\": 200000, \"sizemode\": \"area\", \"size\": []}, \"name\": \"Saudi Arabia\", \"x\": []}, {\"text\": [], \"y\": [], \"mode\": \"marker\", \"marker\": {\"sizeref\": 200000, \"sizemode\": \"area\", \"size\": []}, \"name\": \"Iceland\", \"x\": []}, {\"text\": [], \"y\": [], \"mode\": \"marker\", \"marker\": {\"sizeref\": 200000, \"sizemode\": \"area\", \"size\": []}, \"name\": \"Mexico\", \"x\": []}, {\"text\": [], \"y\": [], \"mode\": \"marker\", \"marker\": {\"sizeref\": 200000, \"sizemode\": \"area\", \"size\": []}, \"name\": \"North Korea\", \"x\": []}, {\"text\": [], \"y\": [], \"mode\": \"marker\", \"marker\": {\"sizeref\": 200000, \"sizemode\": \"area\", \"size\": []}, \"name\": \"Ethiopia\", \"x\": []}, {\"text\": [], \"y\": [], \"mode\": \"marker\", \"marker\": {\"sizeref\": 200000, \"sizemode\": \"area\", \"size\": []}, \"name\": \"Guatemala\", \"x\": []}, {\"text\": [], \"y\": [], \"mode\": \"marker\", \"marker\": {\"sizeref\": 200000, \"sizemode\": \"area\", \"size\": []}, \"name\": \"Solomon Is.\", \"x\": []}, {\"text\": [], \"y\": [], \"mode\": \"marker\", \"marker\": {\"sizeref\": 200000, \"sizemode\": \"area\", \"size\": []}, \"name\": \"Portugal\", \"x\": []}, {\"text\": [], \"y\": [], \"mode\": \"marker\", \"marker\": {\"sizeref\": 200000, \"sizemode\": \"area\", \"size\": []}, \"name\": \"Colombia\", \"x\": []}, {\"text\": [], \"y\": [], \"mode\": \"marker\", \"marker\": {\"sizeref\": 200000, \"sizemode\": \"area\", \"size\": []}, \"name\": \"Pacific Ocean\", \"x\": []}, {\"text\": [], \"y\": [], \"mode\": \"marker\", \"marker\": {\"sizeref\": 200000, \"sizemode\": \"area\", \"size\": []}, \"name\": \"Peru\", \"x\": []}, {\"text\": [], \"y\": [], \"mode\": \"marker\", \"marker\": {\"sizeref\": 200000, \"sizemode\": \"area\", \"size\": []}, \"name\": \"China\", \"x\": []}, {\"text\": [], \"y\": [], \"mode\": \"marker\", \"marker\": {\"sizeref\": 200000, \"sizemode\": \"area\", \"size\": []}, \"name\": \"Spain\", \"x\": []}, {\"text\": [], \"y\": [], \"mode\": \"marker\", \"marker\": {\"sizeref\": 200000, \"sizemode\": \"area\", \"size\": []}, \"name\": \"Canada\", \"x\": []}, {\"text\": [], \"y\": [], \"mode\": \"marker\", \"marker\": {\"sizeref\": 200000, \"sizemode\": \"area\", \"size\": []}, \"name\": \"Tanzania\", \"x\": []}, {\"text\": [], \"y\": [], \"mode\": \"marker\", \"marker\": {\"sizeref\": 200000, \"sizemode\": \"area\", \"size\": []}, \"name\": \"St. Vincent & the Grenadines\", \"x\": []}, {\"text\": [], \"y\": [], \"mode\": \"marker\", \"marker\": {\"sizeref\": 200000, \"sizemode\": \"area\", \"size\": []}, \"name\": \"Chile\", \"x\": []}, {\"text\": [], \"y\": [], \"mode\": \"marker\", \"marker\": {\"sizeref\": 200000, \"sizemode\": \"area\", \"size\": []}, \"name\": \"Turkey\", \"x\": []}, {\"text\": [], \"y\": [], \"mode\": \"marker\", \"marker\": {\"sizeref\": 200000, \"sizemode\": \"area\", \"size\": []}, \"name\": \"St. Kitts & Nevis\", \"x\": []}, {\"text\": [], \"y\": [], \"mode\": \"marker\", \"marker\": {\"sizeref\": 200000, \"sizemode\": \"area\", \"size\": []}, \"name\": \"Guadeloupe\", \"x\": []}, {\"text\": [], \"y\": [], \"mode\": \"marker\", \"marker\": {\"sizeref\": 200000, \"sizemode\": \"area\", \"size\": []}, \"name\": \"Cape Verde\", \"x\": []}, {\"text\": [], \"y\": [], \"mode\": \"marker\", \"marker\": {\"sizeref\": 200000, \"sizemode\": \"area\", \"size\": []}, \"name\": \"Tonga\", \"x\": []}, {\"text\": [], \"y\": [], \"mode\": \"marker\", \"marker\": {\"sizeref\": 200000, \"sizemode\": \"area\", \"size\": []}, \"name\": \"Taiwan\", \"x\": []}, {\"text\": [], \"y\": [], \"mode\": \"marker\", \"marker\": {\"sizeref\": 200000, \"sizemode\": \"area\", \"size\": []}, \"name\": \"Eritrea\", \"x\": []}, {\"text\": [], \"y\": [], \"mode\": \"marker\", \"marker\": {\"sizeref\": 200000, \"sizemode\": \"area\", \"size\": []}, \"name\": \"Comoros\", \"x\": []}, {\"text\": [], \"y\": [], \"mode\": \"marker\", \"marker\": {\"sizeref\": 200000, \"sizemode\": \"area\", \"size\": []}, \"name\": \"Martinique\", \"x\": []}, {\"text\": [], \"y\": [], \"mode\": \"marker\", \"marker\": {\"sizeref\": 200000, \"sizemode\": \"area\", \"size\": []}, \"name\": \"Samoa\", \"x\": []}, {\"text\": [], \"y\": [], \"mode\": \"marker\", \"marker\": {\"sizeref\": 200000, \"sizemode\": \"area\", \"size\": []}, \"name\": \"Cameroon\", \"x\": []}, {\"text\": [], \"y\": [], \"mode\": \"marker\", \"marker\": {\"sizeref\": 200000, \"sizemode\": \"area\", \"size\": []}, \"name\": \"Trinidad \", \"x\": []}, {\"text\": [], \"y\": [], \"mode\": \"marker\", \"marker\": {\"sizeref\": 200000, \"sizemode\": \"area\", \"size\": []}, \"name\": \"Congo, DRC\", \"x\": []}, {\"text\": [], \"y\": [], \"mode\": \"marker\", \"marker\": {\"sizeref\": 200000, \"sizemode\": \"area\", \"size\": []}, \"name\": \"Costa Rica\", \"x\": []}, {\"text\": [], \"y\": [], \"mode\": \"marker\", \"marker\": {\"sizeref\": 200000, \"sizemode\": \"area\", \"size\": []}, \"name\": \"Antarctica\", \"x\": []}, {\"text\": [], \"y\": [], \"mode\": \"marker\", \"marker\": {\"sizeref\": 200000, \"sizemode\": \"area\", \"size\": []}, \"name\": \"Reunion\", \"x\": []}, {\"text\": [], \"y\": [], \"mode\": \"marker\", \"marker\": {\"sizeref\": 200000, \"sizemode\": \"area\", \"size\": []}, \"name\": \"Montserrat\", \"x\": []}], \"name\": \"1880\"}, {\"data\": [{\"text\": [], \"y\": [], \"mode\": \"marker\", \"marker\": {\"sizeref\": 200000, \"sizemode\": \"area\", \"size\": []}, \"name\": null, \"x\": []}, {\"text\": [], \"y\": [], \"mode\": \"marker\", \"marker\": {\"sizeref\": 200000, \"sizemode\": \"area\", \"size\": []}, \"name\": \"New Zealand\", \"x\": []}, {\"text\": [\"Japan\", \"Japan\", \"Japan\"], \"y\": [36.4, 31.93, 37.62], \"mode\": \"marker\", \"marker\": {\"sizeref\": 200000, \"sizemode\": \"area\", \"size\": [2.0, 2.0, 2.0]}, \"name\": \"Japan\", \"x\": [138.53, 130.87, 140.28]}, {\"text\": [], \"y\": [], \"mode\": \"marker\", \"marker\": {\"sizeref\": 200000, \"sizemode\": \"area\", \"size\": []}, \"name\": \"Nicaragua\", \"x\": []}, {\"text\": [], \"y\": [], \"mode\": \"marker\", \"marker\": {\"sizeref\": 200000, \"sizemode\": \"area\", \"size\": []}, \"name\": \"Papua New Guinea\", \"x\": []}, {\"text\": [], \"y\": [], \"mode\": \"marker\", \"marker\": {\"sizeref\": 200000, \"sizemode\": \"area\", \"size\": []}, \"name\": \"Philippines\", \"x\": []}, {\"text\": [], \"y\": [], \"mode\": \"marker\", \"marker\": {\"sizeref\": 200000, \"sizemode\": \"area\", \"size\": []}, \"name\": \"Italy\", \"x\": []}, {\"text\": [], \"y\": [], \"mode\": \"marker\", \"marker\": {\"sizeref\": 200000, \"sizemode\": \"area\", \"size\": []}, \"name\": \"United States\", \"x\": []}, {\"text\": [], \"y\": [], \"mode\": \"marker\", \"marker\": {\"sizeref\": 200000, \"sizemode\": \"area\", \"size\": []}, \"name\": \"Greece\", \"x\": []}, {\"text\": [], \"y\": [], \"mode\": \"marker\", \"marker\": {\"sizeref\": 200000, \"sizemode\": \"area\", \"size\": []}, \"name\": \"Ecuador\", \"x\": []}, {\"text\": [], \"y\": [], \"mode\": \"marker\", \"marker\": {\"sizeref\": 200000, \"sizemode\": \"area\", \"size\": []}, \"name\": \"Vanuatu\", \"x\": []}, {\"text\": [], \"y\": [], \"mode\": \"marker\", \"marker\": {\"sizeref\": 200000, \"sizemode\": \"area\", \"size\": []}, \"name\": \"Yemen\", \"x\": []}, {\"text\": [], \"y\": [], \"mode\": \"marker\", \"marker\": {\"sizeref\": 200000, \"sizemode\": \"area\", \"size\": []}, \"name\": \"Russia\", \"x\": []}, {\"text\": [], \"y\": [], \"mode\": \"marker\", \"marker\": {\"sizeref\": 200000, \"sizemode\": \"area\", \"size\": []}, \"name\": \"Indonesia\", \"x\": []}, {\"text\": [], \"y\": [], \"mode\": \"marker\", \"marker\": {\"sizeref\": 200000, \"sizemode\": \"area\", \"size\": []}, \"name\": \"El Salvador\", \"x\": []}, {\"text\": [], \"y\": [], \"mode\": \"marker\", \"marker\": {\"sizeref\": 200000, \"sizemode\": \"area\", \"size\": []}, \"name\": \"Saudi Arabia\", \"x\": []}, {\"text\": [], \"y\": [], \"mode\": \"marker\", \"marker\": {\"sizeref\": 200000, \"sizemode\": \"area\", \"size\": []}, \"name\": \"Iceland\", \"x\": []}, {\"text\": [], \"y\": [], \"mode\": \"marker\", \"marker\": {\"sizeref\": 200000, \"sizemode\": \"area\", \"size\": []}, \"name\": \"Mexico\", \"x\": []}, {\"text\": [], \"y\": [], \"mode\": \"marker\", \"marker\": {\"sizeref\": 200000, \"sizemode\": \"area\", \"size\": []}, \"name\": \"North Korea\", \"x\": []}, {\"text\": [\"Ethiopia\"], \"y\": [8.158], \"mode\": \"marker\", \"marker\": {\"sizeref\": 200000, \"sizemode\": \"area\", \"size\": [null]}, \"name\": \"Ethiopia\", \"x\": [39.13]}, {\"text\": [], \"y\": [], \"mode\": \"marker\", \"marker\": {\"sizeref\": 200000, \"sizemode\": \"area\", \"size\": []}, \"name\": \"Guatemala\", \"x\": []}, {\"text\": [], \"y\": [], \"mode\": \"marker\", \"marker\": {\"sizeref\": 200000, \"sizemode\": \"area\", \"size\": []}, \"name\": \"Solomon Is.\", \"x\": []}, {\"text\": [], \"y\": [], \"mode\": \"marker\", \"marker\": {\"sizeref\": 200000, \"sizemode\": \"area\", \"size\": []}, \"name\": \"Portugal\", \"x\": []}, {\"text\": [], \"y\": [], \"mode\": \"marker\", \"marker\": {\"sizeref\": 200000, \"sizemode\": \"area\", \"size\": []}, \"name\": \"Colombia\", \"x\": []}, {\"text\": [], \"y\": [], \"mode\": \"marker\", \"marker\": {\"sizeref\": 200000, \"sizemode\": \"area\", \"size\": []}, \"name\": \"Pacific Ocean\", \"x\": []}, {\"text\": [], \"y\": [], \"mode\": \"marker\", \"marker\": {\"sizeref\": 200000, \"sizemode\": \"area\", \"size\": []}, \"name\": \"Peru\", \"x\": []}, {\"text\": [], \"y\": [], \"mode\": \"marker\", \"marker\": {\"sizeref\": 200000, \"sizemode\": \"area\", \"size\": []}, \"name\": \"China\", \"x\": []}, {\"text\": [], \"y\": [], \"mode\": \"marker\", \"marker\": {\"sizeref\": 200000, \"sizemode\": \"area\", \"size\": []}, \"name\": \"Spain\", \"x\": []}, {\"text\": [], \"y\": [], \"mode\": \"marker\", \"marker\": {\"sizeref\": 200000, \"sizemode\": \"area\", \"size\": []}, \"name\": \"Canada\", \"x\": []}, {\"text\": [], \"y\": [], \"mode\": \"marker\", \"marker\": {\"sizeref\": 200000, \"sizemode\": \"area\", \"size\": []}, \"name\": \"Tanzania\", \"x\": []}, {\"text\": [], \"y\": [], \"mode\": \"marker\", \"marker\": {\"sizeref\": 200000, \"sizemode\": \"area\", \"size\": []}, \"name\": \"St. Vincent & the Grenadines\", \"x\": []}, {\"text\": [], \"y\": [], \"mode\": \"marker\", \"marker\": {\"sizeref\": 200000, \"sizemode\": \"area\", \"size\": []}, \"name\": \"Chile\", \"x\": []}, {\"text\": [], \"y\": [], \"mode\": \"marker\", \"marker\": {\"sizeref\": 200000, \"sizemode\": \"area\", \"size\": []}, \"name\": \"Turkey\", \"x\": []}, {\"text\": [], \"y\": [], \"mode\": \"marker\", \"marker\": {\"sizeref\": 200000, \"sizemode\": \"area\", \"size\": []}, \"name\": \"St. Kitts & Nevis\", \"x\": []}, {\"text\": [], \"y\": [], \"mode\": \"marker\", \"marker\": {\"sizeref\": 200000, \"sizemode\": \"area\", \"size\": []}, \"name\": \"Guadeloupe\", \"x\": []}, {\"text\": [], \"y\": [], \"mode\": \"marker\", \"marker\": {\"sizeref\": 200000, \"sizemode\": \"area\", \"size\": []}, \"name\": \"Cape Verde\", \"x\": []}, {\"text\": [], \"y\": [], \"mode\": \"marker\", \"marker\": {\"sizeref\": 200000, \"sizemode\": \"area\", \"size\": []}, \"name\": \"Tonga\", \"x\": []}, {\"text\": [], \"y\": [], \"mode\": \"marker\", \"marker\": {\"sizeref\": 200000, \"sizemode\": \"area\", \"size\": []}, \"name\": \"Taiwan\", \"x\": []}, {\"text\": [], \"y\": [], \"mode\": \"marker\", \"marker\": {\"sizeref\": 200000, \"sizemode\": \"area\", \"size\": []}, \"name\": \"Eritrea\", \"x\": []}, {\"text\": [], \"y\": [], \"mode\": \"marker\", \"marker\": {\"sizeref\": 200000, \"sizemode\": \"area\", \"size\": []}, \"name\": \"Comoros\", \"x\": []}, {\"text\": [], \"y\": [], \"mode\": \"marker\", \"marker\": {\"sizeref\": 200000, \"sizemode\": \"area\", \"size\": []}, \"name\": \"Martinique\", \"x\": []}, {\"text\": [], \"y\": [], \"mode\": \"marker\", \"marker\": {\"sizeref\": 200000, \"sizemode\": \"area\", \"size\": []}, \"name\": \"Samoa\", \"x\": []}, {\"text\": [], \"y\": [], \"mode\": \"marker\", \"marker\": {\"sizeref\": 200000, \"sizemode\": \"area\", \"size\": []}, \"name\": \"Cameroon\", \"x\": []}, {\"text\": [], \"y\": [], \"mode\": \"marker\", \"marker\": {\"sizeref\": 200000, \"sizemode\": \"area\", \"size\": []}, \"name\": \"Trinidad \", \"x\": []}, {\"text\": [], \"y\": [], \"mode\": \"marker\", \"marker\": {\"sizeref\": 200000, \"sizemode\": \"area\", \"size\": []}, \"name\": \"Congo, DRC\", \"x\": []}, {\"text\": [], \"y\": [], \"mode\": \"marker\", \"marker\": {\"sizeref\": 200000, \"sizemode\": \"area\", \"size\": []}, \"name\": \"Costa Rica\", \"x\": []}, {\"text\": [], \"y\": [], \"mode\": \"marker\", \"marker\": {\"sizeref\": 200000, \"sizemode\": \"area\", \"size\": []}, \"name\": \"Antarctica\", \"x\": []}, {\"text\": [], \"y\": [], \"mode\": \"marker\", \"marker\": {\"sizeref\": 200000, \"sizemode\": \"area\", \"size\": []}, \"name\": \"Reunion\", \"x\": []}, {\"text\": [], \"y\": [], \"mode\": \"marker\", \"marker\": {\"sizeref\": 200000, \"sizemode\": \"area\", \"size\": []}, \"name\": \"Montserrat\", \"x\": []}], \"name\": \"1900\"}, {\"data\": [{\"text\": [], \"y\": [], \"mode\": \"marker\", \"marker\": {\"sizeref\": 200000, \"sizemode\": \"area\", \"size\": []}, \"name\": null, \"x\": []}, {\"text\": [\"New Zealand\"], \"y\": [-38.82], \"mode\": \"marker\", \"marker\": {\"sizeref\": 200000, \"sizemode\": \"area\", \"size\": [null]}, \"name\": \"New Zealand\", \"x\": [176.0]}, {\"text\": [\"Japan\"], \"y\": [42.53], \"mode\": \"marker\", \"marker\": {\"sizeref\": 200000, \"sizemode\": \"area\", \"size\": [2.0]}, \"name\": \"Japan\", \"x\": [140.83]}, {\"text\": [], \"y\": [], \"mode\": \"marker\", \"marker\": {\"sizeref\": 200000, \"sizemode\": \"area\", \"size\": []}, \"name\": \"Nicaragua\", \"x\": []}, {\"text\": [], \"y\": [], \"mode\": \"marker\", \"marker\": {\"sizeref\": 200000, \"sizemode\": \"area\", \"size\": []}, \"name\": \"Papua New Guinea\", \"x\": []}, {\"text\": [], \"y\": [], \"mode\": \"marker\", \"marker\": {\"sizeref\": 200000, \"sizemode\": \"area\", \"size\": []}, \"name\": \"Philippines\", \"x\": []}, {\"text\": [], \"y\": [], \"mode\": \"marker\", \"marker\": {\"sizeref\": 200000, \"sizemode\": \"area\", \"size\": []}, \"name\": \"Italy\", \"x\": []}, {\"text\": [], \"y\": [], \"mode\": \"marker\", \"marker\": {\"sizeref\": 200000, \"sizemode\": \"area\", \"size\": []}, \"name\": \"United States\", \"x\": []}, {\"text\": [], \"y\": [], \"mode\": \"marker\", \"marker\": {\"sizeref\": 200000, \"sizemode\": \"area\", \"size\": []}, \"name\": \"Greece\", \"x\": []}, {\"text\": [], \"y\": [], \"mode\": \"marker\", \"marker\": {\"sizeref\": 200000, \"sizemode\": \"area\", \"size\": []}, \"name\": \"Ecuador\", \"x\": []}, {\"text\": [], \"y\": [], \"mode\": \"marker\", \"marker\": {\"sizeref\": 200000, \"sizemode\": \"area\", \"size\": []}, \"name\": \"Vanuatu\", \"x\": []}, {\"text\": [], \"y\": [], \"mode\": \"marker\", \"marker\": {\"sizeref\": 200000, \"sizemode\": \"area\", \"size\": []}, \"name\": \"Yemen\", \"x\": []}, {\"text\": [], \"y\": [], \"mode\": \"marker\", \"marker\": {\"sizeref\": 200000, \"sizemode\": \"area\", \"size\": []}, \"name\": \"Russia\", \"x\": []}, {\"text\": [], \"y\": [], \"mode\": \"marker\", \"marker\": {\"sizeref\": 200000, \"sizemode\": \"area\", \"size\": []}, \"name\": \"Indonesia\", \"x\": []}, {\"text\": [], \"y\": [], \"mode\": \"marker\", \"marker\": {\"sizeref\": 200000, \"sizemode\": \"area\", \"size\": []}, \"name\": \"El Salvador\", \"x\": []}, {\"text\": [], \"y\": [], \"mode\": \"marker\", \"marker\": {\"sizeref\": 200000, \"sizemode\": \"area\", \"size\": []}, \"name\": \"Saudi Arabia\", \"x\": []}, {\"text\": [], \"y\": [], \"mode\": \"marker\", \"marker\": {\"sizeref\": 200000, \"sizemode\": \"area\", \"size\": []}, \"name\": \"Iceland\", \"x\": []}, {\"text\": [], \"y\": [], \"mode\": \"marker\", \"marker\": {\"sizeref\": 200000, \"sizemode\": \"area\", \"size\": []}, \"name\": \"Mexico\", \"x\": []}, {\"text\": [], \"y\": [], \"mode\": \"marker\", \"marker\": {\"sizeref\": 200000, \"sizemode\": \"area\", \"size\": []}, \"name\": \"North Korea\", \"x\": []}, {\"text\": [], \"y\": [], \"mode\": \"marker\", \"marker\": {\"sizeref\": 200000, \"sizemode\": \"area\", \"size\": []}, \"name\": \"Ethiopia\", \"x\": []}, {\"text\": [], \"y\": [], \"mode\": \"marker\", \"marker\": {\"sizeref\": 200000, \"sizemode\": \"area\", \"size\": []}, \"name\": \"Guatemala\", \"x\": []}, {\"text\": [], \"y\": [], \"mode\": \"marker\", \"marker\": {\"sizeref\": 200000, \"sizemode\": \"area\", \"size\": []}, \"name\": \"Solomon Is.\", \"x\": []}, {\"text\": [], \"y\": [], \"mode\": \"marker\", \"marker\": {\"sizeref\": 200000, \"sizemode\": \"area\", \"size\": []}, \"name\": \"Portugal\", \"x\": []}, {\"text\": [], \"y\": [], \"mode\": \"marker\", \"marker\": {\"sizeref\": 200000, \"sizemode\": \"area\", \"size\": []}, \"name\": \"Colombia\", \"x\": []}, {\"text\": [], \"y\": [], \"mode\": \"marker\", \"marker\": {\"sizeref\": 200000, \"sizemode\": \"area\", \"size\": []}, \"name\": \"Pacific Ocean\", \"x\": []}, {\"text\": [], \"y\": [], \"mode\": \"marker\", \"marker\": {\"sizeref\": 200000, \"sizemode\": \"area\", \"size\": []}, \"name\": \"Peru\", \"x\": []}, {\"text\": [], \"y\": [], \"mode\": \"marker\", \"marker\": {\"sizeref\": 200000, \"sizemode\": \"area\", \"size\": []}, \"name\": \"China\", \"x\": []}, {\"text\": [], \"y\": [], \"mode\": \"marker\", \"marker\": {\"sizeref\": 200000, \"sizemode\": \"area\", \"size\": []}, \"name\": \"Spain\", \"x\": []}, {\"text\": [], \"y\": [], \"mode\": \"marker\", \"marker\": {\"sizeref\": 200000, \"sizemode\": \"area\", \"size\": []}, \"name\": \"Canada\", \"x\": []}, {\"text\": [], \"y\": [], \"mode\": \"marker\", \"marker\": {\"sizeref\": 200000, \"sizemode\": \"area\", \"size\": []}, \"name\": \"Tanzania\", \"x\": []}, {\"text\": [], \"y\": [], \"mode\": \"marker\", \"marker\": {\"sizeref\": 200000, \"sizemode\": \"area\", \"size\": []}, \"name\": \"St. Vincent & the Grenadines\", \"x\": []}, {\"text\": [], \"y\": [], \"mode\": \"marker\", \"marker\": {\"sizeref\": 200000, \"sizemode\": \"area\", \"size\": []}, \"name\": \"Chile\", \"x\": []}, {\"text\": [], \"y\": [], \"mode\": \"marker\", \"marker\": {\"sizeref\": 200000, \"sizemode\": \"area\", \"size\": []}, \"name\": \"Turkey\", \"x\": []}, {\"text\": [], \"y\": [], \"mode\": \"marker\", \"marker\": {\"sizeref\": 200000, \"sizemode\": \"area\", \"size\": []}, \"name\": \"St. Kitts & Nevis\", \"x\": []}, {\"text\": [], \"y\": [], \"mode\": \"marker\", \"marker\": {\"sizeref\": 200000, \"sizemode\": \"area\", \"size\": []}, \"name\": \"Guadeloupe\", \"x\": []}, {\"text\": [], \"y\": [], \"mode\": \"marker\", \"marker\": {\"sizeref\": 200000, \"sizemode\": \"area\", \"size\": []}, \"name\": \"Cape Verde\", \"x\": []}, {\"text\": [], \"y\": [], \"mode\": \"marker\", \"marker\": {\"sizeref\": 200000, \"sizemode\": \"area\", \"size\": []}, \"name\": \"Tonga\", \"x\": []}, {\"text\": [], \"y\": [], \"mode\": \"marker\", \"marker\": {\"sizeref\": 200000, \"sizemode\": \"area\", \"size\": []}, \"name\": \"Taiwan\", \"x\": []}, {\"text\": [], \"y\": [], \"mode\": \"marker\", \"marker\": {\"sizeref\": 200000, \"sizemode\": \"area\", \"size\": []}, \"name\": \"Eritrea\", \"x\": []}, {\"text\": [], \"y\": [], \"mode\": \"marker\", \"marker\": {\"sizeref\": 200000, \"sizemode\": \"area\", \"size\": []}, \"name\": \"Comoros\", \"x\": []}, {\"text\": [], \"y\": [], \"mode\": \"marker\", \"marker\": {\"sizeref\": 200000, \"sizemode\": \"area\", \"size\": []}, \"name\": \"Martinique\", \"x\": []}, {\"text\": [], \"y\": [], \"mode\": \"marker\", \"marker\": {\"sizeref\": 200000, \"sizemode\": \"area\", \"size\": []}, \"name\": \"Samoa\", \"x\": []}, {\"text\": [], \"y\": [], \"mode\": \"marker\", \"marker\": {\"sizeref\": 200000, \"sizemode\": \"area\", \"size\": []}, \"name\": \"Cameroon\", \"x\": []}, {\"text\": [], \"y\": [], \"mode\": \"marker\", \"marker\": {\"sizeref\": 200000, \"sizemode\": \"area\", \"size\": []}, \"name\": \"Trinidad \", \"x\": []}, {\"text\": [], \"y\": [], \"mode\": \"marker\", \"marker\": {\"sizeref\": 200000, \"sizemode\": \"area\", \"size\": []}, \"name\": \"Congo, DRC\", \"x\": []}, {\"text\": [], \"y\": [], \"mode\": \"marker\", \"marker\": {\"sizeref\": 200000, \"sizemode\": \"area\", \"size\": []}, \"name\": \"Costa Rica\", \"x\": []}, {\"text\": [], \"y\": [], \"mode\": \"marker\", \"marker\": {\"sizeref\": 200000, \"sizemode\": \"area\", \"size\": []}, \"name\": \"Antarctica\", \"x\": []}, {\"text\": [], \"y\": [], \"mode\": \"marker\", \"marker\": {\"sizeref\": 200000, \"sizemode\": \"area\", \"size\": []}, \"name\": \"Reunion\", \"x\": []}, {\"text\": [], \"y\": [], \"mode\": \"marker\", \"marker\": {\"sizeref\": 200000, \"sizemode\": \"area\", \"size\": []}, \"name\": \"Montserrat\", \"x\": []}], \"name\": \"1910\"}, {\"data\": [{\"text\": [], \"y\": [], \"mode\": \"marker\", \"marker\": {\"sizeref\": 200000, \"sizemode\": \"area\", \"size\": []}, \"name\": null, \"x\": []}, {\"text\": [], \"y\": [], \"mode\": \"marker\", \"marker\": {\"sizeref\": 200000, \"sizemode\": \"area\", \"size\": []}, \"name\": \"New Zealand\", \"x\": []}, {\"text\": [], \"y\": [], \"mode\": \"marker\", \"marker\": {\"sizeref\": 200000, \"sizemode\": \"area\", \"size\": []}, \"name\": \"Japan\", \"x\": []}, {\"text\": [], \"y\": [], \"mode\": \"marker\", \"marker\": {\"sizeref\": 200000, \"sizemode\": \"area\", \"size\": []}, \"name\": \"Nicaragua\", \"x\": []}, {\"text\": [], \"y\": [], \"mode\": \"marker\", \"marker\": {\"sizeref\": 200000, \"sizemode\": \"area\", \"size\": []}, \"name\": \"Papua New Guinea\", \"x\": []}, {\"text\": [], \"y\": [], \"mode\": \"marker\", \"marker\": {\"sizeref\": 200000, \"sizemode\": \"area\", \"size\": []}, \"name\": \"Philippines\", \"x\": []}, {\"text\": [], \"y\": [], \"mode\": \"marker\", \"marker\": {\"sizeref\": 200000, \"sizemode\": \"area\", \"size\": []}, \"name\": \"Italy\", \"x\": []}, {\"text\": [], \"y\": [], \"mode\": \"marker\", \"marker\": {\"sizeref\": 200000, \"sizemode\": \"area\", \"size\": []}, \"name\": \"United States\", \"x\": []}, {\"text\": [], \"y\": [], \"mode\": \"marker\", \"marker\": {\"sizeref\": 200000, \"sizemode\": \"area\", \"size\": []}, \"name\": \"Greece\", \"x\": []}, {\"text\": [], \"y\": [], \"mode\": \"marker\", \"marker\": {\"sizeref\": 200000, \"sizemode\": \"area\", \"size\": []}, \"name\": \"Ecuador\", \"x\": []}, {\"text\": [], \"y\": [], \"mode\": \"marker\", \"marker\": {\"sizeref\": 200000, \"sizemode\": \"area\", \"size\": []}, \"name\": \"Vanuatu\", \"x\": []}, {\"text\": [], \"y\": [], \"mode\": \"marker\", \"marker\": {\"sizeref\": 200000, \"sizemode\": \"area\", \"size\": []}, \"name\": \"Yemen\", \"x\": []}, {\"text\": [], \"y\": [], \"mode\": \"marker\", \"marker\": {\"sizeref\": 200000, \"sizemode\": \"area\", \"size\": []}, \"name\": \"Russia\", \"x\": []}, {\"text\": [\"Indonesia\"], \"y\": [-7.542000000000001], \"mode\": \"marker\", \"marker\": {\"sizeref\": 200000, \"sizemode\": \"area\", \"size\": [3.0]}, \"name\": \"Indonesia\", \"x\": [110.44200000000001]}, {\"text\": [\"El Salvador\"], \"y\": [13.812999999999999], \"mode\": \"marker\", \"marker\": {\"sizeref\": 200000, \"sizemode\": \"area\", \"size\": [3.0]}, \"name\": \"El Salvador\", \"x\": [-89.633]}, {\"text\": [], \"y\": [], \"mode\": \"marker\", \"marker\": {\"sizeref\": 200000, \"sizemode\": \"area\", \"size\": []}, \"name\": \"Saudi Arabia\", \"x\": []}, {\"text\": [], \"y\": [], \"mode\": \"marker\", \"marker\": {\"sizeref\": 200000, \"sizemode\": \"area\", \"size\": []}, \"name\": \"Iceland\", \"x\": []}, {\"text\": [], \"y\": [], \"mode\": \"marker\", \"marker\": {\"sizeref\": 200000, \"sizemode\": \"area\", \"size\": []}, \"name\": \"Mexico\", \"x\": []}, {\"text\": [], \"y\": [], \"mode\": \"marker\", \"marker\": {\"sizeref\": 200000, \"sizemode\": \"area\", \"size\": []}, \"name\": \"North Korea\", \"x\": []}, {\"text\": [], \"y\": [], \"mode\": \"marker\", \"marker\": {\"sizeref\": 200000, \"sizemode\": \"area\", \"size\": []}, \"name\": \"Ethiopia\", \"x\": []}, {\"text\": [], \"y\": [], \"mode\": \"marker\", \"marker\": {\"sizeref\": 200000, \"sizemode\": \"area\", \"size\": []}, \"name\": \"Guatemala\", \"x\": []}, {\"text\": [], \"y\": [], \"mode\": \"marker\", \"marker\": {\"sizeref\": 200000, \"sizemode\": \"area\", \"size\": []}, \"name\": \"Solomon Is.\", \"x\": []}, {\"text\": [], \"y\": [], \"mode\": \"marker\", \"marker\": {\"sizeref\": 200000, \"sizemode\": \"area\", \"size\": []}, \"name\": \"Portugal\", \"x\": []}, {\"text\": [], \"y\": [], \"mode\": \"marker\", \"marker\": {\"sizeref\": 200000, \"sizemode\": \"area\", \"size\": []}, \"name\": \"Colombia\", \"x\": []}, {\"text\": [], \"y\": [], \"mode\": \"marker\", \"marker\": {\"sizeref\": 200000, \"sizemode\": \"area\", \"size\": []}, \"name\": \"Pacific Ocean\", \"x\": []}, {\"text\": [], \"y\": [], \"mode\": \"marker\", \"marker\": {\"sizeref\": 200000, \"sizemode\": \"area\", \"size\": []}, \"name\": \"Peru\", \"x\": []}, {\"text\": [], \"y\": [], \"mode\": \"marker\", \"marker\": {\"sizeref\": 200000, \"sizemode\": \"area\", \"size\": []}, \"name\": \"China\", \"x\": []}, {\"text\": [], \"y\": [], \"mode\": \"marker\", \"marker\": {\"sizeref\": 200000, \"sizemode\": \"area\", \"size\": []}, \"name\": \"Spain\", \"x\": []}, {\"text\": [], \"y\": [], \"mode\": \"marker\", \"marker\": {\"sizeref\": 200000, \"sizemode\": \"area\", \"size\": []}, \"name\": \"Canada\", \"x\": []}, {\"text\": [], \"y\": [], \"mode\": \"marker\", \"marker\": {\"sizeref\": 200000, \"sizemode\": \"area\", \"size\": []}, \"name\": \"Tanzania\", \"x\": []}, {\"text\": [], \"y\": [], \"mode\": \"marker\", \"marker\": {\"sizeref\": 200000, \"sizemode\": \"area\", \"size\": []}, \"name\": \"St. Vincent & the Grenadines\", \"x\": []}, {\"text\": [], \"y\": [], \"mode\": \"marker\", \"marker\": {\"sizeref\": 200000, \"sizemode\": \"area\", \"size\": []}, \"name\": \"Chile\", \"x\": []}, {\"text\": [], \"y\": [], \"mode\": \"marker\", \"marker\": {\"sizeref\": 200000, \"sizemode\": \"area\", \"size\": []}, \"name\": \"Turkey\", \"x\": []}, {\"text\": [], \"y\": [], \"mode\": \"marker\", \"marker\": {\"sizeref\": 200000, \"sizemode\": \"area\", \"size\": []}, \"name\": \"St. Kitts & Nevis\", \"x\": []}, {\"text\": [], \"y\": [], \"mode\": \"marker\", \"marker\": {\"sizeref\": 200000, \"sizemode\": \"area\", \"size\": []}, \"name\": \"Guadeloupe\", \"x\": []}, {\"text\": [], \"y\": [], \"mode\": \"marker\", \"marker\": {\"sizeref\": 200000, \"sizemode\": \"area\", \"size\": []}, \"name\": \"Cape Verde\", \"x\": []}, {\"text\": [], \"y\": [], \"mode\": \"marker\", \"marker\": {\"sizeref\": 200000, \"sizemode\": \"area\", \"size\": []}, \"name\": \"Tonga\", \"x\": []}, {\"text\": [], \"y\": [], \"mode\": \"marker\", \"marker\": {\"sizeref\": 200000, \"sizemode\": \"area\", \"size\": []}, \"name\": \"Taiwan\", \"x\": []}, {\"text\": [], \"y\": [], \"mode\": \"marker\", \"marker\": {\"sizeref\": 200000, \"sizemode\": \"area\", \"size\": []}, \"name\": \"Eritrea\", \"x\": []}, {\"text\": [], \"y\": [], \"mode\": \"marker\", \"marker\": {\"sizeref\": 200000, \"sizemode\": \"area\", \"size\": []}, \"name\": \"Comoros\", \"x\": []}, {\"text\": [], \"y\": [], \"mode\": \"marker\", \"marker\": {\"sizeref\": 200000, \"sizemode\": \"area\", \"size\": []}, \"name\": \"Martinique\", \"x\": []}, {\"text\": [], \"y\": [], \"mode\": \"marker\", \"marker\": {\"sizeref\": 200000, \"sizemode\": \"area\", \"size\": []}, \"name\": \"Samoa\", \"x\": []}, {\"text\": [], \"y\": [], \"mode\": \"marker\", \"marker\": {\"sizeref\": 200000, \"sizemode\": \"area\", \"size\": []}, \"name\": \"Cameroon\", \"x\": []}, {\"text\": [], \"y\": [], \"mode\": \"marker\", \"marker\": {\"sizeref\": 200000, \"sizemode\": \"area\", \"size\": []}, \"name\": \"Trinidad \", \"x\": []}, {\"text\": [], \"y\": [], \"mode\": \"marker\", \"marker\": {\"sizeref\": 200000, \"sizemode\": \"area\", \"size\": []}, \"name\": \"Congo, DRC\", \"x\": []}, {\"text\": [], \"y\": [], \"mode\": \"marker\", \"marker\": {\"sizeref\": 200000, \"sizemode\": \"area\", \"size\": []}, \"name\": \"Costa Rica\", \"x\": []}, {\"text\": [], \"y\": [], \"mode\": \"marker\", \"marker\": {\"sizeref\": 200000, \"sizemode\": \"area\", \"size\": []}, \"name\": \"Antarctica\", \"x\": []}, {\"text\": [], \"y\": [], \"mode\": \"marker\", \"marker\": {\"sizeref\": 200000, \"sizemode\": \"area\", \"size\": []}, \"name\": \"Reunion\", \"x\": []}, {\"text\": [], \"y\": [], \"mode\": \"marker\", \"marker\": {\"sizeref\": 200000, \"sizemode\": \"area\", \"size\": []}, \"name\": \"Montserrat\", \"x\": []}], \"name\": \"1920\"}, {\"data\": [{\"text\": [], \"y\": [], \"mode\": \"marker\", \"marker\": {\"sizeref\": 200000, \"sizemode\": \"area\", \"size\": []}, \"name\": null, \"x\": []}, {\"text\": [], \"y\": [], \"mode\": \"marker\", \"marker\": {\"sizeref\": 200000, \"sizemode\": \"area\", \"size\": []}, \"name\": \"New Zealand\", \"x\": []}, {\"text\": [\"Japan\"], \"y\": [36.4], \"mode\": \"marker\", \"marker\": {\"sizeref\": 200000, \"sizemode\": \"area\", \"size\": [3.0]}, \"name\": \"Japan\", \"x\": [138.53]}, {\"text\": [], \"y\": [], \"mode\": \"marker\", \"marker\": {\"sizeref\": 200000, \"sizemode\": \"area\", \"size\": []}, \"name\": \"Nicaragua\", \"x\": []}, {\"text\": [], \"y\": [], \"mode\": \"marker\", \"marker\": {\"sizeref\": 200000, \"sizemode\": \"area\", \"size\": []}, \"name\": \"Papua New Guinea\", \"x\": []}, {\"text\": [], \"y\": [], \"mode\": \"marker\", \"marker\": {\"sizeref\": 200000, \"sizemode\": \"area\", \"size\": []}, \"name\": \"Philippines\", \"x\": []}, {\"text\": [\"Italy\"], \"y\": [38.789], \"mode\": \"marker\", \"marker\": {\"sizeref\": 200000, \"sizemode\": \"area\", \"size\": [3.0]}, \"name\": \"Italy\", \"x\": [15.213]}, {\"text\": [], \"y\": [], \"mode\": \"marker\", \"marker\": {\"sizeref\": 200000, \"sizemode\": \"area\", \"size\": []}, \"name\": \"United States\", \"x\": []}, {\"text\": [], \"y\": [], \"mode\": \"marker\", \"marker\": {\"sizeref\": 200000, \"sizemode\": \"area\", \"size\": []}, \"name\": \"Greece\", \"x\": []}, {\"text\": [], \"y\": [], \"mode\": \"marker\", \"marker\": {\"sizeref\": 200000, \"sizemode\": \"area\", \"size\": []}, \"name\": \"Ecuador\", \"x\": []}, {\"text\": [], \"y\": [], \"mode\": \"marker\", \"marker\": {\"sizeref\": 200000, \"sizemode\": \"area\", \"size\": []}, \"name\": \"Vanuatu\", \"x\": []}, {\"text\": [], \"y\": [], \"mode\": \"marker\", \"marker\": {\"sizeref\": 200000, \"sizemode\": \"area\", \"size\": []}, \"name\": \"Yemen\", \"x\": []}, {\"text\": [], \"y\": [], \"mode\": \"marker\", \"marker\": {\"sizeref\": 200000, \"sizemode\": \"area\", \"size\": []}, \"name\": \"Russia\", \"x\": []}, {\"text\": [\"Indonesia\", \"Indonesia\"], \"y\": [-6.102, -7.542000000000001], \"mode\": \"marker\", \"marker\": {\"sizeref\": 200000, \"sizemode\": \"area\", \"size\": [2.0, 3.0]}, \"name\": \"Indonesia\", \"x\": [105.42299999999999, 110.44200000000001]}, {\"text\": [], \"y\": [], \"mode\": \"marker\", \"marker\": {\"sizeref\": 200000, \"sizemode\": \"area\", \"size\": []}, \"name\": \"El Salvador\", \"x\": []}, {\"text\": [], \"y\": [], \"mode\": \"marker\", \"marker\": {\"sizeref\": 200000, \"sizemode\": \"area\", \"size\": []}, \"name\": \"Saudi Arabia\", \"x\": []}, {\"text\": [], \"y\": [], \"mode\": \"marker\", \"marker\": {\"sizeref\": 200000, \"sizemode\": \"area\", \"size\": []}, \"name\": \"Iceland\", \"x\": []}, {\"text\": [], \"y\": [], \"mode\": \"marker\", \"marker\": {\"sizeref\": 200000, \"sizemode\": \"area\", \"size\": []}, \"name\": \"Mexico\", \"x\": []}, {\"text\": [], \"y\": [], \"mode\": \"marker\", \"marker\": {\"sizeref\": 200000, \"sizemode\": \"area\", \"size\": []}, \"name\": \"North Korea\", \"x\": []}, {\"text\": [], \"y\": [], \"mode\": \"marker\", \"marker\": {\"sizeref\": 200000, \"sizemode\": \"area\", \"size\": []}, \"name\": \"Ethiopia\", \"x\": []}, {\"text\": [], \"y\": [], \"mode\": \"marker\", \"marker\": {\"sizeref\": 200000, \"sizemode\": \"area\", \"size\": []}, \"name\": \"Guatemala\", \"x\": []}, {\"text\": [], \"y\": [], \"mode\": \"marker\", \"marker\": {\"sizeref\": 200000, \"sizemode\": \"area\", \"size\": []}, \"name\": \"Solomon Is.\", \"x\": []}, {\"text\": [], \"y\": [], \"mode\": \"marker\", \"marker\": {\"sizeref\": 200000, \"sizemode\": \"area\", \"size\": []}, \"name\": \"Portugal\", \"x\": []}, {\"text\": [], \"y\": [], \"mode\": \"marker\", \"marker\": {\"sizeref\": 200000, \"sizemode\": \"area\", \"size\": []}, \"name\": \"Colombia\", \"x\": []}, {\"text\": [], \"y\": [], \"mode\": \"marker\", \"marker\": {\"sizeref\": 200000, \"sizemode\": \"area\", \"size\": []}, \"name\": \"Pacific Ocean\", \"x\": []}, {\"text\": [], \"y\": [], \"mode\": \"marker\", \"marker\": {\"sizeref\": 200000, \"sizemode\": \"area\", \"size\": []}, \"name\": \"Peru\", \"x\": []}, {\"text\": [], \"y\": [], \"mode\": \"marker\", \"marker\": {\"sizeref\": 200000, \"sizemode\": \"area\", \"size\": []}, \"name\": \"China\", \"x\": []}, {\"text\": [], \"y\": [], \"mode\": \"marker\", \"marker\": {\"sizeref\": 200000, \"sizemode\": \"area\", \"size\": []}, \"name\": \"Spain\", \"x\": []}, {\"text\": [], \"y\": [], \"mode\": \"marker\", \"marker\": {\"sizeref\": 200000, \"sizemode\": \"area\", \"size\": []}, \"name\": \"Canada\", \"x\": []}, {\"text\": [], \"y\": [], \"mode\": \"marker\", \"marker\": {\"sizeref\": 200000, \"sizemode\": \"area\", \"size\": []}, \"name\": \"Tanzania\", \"x\": []}, {\"text\": [], \"y\": [], \"mode\": \"marker\", \"marker\": {\"sizeref\": 200000, \"sizemode\": \"area\", \"size\": []}, \"name\": \"St. Vincent & the Grenadines\", \"x\": []}, {\"text\": [], \"y\": [], \"mode\": \"marker\", \"marker\": {\"sizeref\": 200000, \"sizemode\": \"area\", \"size\": []}, \"name\": \"Chile\", \"x\": []}, {\"text\": [], \"y\": [], \"mode\": \"marker\", \"marker\": {\"sizeref\": 200000, \"sizemode\": \"area\", \"size\": []}, \"name\": \"Turkey\", \"x\": []}, {\"text\": [], \"y\": [], \"mode\": \"marker\", \"marker\": {\"sizeref\": 200000, \"sizemode\": \"area\", \"size\": []}, \"name\": \"St. Kitts & Nevis\", \"x\": []}, {\"text\": [], \"y\": [], \"mode\": \"marker\", \"marker\": {\"sizeref\": 200000, \"sizemode\": \"area\", \"size\": []}, \"name\": \"Guadeloupe\", \"x\": []}, {\"text\": [], \"y\": [], \"mode\": \"marker\", \"marker\": {\"sizeref\": 200000, \"sizemode\": \"area\", \"size\": []}, \"name\": \"Cape Verde\", \"x\": []}, {\"text\": [], \"y\": [], \"mode\": \"marker\", \"marker\": {\"sizeref\": 200000, \"sizemode\": \"area\", \"size\": []}, \"name\": \"Tonga\", \"x\": []}, {\"text\": [], \"y\": [], \"mode\": \"marker\", \"marker\": {\"sizeref\": 200000, \"sizemode\": \"area\", \"size\": []}, \"name\": \"Taiwan\", \"x\": []}, {\"text\": [], \"y\": [], \"mode\": \"marker\", \"marker\": {\"sizeref\": 200000, \"sizemode\": \"area\", \"size\": []}, \"name\": \"Eritrea\", \"x\": []}, {\"text\": [], \"y\": [], \"mode\": \"marker\", \"marker\": {\"sizeref\": 200000, \"sizemode\": \"area\", \"size\": []}, \"name\": \"Comoros\", \"x\": []}, {\"text\": [], \"y\": [], \"mode\": \"marker\", \"marker\": {\"sizeref\": 200000, \"sizemode\": \"area\", \"size\": []}, \"name\": \"Martinique\", \"x\": []}, {\"text\": [], \"y\": [], \"mode\": \"marker\", \"marker\": {\"sizeref\": 200000, \"sizemode\": \"area\", \"size\": []}, \"name\": \"Samoa\", \"x\": []}, {\"text\": [], \"y\": [], \"mode\": \"marker\", \"marker\": {\"sizeref\": 200000, \"sizemode\": \"area\", \"size\": []}, \"name\": \"Cameroon\", \"x\": []}, {\"text\": [], \"y\": [], \"mode\": \"marker\", \"marker\": {\"sizeref\": 200000, \"sizemode\": \"area\", \"size\": []}, \"name\": \"Trinidad \", \"x\": []}, {\"text\": [], \"y\": [], \"mode\": \"marker\", \"marker\": {\"sizeref\": 200000, \"sizemode\": \"area\", \"size\": []}, \"name\": \"Congo, DRC\", \"x\": []}, {\"text\": [], \"y\": [], \"mode\": \"marker\", \"marker\": {\"sizeref\": 200000, \"sizemode\": \"area\", \"size\": []}, \"name\": \"Costa Rica\", \"x\": []}, {\"text\": [], \"y\": [], \"mode\": \"marker\", \"marker\": {\"sizeref\": 200000, \"sizemode\": \"area\", \"size\": []}, \"name\": \"Antarctica\", \"x\": []}, {\"text\": [], \"y\": [], \"mode\": \"marker\", \"marker\": {\"sizeref\": 200000, \"sizemode\": \"area\", \"size\": []}, \"name\": \"Reunion\", \"x\": []}, {\"text\": [], \"y\": [], \"mode\": \"marker\", \"marker\": {\"sizeref\": 200000, \"sizemode\": \"area\", \"size\": []}, \"name\": \"Montserrat\", \"x\": []}], \"name\": \"1930\"}, {\"data\": [{\"text\": [], \"y\": [], \"mode\": \"marker\", \"marker\": {\"sizeref\": 200000, \"sizemode\": \"area\", \"size\": []}, \"name\": null, \"x\": []}, {\"text\": [], \"y\": [], \"mode\": \"marker\", \"marker\": {\"sizeref\": 200000, \"sizemode\": \"area\", \"size\": []}, \"name\": \"New Zealand\", \"x\": []}, {\"text\": [\"Japan\"], \"y\": [34.08], \"mode\": \"marker\", \"marker\": {\"sizeref\": 200000, \"sizemode\": \"area\", \"size\": [2.0]}, \"name\": \"Japan\", \"x\": [139.53]}, {\"text\": [], \"y\": [], \"mode\": \"marker\", \"marker\": {\"sizeref\": 200000, \"sizemode\": \"area\", \"size\": []}, \"name\": \"Nicaragua\", \"x\": []}, {\"text\": [], \"y\": [], \"mode\": \"marker\", \"marker\": {\"sizeref\": 200000, \"sizemode\": \"area\", \"size\": []}, \"name\": \"Papua New Guinea\", \"x\": []}, {\"text\": [], \"y\": [], \"mode\": \"marker\", \"marker\": {\"sizeref\": 200000, \"sizemode\": \"area\", \"size\": []}, \"name\": \"Philippines\", \"x\": []}, {\"text\": [], \"y\": [], \"mode\": \"marker\", \"marker\": {\"sizeref\": 200000, \"sizemode\": \"area\", \"size\": []}, \"name\": \"Italy\", \"x\": []}, {\"text\": [], \"y\": [], \"mode\": \"marker\", \"marker\": {\"sizeref\": 200000, \"sizemode\": \"area\", \"size\": []}, \"name\": \"United States\", \"x\": []}, {\"text\": [], \"y\": [], \"mode\": \"marker\", \"marker\": {\"sizeref\": 200000, \"sizemode\": \"area\", \"size\": []}, \"name\": \"Greece\", \"x\": []}, {\"text\": [], \"y\": [], \"mode\": \"marker\", \"marker\": {\"sizeref\": 200000, \"sizemode\": \"area\", \"size\": []}, \"name\": \"Ecuador\", \"x\": []}, {\"text\": [], \"y\": [], \"mode\": \"marker\", \"marker\": {\"sizeref\": 200000, \"sizemode\": \"area\", \"size\": []}, \"name\": \"Vanuatu\", \"x\": []}, {\"text\": [], \"y\": [], \"mode\": \"marker\", \"marker\": {\"sizeref\": 200000, \"sizemode\": \"area\", \"size\": []}, \"name\": \"Yemen\", \"x\": []}, {\"text\": [], \"y\": [], \"mode\": \"marker\", \"marker\": {\"sizeref\": 200000, \"sizemode\": \"area\", \"size\": []}, \"name\": \"Russia\", \"x\": []}, {\"text\": [\"Indonesia\"], \"y\": [2.78], \"mode\": \"marker\", \"marker\": {\"sizeref\": 200000, \"sizemode\": \"area\", \"size\": [2.0]}, \"name\": \"Indonesia\", \"x\": [125.48]}, {\"text\": [], \"y\": [], \"mode\": \"marker\", \"marker\": {\"sizeref\": 200000, \"sizemode\": \"area\", \"size\": []}, \"name\": \"El Salvador\", \"x\": []}, {\"text\": [], \"y\": [], \"mode\": \"marker\", \"marker\": {\"sizeref\": 200000, \"sizemode\": \"area\", \"size\": []}, \"name\": \"Saudi Arabia\", \"x\": []}, {\"text\": [], \"y\": [], \"mode\": \"marker\", \"marker\": {\"sizeref\": 200000, \"sizemode\": \"area\", \"size\": []}, \"name\": \"Iceland\", \"x\": []}, {\"text\": [], \"y\": [], \"mode\": \"marker\", \"marker\": {\"sizeref\": 200000, \"sizemode\": \"area\", \"size\": []}, \"name\": \"Mexico\", \"x\": []}, {\"text\": [], \"y\": [], \"mode\": \"marker\", \"marker\": {\"sizeref\": 200000, \"sizemode\": \"area\", \"size\": []}, \"name\": \"North Korea\", \"x\": []}, {\"text\": [], \"y\": [], \"mode\": \"marker\", \"marker\": {\"sizeref\": 200000, \"sizemode\": \"area\", \"size\": []}, \"name\": \"Ethiopia\", \"x\": []}, {\"text\": [], \"y\": [], \"mode\": \"marker\", \"marker\": {\"sizeref\": 200000, \"sizemode\": \"area\", \"size\": []}, \"name\": \"Guatemala\", \"x\": []}, {\"text\": [], \"y\": [], \"mode\": \"marker\", \"marker\": {\"sizeref\": 200000, \"sizemode\": \"area\", \"size\": []}, \"name\": \"Solomon Is.\", \"x\": []}, {\"text\": [], \"y\": [], \"mode\": \"marker\", \"marker\": {\"sizeref\": 200000, \"sizemode\": \"area\", \"size\": []}, \"name\": \"Portugal\", \"x\": []}, {\"text\": [], \"y\": [], \"mode\": \"marker\", \"marker\": {\"sizeref\": 200000, \"sizemode\": \"area\", \"size\": []}, \"name\": \"Colombia\", \"x\": []}, {\"text\": [], \"y\": [], \"mode\": \"marker\", \"marker\": {\"sizeref\": 200000, \"sizemode\": \"area\", \"size\": []}, \"name\": \"Pacific Ocean\", \"x\": []}, {\"text\": [], \"y\": [], \"mode\": \"marker\", \"marker\": {\"sizeref\": 200000, \"sizemode\": \"area\", \"size\": []}, \"name\": \"Peru\", \"x\": []}, {\"text\": [], \"y\": [], \"mode\": \"marker\", \"marker\": {\"sizeref\": 200000, \"sizemode\": \"area\", \"size\": []}, \"name\": \"China\", \"x\": []}, {\"text\": [], \"y\": [], \"mode\": \"marker\", \"marker\": {\"sizeref\": 200000, \"sizemode\": \"area\", \"size\": []}, \"name\": \"Spain\", \"x\": []}, {\"text\": [], \"y\": [], \"mode\": \"marker\", \"marker\": {\"sizeref\": 200000, \"sizemode\": \"area\", \"size\": []}, \"name\": \"Canada\", \"x\": []}, {\"text\": [\"Tanzania\"], \"y\": [-2.7510000000000003], \"mode\": \"marker\", \"marker\": {\"sizeref\": 200000, \"sizemode\": \"area\", \"size\": [2.0]}, \"name\": \"Tanzania\", \"x\": [35.902]}, {\"text\": [], \"y\": [], \"mode\": \"marker\", \"marker\": {\"sizeref\": 200000, \"sizemode\": \"area\", \"size\": []}, \"name\": \"St. Vincent & the Grenadines\", \"x\": []}, {\"text\": [], \"y\": [], \"mode\": \"marker\", \"marker\": {\"sizeref\": 200000, \"sizemode\": \"area\", \"size\": []}, \"name\": \"Chile\", \"x\": []}, {\"text\": [], \"y\": [], \"mode\": \"marker\", \"marker\": {\"sizeref\": 200000, \"sizemode\": \"area\", \"size\": []}, \"name\": \"Turkey\", \"x\": []}, {\"text\": [], \"y\": [], \"mode\": \"marker\", \"marker\": {\"sizeref\": 200000, \"sizemode\": \"area\", \"size\": []}, \"name\": \"St. Kitts & Nevis\", \"x\": []}, {\"text\": [], \"y\": [], \"mode\": \"marker\", \"marker\": {\"sizeref\": 200000, \"sizemode\": \"area\", \"size\": []}, \"name\": \"Guadeloupe\", \"x\": []}, {\"text\": [], \"y\": [], \"mode\": \"marker\", \"marker\": {\"sizeref\": 200000, \"sizemode\": \"area\", \"size\": []}, \"name\": \"Cape Verde\", \"x\": []}, {\"text\": [], \"y\": [], \"mode\": \"marker\", \"marker\": {\"sizeref\": 200000, \"sizemode\": \"area\", \"size\": []}, \"name\": \"Tonga\", \"x\": []}, {\"text\": [], \"y\": [], \"mode\": \"marker\", \"marker\": {\"sizeref\": 200000, \"sizemode\": \"area\", \"size\": []}, \"name\": \"Taiwan\", \"x\": []}, {\"text\": [], \"y\": [], \"mode\": \"marker\", \"marker\": {\"sizeref\": 200000, \"sizemode\": \"area\", \"size\": []}, \"name\": \"Eritrea\", \"x\": []}, {\"text\": [], \"y\": [], \"mode\": \"marker\", \"marker\": {\"sizeref\": 200000, \"sizemode\": \"area\", \"size\": []}, \"name\": \"Comoros\", \"x\": []}, {\"text\": [], \"y\": [], \"mode\": \"marker\", \"marker\": {\"sizeref\": 200000, \"sizemode\": \"area\", \"size\": []}, \"name\": \"Martinique\", \"x\": []}, {\"text\": [], \"y\": [], \"mode\": \"marker\", \"marker\": {\"sizeref\": 200000, \"sizemode\": \"area\", \"size\": []}, \"name\": \"Samoa\", \"x\": []}, {\"text\": [], \"y\": [], \"mode\": \"marker\", \"marker\": {\"sizeref\": 200000, \"sizemode\": \"area\", \"size\": []}, \"name\": \"Cameroon\", \"x\": []}, {\"text\": [], \"y\": [], \"mode\": \"marker\", \"marker\": {\"sizeref\": 200000, \"sizemode\": \"area\", \"size\": []}, \"name\": \"Trinidad \", \"x\": []}, {\"text\": [], \"y\": [], \"mode\": \"marker\", \"marker\": {\"sizeref\": 200000, \"sizemode\": \"area\", \"size\": []}, \"name\": \"Congo, DRC\", \"x\": []}, {\"text\": [], \"y\": [], \"mode\": \"marker\", \"marker\": {\"sizeref\": 200000, \"sizemode\": \"area\", \"size\": []}, \"name\": \"Costa Rica\", \"x\": []}, {\"text\": [], \"y\": [], \"mode\": \"marker\", \"marker\": {\"sizeref\": 200000, \"sizemode\": \"area\", \"size\": []}, \"name\": \"Antarctica\", \"x\": []}, {\"text\": [], \"y\": [], \"mode\": \"marker\", \"marker\": {\"sizeref\": 200000, \"sizemode\": \"area\", \"size\": []}, \"name\": \"Reunion\", \"x\": []}, {\"text\": [], \"y\": [], \"mode\": \"marker\", \"marker\": {\"sizeref\": 200000, \"sizemode\": \"area\", \"size\": []}, \"name\": \"Montserrat\", \"x\": []}], \"name\": \"1940\"}, {\"data\": [{\"text\": [], \"y\": [], \"mode\": \"marker\", \"marker\": {\"sizeref\": 200000, \"sizemode\": \"area\", \"size\": []}, \"name\": null, \"x\": []}, {\"text\": [], \"y\": [], \"mode\": \"marker\", \"marker\": {\"sizeref\": 200000, \"sizemode\": \"area\", \"size\": []}, \"name\": \"New Zealand\", \"x\": []}, {\"text\": [\"Japan\"], \"y\": [36.4], \"mode\": \"marker\", \"marker\": {\"sizeref\": 200000, \"sizemode\": \"area\", \"size\": [2.0]}, \"name\": \"Japan\", \"x\": [138.53]}, {\"text\": [], \"y\": [], \"mode\": \"marker\", \"marker\": {\"sizeref\": 200000, \"sizemode\": \"area\", \"size\": []}, \"name\": \"Nicaragua\", \"x\": []}, {\"text\": [], \"y\": [], \"mode\": \"marker\", \"marker\": {\"sizeref\": 200000, \"sizemode\": \"area\", \"size\": []}, \"name\": \"Papua New Guinea\", \"x\": []}, {\"text\": [\"Philippines\"], \"y\": [9.203], \"mode\": \"marker\", \"marker\": {\"sizeref\": 200000, \"sizemode\": \"area\", \"size\": [3.0]}, \"name\": \"Philippines\", \"x\": [124.67299999999999]}, {\"text\": [], \"y\": [], \"mode\": \"marker\", \"marker\": {\"sizeref\": 200000, \"sizemode\": \"area\", \"size\": []}, \"name\": \"Italy\", \"x\": []}, {\"text\": [], \"y\": [], \"mode\": \"marker\", \"marker\": {\"sizeref\": 200000, \"sizemode\": \"area\", \"size\": []}, \"name\": \"United States\", \"x\": []}, {\"text\": [], \"y\": [], \"mode\": \"marker\", \"marker\": {\"sizeref\": 200000, \"sizemode\": \"area\", \"size\": []}, \"name\": \"Greece\", \"x\": []}, {\"text\": [], \"y\": [], \"mode\": \"marker\", \"marker\": {\"sizeref\": 200000, \"sizemode\": \"area\", \"size\": []}, \"name\": \"Ecuador\", \"x\": []}, {\"text\": [], \"y\": [], \"mode\": \"marker\", \"marker\": {\"sizeref\": 200000, \"sizemode\": \"area\", \"size\": []}, \"name\": \"Vanuatu\", \"x\": []}, {\"text\": [], \"y\": [], \"mode\": \"marker\", \"marker\": {\"sizeref\": 200000, \"sizemode\": \"area\", \"size\": []}, \"name\": \"Yemen\", \"x\": []}, {\"text\": [], \"y\": [], \"mode\": \"marker\", \"marker\": {\"sizeref\": 200000, \"sizemode\": \"area\", \"size\": []}, \"name\": \"Russia\", \"x\": []}, {\"text\": [\"Indonesia\"], \"y\": [-8.107999999999999], \"mode\": \"marker\", \"marker\": {\"sizeref\": 200000, \"sizemode\": \"area\", \"size\": [1.0]}, \"name\": \"Indonesia\", \"x\": [112.92]}, {\"text\": [], \"y\": [], \"mode\": \"marker\", \"marker\": {\"sizeref\": 200000, \"sizemode\": \"area\", \"size\": []}, \"name\": \"El Salvador\", \"x\": []}, {\"text\": [], \"y\": [], \"mode\": \"marker\", \"marker\": {\"sizeref\": 200000, \"sizemode\": \"area\", \"size\": []}, \"name\": \"Saudi Arabia\", \"x\": []}, {\"text\": [], \"y\": [], \"mode\": \"marker\", \"marker\": {\"sizeref\": 200000, \"sizemode\": \"area\", \"size\": []}, \"name\": \"Iceland\", \"x\": []}, {\"text\": [], \"y\": [], \"mode\": \"marker\", \"marker\": {\"sizeref\": 200000, \"sizemode\": \"area\", \"size\": []}, \"name\": \"Mexico\", \"x\": []}, {\"text\": [], \"y\": [], \"mode\": \"marker\", \"marker\": {\"sizeref\": 200000, \"sizemode\": \"area\", \"size\": []}, \"name\": \"North Korea\", \"x\": []}, {\"text\": [], \"y\": [], \"mode\": \"marker\", \"marker\": {\"sizeref\": 200000, \"sizemode\": \"area\", \"size\": []}, \"name\": \"Ethiopia\", \"x\": []}, {\"text\": [], \"y\": [], \"mode\": \"marker\", \"marker\": {\"sizeref\": 200000, \"sizemode\": \"area\", \"size\": []}, \"name\": \"Guatemala\", \"x\": []}, {\"text\": [], \"y\": [], \"mode\": \"marker\", \"marker\": {\"sizeref\": 200000, \"sizemode\": \"area\", \"size\": []}, \"name\": \"Solomon Is.\", \"x\": []}, {\"text\": [], \"y\": [], \"mode\": \"marker\", \"marker\": {\"sizeref\": 200000, \"sizemode\": \"area\", \"size\": []}, \"name\": \"Portugal\", \"x\": []}, {\"text\": [], \"y\": [], \"mode\": \"marker\", \"marker\": {\"sizeref\": 200000, \"sizemode\": \"area\", \"size\": []}, \"name\": \"Colombia\", \"x\": []}, {\"text\": [], \"y\": [], \"mode\": \"marker\", \"marker\": {\"sizeref\": 200000, \"sizemode\": \"area\", \"size\": []}, \"name\": \"Pacific Ocean\", \"x\": []}, {\"text\": [], \"y\": [], \"mode\": \"marker\", \"marker\": {\"sizeref\": 200000, \"sizemode\": \"area\", \"size\": []}, \"name\": \"Peru\", \"x\": []}, {\"text\": [], \"y\": [], \"mode\": \"marker\", \"marker\": {\"sizeref\": 200000, \"sizemode\": \"area\", \"size\": []}, \"name\": \"China\", \"x\": []}, {\"text\": [], \"y\": [], \"mode\": \"marker\", \"marker\": {\"sizeref\": 200000, \"sizemode\": \"area\", \"size\": []}, \"name\": \"Spain\", \"x\": []}, {\"text\": [], \"y\": [], \"mode\": \"marker\", \"marker\": {\"sizeref\": 200000, \"sizemode\": \"area\", \"size\": []}, \"name\": \"Canada\", \"x\": []}, {\"text\": [], \"y\": [], \"mode\": \"marker\", \"marker\": {\"sizeref\": 200000, \"sizemode\": \"area\", \"size\": []}, \"name\": \"Tanzania\", \"x\": []}, {\"text\": [], \"y\": [], \"mode\": \"marker\", \"marker\": {\"sizeref\": 200000, \"sizemode\": \"area\", \"size\": []}, \"name\": \"St. Vincent & the Grenadines\", \"x\": []}, {\"text\": [], \"y\": [], \"mode\": \"marker\", \"marker\": {\"sizeref\": 200000, \"sizemode\": \"area\", \"size\": []}, \"name\": \"Chile\", \"x\": []}, {\"text\": [], \"y\": [], \"mode\": \"marker\", \"marker\": {\"sizeref\": 200000, \"sizemode\": \"area\", \"size\": []}, \"name\": \"Turkey\", \"x\": []}, {\"text\": [], \"y\": [], \"mode\": \"marker\", \"marker\": {\"sizeref\": 200000, \"sizemode\": \"area\", \"size\": []}, \"name\": \"St. Kitts & Nevis\", \"x\": []}, {\"text\": [], \"y\": [], \"mode\": \"marker\", \"marker\": {\"sizeref\": 200000, \"sizemode\": \"area\", \"size\": []}, \"name\": \"Guadeloupe\", \"x\": []}, {\"text\": [], \"y\": [], \"mode\": \"marker\", \"marker\": {\"sizeref\": 200000, \"sizemode\": \"area\", \"size\": []}, \"name\": \"Cape Verde\", \"x\": []}, {\"text\": [], \"y\": [], \"mode\": \"marker\", \"marker\": {\"sizeref\": 200000, \"sizemode\": \"area\", \"size\": []}, \"name\": \"Tonga\", \"x\": []}, {\"text\": [], \"y\": [], \"mode\": \"marker\", \"marker\": {\"sizeref\": 200000, \"sizemode\": \"area\", \"size\": []}, \"name\": \"Taiwan\", \"x\": []}, {\"text\": [], \"y\": [], \"mode\": \"marker\", \"marker\": {\"sizeref\": 200000, \"sizemode\": \"area\", \"size\": []}, \"name\": \"Eritrea\", \"x\": []}, {\"text\": [], \"y\": [], \"mode\": \"marker\", \"marker\": {\"sizeref\": 200000, \"sizemode\": \"area\", \"size\": []}, \"name\": \"Comoros\", \"x\": []}, {\"text\": [], \"y\": [], \"mode\": \"marker\", \"marker\": {\"sizeref\": 200000, \"sizemode\": \"area\", \"size\": []}, \"name\": \"Martinique\", \"x\": []}, {\"text\": [], \"y\": [], \"mode\": \"marker\", \"marker\": {\"sizeref\": 200000, \"sizemode\": \"area\", \"size\": []}, \"name\": \"Samoa\", \"x\": []}, {\"text\": [], \"y\": [], \"mode\": \"marker\", \"marker\": {\"sizeref\": 200000, \"sizemode\": \"area\", \"size\": []}, \"name\": \"Cameroon\", \"x\": []}, {\"text\": [], \"y\": [], \"mode\": \"marker\", \"marker\": {\"sizeref\": 200000, \"sizemode\": \"area\", \"size\": []}, \"name\": \"Trinidad \", \"x\": []}, {\"text\": [], \"y\": [], \"mode\": \"marker\", \"marker\": {\"sizeref\": 200000, \"sizemode\": \"area\", \"size\": []}, \"name\": \"Congo, DRC\", \"x\": []}, {\"text\": [], \"y\": [], \"mode\": \"marker\", \"marker\": {\"sizeref\": 200000, \"sizemode\": \"area\", \"size\": []}, \"name\": \"Costa Rica\", \"x\": []}, {\"text\": [], \"y\": [], \"mode\": \"marker\", \"marker\": {\"sizeref\": 200000, \"sizemode\": \"area\", \"size\": []}, \"name\": \"Antarctica\", \"x\": []}, {\"text\": [], \"y\": [], \"mode\": \"marker\", \"marker\": {\"sizeref\": 200000, \"sizemode\": \"area\", \"size\": []}, \"name\": \"Reunion\", \"x\": []}, {\"text\": [], \"y\": [], \"mode\": \"marker\", \"marker\": {\"sizeref\": 200000, \"sizemode\": \"area\", \"size\": []}, \"name\": \"Montserrat\", \"x\": []}], \"name\": \"1950\"}, {\"data\": [{\"text\": [], \"y\": [], \"mode\": \"marker\", \"marker\": {\"sizeref\": 200000, \"sizemode\": \"area\", \"size\": []}, \"name\": null, \"x\": []}, {\"text\": [], \"y\": [], \"mode\": \"marker\", \"marker\": {\"sizeref\": 200000, \"sizemode\": \"area\", \"size\": []}, \"name\": \"New Zealand\", \"x\": []}, {\"text\": [], \"y\": [], \"mode\": \"marker\", \"marker\": {\"sizeref\": 200000, \"sizemode\": \"area\", \"size\": []}, \"name\": \"Japan\", \"x\": []}, {\"text\": [], \"y\": [], \"mode\": \"marker\", \"marker\": {\"sizeref\": 200000, \"sizemode\": \"area\", \"size\": []}, \"name\": \"Nicaragua\", \"x\": []}, {\"text\": [], \"y\": [], \"mode\": \"marker\", \"marker\": {\"sizeref\": 200000, \"sizemode\": \"area\", \"size\": []}, \"name\": \"Papua New Guinea\", \"x\": []}, {\"text\": [], \"y\": [], \"mode\": \"marker\", \"marker\": {\"sizeref\": 200000, \"sizemode\": \"area\", \"size\": []}, \"name\": \"Philippines\", \"x\": []}, {\"text\": [], \"y\": [], \"mode\": \"marker\", \"marker\": {\"sizeref\": 200000, \"sizemode\": \"area\", \"size\": []}, \"name\": \"Italy\", \"x\": []}, {\"text\": [], \"y\": [], \"mode\": \"marker\", \"marker\": {\"sizeref\": 200000, \"sizemode\": \"area\", \"size\": []}, \"name\": \"United States\", \"x\": []}, {\"text\": [], \"y\": [], \"mode\": \"marker\", \"marker\": {\"sizeref\": 200000, \"sizemode\": \"area\", \"size\": []}, \"name\": \"Greece\", \"x\": []}, {\"text\": [], \"y\": [], \"mode\": \"marker\", \"marker\": {\"sizeref\": 200000, \"sizemode\": \"area\", \"size\": []}, \"name\": \"Ecuador\", \"x\": []}, {\"text\": [], \"y\": [], \"mode\": \"marker\", \"marker\": {\"sizeref\": 200000, \"sizemode\": \"area\", \"size\": []}, \"name\": \"Vanuatu\", \"x\": []}, {\"text\": [], \"y\": [], \"mode\": \"marker\", \"marker\": {\"sizeref\": 200000, \"sizemode\": \"area\", \"size\": []}, \"name\": \"Yemen\", \"x\": []}, {\"text\": [], \"y\": [], \"mode\": \"marker\", \"marker\": {\"sizeref\": 200000, \"sizemode\": \"area\", \"size\": []}, \"name\": \"Russia\", \"x\": []}, {\"text\": [], \"y\": [], \"mode\": \"marker\", \"marker\": {\"sizeref\": 200000, \"sizemode\": \"area\", \"size\": []}, \"name\": \"Indonesia\", \"x\": []}, {\"text\": [], \"y\": [], \"mode\": \"marker\", \"marker\": {\"sizeref\": 200000, \"sizemode\": \"area\", \"size\": []}, \"name\": \"El Salvador\", \"x\": []}, {\"text\": [], \"y\": [], \"mode\": \"marker\", \"marker\": {\"sizeref\": 200000, \"sizemode\": \"area\", \"size\": []}, \"name\": \"Saudi Arabia\", \"x\": []}, {\"text\": [], \"y\": [], \"mode\": \"marker\", \"marker\": {\"sizeref\": 200000, \"sizemode\": \"area\", \"size\": []}, \"name\": \"Iceland\", \"x\": []}, {\"text\": [], \"y\": [], \"mode\": \"marker\", \"marker\": {\"sizeref\": 200000, \"sizemode\": \"area\", \"size\": []}, \"name\": \"Mexico\", \"x\": []}, {\"text\": [], \"y\": [], \"mode\": \"marker\", \"marker\": {\"sizeref\": 200000, \"sizemode\": \"area\", \"size\": []}, \"name\": \"North Korea\", \"x\": []}, {\"text\": [], \"y\": [], \"mode\": \"marker\", \"marker\": {\"sizeref\": 200000, \"sizemode\": \"area\", \"size\": []}, \"name\": \"Ethiopia\", \"x\": []}, {\"text\": [], \"y\": [], \"mode\": \"marker\", \"marker\": {\"sizeref\": 200000, \"sizemode\": \"area\", \"size\": []}, \"name\": \"Guatemala\", \"x\": []}, {\"text\": [], \"y\": [], \"mode\": \"marker\", \"marker\": {\"sizeref\": 200000, \"sizemode\": \"area\", \"size\": []}, \"name\": \"Solomon Is.\", \"x\": []}, {\"text\": [], \"y\": [], \"mode\": \"marker\", \"marker\": {\"sizeref\": 200000, \"sizemode\": \"area\", \"size\": []}, \"name\": \"Portugal\", \"x\": []}, {\"text\": [], \"y\": [], \"mode\": \"marker\", \"marker\": {\"sizeref\": 200000, \"sizemode\": \"area\", \"size\": []}, \"name\": \"Colombia\", \"x\": []}, {\"text\": [], \"y\": [], \"mode\": \"marker\", \"marker\": {\"sizeref\": 200000, \"sizemode\": \"area\", \"size\": []}, \"name\": \"Pacific Ocean\", \"x\": []}, {\"text\": [], \"y\": [], \"mode\": \"marker\", \"marker\": {\"sizeref\": 200000, \"sizemode\": \"area\", \"size\": []}, \"name\": \"Peru\", \"x\": []}, {\"text\": [], \"y\": [], \"mode\": \"marker\", \"marker\": {\"sizeref\": 200000, \"sizemode\": \"area\", \"size\": []}, \"name\": \"China\", \"x\": []}, {\"text\": [], \"y\": [], \"mode\": \"marker\", \"marker\": {\"sizeref\": 200000, \"sizemode\": \"area\", \"size\": []}, \"name\": \"Spain\", \"x\": []}, {\"text\": [], \"y\": [], \"mode\": \"marker\", \"marker\": {\"sizeref\": 200000, \"sizemode\": \"area\", \"size\": []}, \"name\": \"Canada\", \"x\": []}, {\"text\": [], \"y\": [], \"mode\": \"marker\", \"marker\": {\"sizeref\": 200000, \"sizemode\": \"area\", \"size\": []}, \"name\": \"Tanzania\", \"x\": []}, {\"text\": [], \"y\": [], \"mode\": \"marker\", \"marker\": {\"sizeref\": 200000, \"sizemode\": \"area\", \"size\": []}, \"name\": \"St. Vincent & the Grenadines\", \"x\": []}, {\"text\": [\"Chile\"], \"y\": [-40.59], \"mode\": \"marker\", \"marker\": {\"sizeref\": 200000, \"sizemode\": \"area\", \"size\": [3.0]}, \"name\": \"Chile\", \"x\": [-72.117]}, {\"text\": [], \"y\": [], \"mode\": \"marker\", \"marker\": {\"sizeref\": 200000, \"sizemode\": \"area\", \"size\": []}, \"name\": \"Turkey\", \"x\": []}, {\"text\": [], \"y\": [], \"mode\": \"marker\", \"marker\": {\"sizeref\": 200000, \"sizemode\": \"area\", \"size\": []}, \"name\": \"St. Kitts & Nevis\", \"x\": []}, {\"text\": [], \"y\": [], \"mode\": \"marker\", \"marker\": {\"sizeref\": 200000, \"sizemode\": \"area\", \"size\": []}, \"name\": \"Guadeloupe\", \"x\": []}, {\"text\": [], \"y\": [], \"mode\": \"marker\", \"marker\": {\"sizeref\": 200000, \"sizemode\": \"area\", \"size\": []}, \"name\": \"Cape Verde\", \"x\": []}, {\"text\": [], \"y\": [], \"mode\": \"marker\", \"marker\": {\"sizeref\": 200000, \"sizemode\": \"area\", \"size\": []}, \"name\": \"Tonga\", \"x\": []}, {\"text\": [], \"y\": [], \"mode\": \"marker\", \"marker\": {\"sizeref\": 200000, \"sizemode\": \"area\", \"size\": []}, \"name\": \"Taiwan\", \"x\": []}, {\"text\": [], \"y\": [], \"mode\": \"marker\", \"marker\": {\"sizeref\": 200000, \"sizemode\": \"area\", \"size\": []}, \"name\": \"Eritrea\", \"x\": []}, {\"text\": [], \"y\": [], \"mode\": \"marker\", \"marker\": {\"sizeref\": 200000, \"sizemode\": \"area\", \"size\": []}, \"name\": \"Comoros\", \"x\": []}, {\"text\": [], \"y\": [], \"mode\": \"marker\", \"marker\": {\"sizeref\": 200000, \"sizemode\": \"area\", \"size\": []}, \"name\": \"Martinique\", \"x\": []}, {\"text\": [], \"y\": [], \"mode\": \"marker\", \"marker\": {\"sizeref\": 200000, \"sizemode\": \"area\", \"size\": []}, \"name\": \"Samoa\", \"x\": []}, {\"text\": [], \"y\": [], \"mode\": \"marker\", \"marker\": {\"sizeref\": 200000, \"sizemode\": \"area\", \"size\": []}, \"name\": \"Cameroon\", \"x\": []}, {\"text\": [], \"y\": [], \"mode\": \"marker\", \"marker\": {\"sizeref\": 200000, \"sizemode\": \"area\", \"size\": []}, \"name\": \"Trinidad \", \"x\": []}, {\"text\": [], \"y\": [], \"mode\": \"marker\", \"marker\": {\"sizeref\": 200000, \"sizemode\": \"area\", \"size\": []}, \"name\": \"Congo, DRC\", \"x\": []}, {\"text\": [], \"y\": [], \"mode\": \"marker\", \"marker\": {\"sizeref\": 200000, \"sizemode\": \"area\", \"size\": []}, \"name\": \"Costa Rica\", \"x\": []}, {\"text\": [], \"y\": [], \"mode\": \"marker\", \"marker\": {\"sizeref\": 200000, \"sizemode\": \"area\", \"size\": []}, \"name\": \"Antarctica\", \"x\": []}, {\"text\": [], \"y\": [], \"mode\": \"marker\", \"marker\": {\"sizeref\": 200000, \"sizemode\": \"area\", \"size\": []}, \"name\": \"Reunion\", \"x\": []}, {\"text\": [], \"y\": [], \"mode\": \"marker\", \"marker\": {\"sizeref\": 200000, \"sizemode\": \"area\", \"size\": []}, \"name\": \"Montserrat\", \"x\": []}], \"name\": \"1960\"}, {\"data\": [{\"text\": [], \"y\": [], \"mode\": \"marker\", \"marker\": {\"sizeref\": 200000, \"sizemode\": \"area\", \"size\": []}, \"name\": null, \"x\": []}, {\"text\": [], \"y\": [], \"mode\": \"marker\", \"marker\": {\"sizeref\": 200000, \"sizemode\": \"area\", \"size\": []}, \"name\": \"New Zealand\", \"x\": []}, {\"text\": [], \"y\": [], \"mode\": \"marker\", \"marker\": {\"sizeref\": 200000, \"sizemode\": \"area\", \"size\": []}, \"name\": \"Japan\", \"x\": []}, {\"text\": [], \"y\": [], \"mode\": \"marker\", \"marker\": {\"sizeref\": 200000, \"sizemode\": \"area\", \"size\": []}, \"name\": \"Nicaragua\", \"x\": []}, {\"text\": [], \"y\": [], \"mode\": \"marker\", \"marker\": {\"sizeref\": 200000, \"sizemode\": \"area\", \"size\": []}, \"name\": \"Papua New Guinea\", \"x\": []}, {\"text\": [], \"y\": [], \"mode\": \"marker\", \"marker\": {\"sizeref\": 200000, \"sizemode\": \"area\", \"size\": []}, \"name\": \"Philippines\", \"x\": []}, {\"text\": [\"Italy\"], \"y\": [40.827], \"mode\": \"marker\", \"marker\": {\"sizeref\": 200000, \"sizemode\": \"area\", \"size\": [null]}, \"name\": \"Italy\", \"x\": [14.139000000000001]}, {\"text\": [], \"y\": [], \"mode\": \"marker\", \"marker\": {\"sizeref\": 200000, \"sizemode\": \"area\", \"size\": []}, \"name\": \"United States\", \"x\": []}, {\"text\": [], \"y\": [], \"mode\": \"marker\", \"marker\": {\"sizeref\": 200000, \"sizemode\": \"area\", \"size\": []}, \"name\": \"Greece\", \"x\": []}, {\"text\": [], \"y\": [], \"mode\": \"marker\", \"marker\": {\"sizeref\": 200000, \"sizemode\": \"area\", \"size\": []}, \"name\": \"Ecuador\", \"x\": []}, {\"text\": [], \"y\": [], \"mode\": \"marker\", \"marker\": {\"sizeref\": 200000, \"sizemode\": \"area\", \"size\": []}, \"name\": \"Vanuatu\", \"x\": []}, {\"text\": [], \"y\": [], \"mode\": \"marker\", \"marker\": {\"sizeref\": 200000, \"sizemode\": \"area\", \"size\": []}, \"name\": \"Yemen\", \"x\": []}, {\"text\": [], \"y\": [], \"mode\": \"marker\", \"marker\": {\"sizeref\": 200000, \"sizemode\": \"area\", \"size\": []}, \"name\": \"Russia\", \"x\": []}, {\"text\": [], \"y\": [], \"mode\": \"marker\", \"marker\": {\"sizeref\": 200000, \"sizemode\": \"area\", \"size\": []}, \"name\": \"Indonesia\", \"x\": []}, {\"text\": [], \"y\": [], \"mode\": \"marker\", \"marker\": {\"sizeref\": 200000, \"sizemode\": \"area\", \"size\": []}, \"name\": \"El Salvador\", \"x\": []}, {\"text\": [], \"y\": [], \"mode\": \"marker\", \"marker\": {\"sizeref\": 200000, \"sizemode\": \"area\", \"size\": []}, \"name\": \"Saudi Arabia\", \"x\": []}, {\"text\": [\"Iceland\"], \"y\": [63.98], \"mode\": \"marker\", \"marker\": {\"sizeref\": 200000, \"sizemode\": \"area\", \"size\": [3.0]}, \"name\": \"Iceland\", \"x\": [-19.7]}, {\"text\": [], \"y\": [], \"mode\": \"marker\", \"marker\": {\"sizeref\": 200000, \"sizemode\": \"area\", \"size\": []}, \"name\": \"Mexico\", \"x\": []}, {\"text\": [], \"y\": [], \"mode\": \"marker\", \"marker\": {\"sizeref\": 200000, \"sizemode\": \"area\", \"size\": []}, \"name\": \"North Korea\", \"x\": []}, {\"text\": [], \"y\": [], \"mode\": \"marker\", \"marker\": {\"sizeref\": 200000, \"sizemode\": \"area\", \"size\": []}, \"name\": \"Ethiopia\", \"x\": []}, {\"text\": [], \"y\": [], \"mode\": \"marker\", \"marker\": {\"sizeref\": 200000, \"sizemode\": \"area\", \"size\": []}, \"name\": \"Guatemala\", \"x\": []}, {\"text\": [], \"y\": [], \"mode\": \"marker\", \"marker\": {\"sizeref\": 200000, \"sizemode\": \"area\", \"size\": []}, \"name\": \"Solomon Is.\", \"x\": []}, {\"text\": [], \"y\": [], \"mode\": \"marker\", \"marker\": {\"sizeref\": 200000, \"sizemode\": \"area\", \"size\": []}, \"name\": \"Portugal\", \"x\": []}, {\"text\": [], \"y\": [], \"mode\": \"marker\", \"marker\": {\"sizeref\": 200000, \"sizemode\": \"area\", \"size\": []}, \"name\": \"Colombia\", \"x\": []}, {\"text\": [], \"y\": [], \"mode\": \"marker\", \"marker\": {\"sizeref\": 200000, \"sizemode\": \"area\", \"size\": []}, \"name\": \"Pacific Ocean\", \"x\": []}, {\"text\": [], \"y\": [], \"mode\": \"marker\", \"marker\": {\"sizeref\": 200000, \"sizemode\": \"area\", \"size\": []}, \"name\": \"Peru\", \"x\": []}, {\"text\": [], \"y\": [], \"mode\": \"marker\", \"marker\": {\"sizeref\": 200000, \"sizemode\": \"area\", \"size\": []}, \"name\": \"China\", \"x\": []}, {\"text\": [], \"y\": [], \"mode\": \"marker\", \"marker\": {\"sizeref\": 200000, \"sizemode\": \"area\", \"size\": []}, \"name\": \"Spain\", \"x\": []}, {\"text\": [], \"y\": [], \"mode\": \"marker\", \"marker\": {\"sizeref\": 200000, \"sizemode\": \"area\", \"size\": []}, \"name\": \"Canada\", \"x\": []}, {\"text\": [], \"y\": [], \"mode\": \"marker\", \"marker\": {\"sizeref\": 200000, \"sizemode\": \"area\", \"size\": []}, \"name\": \"Tanzania\", \"x\": []}, {\"text\": [], \"y\": [], \"mode\": \"marker\", \"marker\": {\"sizeref\": 200000, \"sizemode\": \"area\", \"size\": []}, \"name\": \"St. Vincent & the Grenadines\", \"x\": []}, {\"text\": [], \"y\": [], \"mode\": \"marker\", \"marker\": {\"sizeref\": 200000, \"sizemode\": \"area\", \"size\": []}, \"name\": \"Chile\", \"x\": []}, {\"text\": [], \"y\": [], \"mode\": \"marker\", \"marker\": {\"sizeref\": 200000, \"sizemode\": \"area\", \"size\": []}, \"name\": \"Turkey\", \"x\": []}, {\"text\": [], \"y\": [], \"mode\": \"marker\", \"marker\": {\"sizeref\": 200000, \"sizemode\": \"area\", \"size\": []}, \"name\": \"St. Kitts & Nevis\", \"x\": []}, {\"text\": [], \"y\": [], \"mode\": \"marker\", \"marker\": {\"sizeref\": 200000, \"sizemode\": \"area\", \"size\": []}, \"name\": \"Guadeloupe\", \"x\": []}, {\"text\": [], \"y\": [], \"mode\": \"marker\", \"marker\": {\"sizeref\": 200000, \"sizemode\": \"area\", \"size\": []}, \"name\": \"Cape Verde\", \"x\": []}, {\"text\": [], \"y\": [], \"mode\": \"marker\", \"marker\": {\"sizeref\": 200000, \"sizemode\": \"area\", \"size\": []}, \"name\": \"Tonga\", \"x\": []}, {\"text\": [], \"y\": [], \"mode\": \"marker\", \"marker\": {\"sizeref\": 200000, \"sizemode\": \"area\", \"size\": []}, \"name\": \"Taiwan\", \"x\": []}, {\"text\": [], \"y\": [], \"mode\": \"marker\", \"marker\": {\"sizeref\": 200000, \"sizemode\": \"area\", \"size\": []}, \"name\": \"Eritrea\", \"x\": []}, {\"text\": [], \"y\": [], \"mode\": \"marker\", \"marker\": {\"sizeref\": 200000, \"sizemode\": \"area\", \"size\": []}, \"name\": \"Comoros\", \"x\": []}, {\"text\": [], \"y\": [], \"mode\": \"marker\", \"marker\": {\"sizeref\": 200000, \"sizemode\": \"area\", \"size\": []}, \"name\": \"Martinique\", \"x\": []}, {\"text\": [], \"y\": [], \"mode\": \"marker\", \"marker\": {\"sizeref\": 200000, \"sizemode\": \"area\", \"size\": []}, \"name\": \"Samoa\", \"x\": []}, {\"text\": [], \"y\": [], \"mode\": \"marker\", \"marker\": {\"sizeref\": 200000, \"sizemode\": \"area\", \"size\": []}, \"name\": \"Cameroon\", \"x\": []}, {\"text\": [], \"y\": [], \"mode\": \"marker\", \"marker\": {\"sizeref\": 200000, \"sizemode\": \"area\", \"size\": []}, \"name\": \"Trinidad \", \"x\": []}, {\"text\": [], \"y\": [], \"mode\": \"marker\", \"marker\": {\"sizeref\": 200000, \"sizemode\": \"area\", \"size\": []}, \"name\": \"Congo, DRC\", \"x\": []}, {\"text\": [], \"y\": [], \"mode\": \"marker\", \"marker\": {\"sizeref\": 200000, \"sizemode\": \"area\", \"size\": []}, \"name\": \"Costa Rica\", \"x\": []}, {\"text\": [], \"y\": [], \"mode\": \"marker\", \"marker\": {\"sizeref\": 200000, \"sizemode\": \"area\", \"size\": []}, \"name\": \"Antarctica\", \"x\": []}, {\"text\": [], \"y\": [], \"mode\": \"marker\", \"marker\": {\"sizeref\": 200000, \"sizemode\": \"area\", \"size\": []}, \"name\": \"Reunion\", \"x\": []}, {\"text\": [], \"y\": [], \"mode\": \"marker\", \"marker\": {\"sizeref\": 200000, \"sizemode\": \"area\", \"size\": []}, \"name\": \"Montserrat\", \"x\": []}], \"name\": \"1970\"}, {\"data\": [{\"text\": [], \"y\": [], \"mode\": \"marker\", \"marker\": {\"sizeref\": 200000, \"sizemode\": \"area\", \"size\": []}, \"name\": null, \"x\": []}, {\"text\": [], \"y\": [], \"mode\": \"marker\", \"marker\": {\"sizeref\": 200000, \"sizemode\": \"area\", \"size\": []}, \"name\": \"New Zealand\", \"x\": []}, {\"text\": [], \"y\": [], \"mode\": \"marker\", \"marker\": {\"sizeref\": 200000, \"sizemode\": \"area\", \"size\": []}, \"name\": \"Japan\", \"x\": []}, {\"text\": [], \"y\": [], \"mode\": \"marker\", \"marker\": {\"sizeref\": 200000, \"sizemode\": \"area\", \"size\": []}, \"name\": \"Nicaragua\", \"x\": []}, {\"text\": [], \"y\": [], \"mode\": \"marker\", \"marker\": {\"sizeref\": 200000, \"sizemode\": \"area\", \"size\": []}, \"name\": \"Papua New Guinea\", \"x\": []}, {\"text\": [], \"y\": [], \"mode\": \"marker\", \"marker\": {\"sizeref\": 200000, \"sizemode\": \"area\", \"size\": []}, \"name\": \"Philippines\", \"x\": []}, {\"text\": [], \"y\": [], \"mode\": \"marker\", \"marker\": {\"sizeref\": 200000, \"sizemode\": \"area\", \"size\": []}, \"name\": \"Italy\", \"x\": []}, {\"text\": [\"United States\", \"United States\"], \"y\": [46.2, 45.373999999999995], \"mode\": \"marker\", \"marker\": {\"sizeref\": 200000, \"sizemode\": \"area\", \"size\": [5.0, null]}, \"name\": \"United States\", \"x\": [-122.18, -121.694]}, {\"text\": [], \"y\": [], \"mode\": \"marker\", \"marker\": {\"sizeref\": 200000, \"sizemode\": \"area\", \"size\": []}, \"name\": \"Greece\", \"x\": []}, {\"text\": [], \"y\": [], \"mode\": \"marker\", \"marker\": {\"sizeref\": 200000, \"sizemode\": \"area\", \"size\": []}, \"name\": \"Ecuador\", \"x\": []}, {\"text\": [], \"y\": [], \"mode\": \"marker\", \"marker\": {\"sizeref\": 200000, \"sizemode\": \"area\", \"size\": []}, \"name\": \"Vanuatu\", \"x\": []}, {\"text\": [], \"y\": [], \"mode\": \"marker\", \"marker\": {\"sizeref\": 200000, \"sizemode\": \"area\", \"size\": []}, \"name\": \"Yemen\", \"x\": []}, {\"text\": [], \"y\": [], \"mode\": \"marker\", \"marker\": {\"sizeref\": 200000, \"sizemode\": \"area\", \"size\": []}, \"name\": \"Russia\", \"x\": []}, {\"text\": [], \"y\": [], \"mode\": \"marker\", \"marker\": {\"sizeref\": 200000, \"sizemode\": \"area\", \"size\": []}, \"name\": \"Indonesia\", \"x\": []}, {\"text\": [], \"y\": [], \"mode\": \"marker\", \"marker\": {\"sizeref\": 200000, \"sizemode\": \"area\", \"size\": []}, \"name\": \"El Salvador\", \"x\": []}, {\"text\": [], \"y\": [], \"mode\": \"marker\", \"marker\": {\"sizeref\": 200000, \"sizemode\": \"area\", \"size\": []}, \"name\": \"Saudi Arabia\", \"x\": []}, {\"text\": [\"Iceland\"], \"y\": [63.98], \"mode\": \"marker\", \"marker\": {\"sizeref\": 200000, \"sizemode\": \"area\", \"size\": [3.0]}, \"name\": \"Iceland\", \"x\": [-19.7]}, {\"text\": [], \"y\": [], \"mode\": \"marker\", \"marker\": {\"sizeref\": 200000, \"sizemode\": \"area\", \"size\": []}, \"name\": \"Mexico\", \"x\": []}, {\"text\": [], \"y\": [], \"mode\": \"marker\", \"marker\": {\"sizeref\": 200000, \"sizemode\": \"area\", \"size\": []}, \"name\": \"North Korea\", \"x\": []}, {\"text\": [], \"y\": [], \"mode\": \"marker\", \"marker\": {\"sizeref\": 200000, \"sizemode\": \"area\", \"size\": []}, \"name\": \"Ethiopia\", \"x\": []}, {\"text\": [], \"y\": [], \"mode\": \"marker\", \"marker\": {\"sizeref\": 200000, \"sizemode\": \"area\", \"size\": []}, \"name\": \"Guatemala\", \"x\": []}, {\"text\": [], \"y\": [], \"mode\": \"marker\", \"marker\": {\"sizeref\": 200000, \"sizemode\": \"area\", \"size\": []}, \"name\": \"Solomon Is.\", \"x\": []}, {\"text\": [], \"y\": [], \"mode\": \"marker\", \"marker\": {\"sizeref\": 200000, \"sizemode\": \"area\", \"size\": []}, \"name\": \"Portugal\", \"x\": []}, {\"text\": [], \"y\": [], \"mode\": \"marker\", \"marker\": {\"sizeref\": 200000, \"sizemode\": \"area\", \"size\": []}, \"name\": \"Colombia\", \"x\": []}, {\"text\": [], \"y\": [], \"mode\": \"marker\", \"marker\": {\"sizeref\": 200000, \"sizemode\": \"area\", \"size\": []}, \"name\": \"Pacific Ocean\", \"x\": []}, {\"text\": [], \"y\": [], \"mode\": \"marker\", \"marker\": {\"sizeref\": 200000, \"sizemode\": \"area\", \"size\": []}, \"name\": \"Peru\", \"x\": []}, {\"text\": [], \"y\": [], \"mode\": \"marker\", \"marker\": {\"sizeref\": 200000, \"sizemode\": \"area\", \"size\": []}, \"name\": \"China\", \"x\": []}, {\"text\": [], \"y\": [], \"mode\": \"marker\", \"marker\": {\"sizeref\": 200000, \"sizemode\": \"area\", \"size\": []}, \"name\": \"Spain\", \"x\": []}, {\"text\": [], \"y\": [], \"mode\": \"marker\", \"marker\": {\"sizeref\": 200000, \"sizemode\": \"area\", \"size\": []}, \"name\": \"Canada\", \"x\": []}, {\"text\": [], \"y\": [], \"mode\": \"marker\", \"marker\": {\"sizeref\": 200000, \"sizemode\": \"area\", \"size\": []}, \"name\": \"Tanzania\", \"x\": []}, {\"text\": [], \"y\": [], \"mode\": \"marker\", \"marker\": {\"sizeref\": 200000, \"sizemode\": \"area\", \"size\": []}, \"name\": \"St. Vincent & the Grenadines\", \"x\": []}, {\"text\": [], \"y\": [], \"mode\": \"marker\", \"marker\": {\"sizeref\": 200000, \"sizemode\": \"area\", \"size\": []}, \"name\": \"Chile\", \"x\": []}, {\"text\": [], \"y\": [], \"mode\": \"marker\", \"marker\": {\"sizeref\": 200000, \"sizemode\": \"area\", \"size\": []}, \"name\": \"Turkey\", \"x\": []}, {\"text\": [], \"y\": [], \"mode\": \"marker\", \"marker\": {\"sizeref\": 200000, \"sizemode\": \"area\", \"size\": []}, \"name\": \"St. Kitts & Nevis\", \"x\": []}, {\"text\": [], \"y\": [], \"mode\": \"marker\", \"marker\": {\"sizeref\": 200000, \"sizemode\": \"area\", \"size\": []}, \"name\": \"Guadeloupe\", \"x\": []}, {\"text\": [], \"y\": [], \"mode\": \"marker\", \"marker\": {\"sizeref\": 200000, \"sizemode\": \"area\", \"size\": []}, \"name\": \"Cape Verde\", \"x\": []}, {\"text\": [], \"y\": [], \"mode\": \"marker\", \"marker\": {\"sizeref\": 200000, \"sizemode\": \"area\", \"size\": []}, \"name\": \"Tonga\", \"x\": []}, {\"text\": [], \"y\": [], \"mode\": \"marker\", \"marker\": {\"sizeref\": 200000, \"sizemode\": \"area\", \"size\": []}, \"name\": \"Taiwan\", \"x\": []}, {\"text\": [], \"y\": [], \"mode\": \"marker\", \"marker\": {\"sizeref\": 200000, \"sizemode\": \"area\", \"size\": []}, \"name\": \"Eritrea\", \"x\": []}, {\"text\": [], \"y\": [], \"mode\": \"marker\", \"marker\": {\"sizeref\": 200000, \"sizemode\": \"area\", \"size\": []}, \"name\": \"Comoros\", \"x\": []}, {\"text\": [], \"y\": [], \"mode\": \"marker\", \"marker\": {\"sizeref\": 200000, \"sizemode\": \"area\", \"size\": []}, \"name\": \"Martinique\", \"x\": []}, {\"text\": [], \"y\": [], \"mode\": \"marker\", \"marker\": {\"sizeref\": 200000, \"sizemode\": \"area\", \"size\": []}, \"name\": \"Samoa\", \"x\": []}, {\"text\": [], \"y\": [], \"mode\": \"marker\", \"marker\": {\"sizeref\": 200000, \"sizemode\": \"area\", \"size\": []}, \"name\": \"Cameroon\", \"x\": []}, {\"text\": [], \"y\": [], \"mode\": \"marker\", \"marker\": {\"sizeref\": 200000, \"sizemode\": \"area\", \"size\": []}, \"name\": \"Trinidad \", \"x\": []}, {\"text\": [], \"y\": [], \"mode\": \"marker\", \"marker\": {\"sizeref\": 200000, \"sizemode\": \"area\", \"size\": []}, \"name\": \"Congo, DRC\", \"x\": []}, {\"text\": [], \"y\": [], \"mode\": \"marker\", \"marker\": {\"sizeref\": 200000, \"sizemode\": \"area\", \"size\": []}, \"name\": \"Costa Rica\", \"x\": []}, {\"text\": [], \"y\": [], \"mode\": \"marker\", \"marker\": {\"sizeref\": 200000, \"sizemode\": \"area\", \"size\": []}, \"name\": \"Antarctica\", \"x\": []}, {\"text\": [], \"y\": [], \"mode\": \"marker\", \"marker\": {\"sizeref\": 200000, \"sizemode\": \"area\", \"size\": []}, \"name\": \"Reunion\", \"x\": []}, {\"text\": [], \"y\": [], \"mode\": \"marker\", \"marker\": {\"sizeref\": 200000, \"sizemode\": \"area\", \"size\": []}, \"name\": \"Montserrat\", \"x\": []}], \"name\": \"1980\"}, {\"data\": [{\"text\": [], \"y\": [], \"mode\": \"marker\", \"marker\": {\"sizeref\": 200000, \"sizemode\": \"area\", \"size\": []}, \"name\": null, \"x\": []}, {\"text\": [], \"y\": [], \"mode\": \"marker\", \"marker\": {\"sizeref\": 200000, \"sizemode\": \"area\", \"size\": []}, \"name\": \"New Zealand\", \"x\": []}, {\"text\": [\"Japan\", \"Japan\", \"Japan\"], \"y\": [32.88, 32.88, 32.88], \"mode\": \"marker\", \"marker\": {\"sizeref\": 200000, \"sizemode\": \"area\", \"size\": [2.0, 2.0, 2.0]}, \"name\": \"Japan\", \"x\": [131.1, 131.1, 131.1]}, {\"text\": [], \"y\": [], \"mode\": \"marker\", \"marker\": {\"sizeref\": 200000, \"sizemode\": \"area\", \"size\": []}, \"name\": \"Nicaragua\", \"x\": []}, {\"text\": [\"Papua New Guinea\"], \"y\": [-4.271], \"mode\": \"marker\", \"marker\": {\"sizeref\": 200000, \"sizemode\": \"area\", \"size\": [null]}, \"name\": \"Papua New Guinea\", \"x\": [152.203]}, {\"text\": [], \"y\": [], \"mode\": \"marker\", \"marker\": {\"sizeref\": 200000, \"sizemode\": \"area\", \"size\": []}, \"name\": \"Philippines\", \"x\": []}, {\"text\": [], \"y\": [], \"mode\": \"marker\", \"marker\": {\"sizeref\": 200000, \"sizemode\": \"area\", \"size\": []}, \"name\": \"Italy\", \"x\": []}, {\"text\": [], \"y\": [], \"mode\": \"marker\", \"marker\": {\"sizeref\": 200000, \"sizemode\": \"area\", \"size\": []}, \"name\": \"United States\", \"x\": []}, {\"text\": [], \"y\": [], \"mode\": \"marker\", \"marker\": {\"sizeref\": 200000, \"sizemode\": \"area\", \"size\": []}, \"name\": \"Greece\", \"x\": []}, {\"text\": [], \"y\": [], \"mode\": \"marker\", \"marker\": {\"sizeref\": 200000, \"sizemode\": \"area\", \"size\": []}, \"name\": \"Ecuador\", \"x\": []}, {\"text\": [], \"y\": [], \"mode\": \"marker\", \"marker\": {\"sizeref\": 200000, \"sizemode\": \"area\", \"size\": []}, \"name\": \"Vanuatu\", \"x\": []}, {\"text\": [], \"y\": [], \"mode\": \"marker\", \"marker\": {\"sizeref\": 200000, \"sizemode\": \"area\", \"size\": []}, \"name\": \"Yemen\", \"x\": []}, {\"text\": [\"Russia\"], \"y\": [56.653], \"mode\": \"marker\", \"marker\": {\"sizeref\": 200000, \"sizemode\": \"area\", \"size\": [3.0]}, \"name\": \"Russia\", \"x\": [161.36]}, {\"text\": [\"Indonesia\", \"Indonesia\"], \"y\": [-7.93, -7.93], \"mode\": \"marker\", \"marker\": {\"sizeref\": 200000, \"sizemode\": \"area\", \"size\": [4.0, null]}, \"name\": \"Indonesia\", \"x\": [112.30799999999999, 112.30799999999999]}, {\"text\": [], \"y\": [], \"mode\": \"marker\", \"marker\": {\"sizeref\": 200000, \"sizemode\": \"area\", \"size\": []}, \"name\": \"El Salvador\", \"x\": []}, {\"text\": [], \"y\": [], \"mode\": \"marker\", \"marker\": {\"sizeref\": 200000, \"sizemode\": \"area\", \"size\": []}, \"name\": \"Saudi Arabia\", \"x\": []}, {\"text\": [], \"y\": [], \"mode\": \"marker\", \"marker\": {\"sizeref\": 200000, \"sizemode\": \"area\", \"size\": []}, \"name\": \"Iceland\", \"x\": []}, {\"text\": [], \"y\": [], \"mode\": \"marker\", \"marker\": {\"sizeref\": 200000, \"sizemode\": \"area\", \"size\": []}, \"name\": \"Mexico\", \"x\": []}, {\"text\": [], \"y\": [], \"mode\": \"marker\", \"marker\": {\"sizeref\": 200000, \"sizemode\": \"area\", \"size\": []}, \"name\": \"North Korea\", \"x\": []}, {\"text\": [], \"y\": [], \"mode\": \"marker\", \"marker\": {\"sizeref\": 200000, \"sizemode\": \"area\", \"size\": []}, \"name\": \"Ethiopia\", \"x\": []}, {\"text\": [\"Guatemala\"], \"y\": [14.755999999999998], \"mode\": \"marker\", \"marker\": {\"sizeref\": 200000, \"sizemode\": \"area\", \"size\": [3.0]}, \"name\": \"Guatemala\", \"x\": [-91.552]}, {\"text\": [], \"y\": [], \"mode\": \"marker\", \"marker\": {\"sizeref\": 200000, \"sizemode\": \"area\", \"size\": []}, \"name\": \"Solomon Is.\", \"x\": []}, {\"text\": [], \"y\": [], \"mode\": \"marker\", \"marker\": {\"sizeref\": 200000, \"sizemode\": \"area\", \"size\": []}, \"name\": \"Portugal\", \"x\": []}, {\"text\": [], \"y\": [], \"mode\": \"marker\", \"marker\": {\"sizeref\": 200000, \"sizemode\": \"area\", \"size\": []}, \"name\": \"Colombia\", \"x\": []}, {\"text\": [], \"y\": [], \"mode\": \"marker\", \"marker\": {\"sizeref\": 200000, \"sizemode\": \"area\", \"size\": []}, \"name\": \"Pacific Ocean\", \"x\": []}, {\"text\": [\"Peru\"], \"y\": [-15.78], \"mode\": \"marker\", \"marker\": {\"sizeref\": 200000, \"sizemode\": \"area\", \"size\": [3.0]}, \"name\": \"Peru\", \"x\": [-71.85]}, {\"text\": [], \"y\": [], \"mode\": \"marker\", \"marker\": {\"sizeref\": 200000, \"sizemode\": \"area\", \"size\": []}, \"name\": \"China\", \"x\": []}, {\"text\": [], \"y\": [], \"mode\": \"marker\", \"marker\": {\"sizeref\": 200000, \"sizemode\": \"area\", \"size\": []}, \"name\": \"Spain\", \"x\": []}, {\"text\": [], \"y\": [], \"mode\": \"marker\", \"marker\": {\"sizeref\": 200000, \"sizemode\": \"area\", \"size\": []}, \"name\": \"Canada\", \"x\": []}, {\"text\": [], \"y\": [], \"mode\": \"marker\", \"marker\": {\"sizeref\": 200000, \"sizemode\": \"area\", \"size\": []}, \"name\": \"Tanzania\", \"x\": []}, {\"text\": [], \"y\": [], \"mode\": \"marker\", \"marker\": {\"sizeref\": 200000, \"sizemode\": \"area\", \"size\": []}, \"name\": \"St. Vincent & the Grenadines\", \"x\": []}, {\"text\": [], \"y\": [], \"mode\": \"marker\", \"marker\": {\"sizeref\": 200000, \"sizemode\": \"area\", \"size\": []}, \"name\": \"Chile\", \"x\": []}, {\"text\": [], \"y\": [], \"mode\": \"marker\", \"marker\": {\"sizeref\": 200000, \"sizemode\": \"area\", \"size\": []}, \"name\": \"Turkey\", \"x\": []}, {\"text\": [], \"y\": [], \"mode\": \"marker\", \"marker\": {\"sizeref\": 200000, \"sizemode\": \"area\", \"size\": []}, \"name\": \"St. Kitts & Nevis\", \"x\": []}, {\"text\": [], \"y\": [], \"mode\": \"marker\", \"marker\": {\"sizeref\": 200000, \"sizemode\": \"area\", \"size\": []}, \"name\": \"Guadeloupe\", \"x\": []}, {\"text\": [], \"y\": [], \"mode\": \"marker\", \"marker\": {\"sizeref\": 200000, \"sizemode\": \"area\", \"size\": []}, \"name\": \"Cape Verde\", \"x\": []}, {\"text\": [], \"y\": [], \"mode\": \"marker\", \"marker\": {\"sizeref\": 200000, \"sizemode\": \"area\", \"size\": []}, \"name\": \"Tonga\", \"x\": []}, {\"text\": [], \"y\": [], \"mode\": \"marker\", \"marker\": {\"sizeref\": 200000, \"sizemode\": \"area\", \"size\": []}, \"name\": \"Taiwan\", \"x\": []}, {\"text\": [], \"y\": [], \"mode\": \"marker\", \"marker\": {\"sizeref\": 200000, \"sizemode\": \"area\", \"size\": []}, \"name\": \"Eritrea\", \"x\": []}, {\"text\": [], \"y\": [], \"mode\": \"marker\", \"marker\": {\"sizeref\": 200000, \"sizemode\": \"area\", \"size\": []}, \"name\": \"Comoros\", \"x\": []}, {\"text\": [], \"y\": [], \"mode\": \"marker\", \"marker\": {\"sizeref\": 200000, \"sizemode\": \"area\", \"size\": []}, \"name\": \"Martinique\", \"x\": []}, {\"text\": [], \"y\": [], \"mode\": \"marker\", \"marker\": {\"sizeref\": 200000, \"sizemode\": \"area\", \"size\": []}, \"name\": \"Samoa\", \"x\": []}, {\"text\": [], \"y\": [], \"mode\": \"marker\", \"marker\": {\"sizeref\": 200000, \"sizemode\": \"area\", \"size\": []}, \"name\": \"Cameroon\", \"x\": []}, {\"text\": [], \"y\": [], \"mode\": \"marker\", \"marker\": {\"sizeref\": 200000, \"sizemode\": \"area\", \"size\": []}, \"name\": \"Trinidad \", \"x\": []}, {\"text\": [\"Congo, DRC\"], \"y\": [-1.52], \"mode\": \"marker\", \"marker\": {\"sizeref\": 200000, \"sizemode\": \"area\", \"size\": [null]}, \"name\": \"Congo, DRC\", \"x\": [29.25]}, {\"text\": [], \"y\": [], \"mode\": \"marker\", \"marker\": {\"sizeref\": 200000, \"sizemode\": \"area\", \"size\": []}, \"name\": \"Costa Rica\", \"x\": []}, {\"text\": [], \"y\": [], \"mode\": \"marker\", \"marker\": {\"sizeref\": 200000, \"sizemode\": \"area\", \"size\": []}, \"name\": \"Antarctica\", \"x\": []}, {\"text\": [], \"y\": [], \"mode\": \"marker\", \"marker\": {\"sizeref\": 200000, \"sizemode\": \"area\", \"size\": []}, \"name\": \"Reunion\", \"x\": []}, {\"text\": [], \"y\": [], \"mode\": \"marker\", \"marker\": {\"sizeref\": 200000, \"sizemode\": \"area\", \"size\": []}, \"name\": \"Montserrat\", \"x\": []}], \"name\": \"1990\"}, {\"data\": [{\"text\": [], \"y\": [], \"mode\": \"marker\", \"marker\": {\"sizeref\": 200000, \"sizemode\": \"area\", \"size\": []}, \"name\": null, \"x\": []}, {\"text\": [], \"y\": [], \"mode\": \"marker\", \"marker\": {\"sizeref\": 200000, \"sizemode\": \"area\", \"size\": []}, \"name\": \"New Zealand\", \"x\": []}, {\"text\": [\"Japan\"], \"y\": [34.08], \"mode\": \"marker\", \"marker\": {\"sizeref\": 200000, \"sizemode\": \"area\", \"size\": [2.0]}, \"name\": \"Japan\", \"x\": [139.53]}, {\"text\": [], \"y\": [], \"mode\": \"marker\", \"marker\": {\"sizeref\": 200000, \"sizemode\": \"area\", \"size\": []}, \"name\": \"Nicaragua\", \"x\": []}, {\"text\": [], \"y\": [], \"mode\": \"marker\", \"marker\": {\"sizeref\": 200000, \"sizemode\": \"area\", \"size\": []}, \"name\": \"Papua New Guinea\", \"x\": []}, {\"text\": [], \"y\": [], \"mode\": \"marker\", \"marker\": {\"sizeref\": 200000, \"sizemode\": \"area\", \"size\": []}, \"name\": \"Philippines\", \"x\": []}, {\"text\": [], \"y\": [], \"mode\": \"marker\", \"marker\": {\"sizeref\": 200000, \"sizemode\": \"area\", \"size\": []}, \"name\": \"Italy\", \"x\": []}, {\"text\": [\"United States\"], \"y\": [19.425], \"mode\": \"marker\", \"marker\": {\"sizeref\": 200000, \"sizemode\": \"area\", \"size\": [null]}, \"name\": \"United States\", \"x\": [-155.292]}, {\"text\": [], \"y\": [], \"mode\": \"marker\", \"marker\": {\"sizeref\": 200000, \"sizemode\": \"area\", \"size\": []}, \"name\": \"Greece\", \"x\": []}, {\"text\": [], \"y\": [], \"mode\": \"marker\", \"marker\": {\"sizeref\": 200000, \"sizemode\": \"area\", \"size\": []}, \"name\": \"Ecuador\", \"x\": []}, {\"text\": [], \"y\": [], \"mode\": \"marker\", \"marker\": {\"sizeref\": 200000, \"sizemode\": \"area\", \"size\": []}, \"name\": \"Vanuatu\", \"x\": []}, {\"text\": [], \"y\": [], \"mode\": \"marker\", \"marker\": {\"sizeref\": 200000, \"sizemode\": \"area\", \"size\": []}, \"name\": \"Yemen\", \"x\": []}, {\"text\": [], \"y\": [], \"mode\": \"marker\", \"marker\": {\"sizeref\": 200000, \"sizemode\": \"area\", \"size\": []}, \"name\": \"Russia\", \"x\": []}, {\"text\": [\"Indonesia\", \"Indonesia\"], \"y\": [-8.107999999999999, -7.542000000000001], \"mode\": \"marker\", \"marker\": {\"sizeref\": 200000, \"sizemode\": \"area\", \"size\": [3.0, 2.0]}, \"name\": \"Indonesia\", \"x\": [112.92, 110.44200000000001]}, {\"text\": [], \"y\": [], \"mode\": \"marker\", \"marker\": {\"sizeref\": 200000, \"sizemode\": \"area\", \"size\": []}, \"name\": \"El Salvador\", \"x\": []}, {\"text\": [], \"y\": [], \"mode\": \"marker\", \"marker\": {\"sizeref\": 200000, \"sizemode\": \"area\", \"size\": []}, \"name\": \"Saudi Arabia\", \"x\": []}, {\"text\": [], \"y\": [], \"mode\": \"marker\", \"marker\": {\"sizeref\": 200000, \"sizemode\": \"area\", \"size\": []}, \"name\": \"Iceland\", \"x\": []}, {\"text\": [], \"y\": [], \"mode\": \"marker\", \"marker\": {\"sizeref\": 200000, \"sizemode\": \"area\", \"size\": []}, \"name\": \"Mexico\", \"x\": []}, {\"text\": [], \"y\": [], \"mode\": \"marker\", \"marker\": {\"sizeref\": 200000, \"sizemode\": \"area\", \"size\": []}, \"name\": \"North Korea\", \"x\": []}, {\"text\": [], \"y\": [], \"mode\": \"marker\", \"marker\": {\"sizeref\": 200000, \"sizemode\": \"area\", \"size\": []}, \"name\": \"Ethiopia\", \"x\": []}, {\"text\": [], \"y\": [], \"mode\": \"marker\", \"marker\": {\"sizeref\": 200000, \"sizemode\": \"area\", \"size\": []}, \"name\": \"Guatemala\", \"x\": []}, {\"text\": [], \"y\": [], \"mode\": \"marker\", \"marker\": {\"sizeref\": 200000, \"sizemode\": \"area\", \"size\": []}, \"name\": \"Solomon Is.\", \"x\": []}, {\"text\": [], \"y\": [], \"mode\": \"marker\", \"marker\": {\"sizeref\": 200000, \"sizemode\": \"area\", \"size\": []}, \"name\": \"Portugal\", \"x\": []}, {\"text\": [], \"y\": [], \"mode\": \"marker\", \"marker\": {\"sizeref\": 200000, \"sizemode\": \"area\", \"size\": []}, \"name\": \"Colombia\", \"x\": []}, {\"text\": [], \"y\": [], \"mode\": \"marker\", \"marker\": {\"sizeref\": 200000, \"sizemode\": \"area\", \"size\": []}, \"name\": \"Pacific Ocean\", \"x\": []}, {\"text\": [], \"y\": [], \"mode\": \"marker\", \"marker\": {\"sizeref\": 200000, \"sizemode\": \"area\", \"size\": []}, \"name\": \"Peru\", \"x\": []}, {\"text\": [], \"y\": [], \"mode\": \"marker\", \"marker\": {\"sizeref\": 200000, \"sizemode\": \"area\", \"size\": []}, \"name\": \"China\", \"x\": []}, {\"text\": [], \"y\": [], \"mode\": \"marker\", \"marker\": {\"sizeref\": 200000, \"sizemode\": \"area\", \"size\": []}, \"name\": \"Spain\", \"x\": []}, {\"text\": [], \"y\": [], \"mode\": \"marker\", \"marker\": {\"sizeref\": 200000, \"sizemode\": \"area\", \"size\": []}, \"name\": \"Canada\", \"x\": []}, {\"text\": [], \"y\": [], \"mode\": \"marker\", \"marker\": {\"sizeref\": 200000, \"sizemode\": \"area\", \"size\": []}, \"name\": \"Tanzania\", \"x\": []}, {\"text\": [], \"y\": [], \"mode\": \"marker\", \"marker\": {\"sizeref\": 200000, \"sizemode\": \"area\", \"size\": []}, \"name\": \"St. Vincent & the Grenadines\", \"x\": []}, {\"text\": [], \"y\": [], \"mode\": \"marker\", \"marker\": {\"sizeref\": 200000, \"sizemode\": \"area\", \"size\": []}, \"name\": \"Chile\", \"x\": []}, {\"text\": [], \"y\": [], \"mode\": \"marker\", \"marker\": {\"sizeref\": 200000, \"sizemode\": \"area\", \"size\": []}, \"name\": \"Turkey\", \"x\": []}, {\"text\": [], \"y\": [], \"mode\": \"marker\", \"marker\": {\"sizeref\": 200000, \"sizemode\": \"area\", \"size\": []}, \"name\": \"St. Kitts & Nevis\", \"x\": []}, {\"text\": [], \"y\": [], \"mode\": \"marker\", \"marker\": {\"sizeref\": 200000, \"sizemode\": \"area\", \"size\": []}, \"name\": \"Guadeloupe\", \"x\": []}, {\"text\": [], \"y\": [], \"mode\": \"marker\", \"marker\": {\"sizeref\": 200000, \"sizemode\": \"area\", \"size\": []}, \"name\": \"Cape Verde\", \"x\": []}, {\"text\": [], \"y\": [], \"mode\": \"marker\", \"marker\": {\"sizeref\": 200000, \"sizemode\": \"area\", \"size\": []}, \"name\": \"Tonga\", \"x\": []}, {\"text\": [], \"y\": [], \"mode\": \"marker\", \"marker\": {\"sizeref\": 200000, \"sizemode\": \"area\", \"size\": []}, \"name\": \"Taiwan\", \"x\": []}, {\"text\": [], \"y\": [], \"mode\": \"marker\", \"marker\": {\"sizeref\": 200000, \"sizemode\": \"area\", \"size\": []}, \"name\": \"Eritrea\", \"x\": []}, {\"text\": [], \"y\": [], \"mode\": \"marker\", \"marker\": {\"sizeref\": 200000, \"sizemode\": \"area\", \"size\": []}, \"name\": \"Comoros\", \"x\": []}, {\"text\": [], \"y\": [], \"mode\": \"marker\", \"marker\": {\"sizeref\": 200000, \"sizemode\": \"area\", \"size\": []}, \"name\": \"Martinique\", \"x\": []}, {\"text\": [], \"y\": [], \"mode\": \"marker\", \"marker\": {\"sizeref\": 200000, \"sizemode\": \"area\", \"size\": []}, \"name\": \"Samoa\", \"x\": []}, {\"text\": [], \"y\": [], \"mode\": \"marker\", \"marker\": {\"sizeref\": 200000, \"sizemode\": \"area\", \"size\": []}, \"name\": \"Cameroon\", \"x\": []}, {\"text\": [], \"y\": [], \"mode\": \"marker\", \"marker\": {\"sizeref\": 200000, \"sizemode\": \"area\", \"size\": []}, \"name\": \"Trinidad \", \"x\": []}, {\"text\": [], \"y\": [], \"mode\": \"marker\", \"marker\": {\"sizeref\": 200000, \"sizemode\": \"area\", \"size\": []}, \"name\": \"Congo, DRC\", \"x\": []}, {\"text\": [\"Costa Rica\"], \"y\": [10.463], \"mode\": \"marker\", \"marker\": {\"sizeref\": 200000, \"sizemode\": \"area\", \"size\": [3.0]}, \"name\": \"Costa Rica\", \"x\": [-84.70299999999999]}, {\"text\": [], \"y\": [], \"mode\": \"marker\", \"marker\": {\"sizeref\": 200000, \"sizemode\": \"area\", \"size\": []}, \"name\": \"Antarctica\", \"x\": []}, {\"text\": [], \"y\": [], \"mode\": \"marker\", \"marker\": {\"sizeref\": 200000, \"sizemode\": \"area\", \"size\": []}, \"name\": \"Reunion\", \"x\": []}, {\"text\": [], \"y\": [], \"mode\": \"marker\", \"marker\": {\"sizeref\": 200000, \"sizemode\": \"area\", \"size\": []}, \"name\": \"Montserrat\", \"x\": []}], \"name\": \"2000\"}, {\"data\": [{\"text\": [], \"y\": [], \"mode\": \"marker\", \"marker\": {\"sizeref\": 200000, \"sizemode\": \"area\", \"size\": []}, \"name\": null, \"x\": []}, {\"text\": [], \"y\": [], \"mode\": \"marker\", \"marker\": {\"sizeref\": 200000, \"sizemode\": \"area\", \"size\": []}, \"name\": \"New Zealand\", \"x\": []}, {\"text\": [], \"y\": [], \"mode\": \"marker\", \"marker\": {\"sizeref\": 200000, \"sizemode\": \"area\", \"size\": []}, \"name\": \"Japan\", \"x\": []}, {\"text\": [], \"y\": [], \"mode\": \"marker\", \"marker\": {\"sizeref\": 200000, \"sizemode\": \"area\", \"size\": []}, \"name\": \"Nicaragua\", \"x\": []}, {\"text\": [], \"y\": [], \"mode\": \"marker\", \"marker\": {\"sizeref\": 200000, \"sizemode\": \"area\", \"size\": []}, \"name\": \"Papua New Guinea\", \"x\": []}, {\"text\": [], \"y\": [], \"mode\": \"marker\", \"marker\": {\"sizeref\": 200000, \"sizemode\": \"area\", \"size\": []}, \"name\": \"Philippines\", \"x\": []}, {\"text\": [], \"y\": [], \"mode\": \"marker\", \"marker\": {\"sizeref\": 200000, \"sizemode\": \"area\", \"size\": []}, \"name\": \"Italy\", \"x\": []}, {\"text\": [\"United States\"], \"y\": [16.708], \"mode\": \"marker\", \"marker\": {\"sizeref\": 200000, \"sizemode\": \"area\", \"size\": [null]}, \"name\": \"United States\", \"x\": [145.78]}, {\"text\": [], \"y\": [], \"mode\": \"marker\", \"marker\": {\"sizeref\": 200000, \"sizemode\": \"area\", \"size\": []}, \"name\": \"Greece\", \"x\": []}, {\"text\": [\"Ecuador\", \"Ecuador\"], \"y\": [-1.4669999999999999, -1.4669999999999999], \"mode\": \"marker\", \"marker\": {\"sizeref\": 200000, \"sizemode\": \"area\", \"size\": [3.0, 3.0]}, \"name\": \"Ecuador\", \"x\": [-78.442, -78.442]}, {\"text\": [], \"y\": [], \"mode\": \"marker\", \"marker\": {\"sizeref\": 200000, \"sizemode\": \"area\", \"size\": []}, \"name\": \"Vanuatu\", \"x\": []}, {\"text\": [], \"y\": [], \"mode\": \"marker\", \"marker\": {\"sizeref\": 200000, \"sizemode\": \"area\", \"size\": []}, \"name\": \"Yemen\", \"x\": []}, {\"text\": [], \"y\": [], \"mode\": \"marker\", \"marker\": {\"sizeref\": 200000, \"sizemode\": \"area\", \"size\": []}, \"name\": \"Russia\", \"x\": []}, {\"text\": [\"Indonesia\", \"Indonesia\", \"Indonesia\", \"Indonesia\"], \"y\": [2.78, 3.17, -7.542000000000001, -7.942], \"mode\": \"marker\", \"marker\": {\"sizeref\": 200000, \"sizemode\": \"area\", \"size\": [3.0, null, null, null]}, \"name\": \"Indonesia\", \"x\": [125.48, 98.39200000000001, 110.44200000000001, 112.95]}, {\"text\": [], \"y\": [], \"mode\": \"marker\", \"marker\": {\"sizeref\": 200000, \"sizemode\": \"area\", \"size\": []}, \"name\": \"El Salvador\", \"x\": []}, {\"text\": [], \"y\": [], \"mode\": \"marker\", \"marker\": {\"sizeref\": 200000, \"sizemode\": \"area\", \"size\": []}, \"name\": \"Saudi Arabia\", \"x\": []}, {\"text\": [\"Iceland\"], \"y\": [63.63], \"mode\": \"marker\", \"marker\": {\"sizeref\": 200000, \"sizemode\": \"area\", \"size\": [2.0]}, \"name\": \"Iceland\", \"x\": [-19.62]}, {\"text\": [], \"y\": [], \"mode\": \"marker\", \"marker\": {\"sizeref\": 200000, \"sizemode\": \"area\", \"size\": []}, \"name\": \"Mexico\", \"x\": []}, {\"text\": [], \"y\": [], \"mode\": \"marker\", \"marker\": {\"sizeref\": 200000, \"sizemode\": \"area\", \"size\": []}, \"name\": \"North Korea\", \"x\": []}, {\"text\": [], \"y\": [], \"mode\": \"marker\", \"marker\": {\"sizeref\": 200000, \"sizemode\": \"area\", \"size\": []}, \"name\": \"Ethiopia\", \"x\": []}, {\"text\": [\"Guatemala\"], \"y\": [14.380999999999998], \"mode\": \"marker\", \"marker\": {\"sizeref\": 200000, \"sizemode\": \"area\", \"size\": [1.0]}, \"name\": \"Guatemala\", \"x\": [-90.601]}, {\"text\": [], \"y\": [], \"mode\": \"marker\", \"marker\": {\"sizeref\": 200000, \"sizemode\": \"area\", \"size\": []}, \"name\": \"Solomon Is.\", \"x\": []}, {\"text\": [], \"y\": [], \"mode\": \"marker\", \"marker\": {\"sizeref\": 200000, \"sizemode\": \"area\", \"size\": []}, \"name\": \"Portugal\", \"x\": []}, {\"text\": [], \"y\": [], \"mode\": \"marker\", \"marker\": {\"sizeref\": 200000, \"sizemode\": \"area\", \"size\": []}, \"name\": \"Colombia\", \"x\": []}, {\"text\": [], \"y\": [], \"mode\": \"marker\", \"marker\": {\"sizeref\": 200000, \"sizemode\": \"area\", \"size\": []}, \"name\": \"Pacific Ocean\", \"x\": []}, {\"text\": [], \"y\": [], \"mode\": \"marker\", \"marker\": {\"sizeref\": 200000, \"sizemode\": \"area\", \"size\": []}, \"name\": \"Peru\", \"x\": []}, {\"text\": [], \"y\": [], \"mode\": \"marker\", \"marker\": {\"sizeref\": 200000, \"sizemode\": \"area\", \"size\": []}, \"name\": \"China\", \"x\": []}, {\"text\": [], \"y\": [], \"mode\": \"marker\", \"marker\": {\"sizeref\": 200000, \"sizemode\": \"area\", \"size\": []}, \"name\": \"Spain\", \"x\": []}, {\"text\": [], \"y\": [], \"mode\": \"marker\", \"marker\": {\"sizeref\": 200000, \"sizemode\": \"area\", \"size\": []}, \"name\": \"Canada\", \"x\": []}, {\"text\": [], \"y\": [], \"mode\": \"marker\", \"marker\": {\"sizeref\": 200000, \"sizemode\": \"area\", \"size\": []}, \"name\": \"Tanzania\", \"x\": []}, {\"text\": [], \"y\": [], \"mode\": \"marker\", \"marker\": {\"sizeref\": 200000, \"sizemode\": \"area\", \"size\": []}, \"name\": \"St. Vincent & the Grenadines\", \"x\": []}, {\"text\": [], \"y\": [], \"mode\": \"marker\", \"marker\": {\"sizeref\": 200000, \"sizemode\": \"area\", \"size\": []}, \"name\": \"Chile\", \"x\": []}, {\"text\": [], \"y\": [], \"mode\": \"marker\", \"marker\": {\"sizeref\": 200000, \"sizemode\": \"area\", \"size\": []}, \"name\": \"Turkey\", \"x\": []}, {\"text\": [], \"y\": [], \"mode\": \"marker\", \"marker\": {\"sizeref\": 200000, \"sizemode\": \"area\", \"size\": []}, \"name\": \"St. Kitts & Nevis\", \"x\": []}, {\"text\": [], \"y\": [], \"mode\": \"marker\", \"marker\": {\"sizeref\": 200000, \"sizemode\": \"area\", \"size\": []}, \"name\": \"Guadeloupe\", \"x\": []}, {\"text\": [], \"y\": [], \"mode\": \"marker\", \"marker\": {\"sizeref\": 200000, \"sizemode\": \"area\", \"size\": []}, \"name\": \"Cape Verde\", \"x\": []}, {\"text\": [], \"y\": [], \"mode\": \"marker\", \"marker\": {\"sizeref\": 200000, \"sizemode\": \"area\", \"size\": []}, \"name\": \"Tonga\", \"x\": []}, {\"text\": [], \"y\": [], \"mode\": \"marker\", \"marker\": {\"sizeref\": 200000, \"sizemode\": \"area\", \"size\": []}, \"name\": \"Taiwan\", \"x\": []}, {\"text\": [], \"y\": [], \"mode\": \"marker\", \"marker\": {\"sizeref\": 200000, \"sizemode\": \"area\", \"size\": []}, \"name\": \"Eritrea\", \"x\": []}, {\"text\": [], \"y\": [], \"mode\": \"marker\", \"marker\": {\"sizeref\": 200000, \"sizemode\": \"area\", \"size\": []}, \"name\": \"Comoros\", \"x\": []}, {\"text\": [], \"y\": [], \"mode\": \"marker\", \"marker\": {\"sizeref\": 200000, \"sizemode\": \"area\", \"size\": []}, \"name\": \"Martinique\", \"x\": []}, {\"text\": [], \"y\": [], \"mode\": \"marker\", \"marker\": {\"sizeref\": 200000, \"sizemode\": \"area\", \"size\": []}, \"name\": \"Samoa\", \"x\": []}, {\"text\": [], \"y\": [], \"mode\": \"marker\", \"marker\": {\"sizeref\": 200000, \"sizemode\": \"area\", \"size\": []}, \"name\": \"Cameroon\", \"x\": []}, {\"text\": [], \"y\": [], \"mode\": \"marker\", \"marker\": {\"sizeref\": 200000, \"sizemode\": \"area\", \"size\": []}, \"name\": \"Trinidad \", \"x\": []}, {\"text\": [], \"y\": [], \"mode\": \"marker\", \"marker\": {\"sizeref\": 200000, \"sizemode\": \"area\", \"size\": []}, \"name\": \"Congo, DRC\", \"x\": []}, {\"text\": [], \"y\": [], \"mode\": \"marker\", \"marker\": {\"sizeref\": 200000, \"sizemode\": \"area\", \"size\": []}, \"name\": \"Costa Rica\", \"x\": []}, {\"text\": [], \"y\": [], \"mode\": \"marker\", \"marker\": {\"sizeref\": 200000, \"sizemode\": \"area\", \"size\": []}, \"name\": \"Antarctica\", \"x\": []}, {\"text\": [], \"y\": [], \"mode\": \"marker\", \"marker\": {\"sizeref\": 200000, \"sizemode\": \"area\", \"size\": []}, \"name\": \"Reunion\", \"x\": []}, {\"text\": [], \"y\": [], \"mode\": \"marker\", \"marker\": {\"sizeref\": 200000, \"sizemode\": \"area\", \"size\": []}, \"name\": \"Montserrat\", \"x\": []}], \"name\": \"2010\"}, {\"data\": [{\"text\": [], \"y\": [], \"mode\": \"marker\", \"marker\": {\"sizeref\": 200000, \"sizemode\": \"area\", \"size\": []}, \"name\": null, \"x\": []}, {\"text\": [\"New Zealand\"], \"y\": [-38.12], \"mode\": \"marker\", \"marker\": {\"sizeref\": 200000, \"sizemode\": \"area\", \"size\": [null]}, \"name\": \"New Zealand\", \"x\": [176.5]}, {\"text\": [], \"y\": [], \"mode\": \"marker\", \"marker\": {\"sizeref\": 200000, \"sizemode\": \"area\", \"size\": []}, \"name\": \"Japan\", \"x\": []}, {\"text\": [], \"y\": [], \"mode\": \"marker\", \"marker\": {\"sizeref\": 200000, \"sizemode\": \"area\", \"size\": []}, \"name\": \"Nicaragua\", \"x\": []}, {\"text\": [\"Papua New Guinea\"], \"y\": [-4.1], \"mode\": \"marker\", \"marker\": {\"sizeref\": 200000, \"sizemode\": \"area\", \"size\": [2.0]}, \"name\": \"Papua New Guinea\", \"x\": [145.061]}, {\"text\": [], \"y\": [], \"mode\": \"marker\", \"marker\": {\"sizeref\": 200000, \"sizemode\": \"area\", \"size\": []}, \"name\": \"Philippines\", \"x\": []}, {\"text\": [], \"y\": [], \"mode\": \"marker\", \"marker\": {\"sizeref\": 200000, \"sizemode\": \"area\", \"size\": []}, \"name\": \"Italy\", \"x\": []}, {\"text\": [], \"y\": [], \"mode\": \"marker\", \"marker\": {\"sizeref\": 200000, \"sizemode\": \"area\", \"size\": []}, \"name\": \"United States\", \"x\": []}, {\"text\": [], \"y\": [], \"mode\": \"marker\", \"marker\": {\"sizeref\": 200000, \"sizemode\": \"area\", \"size\": []}, \"name\": \"Greece\", \"x\": []}, {\"text\": [], \"y\": [], \"mode\": \"marker\", \"marker\": {\"sizeref\": 200000, \"sizemode\": \"area\", \"size\": []}, \"name\": \"Ecuador\", \"x\": []}, {\"text\": [], \"y\": [], \"mode\": \"marker\", \"marker\": {\"sizeref\": 200000, \"sizemode\": \"area\", \"size\": []}, \"name\": \"Vanuatu\", \"x\": []}, {\"text\": [], \"y\": [], \"mode\": \"marker\", \"marker\": {\"sizeref\": 200000, \"sizemode\": \"area\", \"size\": []}, \"name\": \"Yemen\", \"x\": []}, {\"text\": [], \"y\": [], \"mode\": \"marker\", \"marker\": {\"sizeref\": 200000, \"sizemode\": \"area\", \"size\": []}, \"name\": \"Russia\", \"x\": []}, {\"text\": [\"Indonesia\", \"Indonesia\", \"Indonesia\"], \"y\": [3.17, 2.78, 3.17], \"mode\": \"marker\", \"marker\": {\"sizeref\": 200000, \"sizemode\": \"area\", \"size\": [null, null, null]}, \"name\": \"Indonesia\", \"x\": [98.39200000000001, 125.48, 98.39200000000001]}, {\"text\": [], \"y\": [], \"mode\": \"marker\", \"marker\": {\"sizeref\": 200000, \"sizemode\": \"area\", \"size\": []}, \"name\": \"El Salvador\", \"x\": []}, {\"text\": [], \"y\": [], \"mode\": \"marker\", \"marker\": {\"sizeref\": 200000, \"sizemode\": \"area\", \"size\": []}, \"name\": \"Saudi Arabia\", \"x\": []}, {\"text\": [], \"y\": [], \"mode\": \"marker\", \"marker\": {\"sizeref\": 200000, \"sizemode\": \"area\", \"size\": []}, \"name\": \"Iceland\", \"x\": []}, {\"text\": [], \"y\": [], \"mode\": \"marker\", \"marker\": {\"sizeref\": 200000, \"sizemode\": \"area\", \"size\": []}, \"name\": \"Mexico\", \"x\": []}, {\"text\": [], \"y\": [], \"mode\": \"marker\", \"marker\": {\"sizeref\": 200000, \"sizemode\": \"area\", \"size\": []}, \"name\": \"North Korea\", \"x\": []}, {\"text\": [], \"y\": [], \"mode\": \"marker\", \"marker\": {\"sizeref\": 200000, \"sizemode\": \"area\", \"size\": []}, \"name\": \"Ethiopia\", \"x\": []}, {\"text\": [], \"y\": [], \"mode\": \"marker\", \"marker\": {\"sizeref\": 200000, \"sizemode\": \"area\", \"size\": []}, \"name\": \"Guatemala\", \"x\": []}, {\"text\": [], \"y\": [], \"mode\": \"marker\", \"marker\": {\"sizeref\": 200000, \"sizemode\": \"area\", \"size\": []}, \"name\": \"Solomon Is.\", \"x\": []}, {\"text\": [], \"y\": [], \"mode\": \"marker\", \"marker\": {\"sizeref\": 200000, \"sizemode\": \"area\", \"size\": []}, \"name\": \"Portugal\", \"x\": []}, {\"text\": [], \"y\": [], \"mode\": \"marker\", \"marker\": {\"sizeref\": 200000, \"sizemode\": \"area\", \"size\": []}, \"name\": \"Colombia\", \"x\": []}, {\"text\": [], \"y\": [], \"mode\": \"marker\", \"marker\": {\"sizeref\": 200000, \"sizemode\": \"area\", \"size\": []}, \"name\": \"Pacific Ocean\", \"x\": []}, {\"text\": [], \"y\": [], \"mode\": \"marker\", \"marker\": {\"sizeref\": 200000, \"sizemode\": \"area\", \"size\": []}, \"name\": \"Peru\", \"x\": []}, {\"text\": [], \"y\": [], \"mode\": \"marker\", \"marker\": {\"sizeref\": 200000, \"sizemode\": \"area\", \"size\": []}, \"name\": \"China\", \"x\": []}, {\"text\": [], \"y\": [], \"mode\": \"marker\", \"marker\": {\"sizeref\": 200000, \"sizemode\": \"area\", \"size\": []}, \"name\": \"Spain\", \"x\": []}, {\"text\": [], \"y\": [], \"mode\": \"marker\", \"marker\": {\"sizeref\": 200000, \"sizemode\": \"area\", \"size\": []}, \"name\": \"Canada\", \"x\": []}, {\"text\": [], \"y\": [], \"mode\": \"marker\", \"marker\": {\"sizeref\": 200000, \"sizemode\": \"area\", \"size\": []}, \"name\": \"Tanzania\", \"x\": []}, {\"text\": [], \"y\": [], \"mode\": \"marker\", \"marker\": {\"sizeref\": 200000, \"sizemode\": \"area\", \"size\": []}, \"name\": \"St. Vincent & the Grenadines\", \"x\": []}, {\"text\": [\"Chile\"], \"y\": [-41.326], \"mode\": \"marker\", \"marker\": {\"sizeref\": 200000, \"sizemode\": \"area\", \"size\": [null]}, \"name\": \"Chile\", \"x\": [-72.61399999999999]}, {\"text\": [], \"y\": [], \"mode\": \"marker\", \"marker\": {\"sizeref\": 200000, \"sizemode\": \"area\", \"size\": []}, \"name\": \"Turkey\", \"x\": []}, {\"text\": [], \"y\": [], \"mode\": \"marker\", \"marker\": {\"sizeref\": 200000, \"sizemode\": \"area\", \"size\": []}, \"name\": \"St. Kitts & Nevis\", \"x\": []}, {\"text\": [], \"y\": [], \"mode\": \"marker\", \"marker\": {\"sizeref\": 200000, \"sizemode\": \"area\", \"size\": []}, \"name\": \"Guadeloupe\", \"x\": []}, {\"text\": [], \"y\": [], \"mode\": \"marker\", \"marker\": {\"sizeref\": 200000, \"sizemode\": \"area\", \"size\": []}, \"name\": \"Cape Verde\", \"x\": []}, {\"text\": [], \"y\": [], \"mode\": \"marker\", \"marker\": {\"sizeref\": 200000, \"sizemode\": \"area\", \"size\": []}, \"name\": \"Tonga\", \"x\": []}, {\"text\": [], \"y\": [], \"mode\": \"marker\", \"marker\": {\"sizeref\": 200000, \"sizemode\": \"area\", \"size\": []}, \"name\": \"Taiwan\", \"x\": []}, {\"text\": [], \"y\": [], \"mode\": \"marker\", \"marker\": {\"sizeref\": 200000, \"sizemode\": \"area\", \"size\": []}, \"name\": \"Eritrea\", \"x\": []}, {\"text\": [], \"y\": [], \"mode\": \"marker\", \"marker\": {\"sizeref\": 200000, \"sizemode\": \"area\", \"size\": []}, \"name\": \"Comoros\", \"x\": []}, {\"text\": [], \"y\": [], \"mode\": \"marker\", \"marker\": {\"sizeref\": 200000, \"sizemode\": \"area\", \"size\": []}, \"name\": \"Martinique\", \"x\": []}, {\"text\": [], \"y\": [], \"mode\": \"marker\", \"marker\": {\"sizeref\": 200000, \"sizemode\": \"area\", \"size\": []}, \"name\": \"Samoa\", \"x\": []}, {\"text\": [], \"y\": [], \"mode\": \"marker\", \"marker\": {\"sizeref\": 200000, \"sizemode\": \"area\", \"size\": []}, \"name\": \"Cameroon\", \"x\": []}, {\"text\": [], \"y\": [], \"mode\": \"marker\", \"marker\": {\"sizeref\": 200000, \"sizemode\": \"area\", \"size\": []}, \"name\": \"Trinidad \", \"x\": []}, {\"text\": [], \"y\": [], \"mode\": \"marker\", \"marker\": {\"sizeref\": 200000, \"sizemode\": \"area\", \"size\": []}, \"name\": \"Congo, DRC\", \"x\": []}, {\"text\": [], \"y\": [], \"mode\": \"marker\", \"marker\": {\"sizeref\": 200000, \"sizemode\": \"area\", \"size\": []}, \"name\": \"Costa Rica\", \"x\": []}, {\"text\": [], \"y\": [], \"mode\": \"marker\", \"marker\": {\"sizeref\": 200000, \"sizemode\": \"area\", \"size\": []}, \"name\": \"Antarctica\", \"x\": []}, {\"text\": [], \"y\": [], \"mode\": \"marker\", \"marker\": {\"sizeref\": 200000, \"sizemode\": \"area\", \"size\": []}, \"name\": \"Reunion\", \"x\": []}, {\"text\": [], \"y\": [], \"mode\": \"marker\", \"marker\": {\"sizeref\": 200000, \"sizemode\": \"area\", \"size\": []}, \"name\": \"Montserrat\", \"x\": []}], \"name\": \"2015\"}, {\"data\": [{\"text\": [], \"y\": [], \"mode\": \"marker\", \"marker\": {\"sizeref\": 200000, \"sizemode\": \"area\", \"size\": []}, \"name\": null, \"x\": []}, {\"text\": [], \"y\": [], \"mode\": \"marker\", \"marker\": {\"sizeref\": 200000, \"sizemode\": \"area\", \"size\": []}, \"name\": \"New Zealand\", \"x\": []}, {\"text\": [\"Japan\"], \"y\": [36.62], \"mode\": \"marker\", \"marker\": {\"sizeref\": 200000, \"sizemode\": \"area\", \"size\": [null]}, \"name\": \"Japan\", \"x\": [138.55]}, {\"text\": [], \"y\": [], \"mode\": \"marker\", \"marker\": {\"sizeref\": 200000, \"sizemode\": \"area\", \"size\": []}, \"name\": \"Nicaragua\", \"x\": []}, {\"text\": [\"Papua New Guinea\", \"Papua New Guinea\"], \"y\": [-3.62, -3.62], \"mode\": \"marker\", \"marker\": {\"sizeref\": 200000, \"sizemode\": \"area\", \"size\": [null, null]}, \"name\": \"Papua New Guinea\", \"x\": [144.62, 144.62]}, {\"text\": [\"Philippines\"], \"y\": [13.257], \"mode\": \"marker\", \"marker\": {\"sizeref\": 200000, \"sizemode\": \"area\", \"size\": [null]}, \"name\": \"Philippines\", \"x\": [123.685]}, {\"text\": [], \"y\": [], \"mode\": \"marker\", \"marker\": {\"sizeref\": 200000, \"sizemode\": \"area\", \"size\": []}, \"name\": \"Italy\", \"x\": []}, {\"text\": [\"United States\", \"United States\", \"United States\"], \"y\": [19.425, 19.425, 19.425], \"mode\": \"marker\", \"marker\": {\"sizeref\": 200000, \"sizemode\": \"area\", \"size\": [1.0, 1.0, null]}, \"name\": \"United States\", \"x\": [-155.292, -155.292, -155.292]}, {\"text\": [], \"y\": [], \"mode\": \"marker\", \"marker\": {\"sizeref\": 200000, \"sizemode\": \"area\", \"size\": []}, \"name\": \"Greece\", \"x\": []}, {\"text\": [], \"y\": [], \"mode\": \"marker\", \"marker\": {\"sizeref\": 200000, \"sizemode\": \"area\", \"size\": []}, \"name\": \"Ecuador\", \"x\": []}, {\"text\": [\"Vanuatu\"], \"y\": [-15.4], \"mode\": \"marker\", \"marker\": {\"sizeref\": 200000, \"sizemode\": \"area\", \"size\": [3.0]}, \"name\": \"Vanuatu\", \"x\": [167.83]}, {\"text\": [], \"y\": [], \"mode\": \"marker\", \"marker\": {\"sizeref\": 200000, \"sizemode\": \"area\", \"size\": []}, \"name\": \"Yemen\", \"x\": []}, {\"text\": [], \"y\": [], \"mode\": \"marker\", \"marker\": {\"sizeref\": 200000, \"sizemode\": \"area\", \"size\": []}, \"name\": \"Russia\", \"x\": []}, {\"text\": [\"Indonesia\"], \"y\": [-8.058], \"mode\": \"marker\", \"marker\": {\"sizeref\": 200000, \"sizemode\": \"area\", \"size\": [null]}, \"name\": \"Indonesia\", \"x\": [114.242]}, {\"text\": [], \"y\": [], \"mode\": \"marker\", \"marker\": {\"sizeref\": 200000, \"sizemode\": \"area\", \"size\": []}, \"name\": \"El Salvador\", \"x\": []}, {\"text\": [], \"y\": [], \"mode\": \"marker\", \"marker\": {\"sizeref\": 200000, \"sizemode\": \"area\", \"size\": []}, \"name\": \"Saudi Arabia\", \"x\": []}, {\"text\": [], \"y\": [], \"mode\": \"marker\", \"marker\": {\"sizeref\": 200000, \"sizemode\": \"area\", \"size\": []}, \"name\": \"Iceland\", \"x\": []}, {\"text\": [], \"y\": [], \"mode\": \"marker\", \"marker\": {\"sizeref\": 200000, \"sizemode\": \"area\", \"size\": []}, \"name\": \"Mexico\", \"x\": []}, {\"text\": [], \"y\": [], \"mode\": \"marker\", \"marker\": {\"sizeref\": 200000, \"sizemode\": \"area\", \"size\": []}, \"name\": \"North Korea\", \"x\": []}, {\"text\": [], \"y\": [], \"mode\": \"marker\", \"marker\": {\"sizeref\": 200000, \"sizemode\": \"area\", \"size\": []}, \"name\": \"Ethiopia\", \"x\": []}, {\"text\": [\"Guatemala\"], \"y\": [14.472999999999999], \"mode\": \"marker\", \"marker\": {\"sizeref\": 200000, \"sizemode\": \"area\", \"size\": [2.0]}, \"name\": \"Guatemala\", \"x\": [-90.88]}, {\"text\": [], \"y\": [], \"mode\": \"marker\", \"marker\": {\"sizeref\": 200000, \"sizemode\": \"area\", \"size\": []}, \"name\": \"Solomon Is.\", \"x\": []}, {\"text\": [], \"y\": [], \"mode\": \"marker\", \"marker\": {\"sizeref\": 200000, \"sizemode\": \"area\", \"size\": []}, \"name\": \"Portugal\", \"x\": []}, {\"text\": [], \"y\": [], \"mode\": \"marker\", \"marker\": {\"sizeref\": 200000, \"sizemode\": \"area\", \"size\": []}, \"name\": \"Colombia\", \"x\": []}, {\"text\": [], \"y\": [], \"mode\": \"marker\", \"marker\": {\"sizeref\": 200000, \"sizemode\": \"area\", \"size\": []}, \"name\": \"Pacific Ocean\", \"x\": []}, {\"text\": [], \"y\": [], \"mode\": \"marker\", \"marker\": {\"sizeref\": 200000, \"sizemode\": \"area\", \"size\": []}, \"name\": \"Peru\", \"x\": []}, {\"text\": [], \"y\": [], \"mode\": \"marker\", \"marker\": {\"sizeref\": 200000, \"sizemode\": \"area\", \"size\": []}, \"name\": \"China\", \"x\": []}, {\"text\": [], \"y\": [], \"mode\": \"marker\", \"marker\": {\"sizeref\": 200000, \"sizemode\": \"area\", \"size\": []}, \"name\": \"Spain\", \"x\": []}, {\"text\": [], \"y\": [], \"mode\": \"marker\", \"marker\": {\"sizeref\": 200000, \"sizemode\": \"area\", \"size\": []}, \"name\": \"Canada\", \"x\": []}, {\"text\": [], \"y\": [], \"mode\": \"marker\", \"marker\": {\"sizeref\": 200000, \"sizemode\": \"area\", \"size\": []}, \"name\": \"Tanzania\", \"x\": []}, {\"text\": [], \"y\": [], \"mode\": \"marker\", \"marker\": {\"sizeref\": 200000, \"sizemode\": \"area\", \"size\": []}, \"name\": \"St. Vincent & the Grenadines\", \"x\": []}, {\"text\": [], \"y\": [], \"mode\": \"marker\", \"marker\": {\"sizeref\": 200000, \"sizemode\": \"area\", \"size\": []}, \"name\": \"Chile\", \"x\": []}, {\"text\": [], \"y\": [], \"mode\": \"marker\", \"marker\": {\"sizeref\": 200000, \"sizemode\": \"area\", \"size\": []}, \"name\": \"Turkey\", \"x\": []}, {\"text\": [], \"y\": [], \"mode\": \"marker\", \"marker\": {\"sizeref\": 200000, \"sizemode\": \"area\", \"size\": []}, \"name\": \"St. Kitts & Nevis\", \"x\": []}, {\"text\": [], \"y\": [], \"mode\": \"marker\", \"marker\": {\"sizeref\": 200000, \"sizemode\": \"area\", \"size\": []}, \"name\": \"Guadeloupe\", \"x\": []}, {\"text\": [], \"y\": [], \"mode\": \"marker\", \"marker\": {\"sizeref\": 200000, \"sizemode\": \"area\", \"size\": []}, \"name\": \"Cape Verde\", \"x\": []}, {\"text\": [], \"y\": [], \"mode\": \"marker\", \"marker\": {\"sizeref\": 200000, \"sizemode\": \"area\", \"size\": []}, \"name\": \"Tonga\", \"x\": []}, {\"text\": [], \"y\": [], \"mode\": \"marker\", \"marker\": {\"sizeref\": 200000, \"sizemode\": \"area\", \"size\": []}, \"name\": \"Taiwan\", \"x\": []}, {\"text\": [], \"y\": [], \"mode\": \"marker\", \"marker\": {\"sizeref\": 200000, \"sizemode\": \"area\", \"size\": []}, \"name\": \"Eritrea\", \"x\": []}, {\"text\": [], \"y\": [], \"mode\": \"marker\", \"marker\": {\"sizeref\": 200000, \"sizemode\": \"area\", \"size\": []}, \"name\": \"Comoros\", \"x\": []}, {\"text\": [], \"y\": [], \"mode\": \"marker\", \"marker\": {\"sizeref\": 200000, \"sizemode\": \"area\", \"size\": []}, \"name\": \"Martinique\", \"x\": []}, {\"text\": [], \"y\": [], \"mode\": \"marker\", \"marker\": {\"sizeref\": 200000, \"sizemode\": \"area\", \"size\": []}, \"name\": \"Samoa\", \"x\": []}, {\"text\": [], \"y\": [], \"mode\": \"marker\", \"marker\": {\"sizeref\": 200000, \"sizemode\": \"area\", \"size\": []}, \"name\": \"Cameroon\", \"x\": []}, {\"text\": [], \"y\": [], \"mode\": \"marker\", \"marker\": {\"sizeref\": 200000, \"sizemode\": \"area\", \"size\": []}, \"name\": \"Trinidad \", \"x\": []}, {\"text\": [], \"y\": [], \"mode\": \"marker\", \"marker\": {\"sizeref\": 200000, \"sizemode\": \"area\", \"size\": []}, \"name\": \"Congo, DRC\", \"x\": []}, {\"text\": [], \"y\": [], \"mode\": \"marker\", \"marker\": {\"sizeref\": 200000, \"sizemode\": \"area\", \"size\": []}, \"name\": \"Costa Rica\", \"x\": []}, {\"text\": [], \"y\": [], \"mode\": \"marker\", \"marker\": {\"sizeref\": 200000, \"sizemode\": \"area\", \"size\": []}, \"name\": \"Antarctica\", \"x\": []}, {\"text\": [], \"y\": [], \"mode\": \"marker\", \"marker\": {\"sizeref\": 200000, \"sizemode\": \"area\", \"size\": []}, \"name\": \"Reunion\", \"x\": []}, {\"text\": [], \"y\": [], \"mode\": \"marker\", \"marker\": {\"sizeref\": 200000, \"sizemode\": \"area\", \"size\": []}, \"name\": \"Montserrat\", \"x\": []}], \"name\": \"2018\"}]);}).then(function(){Plotly.animate('3d8bb84c-9b5b-4102-bbfc-167dc00ef41d');})\n",
       "        });</script>"
      ],
      "text/vnd.plotly.v1+html": [
       "<div id=\"3d8bb84c-9b5b-4102-bbfc-167dc00ef41d\" style=\"height: 525px; width: 100%;\" class=\"plotly-graph-div\"></div><script type=\"text/javascript\">require([\"plotly\"], function(Plotly) { window.PLOTLYENV=window.PLOTLYENV || {};window.PLOTLYENV.BASE_URL=\"https://plot.ly\";\n",
       "        Plotly.plot(\n",
       "            '3d8bb84c-9b5b-4102-bbfc-167dc00ef41d',\n",
       "            [{\"text\": [], \"y\": [], \"mode\": \"marker\", \"marker\": {\"sizeref\": 200000, \"sizemode\": \"area\", \"size\": []}, \"name\": null, \"x\": []}, {\"text\": [], \"y\": [], \"mode\": \"marker\", \"marker\": {\"sizeref\": 200000, \"sizemode\": \"area\", \"size\": []}, \"name\": \"New Zealand\", \"x\": []}, {\"text\": [], \"y\": [], \"mode\": \"marker\", \"marker\": {\"sizeref\": 200000, \"sizemode\": \"area\", \"size\": []}, \"name\": \"Japan\", \"x\": []}, {\"text\": [], \"y\": [], \"mode\": \"marker\", \"marker\": {\"sizeref\": 200000, \"sizemode\": \"area\", \"size\": []}, \"name\": \"Nicaragua\", \"x\": []}, {\"text\": [], \"y\": [], \"mode\": \"marker\", \"marker\": {\"sizeref\": 200000, \"sizemode\": \"area\", \"size\": []}, \"name\": \"Papua New Guinea\", \"x\": []}, {\"text\": [\"Philippines\"], \"y\": [13.257], \"mode\": \"marker\", \"marker\": {\"sizeref\": 200000, \"sizemode\": \"area\", \"size\": [2.0]}, \"name\": \"Philippines\", \"x\": [123.685]}, {\"text\": [], \"y\": [], \"mode\": \"marker\", \"marker\": {\"sizeref\": 200000, \"sizemode\": \"area\", \"size\": []}, \"name\": \"Italy\", \"x\": []}, {\"text\": [\"United States\", \"United States\"], \"y\": [46.2, 19.692], \"mode\": \"marker\", \"marker\": {\"sizeref\": 200000, \"sizemode\": \"area\", \"size\": [5.0, 0.0]}, \"name\": \"United States\", \"x\": [-122.18, -155.87]}, {\"text\": [], \"y\": [], \"mode\": \"marker\", \"marker\": {\"sizeref\": 200000, \"sizemode\": \"area\", \"size\": []}, \"name\": \"Greece\", \"x\": []}, {\"text\": [], \"y\": [], \"mode\": \"marker\", \"marker\": {\"sizeref\": 200000, \"sizemode\": \"area\", \"size\": []}, \"name\": \"Ecuador\", \"x\": []}, {\"text\": [], \"y\": [], \"mode\": \"marker\", \"marker\": {\"sizeref\": 200000, \"sizemode\": \"area\", \"size\": []}, \"name\": \"Vanuatu\", \"x\": []}, {\"text\": [], \"y\": [], \"mode\": \"marker\", \"marker\": {\"sizeref\": 200000, \"sizemode\": \"area\", \"size\": []}, \"name\": \"Yemen\", \"x\": []}, {\"text\": [], \"y\": [], \"mode\": \"marker\", \"marker\": {\"sizeref\": 200000, \"sizemode\": \"area\", \"size\": []}, \"name\": \"Russia\", \"x\": []}, {\"text\": [\"Indonesia\"], \"y\": [-7.13], \"mode\": \"marker\", \"marker\": {\"sizeref\": 200000, \"sizemode\": \"area\", \"size\": [null]}, \"name\": \"Indonesia\", \"x\": [107.83]}, {\"text\": [], \"y\": [], \"mode\": \"marker\", \"marker\": {\"sizeref\": 200000, \"sizemode\": \"area\", \"size\": []}, \"name\": \"El Salvador\", \"x\": []}, {\"text\": [], \"y\": [], \"mode\": \"marker\", \"marker\": {\"sizeref\": 200000, \"sizemode\": \"area\", \"size\": []}, \"name\": \"Saudi Arabia\", \"x\": []}, {\"text\": [], \"y\": [], \"mode\": \"marker\", \"marker\": {\"sizeref\": 200000, \"sizemode\": \"area\", \"size\": []}, \"name\": \"Iceland\", \"x\": []}, {\"text\": [], \"y\": [], \"mode\": \"marker\", \"marker\": {\"sizeref\": 200000, \"sizemode\": \"area\", \"size\": []}, \"name\": \"Mexico\", \"x\": []}, {\"text\": [], \"y\": [], \"mode\": \"marker\", \"marker\": {\"sizeref\": 200000, \"sizemode\": \"area\", \"size\": []}, \"name\": \"North Korea\", \"x\": []}, {\"text\": [], \"y\": [], \"mode\": \"marker\", \"marker\": {\"sizeref\": 200000, \"sizemode\": \"area\", \"size\": []}, \"name\": \"Ethiopia\", \"x\": []}, {\"text\": [], \"y\": [], \"mode\": \"marker\", \"marker\": {\"sizeref\": 200000, \"sizemode\": \"area\", \"size\": []}, \"name\": \"Guatemala\", \"x\": []}, {\"text\": [], \"y\": [], \"mode\": \"marker\", \"marker\": {\"sizeref\": 200000, \"sizemode\": \"area\", \"size\": []}, \"name\": \"Solomon Is.\", \"x\": []}, {\"text\": [\"Portugal\"], \"y\": [38.65], \"mode\": \"marker\", \"marker\": {\"sizeref\": 200000, \"sizemode\": \"area\", \"size\": [1.0]}, \"name\": \"Portugal\", \"x\": [-28.08]}, {\"text\": [], \"y\": [], \"mode\": \"marker\", \"marker\": {\"sizeref\": 200000, \"sizemode\": \"area\", \"size\": []}, \"name\": \"Colombia\", \"x\": []}, {\"text\": [], \"y\": [], \"mode\": \"marker\", \"marker\": {\"sizeref\": 200000, \"sizemode\": \"area\", \"size\": []}, \"name\": \"Pacific Ocean\", \"x\": []}, {\"text\": [], \"y\": [], \"mode\": \"marker\", \"marker\": {\"sizeref\": 200000, \"sizemode\": \"area\", \"size\": []}, \"name\": \"Peru\", \"x\": []}, {\"text\": [], \"y\": [], \"mode\": \"marker\", \"marker\": {\"sizeref\": 200000, \"sizemode\": \"area\", \"size\": []}, \"name\": \"China\", \"x\": []}, {\"text\": [], \"y\": [], \"mode\": \"marker\", \"marker\": {\"sizeref\": 200000, \"sizemode\": \"area\", \"size\": []}, \"name\": \"Spain\", \"x\": []}, {\"text\": [], \"y\": [], \"mode\": \"marker\", \"marker\": {\"sizeref\": 200000, \"sizemode\": \"area\", \"size\": []}, \"name\": \"Canada\", \"x\": []}, {\"text\": [\"Tanzania\"], \"y\": [-9.23], \"mode\": \"marker\", \"marker\": {\"sizeref\": 200000, \"sizemode\": \"area\", \"size\": [2.0]}, \"name\": \"Tanzania\", \"x\": [33.78]}, {\"text\": [], \"y\": [], \"mode\": \"marker\", \"marker\": {\"sizeref\": 200000, \"sizemode\": \"area\", \"size\": []}, \"name\": \"St. Vincent & the Grenadines\", \"x\": []}, {\"text\": [], \"y\": [], \"mode\": \"marker\", \"marker\": {\"sizeref\": 200000, \"sizemode\": \"area\", \"size\": []}, \"name\": \"Chile\", \"x\": []}, {\"text\": [], \"y\": [], \"mode\": \"marker\", \"marker\": {\"sizeref\": 200000, \"sizemode\": \"area\", \"size\": []}, \"name\": \"Turkey\", \"x\": []}, {\"text\": [], \"y\": [], \"mode\": \"marker\", \"marker\": {\"sizeref\": 200000, \"sizemode\": \"area\", \"size\": []}, \"name\": \"St. Kitts & Nevis\", \"x\": []}, {\"text\": [], \"y\": [], \"mode\": \"marker\", \"marker\": {\"sizeref\": 200000, \"sizemode\": \"area\", \"size\": []}, \"name\": \"Guadeloupe\", \"x\": []}, {\"text\": [], \"y\": [], \"mode\": \"marker\", \"marker\": {\"sizeref\": 200000, \"sizemode\": \"area\", \"size\": []}, \"name\": \"Cape Verde\", \"x\": []}, {\"text\": [], \"y\": [], \"mode\": \"marker\", \"marker\": {\"sizeref\": 200000, \"sizemode\": \"area\", \"size\": []}, \"name\": \"Tonga\", \"x\": []}, {\"text\": [], \"y\": [], \"mode\": \"marker\", \"marker\": {\"sizeref\": 200000, \"sizemode\": \"area\", \"size\": []}, \"name\": \"Taiwan\", \"x\": []}, {\"text\": [], \"y\": [], \"mode\": \"marker\", \"marker\": {\"sizeref\": 200000, \"sizemode\": \"area\", \"size\": []}, \"name\": \"Eritrea\", \"x\": []}, {\"text\": [], \"y\": [], \"mode\": \"marker\", \"marker\": {\"sizeref\": 200000, \"sizemode\": \"area\", \"size\": []}, \"name\": \"Comoros\", \"x\": []}, {\"text\": [], \"y\": [], \"mode\": \"marker\", \"marker\": {\"sizeref\": 200000, \"sizemode\": \"area\", \"size\": []}, \"name\": \"Martinique\", \"x\": []}, {\"text\": [], \"y\": [], \"mode\": \"marker\", \"marker\": {\"sizeref\": 200000, \"sizemode\": \"area\", \"size\": []}, \"name\": \"Samoa\", \"x\": []}, {\"text\": [], \"y\": [], \"mode\": \"marker\", \"marker\": {\"sizeref\": 200000, \"sizemode\": \"area\", \"size\": []}, \"name\": \"Cameroon\", \"x\": []}, {\"text\": [], \"y\": [], \"mode\": \"marker\", \"marker\": {\"sizeref\": 200000, \"sizemode\": \"area\", \"size\": []}, \"name\": \"Trinidad \", \"x\": []}, {\"text\": [], \"y\": [], \"mode\": \"marker\", \"marker\": {\"sizeref\": 200000, \"sizemode\": \"area\", \"size\": []}, \"name\": \"Congo, DRC\", \"x\": []}, {\"text\": [], \"y\": [], \"mode\": \"marker\", \"marker\": {\"sizeref\": 200000, \"sizemode\": \"area\", \"size\": []}, \"name\": \"Costa Rica\", \"x\": []}, {\"text\": [], \"y\": [], \"mode\": \"marker\", \"marker\": {\"sizeref\": 200000, \"sizemode\": \"area\", \"size\": []}, \"name\": \"Antarctica\", \"x\": []}, {\"text\": [], \"y\": [], \"mode\": \"marker\", \"marker\": {\"sizeref\": 200000, \"sizemode\": \"area\", \"size\": []}, \"name\": \"Reunion\", \"x\": []}, {\"text\": [], \"y\": [], \"mode\": \"marker\", \"marker\": {\"sizeref\": 200000, \"sizemode\": \"area\", \"size\": []}, \"name\": \"Montserrat\", \"x\": []}],\n",
       "            {\"hovermode\": \"closest\", \"xaxis\": {\"range\": [0, 180], \"title\": \"Longitude\"}, \"yaxis\": {\"title\": \"Latitude\"}, \"updatemenus\": [{\"y\": 0, \"buttons\": [{\"method\": \"animate\", \"label\": \"Play\", \"args\": [null, {\"frame\": {\"duration\": 500, \"redraw\": false}, \"fromcurrent\": true, \"transition\": {\"duration\": 300, \"easing\": \"quadratic-in-out\"}}]}, {\"method\": \"animate\", \"label\": \"Pause\", \"args\": [[null], {\"frame\": {\"duration\": 0, \"redraw\": false}, \"mode\": \"immediate\", \"transition\": {\"duration\": 0}}]}], \"showactive\": false, \"yanchor\": \"top\", \"pad\": {\"t\": 87, \"r\": 10}, \"xanchor\": \"right\", \"direction\": \"left\", \"type\": \"buttons\", \"x\": 0.1}], \"sliders\": [{\"currentvalue\": {\"font\": {\"size\": 20}, \"visible\": true, \"xanchor\": \"right\", \"prefix\": \"Year:\"}, \"y\": 0, \"active\": 0, \"transition\": {\"duration\": 300, \"easing\": \"cubic-in-out\"}, \"yanchor\": \"top\", \"pad\": {\"t\": 50, \"b\": 10}, \"xanchor\": \"left\", \"len\": 0.9, \"steps\": [{\"method\": \"animate\", \"label\": \"1800\", \"args\": [[\"1800\"], {\"frame\": {\"duration\": 300, \"redraw\": false}, \"mode\": \"immediate\", \"transition\": {\"duration\": 300}}]}, {\"method\": \"animate\", \"label\": \"1820\", \"args\": [[\"1820\"], {\"frame\": {\"duration\": 300, \"redraw\": false}, \"mode\": \"immediate\", \"transition\": {\"duration\": 300}}]}, {\"method\": \"animate\", \"label\": \"1840\", \"args\": [[\"1840\"], {\"frame\": {\"duration\": 300, \"redraw\": false}, \"mode\": \"immediate\", \"transition\": {\"duration\": 300}}]}, {\"method\": \"animate\", \"label\": \"1860\", \"args\": [[\"1860\"], {\"frame\": {\"duration\": 300, \"redraw\": false}, \"mode\": \"immediate\", \"transition\": {\"duration\": 300}}]}, {\"method\": \"animate\", \"label\": \"1880\", \"args\": [[\"1880\"], {\"frame\": {\"duration\": 300, \"redraw\": false}, \"mode\": \"immediate\", \"transition\": {\"duration\": 300}}]}, {\"method\": \"animate\", \"label\": \"1900\", \"args\": [[\"1900\"], {\"frame\": {\"duration\": 300, \"redraw\": false}, \"mode\": \"immediate\", \"transition\": {\"duration\": 300}}]}, {\"method\": \"animate\", \"label\": \"1910\", \"args\": [[\"1910\"], {\"frame\": {\"duration\": 300, \"redraw\": false}, \"mode\": \"immediate\", \"transition\": {\"duration\": 300}}]}, {\"method\": \"animate\", \"label\": \"1920\", \"args\": [[\"1920\"], {\"frame\": {\"duration\": 300, \"redraw\": false}, \"mode\": \"immediate\", \"transition\": {\"duration\": 300}}]}, {\"method\": \"animate\", \"label\": \"1930\", \"args\": [[\"1930\"], {\"frame\": {\"duration\": 300, \"redraw\": false}, \"mode\": \"immediate\", \"transition\": {\"duration\": 300}}]}, {\"method\": \"animate\", \"label\": \"1940\", \"args\": [[\"1940\"], {\"frame\": {\"duration\": 300, \"redraw\": false}, \"mode\": \"immediate\", \"transition\": {\"duration\": 300}}]}, {\"method\": \"animate\", \"label\": \"1950\", \"args\": [[\"1950\"], {\"frame\": {\"duration\": 300, \"redraw\": false}, \"mode\": \"immediate\", \"transition\": {\"duration\": 300}}]}, {\"method\": \"animate\", \"label\": \"1960\", \"args\": [[\"1960\"], {\"frame\": {\"duration\": 300, \"redraw\": false}, \"mode\": \"immediate\", \"transition\": {\"duration\": 300}}]}, {\"method\": \"animate\", \"label\": \"1970\", \"args\": [[\"1970\"], {\"frame\": {\"duration\": 300, \"redraw\": false}, \"mode\": \"immediate\", \"transition\": {\"duration\": 300}}]}, {\"method\": \"animate\", \"label\": \"1980\", \"args\": [[\"1980\"], {\"frame\": {\"duration\": 300, \"redraw\": false}, \"mode\": \"immediate\", \"transition\": {\"duration\": 300}}]}, {\"method\": \"animate\", \"label\": \"1990\", \"args\": [[\"1990\"], {\"frame\": {\"duration\": 300, \"redraw\": false}, \"mode\": \"immediate\", \"transition\": {\"duration\": 300}}]}, {\"method\": \"animate\", \"label\": \"2000\", \"args\": [[\"2000\"], {\"frame\": {\"duration\": 300, \"redraw\": false}, \"mode\": \"immediate\", \"transition\": {\"duration\": 300}}]}, {\"method\": \"animate\", \"label\": \"2010\", \"args\": [[\"2010\"], {\"frame\": {\"duration\": 300, \"redraw\": false}, \"mode\": \"immediate\", \"transition\": {\"duration\": 300}}]}, {\"method\": \"animate\", \"label\": \"2015\", \"args\": [[\"2015\"], {\"frame\": {\"duration\": 300, \"redraw\": false}, \"mode\": \"immediate\", \"transition\": {\"duration\": 300}}]}, {\"method\": \"animate\", \"label\": \"2018\", \"args\": [[\"2018\"], {\"frame\": {\"duration\": 300, \"redraw\": false}, \"mode\": \"immediate\", \"transition\": {\"duration\": 300}}]}], \"x\": 0.1}]},\n",
       "            {\"showLink\": true, \"linkText\": \"Export to plot.ly\"}\n",
       "        ).then(function () {return Plotly.addFrames('3d8bb84c-9b5b-4102-bbfc-167dc00ef41d',[{\"data\": [{\"text\": [], \"y\": [], \"mode\": \"marker\", \"marker\": {\"sizeref\": 200000, \"sizemode\": \"area\", \"size\": []}, \"name\": null, \"x\": []}, {\"text\": [], \"y\": [], \"mode\": \"marker\", \"marker\": {\"sizeref\": 200000, \"sizemode\": \"area\", \"size\": []}, \"name\": \"New Zealand\", \"x\": []}, {\"text\": [], \"y\": [], \"mode\": \"marker\", \"marker\": {\"sizeref\": 200000, \"sizemode\": \"area\", \"size\": []}, \"name\": \"Japan\", \"x\": []}, {\"text\": [], \"y\": [], \"mode\": \"marker\", \"marker\": {\"sizeref\": 200000, \"sizemode\": \"area\", \"size\": []}, \"name\": \"Nicaragua\", \"x\": []}, {\"text\": [], \"y\": [], \"mode\": \"marker\", \"marker\": {\"sizeref\": 200000, \"sizemode\": \"area\", \"size\": []}, \"name\": \"Papua New Guinea\", \"x\": []}, {\"text\": [\"Philippines\"], \"y\": [13.257], \"mode\": \"marker\", \"marker\": {\"sizeref\": 200000, \"sizemode\": \"area\", \"size\": [2.0]}, \"name\": \"Philippines\", \"x\": [123.685]}, {\"text\": [], \"y\": [], \"mode\": \"marker\", \"marker\": {\"sizeref\": 200000, \"sizemode\": \"area\", \"size\": []}, \"name\": \"Italy\", \"x\": []}, {\"text\": [\"United States\", \"United States\"], \"y\": [46.2, 19.692], \"mode\": \"marker\", \"marker\": {\"sizeref\": 200000, \"sizemode\": \"area\", \"size\": [5.0, 0.0]}, \"name\": \"United States\", \"x\": [-122.18, -155.87]}, {\"text\": [], \"y\": [], \"mode\": \"marker\", \"marker\": {\"sizeref\": 200000, \"sizemode\": \"area\", \"size\": []}, \"name\": \"Greece\", \"x\": []}, {\"text\": [], \"y\": [], \"mode\": \"marker\", \"marker\": {\"sizeref\": 200000, \"sizemode\": \"area\", \"size\": []}, \"name\": \"Ecuador\", \"x\": []}, {\"text\": [], \"y\": [], \"mode\": \"marker\", \"marker\": {\"sizeref\": 200000, \"sizemode\": \"area\", \"size\": []}, \"name\": \"Vanuatu\", \"x\": []}, {\"text\": [], \"y\": [], \"mode\": \"marker\", \"marker\": {\"sizeref\": 200000, \"sizemode\": \"area\", \"size\": []}, \"name\": \"Yemen\", \"x\": []}, {\"text\": [], \"y\": [], \"mode\": \"marker\", \"marker\": {\"sizeref\": 200000, \"sizemode\": \"area\", \"size\": []}, \"name\": \"Russia\", \"x\": []}, {\"text\": [\"Indonesia\"], \"y\": [-7.13], \"mode\": \"marker\", \"marker\": {\"sizeref\": 200000, \"sizemode\": \"area\", \"size\": [null]}, \"name\": \"Indonesia\", \"x\": [107.83]}, {\"text\": [], \"y\": [], \"mode\": \"marker\", \"marker\": {\"sizeref\": 200000, \"sizemode\": \"area\", \"size\": []}, \"name\": \"El Salvador\", \"x\": []}, {\"text\": [], \"y\": [], \"mode\": \"marker\", \"marker\": {\"sizeref\": 200000, \"sizemode\": \"area\", \"size\": []}, \"name\": \"Saudi Arabia\", \"x\": []}, {\"text\": [], \"y\": [], \"mode\": \"marker\", \"marker\": {\"sizeref\": 200000, \"sizemode\": \"area\", \"size\": []}, \"name\": \"Iceland\", \"x\": []}, {\"text\": [], \"y\": [], \"mode\": \"marker\", \"marker\": {\"sizeref\": 200000, \"sizemode\": \"area\", \"size\": []}, \"name\": \"Mexico\", \"x\": []}, {\"text\": [], \"y\": [], \"mode\": \"marker\", \"marker\": {\"sizeref\": 200000, \"sizemode\": \"area\", \"size\": []}, \"name\": \"North Korea\", \"x\": []}, {\"text\": [], \"y\": [], \"mode\": \"marker\", \"marker\": {\"sizeref\": 200000, \"sizemode\": \"area\", \"size\": []}, \"name\": \"Ethiopia\", \"x\": []}, {\"text\": [], \"y\": [], \"mode\": \"marker\", \"marker\": {\"sizeref\": 200000, \"sizemode\": \"area\", \"size\": []}, \"name\": \"Guatemala\", \"x\": []}, {\"text\": [], \"y\": [], \"mode\": \"marker\", \"marker\": {\"sizeref\": 200000, \"sizemode\": \"area\", \"size\": []}, \"name\": \"Solomon Is.\", \"x\": []}, {\"text\": [\"Portugal\"], \"y\": [38.65], \"mode\": \"marker\", \"marker\": {\"sizeref\": 200000, \"sizemode\": \"area\", \"size\": [1.0]}, \"name\": \"Portugal\", \"x\": [-28.08]}, {\"text\": [], \"y\": [], \"mode\": \"marker\", \"marker\": {\"sizeref\": 200000, \"sizemode\": \"area\", \"size\": []}, \"name\": \"Colombia\", \"x\": []}, {\"text\": [], \"y\": [], \"mode\": \"marker\", \"marker\": {\"sizeref\": 200000, \"sizemode\": \"area\", \"size\": []}, \"name\": \"Pacific Ocean\", \"x\": []}, {\"text\": [], \"y\": [], \"mode\": \"marker\", \"marker\": {\"sizeref\": 200000, \"sizemode\": \"area\", \"size\": []}, \"name\": \"Peru\", \"x\": []}, {\"text\": [], \"y\": [], \"mode\": \"marker\", \"marker\": {\"sizeref\": 200000, \"sizemode\": \"area\", \"size\": []}, \"name\": \"China\", \"x\": []}, {\"text\": [], \"y\": [], \"mode\": \"marker\", \"marker\": {\"sizeref\": 200000, \"sizemode\": \"area\", \"size\": []}, \"name\": \"Spain\", \"x\": []}, {\"text\": [], \"y\": [], \"mode\": \"marker\", \"marker\": {\"sizeref\": 200000, \"sizemode\": \"area\", \"size\": []}, \"name\": \"Canada\", \"x\": []}, {\"text\": [\"Tanzania\"], \"y\": [-9.23], \"mode\": \"marker\", \"marker\": {\"sizeref\": 200000, \"sizemode\": \"area\", \"size\": [2.0]}, \"name\": \"Tanzania\", \"x\": [33.78]}, {\"text\": [], \"y\": [], \"mode\": \"marker\", \"marker\": {\"sizeref\": 200000, \"sizemode\": \"area\", \"size\": []}, \"name\": \"St. Vincent & the Grenadines\", \"x\": []}, {\"text\": [], \"y\": [], \"mode\": \"marker\", \"marker\": {\"sizeref\": 200000, \"sizemode\": \"area\", \"size\": []}, \"name\": \"Chile\", \"x\": []}, {\"text\": [], \"y\": [], \"mode\": \"marker\", \"marker\": {\"sizeref\": 200000, \"sizemode\": \"area\", \"size\": []}, \"name\": \"Turkey\", \"x\": []}, {\"text\": [], \"y\": [], \"mode\": \"marker\", \"marker\": {\"sizeref\": 200000, \"sizemode\": \"area\", \"size\": []}, \"name\": \"St. Kitts & Nevis\", \"x\": []}, {\"text\": [], \"y\": [], \"mode\": \"marker\", \"marker\": {\"sizeref\": 200000, \"sizemode\": \"area\", \"size\": []}, \"name\": \"Guadeloupe\", \"x\": []}, {\"text\": [], \"y\": [], \"mode\": \"marker\", \"marker\": {\"sizeref\": 200000, \"sizemode\": \"area\", \"size\": []}, \"name\": \"Cape Verde\", \"x\": []}, {\"text\": [], \"y\": [], \"mode\": \"marker\", \"marker\": {\"sizeref\": 200000, \"sizemode\": \"area\", \"size\": []}, \"name\": \"Tonga\", \"x\": []}, {\"text\": [], \"y\": [], \"mode\": \"marker\", \"marker\": {\"sizeref\": 200000, \"sizemode\": \"area\", \"size\": []}, \"name\": \"Taiwan\", \"x\": []}, {\"text\": [], \"y\": [], \"mode\": \"marker\", \"marker\": {\"sizeref\": 200000, \"sizemode\": \"area\", \"size\": []}, \"name\": \"Eritrea\", \"x\": []}, {\"text\": [], \"y\": [], \"mode\": \"marker\", \"marker\": {\"sizeref\": 200000, \"sizemode\": \"area\", \"size\": []}, \"name\": \"Comoros\", \"x\": []}, {\"text\": [], \"y\": [], \"mode\": \"marker\", \"marker\": {\"sizeref\": 200000, \"sizemode\": \"area\", \"size\": []}, \"name\": \"Martinique\", \"x\": []}, {\"text\": [], \"y\": [], \"mode\": \"marker\", \"marker\": {\"sizeref\": 200000, \"sizemode\": \"area\", \"size\": []}, \"name\": \"Samoa\", \"x\": []}, {\"text\": [], \"y\": [], \"mode\": \"marker\", \"marker\": {\"sizeref\": 200000, \"sizemode\": \"area\", \"size\": []}, \"name\": \"Cameroon\", \"x\": []}, {\"text\": [], \"y\": [], \"mode\": \"marker\", \"marker\": {\"sizeref\": 200000, \"sizemode\": \"area\", \"size\": []}, \"name\": \"Trinidad \", \"x\": []}, {\"text\": [], \"y\": [], \"mode\": \"marker\", \"marker\": {\"sizeref\": 200000, \"sizemode\": \"area\", \"size\": []}, \"name\": \"Congo, DRC\", \"x\": []}, {\"text\": [], \"y\": [], \"mode\": \"marker\", \"marker\": {\"sizeref\": 200000, \"sizemode\": \"area\", \"size\": []}, \"name\": \"Costa Rica\", \"x\": []}, {\"text\": [], \"y\": [], \"mode\": \"marker\", \"marker\": {\"sizeref\": 200000, \"sizemode\": \"area\", \"size\": []}, \"name\": \"Antarctica\", \"x\": []}, {\"text\": [], \"y\": [], \"mode\": \"marker\", \"marker\": {\"sizeref\": 200000, \"sizemode\": \"area\", \"size\": []}, \"name\": \"Reunion\", \"x\": []}, {\"text\": [], \"y\": [], \"mode\": \"marker\", \"marker\": {\"sizeref\": 200000, \"sizemode\": \"area\", \"size\": []}, \"name\": \"Montserrat\", \"x\": []}], \"name\": \"1800\"}, {\"data\": [{\"text\": [], \"y\": [], \"mode\": \"marker\", \"marker\": {\"sizeref\": 200000, \"sizemode\": \"area\", \"size\": []}, \"name\": null, \"x\": []}, {\"text\": [], \"y\": [], \"mode\": \"marker\", \"marker\": {\"sizeref\": 200000, \"sizemode\": \"area\", \"size\": []}, \"name\": \"New Zealand\", \"x\": []}, {\"text\": [], \"y\": [], \"mode\": \"marker\", \"marker\": {\"sizeref\": 200000, \"sizemode\": \"area\", \"size\": []}, \"name\": \"Japan\", \"x\": []}, {\"text\": [], \"y\": [], \"mode\": \"marker\", \"marker\": {\"sizeref\": 200000, \"sizemode\": \"area\", \"size\": []}, \"name\": \"Nicaragua\", \"x\": []}, {\"text\": [], \"y\": [], \"mode\": \"marker\", \"marker\": {\"sizeref\": 200000, \"sizemode\": \"area\", \"size\": []}, \"name\": \"Papua New Guinea\", \"x\": []}, {\"text\": [], \"y\": [], \"mode\": \"marker\", \"marker\": {\"sizeref\": 200000, \"sizemode\": \"area\", \"size\": []}, \"name\": \"Philippines\", \"x\": []}, {\"text\": [], \"y\": [], \"mode\": \"marker\", \"marker\": {\"sizeref\": 200000, \"sizemode\": \"area\", \"size\": []}, \"name\": \"Italy\", \"x\": []}, {\"text\": [\"United States\"], \"y\": [54.52], \"mode\": \"marker\", \"marker\": {\"sizeref\": 200000, \"sizemode\": \"area\", \"size\": [2.0]}, \"name\": \"United States\", \"x\": [-164.65]}, {\"text\": [], \"y\": [], \"mode\": \"marker\", \"marker\": {\"sizeref\": 200000, \"sizemode\": \"area\", \"size\": []}, \"name\": \"Greece\", \"x\": []}, {\"text\": [], \"y\": [], \"mode\": \"marker\", \"marker\": {\"sizeref\": 200000, \"sizemode\": \"area\", \"size\": []}, \"name\": \"Ecuador\", \"x\": []}, {\"text\": [], \"y\": [], \"mode\": \"marker\", \"marker\": {\"sizeref\": 200000, \"sizemode\": \"area\", \"size\": []}, \"name\": \"Vanuatu\", \"x\": []}, {\"text\": [], \"y\": [], \"mode\": \"marker\", \"marker\": {\"sizeref\": 200000, \"sizemode\": \"area\", \"size\": []}, \"name\": \"Yemen\", \"x\": []}, {\"text\": [], \"y\": [], \"mode\": \"marker\", \"marker\": {\"sizeref\": 200000, \"sizemode\": \"area\", \"size\": []}, \"name\": \"Russia\", \"x\": []}, {\"text\": [], \"y\": [], \"mode\": \"marker\", \"marker\": {\"sizeref\": 200000, \"sizemode\": \"area\", \"size\": []}, \"name\": \"Indonesia\", \"x\": []}, {\"text\": [], \"y\": [], \"mode\": \"marker\", \"marker\": {\"sizeref\": 200000, \"sizemode\": \"area\", \"size\": []}, \"name\": \"El Salvador\", \"x\": []}, {\"text\": [], \"y\": [], \"mode\": \"marker\", \"marker\": {\"sizeref\": 200000, \"sizemode\": \"area\", \"size\": []}, \"name\": \"Saudi Arabia\", \"x\": []}, {\"text\": [], \"y\": [], \"mode\": \"marker\", \"marker\": {\"sizeref\": 200000, \"sizemode\": \"area\", \"size\": []}, \"name\": \"Iceland\", \"x\": []}, {\"text\": [], \"y\": [], \"mode\": \"marker\", \"marker\": {\"sizeref\": 200000, \"sizemode\": \"area\", \"size\": []}, \"name\": \"Mexico\", \"x\": []}, {\"text\": [], \"y\": [], \"mode\": \"marker\", \"marker\": {\"sizeref\": 200000, \"sizemode\": \"area\", \"size\": []}, \"name\": \"North Korea\", \"x\": []}, {\"text\": [], \"y\": [], \"mode\": \"marker\", \"marker\": {\"sizeref\": 200000, \"sizemode\": \"area\", \"size\": []}, \"name\": \"Ethiopia\", \"x\": []}, {\"text\": [], \"y\": [], \"mode\": \"marker\", \"marker\": {\"sizeref\": 200000, \"sizemode\": \"area\", \"size\": []}, \"name\": \"Guatemala\", \"x\": []}, {\"text\": [], \"y\": [], \"mode\": \"marker\", \"marker\": {\"sizeref\": 200000, \"sizemode\": \"area\", \"size\": []}, \"name\": \"Solomon Is.\", \"x\": []}, {\"text\": [], \"y\": [], \"mode\": \"marker\", \"marker\": {\"sizeref\": 200000, \"sizemode\": \"area\", \"size\": []}, \"name\": \"Portugal\", \"x\": []}, {\"text\": [], \"y\": [], \"mode\": \"marker\", \"marker\": {\"sizeref\": 200000, \"sizemode\": \"area\", \"size\": []}, \"name\": \"Colombia\", \"x\": []}, {\"text\": [\"Pacific Ocean\"], \"y\": [-4.525], \"mode\": \"marker\", \"marker\": {\"sizeref\": 200000, \"sizemode\": \"area\", \"size\": [2.0]}, \"name\": \"Pacific Ocean\", \"x\": [129.871]}, {\"text\": [], \"y\": [], \"mode\": \"marker\", \"marker\": {\"sizeref\": 200000, \"sizemode\": \"area\", \"size\": []}, \"name\": \"Peru\", \"x\": []}, {\"text\": [], \"y\": [], \"mode\": \"marker\", \"marker\": {\"sizeref\": 200000, \"sizemode\": \"area\", \"size\": []}, \"name\": \"China\", \"x\": []}, {\"text\": [], \"y\": [], \"mode\": \"marker\", \"marker\": {\"sizeref\": 200000, \"sizemode\": \"area\", \"size\": []}, \"name\": \"Spain\", \"x\": []}, {\"text\": [], \"y\": [], \"mode\": \"marker\", \"marker\": {\"sizeref\": 200000, \"sizemode\": \"area\", \"size\": []}, \"name\": \"Canada\", \"x\": []}, {\"text\": [], \"y\": [], \"mode\": \"marker\", \"marker\": {\"sizeref\": 200000, \"sizemode\": \"area\", \"size\": []}, \"name\": \"Tanzania\", \"x\": []}, {\"text\": [], \"y\": [], \"mode\": \"marker\", \"marker\": {\"sizeref\": 200000, \"sizemode\": \"area\", \"size\": []}, \"name\": \"St. Vincent & the Grenadines\", \"x\": []}, {\"text\": [], \"y\": [], \"mode\": \"marker\", \"marker\": {\"sizeref\": 200000, \"sizemode\": \"area\", \"size\": []}, \"name\": \"Chile\", \"x\": []}, {\"text\": [], \"y\": [], \"mode\": \"marker\", \"marker\": {\"sizeref\": 200000, \"sizemode\": \"area\", \"size\": []}, \"name\": \"Turkey\", \"x\": []}, {\"text\": [], \"y\": [], \"mode\": \"marker\", \"marker\": {\"sizeref\": 200000, \"sizemode\": \"area\", \"size\": []}, \"name\": \"St. Kitts & Nevis\", \"x\": []}, {\"text\": [], \"y\": [], \"mode\": \"marker\", \"marker\": {\"sizeref\": 200000, \"sizemode\": \"area\", \"size\": []}, \"name\": \"Guadeloupe\", \"x\": []}, {\"text\": [], \"y\": [], \"mode\": \"marker\", \"marker\": {\"sizeref\": 200000, \"sizemode\": \"area\", \"size\": []}, \"name\": \"Cape Verde\", \"x\": []}, {\"text\": [], \"y\": [], \"mode\": \"marker\", \"marker\": {\"sizeref\": 200000, \"sizemode\": \"area\", \"size\": []}, \"name\": \"Tonga\", \"x\": []}, {\"text\": [], \"y\": [], \"mode\": \"marker\", \"marker\": {\"sizeref\": 200000, \"sizemode\": \"area\", \"size\": []}, \"name\": \"Taiwan\", \"x\": []}, {\"text\": [], \"y\": [], \"mode\": \"marker\", \"marker\": {\"sizeref\": 200000, \"sizemode\": \"area\", \"size\": []}, \"name\": \"Eritrea\", \"x\": []}, {\"text\": [], \"y\": [], \"mode\": \"marker\", \"marker\": {\"sizeref\": 200000, \"sizemode\": \"area\", \"size\": []}, \"name\": \"Comoros\", \"x\": []}, {\"text\": [], \"y\": [], \"mode\": \"marker\", \"marker\": {\"sizeref\": 200000, \"sizemode\": \"area\", \"size\": []}, \"name\": \"Martinique\", \"x\": []}, {\"text\": [], \"y\": [], \"mode\": \"marker\", \"marker\": {\"sizeref\": 200000, \"sizemode\": \"area\", \"size\": []}, \"name\": \"Samoa\", \"x\": []}, {\"text\": [], \"y\": [], \"mode\": \"marker\", \"marker\": {\"sizeref\": 200000, \"sizemode\": \"area\", \"size\": []}, \"name\": \"Cameroon\", \"x\": []}, {\"text\": [], \"y\": [], \"mode\": \"marker\", \"marker\": {\"sizeref\": 200000, \"sizemode\": \"area\", \"size\": []}, \"name\": \"Trinidad \", \"x\": []}, {\"text\": [], \"y\": [], \"mode\": \"marker\", \"marker\": {\"sizeref\": 200000, \"sizemode\": \"area\", \"size\": []}, \"name\": \"Congo, DRC\", \"x\": []}, {\"text\": [], \"y\": [], \"mode\": \"marker\", \"marker\": {\"sizeref\": 200000, \"sizemode\": \"area\", \"size\": []}, \"name\": \"Costa Rica\", \"x\": []}, {\"text\": [], \"y\": [], \"mode\": \"marker\", \"marker\": {\"sizeref\": 200000, \"sizemode\": \"area\", \"size\": []}, \"name\": \"Antarctica\", \"x\": []}, {\"text\": [], \"y\": [], \"mode\": \"marker\", \"marker\": {\"sizeref\": 200000, \"sizemode\": \"area\", \"size\": []}, \"name\": \"Reunion\", \"x\": []}, {\"text\": [], \"y\": [], \"mode\": \"marker\", \"marker\": {\"sizeref\": 200000, \"sizemode\": \"area\", \"size\": []}, \"name\": \"Montserrat\", \"x\": []}], \"name\": \"1820\"}, {\"data\": [{\"text\": [], \"y\": [], \"mode\": \"marker\", \"marker\": {\"sizeref\": 200000, \"sizemode\": \"area\", \"size\": []}, \"name\": null, \"x\": []}, {\"text\": [], \"y\": [], \"mode\": \"marker\", \"marker\": {\"sizeref\": 200000, \"sizemode\": \"area\", \"size\": []}, \"name\": \"New Zealand\", \"x\": []}, {\"text\": [], \"y\": [], \"mode\": \"marker\", \"marker\": {\"sizeref\": 200000, \"sizemode\": \"area\", \"size\": []}, \"name\": \"Japan\", \"x\": []}, {\"text\": [], \"y\": [], \"mode\": \"marker\", \"marker\": {\"sizeref\": 200000, \"sizemode\": \"area\", \"size\": []}, \"name\": \"Nicaragua\", \"x\": []}, {\"text\": [], \"y\": [], \"mode\": \"marker\", \"marker\": {\"sizeref\": 200000, \"sizemode\": \"area\", \"size\": []}, \"name\": \"Papua New Guinea\", \"x\": []}, {\"text\": [], \"y\": [], \"mode\": \"marker\", \"marker\": {\"sizeref\": 200000, \"sizemode\": \"area\", \"size\": []}, \"name\": \"Philippines\", \"x\": []}, {\"text\": [], \"y\": [], \"mode\": \"marker\", \"marker\": {\"sizeref\": 200000, \"sizemode\": \"area\", \"size\": []}, \"name\": \"Italy\", \"x\": []}, {\"text\": [\"United States\"], \"y\": [19.425], \"mode\": \"marker\", \"marker\": {\"sizeref\": 200000, \"sizemode\": \"area\", \"size\": [0.0]}, \"name\": \"United States\", \"x\": [-155.292]}, {\"text\": [], \"y\": [], \"mode\": \"marker\", \"marker\": {\"sizeref\": 200000, \"sizemode\": \"area\", \"size\": []}, \"name\": \"Greece\", \"x\": []}, {\"text\": [], \"y\": [], \"mode\": \"marker\", \"marker\": {\"sizeref\": 200000, \"sizemode\": \"area\", \"size\": []}, \"name\": \"Ecuador\", \"x\": []}, {\"text\": [], \"y\": [], \"mode\": \"marker\", \"marker\": {\"sizeref\": 200000, \"sizemode\": \"area\", \"size\": []}, \"name\": \"Vanuatu\", \"x\": []}, {\"text\": [], \"y\": [], \"mode\": \"marker\", \"marker\": {\"sizeref\": 200000, \"sizemode\": \"area\", \"size\": []}, \"name\": \"Yemen\", \"x\": []}, {\"text\": [], \"y\": [], \"mode\": \"marker\", \"marker\": {\"sizeref\": 200000, \"sizemode\": \"area\", \"size\": []}, \"name\": \"Russia\", \"x\": []}, {\"text\": [\"Indonesia\"], \"y\": [0.8], \"mode\": \"marker\", \"marker\": {\"sizeref\": 200000, \"sizemode\": \"area\", \"size\": [2.0]}, \"name\": \"Indonesia\", \"x\": [127.325]}, {\"text\": [], \"y\": [], \"mode\": \"marker\", \"marker\": {\"sizeref\": 200000, \"sizemode\": \"area\", \"size\": []}, \"name\": \"El Salvador\", \"x\": []}, {\"text\": [], \"y\": [], \"mode\": \"marker\", \"marker\": {\"sizeref\": 200000, \"sizemode\": \"area\", \"size\": []}, \"name\": \"Saudi Arabia\", \"x\": []}, {\"text\": [], \"y\": [], \"mode\": \"marker\", \"marker\": {\"sizeref\": 200000, \"sizemode\": \"area\", \"size\": []}, \"name\": \"Iceland\", \"x\": []}, {\"text\": [], \"y\": [], \"mode\": \"marker\", \"marker\": {\"sizeref\": 200000, \"sizemode\": \"area\", \"size\": []}, \"name\": \"Mexico\", \"x\": []}, {\"text\": [], \"y\": [], \"mode\": \"marker\", \"marker\": {\"sizeref\": 200000, \"sizemode\": \"area\", \"size\": []}, \"name\": \"North Korea\", \"x\": []}, {\"text\": [], \"y\": [], \"mode\": \"marker\", \"marker\": {\"sizeref\": 200000, \"sizemode\": \"area\", \"size\": []}, \"name\": \"Ethiopia\", \"x\": []}, {\"text\": [], \"y\": [], \"mode\": \"marker\", \"marker\": {\"sizeref\": 200000, \"sizemode\": \"area\", \"size\": []}, \"name\": \"Guatemala\", \"x\": []}, {\"text\": [\"Solomon Is.\", \"Solomon Is.\"], \"y\": [-9.13, -10.38], \"mode\": \"marker\", \"marker\": {\"sizeref\": 200000, \"sizemode\": \"area\", \"size\": [3.0, 3.0]}, \"name\": \"Solomon Is.\", \"x\": [159.82, 165.8]}, {\"text\": [], \"y\": [], \"mode\": \"marker\", \"marker\": {\"sizeref\": 200000, \"sizemode\": \"area\", \"size\": []}, \"name\": \"Portugal\", \"x\": []}, {\"text\": [], \"y\": [], \"mode\": \"marker\", \"marker\": {\"sizeref\": 200000, \"sizemode\": \"area\", \"size\": []}, \"name\": \"Colombia\", \"x\": []}, {\"text\": [], \"y\": [], \"mode\": \"marker\", \"marker\": {\"sizeref\": 200000, \"sizemode\": \"area\", \"size\": []}, \"name\": \"Pacific Ocean\", \"x\": []}, {\"text\": [], \"y\": [], \"mode\": \"marker\", \"marker\": {\"sizeref\": 200000, \"sizemode\": \"area\", \"size\": []}, \"name\": \"Peru\", \"x\": []}, {\"text\": [], \"y\": [], \"mode\": \"marker\", \"marker\": {\"sizeref\": 200000, \"sizemode\": \"area\", \"size\": []}, \"name\": \"China\", \"x\": []}, {\"text\": [], \"y\": [], \"mode\": \"marker\", \"marker\": {\"sizeref\": 200000, \"sizemode\": \"area\", \"size\": []}, \"name\": \"Spain\", \"x\": []}, {\"text\": [], \"y\": [], \"mode\": \"marker\", \"marker\": {\"sizeref\": 200000, \"sizemode\": \"area\", \"size\": []}, \"name\": \"Canada\", \"x\": []}, {\"text\": [], \"y\": [], \"mode\": \"marker\", \"marker\": {\"sizeref\": 200000, \"sizemode\": \"area\", \"size\": []}, \"name\": \"Tanzania\", \"x\": []}, {\"text\": [], \"y\": [], \"mode\": \"marker\", \"marker\": {\"sizeref\": 200000, \"sizemode\": \"area\", \"size\": []}, \"name\": \"St. Vincent & the Grenadines\", \"x\": []}, {\"text\": [], \"y\": [], \"mode\": \"marker\", \"marker\": {\"sizeref\": 200000, \"sizemode\": \"area\", \"size\": []}, \"name\": \"Chile\", \"x\": []}, {\"text\": [\"Turkey\"], \"y\": [39.7], \"mode\": \"marker\", \"marker\": {\"sizeref\": 200000, \"sizemode\": \"area\", \"size\": [3.0]}, \"name\": \"Turkey\", \"x\": [44.28]}, {\"text\": [], \"y\": [], \"mode\": \"marker\", \"marker\": {\"sizeref\": 200000, \"sizemode\": \"area\", \"size\": []}, \"name\": \"St. Kitts & Nevis\", \"x\": []}, {\"text\": [], \"y\": [], \"mode\": \"marker\", \"marker\": {\"sizeref\": 200000, \"sizemode\": \"area\", \"size\": []}, \"name\": \"Guadeloupe\", \"x\": []}, {\"text\": [], \"y\": [], \"mode\": \"marker\", \"marker\": {\"sizeref\": 200000, \"sizemode\": \"area\", \"size\": []}, \"name\": \"Cape Verde\", \"x\": []}, {\"text\": [], \"y\": [], \"mode\": \"marker\", \"marker\": {\"sizeref\": 200000, \"sizemode\": \"area\", \"size\": []}, \"name\": \"Tonga\", \"x\": []}, {\"text\": [], \"y\": [], \"mode\": \"marker\", \"marker\": {\"sizeref\": 200000, \"sizemode\": \"area\", \"size\": []}, \"name\": \"Taiwan\", \"x\": []}, {\"text\": [], \"y\": [], \"mode\": \"marker\", \"marker\": {\"sizeref\": 200000, \"sizemode\": \"area\", \"size\": []}, \"name\": \"Eritrea\", \"x\": []}, {\"text\": [], \"y\": [], \"mode\": \"marker\", \"marker\": {\"sizeref\": 200000, \"sizemode\": \"area\", \"size\": []}, \"name\": \"Comoros\", \"x\": []}, {\"text\": [], \"y\": [], \"mode\": \"marker\", \"marker\": {\"sizeref\": 200000, \"sizemode\": \"area\", \"size\": []}, \"name\": \"Martinique\", \"x\": []}, {\"text\": [], \"y\": [], \"mode\": \"marker\", \"marker\": {\"sizeref\": 200000, \"sizemode\": \"area\", \"size\": []}, \"name\": \"Samoa\", \"x\": []}, {\"text\": [], \"y\": [], \"mode\": \"marker\", \"marker\": {\"sizeref\": 200000, \"sizemode\": \"area\", \"size\": []}, \"name\": \"Cameroon\", \"x\": []}, {\"text\": [], \"y\": [], \"mode\": \"marker\", \"marker\": {\"sizeref\": 200000, \"sizemode\": \"area\", \"size\": []}, \"name\": \"Trinidad \", \"x\": []}, {\"text\": [], \"y\": [], \"mode\": \"marker\", \"marker\": {\"sizeref\": 200000, \"sizemode\": \"area\", \"size\": []}, \"name\": \"Congo, DRC\", \"x\": []}, {\"text\": [], \"y\": [], \"mode\": \"marker\", \"marker\": {\"sizeref\": 200000, \"sizemode\": \"area\", \"size\": []}, \"name\": \"Costa Rica\", \"x\": []}, {\"text\": [], \"y\": [], \"mode\": \"marker\", \"marker\": {\"sizeref\": 200000, \"sizemode\": \"area\", \"size\": []}, \"name\": \"Antarctica\", \"x\": []}, {\"text\": [], \"y\": [], \"mode\": \"marker\", \"marker\": {\"sizeref\": 200000, \"sizemode\": \"area\", \"size\": []}, \"name\": \"Reunion\", \"x\": []}, {\"text\": [], \"y\": [], \"mode\": \"marker\", \"marker\": {\"sizeref\": 200000, \"sizemode\": \"area\", \"size\": []}, \"name\": \"Montserrat\", \"x\": []}], \"name\": \"1840\"}, {\"data\": [{\"text\": [], \"y\": [], \"mode\": \"marker\", \"marker\": {\"sizeref\": 200000, \"sizemode\": \"area\", \"size\": []}, \"name\": null, \"x\": []}, {\"text\": [], \"y\": [], \"mode\": \"marker\", \"marker\": {\"sizeref\": 200000, \"sizemode\": \"area\", \"size\": []}, \"name\": \"New Zealand\", \"x\": []}, {\"text\": [], \"y\": [], \"mode\": \"marker\", \"marker\": {\"sizeref\": 200000, \"sizemode\": \"area\", \"size\": []}, \"name\": \"Japan\", \"x\": []}, {\"text\": [], \"y\": [], \"mode\": \"marker\", \"marker\": {\"sizeref\": 200000, \"sizemode\": \"area\", \"size\": []}, \"name\": \"Nicaragua\", \"x\": []}, {\"text\": [], \"y\": [], \"mode\": \"marker\", \"marker\": {\"sizeref\": 200000, \"sizemode\": \"area\", \"size\": []}, \"name\": \"Papua New Guinea\", \"x\": []}, {\"text\": [], \"y\": [], \"mode\": \"marker\", \"marker\": {\"sizeref\": 200000, \"sizemode\": \"area\", \"size\": []}, \"name\": \"Philippines\", \"x\": []}, {\"text\": [], \"y\": [], \"mode\": \"marker\", \"marker\": {\"sizeref\": 200000, \"sizemode\": \"area\", \"size\": []}, \"name\": \"Italy\", \"x\": []}, {\"text\": [], \"y\": [], \"mode\": \"marker\", \"marker\": {\"sizeref\": 200000, \"sizemode\": \"area\", \"size\": []}, \"name\": \"United States\", \"x\": []}, {\"text\": [], \"y\": [], \"mode\": \"marker\", \"marker\": {\"sizeref\": 200000, \"sizemode\": \"area\", \"size\": []}, \"name\": \"Greece\", \"x\": []}, {\"text\": [], \"y\": [], \"mode\": \"marker\", \"marker\": {\"sizeref\": 200000, \"sizemode\": \"area\", \"size\": []}, \"name\": \"Ecuador\", \"x\": []}, {\"text\": [], \"y\": [], \"mode\": \"marker\", \"marker\": {\"sizeref\": 200000, \"sizemode\": \"area\", \"size\": []}, \"name\": \"Vanuatu\", \"x\": []}, {\"text\": [], \"y\": [], \"mode\": \"marker\", \"marker\": {\"sizeref\": 200000, \"sizemode\": \"area\", \"size\": []}, \"name\": \"Yemen\", \"x\": []}, {\"text\": [], \"y\": [], \"mode\": \"marker\", \"marker\": {\"sizeref\": 200000, \"sizemode\": \"area\", \"size\": []}, \"name\": \"Russia\", \"x\": []}, {\"text\": [\"Indonesia\"], \"y\": [-8.107999999999999], \"mode\": \"marker\", \"marker\": {\"sizeref\": 200000, \"sizemode\": \"area\", \"size\": [2.0]}, \"name\": \"Indonesia\", \"x\": [112.92]}, {\"text\": [], \"y\": [], \"mode\": \"marker\", \"marker\": {\"sizeref\": 200000, \"sizemode\": \"area\", \"size\": []}, \"name\": \"El Salvador\", \"x\": []}, {\"text\": [], \"y\": [], \"mode\": \"marker\", \"marker\": {\"sizeref\": 200000, \"sizemode\": \"area\", \"size\": []}, \"name\": \"Saudi Arabia\", \"x\": []}, {\"text\": [\"Iceland\"], \"y\": [64.42], \"mode\": \"marker\", \"marker\": {\"sizeref\": 200000, \"sizemode\": \"area\", \"size\": [null]}, \"name\": \"Iceland\", \"x\": [-17.33]}, {\"text\": [], \"y\": [], \"mode\": \"marker\", \"marker\": {\"sizeref\": 200000, \"sizemode\": \"area\", \"size\": []}, \"name\": \"Mexico\", \"x\": []}, {\"text\": [], \"y\": [], \"mode\": \"marker\", \"marker\": {\"sizeref\": 200000, \"sizemode\": \"area\", \"size\": []}, \"name\": \"North Korea\", \"x\": []}, {\"text\": [], \"y\": [], \"mode\": \"marker\", \"marker\": {\"sizeref\": 200000, \"sizemode\": \"area\", \"size\": []}, \"name\": \"Ethiopia\", \"x\": []}, {\"text\": [\"Guatemala\"], \"y\": [14.472999999999999], \"mode\": \"marker\", \"marker\": {\"sizeref\": 200000, \"sizemode\": \"area\", \"size\": [2.0]}, \"name\": \"Guatemala\", \"x\": [-90.88]}, {\"text\": [], \"y\": [], \"mode\": \"marker\", \"marker\": {\"sizeref\": 200000, \"sizemode\": \"area\", \"size\": []}, \"name\": \"Solomon Is.\", \"x\": []}, {\"text\": [], \"y\": [], \"mode\": \"marker\", \"marker\": {\"sizeref\": 200000, \"sizemode\": \"area\", \"size\": []}, \"name\": \"Portugal\", \"x\": []}, {\"text\": [], \"y\": [], \"mode\": \"marker\", \"marker\": {\"sizeref\": 200000, \"sizemode\": \"area\", \"size\": []}, \"name\": \"Colombia\", \"x\": []}, {\"text\": [], \"y\": [], \"mode\": \"marker\", \"marker\": {\"sizeref\": 200000, \"sizemode\": \"area\", \"size\": []}, \"name\": \"Pacific Ocean\", \"x\": []}, {\"text\": [], \"y\": [], \"mode\": \"marker\", \"marker\": {\"sizeref\": 200000, \"sizemode\": \"area\", \"size\": []}, \"name\": \"Peru\", \"x\": []}, {\"text\": [], \"y\": [], \"mode\": \"marker\", \"marker\": {\"sizeref\": 200000, \"sizemode\": \"area\", \"size\": []}, \"name\": \"China\", \"x\": []}, {\"text\": [], \"y\": [], \"mode\": \"marker\", \"marker\": {\"sizeref\": 200000, \"sizemode\": \"area\", \"size\": []}, \"name\": \"Spain\", \"x\": []}, {\"text\": [], \"y\": [], \"mode\": \"marker\", \"marker\": {\"sizeref\": 200000, \"sizemode\": \"area\", \"size\": []}, \"name\": \"Canada\", \"x\": []}, {\"text\": [], \"y\": [], \"mode\": \"marker\", \"marker\": {\"sizeref\": 200000, \"sizemode\": \"area\", \"size\": []}, \"name\": \"Tanzania\", \"x\": []}, {\"text\": [], \"y\": [], \"mode\": \"marker\", \"marker\": {\"sizeref\": 200000, \"sizemode\": \"area\", \"size\": []}, \"name\": \"St. Vincent & the Grenadines\", \"x\": []}, {\"text\": [], \"y\": [], \"mode\": \"marker\", \"marker\": {\"sizeref\": 200000, \"sizemode\": \"area\", \"size\": []}, \"name\": \"Chile\", \"x\": []}, {\"text\": [], \"y\": [], \"mode\": \"marker\", \"marker\": {\"sizeref\": 200000, \"sizemode\": \"area\", \"size\": []}, \"name\": \"Turkey\", \"x\": []}, {\"text\": [], \"y\": [], \"mode\": \"marker\", \"marker\": {\"sizeref\": 200000, \"sizemode\": \"area\", \"size\": []}, \"name\": \"St. Kitts & Nevis\", \"x\": []}, {\"text\": [], \"y\": [], \"mode\": \"marker\", \"marker\": {\"sizeref\": 200000, \"sizemode\": \"area\", \"size\": []}, \"name\": \"Guadeloupe\", \"x\": []}, {\"text\": [], \"y\": [], \"mode\": \"marker\", \"marker\": {\"sizeref\": 200000, \"sizemode\": \"area\", \"size\": []}, \"name\": \"Cape Verde\", \"x\": []}, {\"text\": [], \"y\": [], \"mode\": \"marker\", \"marker\": {\"sizeref\": 200000, \"sizemode\": \"area\", \"size\": []}, \"name\": \"Tonga\", \"x\": []}, {\"text\": [], \"y\": [], \"mode\": \"marker\", \"marker\": {\"sizeref\": 200000, \"sizemode\": \"area\", \"size\": []}, \"name\": \"Taiwan\", \"x\": []}, {\"text\": [], \"y\": [], \"mode\": \"marker\", \"marker\": {\"sizeref\": 200000, \"sizemode\": \"area\", \"size\": []}, \"name\": \"Eritrea\", \"x\": []}, {\"text\": [], \"y\": [], \"mode\": \"marker\", \"marker\": {\"sizeref\": 200000, \"sizemode\": \"area\", \"size\": []}, \"name\": \"Comoros\", \"x\": []}, {\"text\": [], \"y\": [], \"mode\": \"marker\", \"marker\": {\"sizeref\": 200000, \"sizemode\": \"area\", \"size\": []}, \"name\": \"Martinique\", \"x\": []}, {\"text\": [], \"y\": [], \"mode\": \"marker\", \"marker\": {\"sizeref\": 200000, \"sizemode\": \"area\", \"size\": []}, \"name\": \"Samoa\", \"x\": []}, {\"text\": [], \"y\": [], \"mode\": \"marker\", \"marker\": {\"sizeref\": 200000, \"sizemode\": \"area\", \"size\": []}, \"name\": \"Cameroon\", \"x\": []}, {\"text\": [], \"y\": [], \"mode\": \"marker\", \"marker\": {\"sizeref\": 200000, \"sizemode\": \"area\", \"size\": []}, \"name\": \"Trinidad \", \"x\": []}, {\"text\": [], \"y\": [], \"mode\": \"marker\", \"marker\": {\"sizeref\": 200000, \"sizemode\": \"area\", \"size\": []}, \"name\": \"Congo, DRC\", \"x\": []}, {\"text\": [], \"y\": [], \"mode\": \"marker\", \"marker\": {\"sizeref\": 200000, \"sizemode\": \"area\", \"size\": []}, \"name\": \"Costa Rica\", \"x\": []}, {\"text\": [], \"y\": [], \"mode\": \"marker\", \"marker\": {\"sizeref\": 200000, \"sizemode\": \"area\", \"size\": []}, \"name\": \"Antarctica\", \"x\": []}, {\"text\": [], \"y\": [], \"mode\": \"marker\", \"marker\": {\"sizeref\": 200000, \"sizemode\": \"area\", \"size\": []}, \"name\": \"Reunion\", \"x\": []}, {\"text\": [], \"y\": [], \"mode\": \"marker\", \"marker\": {\"sizeref\": 200000, \"sizemode\": \"area\", \"size\": []}, \"name\": \"Montserrat\", \"x\": []}], \"name\": \"1860\"}, {\"data\": [{\"text\": [], \"y\": [], \"mode\": \"marker\", \"marker\": {\"sizeref\": 200000, \"sizemode\": \"area\", \"size\": []}, \"name\": null, \"x\": []}, {\"text\": [], \"y\": [], \"mode\": \"marker\", \"marker\": {\"sizeref\": 200000, \"sizemode\": \"area\", \"size\": []}, \"name\": \"New Zealand\", \"x\": []}, {\"text\": [], \"y\": [], \"mode\": \"marker\", \"marker\": {\"sizeref\": 200000, \"sizemode\": \"area\", \"size\": []}, \"name\": \"Japan\", \"x\": []}, {\"text\": [], \"y\": [], \"mode\": \"marker\", \"marker\": {\"sizeref\": 200000, \"sizemode\": \"area\", \"size\": []}, \"name\": \"Nicaragua\", \"x\": []}, {\"text\": [], \"y\": [], \"mode\": \"marker\", \"marker\": {\"sizeref\": 200000, \"sizemode\": \"area\", \"size\": []}, \"name\": \"Papua New Guinea\", \"x\": []}, {\"text\": [], \"y\": [], \"mode\": \"marker\", \"marker\": {\"sizeref\": 200000, \"sizemode\": \"area\", \"size\": []}, \"name\": \"Philippines\", \"x\": []}, {\"text\": [], \"y\": [], \"mode\": \"marker\", \"marker\": {\"sizeref\": 200000, \"sizemode\": \"area\", \"size\": []}, \"name\": \"Italy\", \"x\": []}, {\"text\": [], \"y\": [], \"mode\": \"marker\", \"marker\": {\"sizeref\": 200000, \"sizemode\": \"area\", \"size\": []}, \"name\": \"United States\", \"x\": []}, {\"text\": [], \"y\": [], \"mode\": \"marker\", \"marker\": {\"sizeref\": 200000, \"sizemode\": \"area\", \"size\": []}, \"name\": \"Greece\", \"x\": []}, {\"text\": [], \"y\": [], \"mode\": \"marker\", \"marker\": {\"sizeref\": 200000, \"sizemode\": \"area\", \"size\": []}, \"name\": \"Ecuador\", \"x\": []}, {\"text\": [], \"y\": [], \"mode\": \"marker\", \"marker\": {\"sizeref\": 200000, \"sizemode\": \"area\", \"size\": []}, \"name\": \"Vanuatu\", \"x\": []}, {\"text\": [], \"y\": [], \"mode\": \"marker\", \"marker\": {\"sizeref\": 200000, \"sizemode\": \"area\", \"size\": []}, \"name\": \"Yemen\", \"x\": []}, {\"text\": [], \"y\": [], \"mode\": \"marker\", \"marker\": {\"sizeref\": 200000, \"sizemode\": \"area\", \"size\": []}, \"name\": \"Russia\", \"x\": []}, {\"text\": [], \"y\": [], \"mode\": \"marker\", \"marker\": {\"sizeref\": 200000, \"sizemode\": \"area\", \"size\": []}, \"name\": \"Indonesia\", \"x\": []}, {\"text\": [], \"y\": [], \"mode\": \"marker\", \"marker\": {\"sizeref\": 200000, \"sizemode\": \"area\", \"size\": []}, \"name\": \"El Salvador\", \"x\": []}, {\"text\": [], \"y\": [], \"mode\": \"marker\", \"marker\": {\"sizeref\": 200000, \"sizemode\": \"area\", \"size\": []}, \"name\": \"Saudi Arabia\", \"x\": []}, {\"text\": [], \"y\": [], \"mode\": \"marker\", \"marker\": {\"sizeref\": 200000, \"sizemode\": \"area\", \"size\": []}, \"name\": \"Iceland\", \"x\": []}, {\"text\": [], \"y\": [], \"mode\": \"marker\", \"marker\": {\"sizeref\": 200000, \"sizemode\": \"area\", \"size\": []}, \"name\": \"Mexico\", \"x\": []}, {\"text\": [], \"y\": [], \"mode\": \"marker\", \"marker\": {\"sizeref\": 200000, \"sizemode\": \"area\", \"size\": []}, \"name\": \"North Korea\", \"x\": []}, {\"text\": [], \"y\": [], \"mode\": \"marker\", \"marker\": {\"sizeref\": 200000, \"sizemode\": \"area\", \"size\": []}, \"name\": \"Ethiopia\", \"x\": []}, {\"text\": [], \"y\": [], \"mode\": \"marker\", \"marker\": {\"sizeref\": 200000, \"sizemode\": \"area\", \"size\": []}, \"name\": \"Guatemala\", \"x\": []}, {\"text\": [], \"y\": [], \"mode\": \"marker\", \"marker\": {\"sizeref\": 200000, \"sizemode\": \"area\", \"size\": []}, \"name\": \"Solomon Is.\", \"x\": []}, {\"text\": [], \"y\": [], \"mode\": \"marker\", \"marker\": {\"sizeref\": 200000, \"sizemode\": \"area\", \"size\": []}, \"name\": \"Portugal\", \"x\": []}, {\"text\": [], \"y\": [], \"mode\": \"marker\", \"marker\": {\"sizeref\": 200000, \"sizemode\": \"area\", \"size\": []}, \"name\": \"Colombia\", \"x\": []}, {\"text\": [], \"y\": [], \"mode\": \"marker\", \"marker\": {\"sizeref\": 200000, \"sizemode\": \"area\", \"size\": []}, \"name\": \"Pacific Ocean\", \"x\": []}, {\"text\": [], \"y\": [], \"mode\": \"marker\", \"marker\": {\"sizeref\": 200000, \"sizemode\": \"area\", \"size\": []}, \"name\": \"Peru\", \"x\": []}, {\"text\": [], \"y\": [], \"mode\": \"marker\", \"marker\": {\"sizeref\": 200000, \"sizemode\": \"area\", \"size\": []}, \"name\": \"China\", \"x\": []}, {\"text\": [], \"y\": [], \"mode\": \"marker\", \"marker\": {\"sizeref\": 200000, \"sizemode\": \"area\", \"size\": []}, \"name\": \"Spain\", \"x\": []}, {\"text\": [], \"y\": [], \"mode\": \"marker\", \"marker\": {\"sizeref\": 200000, \"sizemode\": \"area\", \"size\": []}, \"name\": \"Canada\", \"x\": []}, {\"text\": [], \"y\": [], \"mode\": \"marker\", \"marker\": {\"sizeref\": 200000, \"sizemode\": \"area\", \"size\": []}, \"name\": \"Tanzania\", \"x\": []}, {\"text\": [], \"y\": [], \"mode\": \"marker\", \"marker\": {\"sizeref\": 200000, \"sizemode\": \"area\", \"size\": []}, \"name\": \"St. Vincent & the Grenadines\", \"x\": []}, {\"text\": [], \"y\": [], \"mode\": \"marker\", \"marker\": {\"sizeref\": 200000, \"sizemode\": \"area\", \"size\": []}, \"name\": \"Chile\", \"x\": []}, {\"text\": [], \"y\": [], \"mode\": \"marker\", \"marker\": {\"sizeref\": 200000, \"sizemode\": \"area\", \"size\": []}, \"name\": \"Turkey\", \"x\": []}, {\"text\": [], \"y\": [], \"mode\": \"marker\", \"marker\": {\"sizeref\": 200000, \"sizemode\": \"area\", \"size\": []}, \"name\": \"St. Kitts & Nevis\", \"x\": []}, {\"text\": [], \"y\": [], \"mode\": \"marker\", \"marker\": {\"sizeref\": 200000, \"sizemode\": \"area\", \"size\": []}, \"name\": \"Guadeloupe\", \"x\": []}, {\"text\": [], \"y\": [], \"mode\": \"marker\", \"marker\": {\"sizeref\": 200000, \"sizemode\": \"area\", \"size\": []}, \"name\": \"Cape Verde\", \"x\": []}, {\"text\": [], \"y\": [], \"mode\": \"marker\", \"marker\": {\"sizeref\": 200000, \"sizemode\": \"area\", \"size\": []}, \"name\": \"Tonga\", \"x\": []}, {\"text\": [], \"y\": [], \"mode\": \"marker\", \"marker\": {\"sizeref\": 200000, \"sizemode\": \"area\", \"size\": []}, \"name\": \"Taiwan\", \"x\": []}, {\"text\": [], \"y\": [], \"mode\": \"marker\", \"marker\": {\"sizeref\": 200000, \"sizemode\": \"area\", \"size\": []}, \"name\": \"Eritrea\", \"x\": []}, {\"text\": [], \"y\": [], \"mode\": \"marker\", \"marker\": {\"sizeref\": 200000, \"sizemode\": \"area\", \"size\": []}, \"name\": \"Comoros\", \"x\": []}, {\"text\": [], \"y\": [], \"mode\": \"marker\", \"marker\": {\"sizeref\": 200000, \"sizemode\": \"area\", \"size\": []}, \"name\": \"Martinique\", \"x\": []}, {\"text\": [], \"y\": [], \"mode\": \"marker\", \"marker\": {\"sizeref\": 200000, \"sizemode\": \"area\", \"size\": []}, \"name\": \"Samoa\", \"x\": []}, {\"text\": [], \"y\": [], \"mode\": \"marker\", \"marker\": {\"sizeref\": 200000, \"sizemode\": \"area\", \"size\": []}, \"name\": \"Cameroon\", \"x\": []}, {\"text\": [], \"y\": [], \"mode\": \"marker\", \"marker\": {\"sizeref\": 200000, \"sizemode\": \"area\", \"size\": []}, \"name\": \"Trinidad \", \"x\": []}, {\"text\": [], \"y\": [], \"mode\": \"marker\", \"marker\": {\"sizeref\": 200000, \"sizemode\": \"area\", \"size\": []}, \"name\": \"Congo, DRC\", \"x\": []}, {\"text\": [], \"y\": [], \"mode\": \"marker\", \"marker\": {\"sizeref\": 200000, \"sizemode\": \"area\", \"size\": []}, \"name\": \"Costa Rica\", \"x\": []}, {\"text\": [], \"y\": [], \"mode\": \"marker\", \"marker\": {\"sizeref\": 200000, \"sizemode\": \"area\", \"size\": []}, \"name\": \"Antarctica\", \"x\": []}, {\"text\": [], \"y\": [], \"mode\": \"marker\", \"marker\": {\"sizeref\": 200000, \"sizemode\": \"area\", \"size\": []}, \"name\": \"Reunion\", \"x\": []}, {\"text\": [], \"y\": [], \"mode\": \"marker\", \"marker\": {\"sizeref\": 200000, \"sizemode\": \"area\", \"size\": []}, \"name\": \"Montserrat\", \"x\": []}], \"name\": \"1880\"}, {\"data\": [{\"text\": [], \"y\": [], \"mode\": \"marker\", \"marker\": {\"sizeref\": 200000, \"sizemode\": \"area\", \"size\": []}, \"name\": null, \"x\": []}, {\"text\": [], \"y\": [], \"mode\": \"marker\", \"marker\": {\"sizeref\": 200000, \"sizemode\": \"area\", \"size\": []}, \"name\": \"New Zealand\", \"x\": []}, {\"text\": [\"Japan\", \"Japan\", \"Japan\"], \"y\": [36.4, 31.93, 37.62], \"mode\": \"marker\", \"marker\": {\"sizeref\": 200000, \"sizemode\": \"area\", \"size\": [2.0, 2.0, 2.0]}, \"name\": \"Japan\", \"x\": [138.53, 130.87, 140.28]}, {\"text\": [], \"y\": [], \"mode\": \"marker\", \"marker\": {\"sizeref\": 200000, \"sizemode\": \"area\", \"size\": []}, \"name\": \"Nicaragua\", \"x\": []}, {\"text\": [], \"y\": [], \"mode\": \"marker\", \"marker\": {\"sizeref\": 200000, \"sizemode\": \"area\", \"size\": []}, \"name\": \"Papua New Guinea\", \"x\": []}, {\"text\": [], \"y\": [], \"mode\": \"marker\", \"marker\": {\"sizeref\": 200000, \"sizemode\": \"area\", \"size\": []}, \"name\": \"Philippines\", \"x\": []}, {\"text\": [], \"y\": [], \"mode\": \"marker\", \"marker\": {\"sizeref\": 200000, \"sizemode\": \"area\", \"size\": []}, \"name\": \"Italy\", \"x\": []}, {\"text\": [], \"y\": [], \"mode\": \"marker\", \"marker\": {\"sizeref\": 200000, \"sizemode\": \"area\", \"size\": []}, \"name\": \"United States\", \"x\": []}, {\"text\": [], \"y\": [], \"mode\": \"marker\", \"marker\": {\"sizeref\": 200000, \"sizemode\": \"area\", \"size\": []}, \"name\": \"Greece\", \"x\": []}, {\"text\": [], \"y\": [], \"mode\": \"marker\", \"marker\": {\"sizeref\": 200000, \"sizemode\": \"area\", \"size\": []}, \"name\": \"Ecuador\", \"x\": []}, {\"text\": [], \"y\": [], \"mode\": \"marker\", \"marker\": {\"sizeref\": 200000, \"sizemode\": \"area\", \"size\": []}, \"name\": \"Vanuatu\", \"x\": []}, {\"text\": [], \"y\": [], \"mode\": \"marker\", \"marker\": {\"sizeref\": 200000, \"sizemode\": \"area\", \"size\": []}, \"name\": \"Yemen\", \"x\": []}, {\"text\": [], \"y\": [], \"mode\": \"marker\", \"marker\": {\"sizeref\": 200000, \"sizemode\": \"area\", \"size\": []}, \"name\": \"Russia\", \"x\": []}, {\"text\": [], \"y\": [], \"mode\": \"marker\", \"marker\": {\"sizeref\": 200000, \"sizemode\": \"area\", \"size\": []}, \"name\": \"Indonesia\", \"x\": []}, {\"text\": [], \"y\": [], \"mode\": \"marker\", \"marker\": {\"sizeref\": 200000, \"sizemode\": \"area\", \"size\": []}, \"name\": \"El Salvador\", \"x\": []}, {\"text\": [], \"y\": [], \"mode\": \"marker\", \"marker\": {\"sizeref\": 200000, \"sizemode\": \"area\", \"size\": []}, \"name\": \"Saudi Arabia\", \"x\": []}, {\"text\": [], \"y\": [], \"mode\": \"marker\", \"marker\": {\"sizeref\": 200000, \"sizemode\": \"area\", \"size\": []}, \"name\": \"Iceland\", \"x\": []}, {\"text\": [], \"y\": [], \"mode\": \"marker\", \"marker\": {\"sizeref\": 200000, \"sizemode\": \"area\", \"size\": []}, \"name\": \"Mexico\", \"x\": []}, {\"text\": [], \"y\": [], \"mode\": \"marker\", \"marker\": {\"sizeref\": 200000, \"sizemode\": \"area\", \"size\": []}, \"name\": \"North Korea\", \"x\": []}, {\"text\": [\"Ethiopia\"], \"y\": [8.158], \"mode\": \"marker\", \"marker\": {\"sizeref\": 200000, \"sizemode\": \"area\", \"size\": [null]}, \"name\": \"Ethiopia\", \"x\": [39.13]}, {\"text\": [], \"y\": [], \"mode\": \"marker\", \"marker\": {\"sizeref\": 200000, \"sizemode\": \"area\", \"size\": []}, \"name\": \"Guatemala\", \"x\": []}, {\"text\": [], \"y\": [], \"mode\": \"marker\", \"marker\": {\"sizeref\": 200000, \"sizemode\": \"area\", \"size\": []}, \"name\": \"Solomon Is.\", \"x\": []}, {\"text\": [], \"y\": [], \"mode\": \"marker\", \"marker\": {\"sizeref\": 200000, \"sizemode\": \"area\", \"size\": []}, \"name\": \"Portugal\", \"x\": []}, {\"text\": [], \"y\": [], \"mode\": \"marker\", \"marker\": {\"sizeref\": 200000, \"sizemode\": \"area\", \"size\": []}, \"name\": \"Colombia\", \"x\": []}, {\"text\": [], \"y\": [], \"mode\": \"marker\", \"marker\": {\"sizeref\": 200000, \"sizemode\": \"area\", \"size\": []}, \"name\": \"Pacific Ocean\", \"x\": []}, {\"text\": [], \"y\": [], \"mode\": \"marker\", \"marker\": {\"sizeref\": 200000, \"sizemode\": \"area\", \"size\": []}, \"name\": \"Peru\", \"x\": []}, {\"text\": [], \"y\": [], \"mode\": \"marker\", \"marker\": {\"sizeref\": 200000, \"sizemode\": \"area\", \"size\": []}, \"name\": \"China\", \"x\": []}, {\"text\": [], \"y\": [], \"mode\": \"marker\", \"marker\": {\"sizeref\": 200000, \"sizemode\": \"area\", \"size\": []}, \"name\": \"Spain\", \"x\": []}, {\"text\": [], \"y\": [], \"mode\": \"marker\", \"marker\": {\"sizeref\": 200000, \"sizemode\": \"area\", \"size\": []}, \"name\": \"Canada\", \"x\": []}, {\"text\": [], \"y\": [], \"mode\": \"marker\", \"marker\": {\"sizeref\": 200000, \"sizemode\": \"area\", \"size\": []}, \"name\": \"Tanzania\", \"x\": []}, {\"text\": [], \"y\": [], \"mode\": \"marker\", \"marker\": {\"sizeref\": 200000, \"sizemode\": \"area\", \"size\": []}, \"name\": \"St. Vincent & the Grenadines\", \"x\": []}, {\"text\": [], \"y\": [], \"mode\": \"marker\", \"marker\": {\"sizeref\": 200000, \"sizemode\": \"area\", \"size\": []}, \"name\": \"Chile\", \"x\": []}, {\"text\": [], \"y\": [], \"mode\": \"marker\", \"marker\": {\"sizeref\": 200000, \"sizemode\": \"area\", \"size\": []}, \"name\": \"Turkey\", \"x\": []}, {\"text\": [], \"y\": [], \"mode\": \"marker\", \"marker\": {\"sizeref\": 200000, \"sizemode\": \"area\", \"size\": []}, \"name\": \"St. Kitts & Nevis\", \"x\": []}, {\"text\": [], \"y\": [], \"mode\": \"marker\", \"marker\": {\"sizeref\": 200000, \"sizemode\": \"area\", \"size\": []}, \"name\": \"Guadeloupe\", \"x\": []}, {\"text\": [], \"y\": [], \"mode\": \"marker\", \"marker\": {\"sizeref\": 200000, \"sizemode\": \"area\", \"size\": []}, \"name\": \"Cape Verde\", \"x\": []}, {\"text\": [], \"y\": [], \"mode\": \"marker\", \"marker\": {\"sizeref\": 200000, \"sizemode\": \"area\", \"size\": []}, \"name\": \"Tonga\", \"x\": []}, {\"text\": [], \"y\": [], \"mode\": \"marker\", \"marker\": {\"sizeref\": 200000, \"sizemode\": \"area\", \"size\": []}, \"name\": \"Taiwan\", \"x\": []}, {\"text\": [], \"y\": [], \"mode\": \"marker\", \"marker\": {\"sizeref\": 200000, \"sizemode\": \"area\", \"size\": []}, \"name\": \"Eritrea\", \"x\": []}, {\"text\": [], \"y\": [], \"mode\": \"marker\", \"marker\": {\"sizeref\": 200000, \"sizemode\": \"area\", \"size\": []}, \"name\": \"Comoros\", \"x\": []}, {\"text\": [], \"y\": [], \"mode\": \"marker\", \"marker\": {\"sizeref\": 200000, \"sizemode\": \"area\", \"size\": []}, \"name\": \"Martinique\", \"x\": []}, {\"text\": [], \"y\": [], \"mode\": \"marker\", \"marker\": {\"sizeref\": 200000, \"sizemode\": \"area\", \"size\": []}, \"name\": \"Samoa\", \"x\": []}, {\"text\": [], \"y\": [], \"mode\": \"marker\", \"marker\": {\"sizeref\": 200000, \"sizemode\": \"area\", \"size\": []}, \"name\": \"Cameroon\", \"x\": []}, {\"text\": [], \"y\": [], \"mode\": \"marker\", \"marker\": {\"sizeref\": 200000, \"sizemode\": \"area\", \"size\": []}, \"name\": \"Trinidad \", \"x\": []}, {\"text\": [], \"y\": [], \"mode\": \"marker\", \"marker\": {\"sizeref\": 200000, \"sizemode\": \"area\", \"size\": []}, \"name\": \"Congo, DRC\", \"x\": []}, {\"text\": [], \"y\": [], \"mode\": \"marker\", \"marker\": {\"sizeref\": 200000, \"sizemode\": \"area\", \"size\": []}, \"name\": \"Costa Rica\", \"x\": []}, {\"text\": [], \"y\": [], \"mode\": \"marker\", \"marker\": {\"sizeref\": 200000, \"sizemode\": \"area\", \"size\": []}, \"name\": \"Antarctica\", \"x\": []}, {\"text\": [], \"y\": [], \"mode\": \"marker\", \"marker\": {\"sizeref\": 200000, \"sizemode\": \"area\", \"size\": []}, \"name\": \"Reunion\", \"x\": []}, {\"text\": [], \"y\": [], \"mode\": \"marker\", \"marker\": {\"sizeref\": 200000, \"sizemode\": \"area\", \"size\": []}, \"name\": \"Montserrat\", \"x\": []}], \"name\": \"1900\"}, {\"data\": [{\"text\": [], \"y\": [], \"mode\": \"marker\", \"marker\": {\"sizeref\": 200000, \"sizemode\": \"area\", \"size\": []}, \"name\": null, \"x\": []}, {\"text\": [\"New Zealand\"], \"y\": [-38.82], \"mode\": \"marker\", \"marker\": {\"sizeref\": 200000, \"sizemode\": \"area\", \"size\": [null]}, \"name\": \"New Zealand\", \"x\": [176.0]}, {\"text\": [\"Japan\"], \"y\": [42.53], \"mode\": \"marker\", \"marker\": {\"sizeref\": 200000, \"sizemode\": \"area\", \"size\": [2.0]}, \"name\": \"Japan\", \"x\": [140.83]}, {\"text\": [], \"y\": [], \"mode\": \"marker\", \"marker\": {\"sizeref\": 200000, \"sizemode\": \"area\", \"size\": []}, \"name\": \"Nicaragua\", \"x\": []}, {\"text\": [], \"y\": [], \"mode\": \"marker\", \"marker\": {\"sizeref\": 200000, \"sizemode\": \"area\", \"size\": []}, \"name\": \"Papua New Guinea\", \"x\": []}, {\"text\": [], \"y\": [], \"mode\": \"marker\", \"marker\": {\"sizeref\": 200000, \"sizemode\": \"area\", \"size\": []}, \"name\": \"Philippines\", \"x\": []}, {\"text\": [], \"y\": [], \"mode\": \"marker\", \"marker\": {\"sizeref\": 200000, \"sizemode\": \"area\", \"size\": []}, \"name\": \"Italy\", \"x\": []}, {\"text\": [], \"y\": [], \"mode\": \"marker\", \"marker\": {\"sizeref\": 200000, \"sizemode\": \"area\", \"size\": []}, \"name\": \"United States\", \"x\": []}, {\"text\": [], \"y\": [], \"mode\": \"marker\", \"marker\": {\"sizeref\": 200000, \"sizemode\": \"area\", \"size\": []}, \"name\": \"Greece\", \"x\": []}, {\"text\": [], \"y\": [], \"mode\": \"marker\", \"marker\": {\"sizeref\": 200000, \"sizemode\": \"area\", \"size\": []}, \"name\": \"Ecuador\", \"x\": []}, {\"text\": [], \"y\": [], \"mode\": \"marker\", \"marker\": {\"sizeref\": 200000, \"sizemode\": \"area\", \"size\": []}, \"name\": \"Vanuatu\", \"x\": []}, {\"text\": [], \"y\": [], \"mode\": \"marker\", \"marker\": {\"sizeref\": 200000, \"sizemode\": \"area\", \"size\": []}, \"name\": \"Yemen\", \"x\": []}, {\"text\": [], \"y\": [], \"mode\": \"marker\", \"marker\": {\"sizeref\": 200000, \"sizemode\": \"area\", \"size\": []}, \"name\": \"Russia\", \"x\": []}, {\"text\": [], \"y\": [], \"mode\": \"marker\", \"marker\": {\"sizeref\": 200000, \"sizemode\": \"area\", \"size\": []}, \"name\": \"Indonesia\", \"x\": []}, {\"text\": [], \"y\": [], \"mode\": \"marker\", \"marker\": {\"sizeref\": 200000, \"sizemode\": \"area\", \"size\": []}, \"name\": \"El Salvador\", \"x\": []}, {\"text\": [], \"y\": [], \"mode\": \"marker\", \"marker\": {\"sizeref\": 200000, \"sizemode\": \"area\", \"size\": []}, \"name\": \"Saudi Arabia\", \"x\": []}, {\"text\": [], \"y\": [], \"mode\": \"marker\", \"marker\": {\"sizeref\": 200000, \"sizemode\": \"area\", \"size\": []}, \"name\": \"Iceland\", \"x\": []}, {\"text\": [], \"y\": [], \"mode\": \"marker\", \"marker\": {\"sizeref\": 200000, \"sizemode\": \"area\", \"size\": []}, \"name\": \"Mexico\", \"x\": []}, {\"text\": [], \"y\": [], \"mode\": \"marker\", \"marker\": {\"sizeref\": 200000, \"sizemode\": \"area\", \"size\": []}, \"name\": \"North Korea\", \"x\": []}, {\"text\": [], \"y\": [], \"mode\": \"marker\", \"marker\": {\"sizeref\": 200000, \"sizemode\": \"area\", \"size\": []}, \"name\": \"Ethiopia\", \"x\": []}, {\"text\": [], \"y\": [], \"mode\": \"marker\", \"marker\": {\"sizeref\": 200000, \"sizemode\": \"area\", \"size\": []}, \"name\": \"Guatemala\", \"x\": []}, {\"text\": [], \"y\": [], \"mode\": \"marker\", \"marker\": {\"sizeref\": 200000, \"sizemode\": \"area\", \"size\": []}, \"name\": \"Solomon Is.\", \"x\": []}, {\"text\": [], \"y\": [], \"mode\": \"marker\", \"marker\": {\"sizeref\": 200000, \"sizemode\": \"area\", \"size\": []}, \"name\": \"Portugal\", \"x\": []}, {\"text\": [], \"y\": [], \"mode\": \"marker\", \"marker\": {\"sizeref\": 200000, \"sizemode\": \"area\", \"size\": []}, \"name\": \"Colombia\", \"x\": []}, {\"text\": [], \"y\": [], \"mode\": \"marker\", \"marker\": {\"sizeref\": 200000, \"sizemode\": \"area\", \"size\": []}, \"name\": \"Pacific Ocean\", \"x\": []}, {\"text\": [], \"y\": [], \"mode\": \"marker\", \"marker\": {\"sizeref\": 200000, \"sizemode\": \"area\", \"size\": []}, \"name\": \"Peru\", \"x\": []}, {\"text\": [], \"y\": [], \"mode\": \"marker\", \"marker\": {\"sizeref\": 200000, \"sizemode\": \"area\", \"size\": []}, \"name\": \"China\", \"x\": []}, {\"text\": [], \"y\": [], \"mode\": \"marker\", \"marker\": {\"sizeref\": 200000, \"sizemode\": \"area\", \"size\": []}, \"name\": \"Spain\", \"x\": []}, {\"text\": [], \"y\": [], \"mode\": \"marker\", \"marker\": {\"sizeref\": 200000, \"sizemode\": \"area\", \"size\": []}, \"name\": \"Canada\", \"x\": []}, {\"text\": [], \"y\": [], \"mode\": \"marker\", \"marker\": {\"sizeref\": 200000, \"sizemode\": \"area\", \"size\": []}, \"name\": \"Tanzania\", \"x\": []}, {\"text\": [], \"y\": [], \"mode\": \"marker\", \"marker\": {\"sizeref\": 200000, \"sizemode\": \"area\", \"size\": []}, \"name\": \"St. Vincent & the Grenadines\", \"x\": []}, {\"text\": [], \"y\": [], \"mode\": \"marker\", \"marker\": {\"sizeref\": 200000, \"sizemode\": \"area\", \"size\": []}, \"name\": \"Chile\", \"x\": []}, {\"text\": [], \"y\": [], \"mode\": \"marker\", \"marker\": {\"sizeref\": 200000, \"sizemode\": \"area\", \"size\": []}, \"name\": \"Turkey\", \"x\": []}, {\"text\": [], \"y\": [], \"mode\": \"marker\", \"marker\": {\"sizeref\": 200000, \"sizemode\": \"area\", \"size\": []}, \"name\": \"St. Kitts & Nevis\", \"x\": []}, {\"text\": [], \"y\": [], \"mode\": \"marker\", \"marker\": {\"sizeref\": 200000, \"sizemode\": \"area\", \"size\": []}, \"name\": \"Guadeloupe\", \"x\": []}, {\"text\": [], \"y\": [], \"mode\": \"marker\", \"marker\": {\"sizeref\": 200000, \"sizemode\": \"area\", \"size\": []}, \"name\": \"Cape Verde\", \"x\": []}, {\"text\": [], \"y\": [], \"mode\": \"marker\", \"marker\": {\"sizeref\": 200000, \"sizemode\": \"area\", \"size\": []}, \"name\": \"Tonga\", \"x\": []}, {\"text\": [], \"y\": [], \"mode\": \"marker\", \"marker\": {\"sizeref\": 200000, \"sizemode\": \"area\", \"size\": []}, \"name\": \"Taiwan\", \"x\": []}, {\"text\": [], \"y\": [], \"mode\": \"marker\", \"marker\": {\"sizeref\": 200000, \"sizemode\": \"area\", \"size\": []}, \"name\": \"Eritrea\", \"x\": []}, {\"text\": [], \"y\": [], \"mode\": \"marker\", \"marker\": {\"sizeref\": 200000, \"sizemode\": \"area\", \"size\": []}, \"name\": \"Comoros\", \"x\": []}, {\"text\": [], \"y\": [], \"mode\": \"marker\", \"marker\": {\"sizeref\": 200000, \"sizemode\": \"area\", \"size\": []}, \"name\": \"Martinique\", \"x\": []}, {\"text\": [], \"y\": [], \"mode\": \"marker\", \"marker\": {\"sizeref\": 200000, \"sizemode\": \"area\", \"size\": []}, \"name\": \"Samoa\", \"x\": []}, {\"text\": [], \"y\": [], \"mode\": \"marker\", \"marker\": {\"sizeref\": 200000, \"sizemode\": \"area\", \"size\": []}, \"name\": \"Cameroon\", \"x\": []}, {\"text\": [], \"y\": [], \"mode\": \"marker\", \"marker\": {\"sizeref\": 200000, \"sizemode\": \"area\", \"size\": []}, \"name\": \"Trinidad \", \"x\": []}, {\"text\": [], \"y\": [], \"mode\": \"marker\", \"marker\": {\"sizeref\": 200000, \"sizemode\": \"area\", \"size\": []}, \"name\": \"Congo, DRC\", \"x\": []}, {\"text\": [], \"y\": [], \"mode\": \"marker\", \"marker\": {\"sizeref\": 200000, \"sizemode\": \"area\", \"size\": []}, \"name\": \"Costa Rica\", \"x\": []}, {\"text\": [], \"y\": [], \"mode\": \"marker\", \"marker\": {\"sizeref\": 200000, \"sizemode\": \"area\", \"size\": []}, \"name\": \"Antarctica\", \"x\": []}, {\"text\": [], \"y\": [], \"mode\": \"marker\", \"marker\": {\"sizeref\": 200000, \"sizemode\": \"area\", \"size\": []}, \"name\": \"Reunion\", \"x\": []}, {\"text\": [], \"y\": [], \"mode\": \"marker\", \"marker\": {\"sizeref\": 200000, \"sizemode\": \"area\", \"size\": []}, \"name\": \"Montserrat\", \"x\": []}], \"name\": \"1910\"}, {\"data\": [{\"text\": [], \"y\": [], \"mode\": \"marker\", \"marker\": {\"sizeref\": 200000, \"sizemode\": \"area\", \"size\": []}, \"name\": null, \"x\": []}, {\"text\": [], \"y\": [], \"mode\": \"marker\", \"marker\": {\"sizeref\": 200000, \"sizemode\": \"area\", \"size\": []}, \"name\": \"New Zealand\", \"x\": []}, {\"text\": [], \"y\": [], \"mode\": \"marker\", \"marker\": {\"sizeref\": 200000, \"sizemode\": \"area\", \"size\": []}, \"name\": \"Japan\", \"x\": []}, {\"text\": [], \"y\": [], \"mode\": \"marker\", \"marker\": {\"sizeref\": 200000, \"sizemode\": \"area\", \"size\": []}, \"name\": \"Nicaragua\", \"x\": []}, {\"text\": [], \"y\": [], \"mode\": \"marker\", \"marker\": {\"sizeref\": 200000, \"sizemode\": \"area\", \"size\": []}, \"name\": \"Papua New Guinea\", \"x\": []}, {\"text\": [], \"y\": [], \"mode\": \"marker\", \"marker\": {\"sizeref\": 200000, \"sizemode\": \"area\", \"size\": []}, \"name\": \"Philippines\", \"x\": []}, {\"text\": [], \"y\": [], \"mode\": \"marker\", \"marker\": {\"sizeref\": 200000, \"sizemode\": \"area\", \"size\": []}, \"name\": \"Italy\", \"x\": []}, {\"text\": [], \"y\": [], \"mode\": \"marker\", \"marker\": {\"sizeref\": 200000, \"sizemode\": \"area\", \"size\": []}, \"name\": \"United States\", \"x\": []}, {\"text\": [], \"y\": [], \"mode\": \"marker\", \"marker\": {\"sizeref\": 200000, \"sizemode\": \"area\", \"size\": []}, \"name\": \"Greece\", \"x\": []}, {\"text\": [], \"y\": [], \"mode\": \"marker\", \"marker\": {\"sizeref\": 200000, \"sizemode\": \"area\", \"size\": []}, \"name\": \"Ecuador\", \"x\": []}, {\"text\": [], \"y\": [], \"mode\": \"marker\", \"marker\": {\"sizeref\": 200000, \"sizemode\": \"area\", \"size\": []}, \"name\": \"Vanuatu\", \"x\": []}, {\"text\": [], \"y\": [], \"mode\": \"marker\", \"marker\": {\"sizeref\": 200000, \"sizemode\": \"area\", \"size\": []}, \"name\": \"Yemen\", \"x\": []}, {\"text\": [], \"y\": [], \"mode\": \"marker\", \"marker\": {\"sizeref\": 200000, \"sizemode\": \"area\", \"size\": []}, \"name\": \"Russia\", \"x\": []}, {\"text\": [\"Indonesia\"], \"y\": [-7.542000000000001], \"mode\": \"marker\", \"marker\": {\"sizeref\": 200000, \"sizemode\": \"area\", \"size\": [3.0]}, \"name\": \"Indonesia\", \"x\": [110.44200000000001]}, {\"text\": [\"El Salvador\"], \"y\": [13.812999999999999], \"mode\": \"marker\", \"marker\": {\"sizeref\": 200000, \"sizemode\": \"area\", \"size\": [3.0]}, \"name\": \"El Salvador\", \"x\": [-89.633]}, {\"text\": [], \"y\": [], \"mode\": \"marker\", \"marker\": {\"sizeref\": 200000, \"sizemode\": \"area\", \"size\": []}, \"name\": \"Saudi Arabia\", \"x\": []}, {\"text\": [], \"y\": [], \"mode\": \"marker\", \"marker\": {\"sizeref\": 200000, \"sizemode\": \"area\", \"size\": []}, \"name\": \"Iceland\", \"x\": []}, {\"text\": [], \"y\": [], \"mode\": \"marker\", \"marker\": {\"sizeref\": 200000, \"sizemode\": \"area\", \"size\": []}, \"name\": \"Mexico\", \"x\": []}, {\"text\": [], \"y\": [], \"mode\": \"marker\", \"marker\": {\"sizeref\": 200000, \"sizemode\": \"area\", \"size\": []}, \"name\": \"North Korea\", \"x\": []}, {\"text\": [], \"y\": [], \"mode\": \"marker\", \"marker\": {\"sizeref\": 200000, \"sizemode\": \"area\", \"size\": []}, \"name\": \"Ethiopia\", \"x\": []}, {\"text\": [], \"y\": [], \"mode\": \"marker\", \"marker\": {\"sizeref\": 200000, \"sizemode\": \"area\", \"size\": []}, \"name\": \"Guatemala\", \"x\": []}, {\"text\": [], \"y\": [], \"mode\": \"marker\", \"marker\": {\"sizeref\": 200000, \"sizemode\": \"area\", \"size\": []}, \"name\": \"Solomon Is.\", \"x\": []}, {\"text\": [], \"y\": [], \"mode\": \"marker\", \"marker\": {\"sizeref\": 200000, \"sizemode\": \"area\", \"size\": []}, \"name\": \"Portugal\", \"x\": []}, {\"text\": [], \"y\": [], \"mode\": \"marker\", \"marker\": {\"sizeref\": 200000, \"sizemode\": \"area\", \"size\": []}, \"name\": \"Colombia\", \"x\": []}, {\"text\": [], \"y\": [], \"mode\": \"marker\", \"marker\": {\"sizeref\": 200000, \"sizemode\": \"area\", \"size\": []}, \"name\": \"Pacific Ocean\", \"x\": []}, {\"text\": [], \"y\": [], \"mode\": \"marker\", \"marker\": {\"sizeref\": 200000, \"sizemode\": \"area\", \"size\": []}, \"name\": \"Peru\", \"x\": []}, {\"text\": [], \"y\": [], \"mode\": \"marker\", \"marker\": {\"sizeref\": 200000, \"sizemode\": \"area\", \"size\": []}, \"name\": \"China\", \"x\": []}, {\"text\": [], \"y\": [], \"mode\": \"marker\", \"marker\": {\"sizeref\": 200000, \"sizemode\": \"area\", \"size\": []}, \"name\": \"Spain\", \"x\": []}, {\"text\": [], \"y\": [], \"mode\": \"marker\", \"marker\": {\"sizeref\": 200000, \"sizemode\": \"area\", \"size\": []}, \"name\": \"Canada\", \"x\": []}, {\"text\": [], \"y\": [], \"mode\": \"marker\", \"marker\": {\"sizeref\": 200000, \"sizemode\": \"area\", \"size\": []}, \"name\": \"Tanzania\", \"x\": []}, {\"text\": [], \"y\": [], \"mode\": \"marker\", \"marker\": {\"sizeref\": 200000, \"sizemode\": \"area\", \"size\": []}, \"name\": \"St. Vincent & the Grenadines\", \"x\": []}, {\"text\": [], \"y\": [], \"mode\": \"marker\", \"marker\": {\"sizeref\": 200000, \"sizemode\": \"area\", \"size\": []}, \"name\": \"Chile\", \"x\": []}, {\"text\": [], \"y\": [], \"mode\": \"marker\", \"marker\": {\"sizeref\": 200000, \"sizemode\": \"area\", \"size\": []}, \"name\": \"Turkey\", \"x\": []}, {\"text\": [], \"y\": [], \"mode\": \"marker\", \"marker\": {\"sizeref\": 200000, \"sizemode\": \"area\", \"size\": []}, \"name\": \"St. Kitts & Nevis\", \"x\": []}, {\"text\": [], \"y\": [], \"mode\": \"marker\", \"marker\": {\"sizeref\": 200000, \"sizemode\": \"area\", \"size\": []}, \"name\": \"Guadeloupe\", \"x\": []}, {\"text\": [], \"y\": [], \"mode\": \"marker\", \"marker\": {\"sizeref\": 200000, \"sizemode\": \"area\", \"size\": []}, \"name\": \"Cape Verde\", \"x\": []}, {\"text\": [], \"y\": [], \"mode\": \"marker\", \"marker\": {\"sizeref\": 200000, \"sizemode\": \"area\", \"size\": []}, \"name\": \"Tonga\", \"x\": []}, {\"text\": [], \"y\": [], \"mode\": \"marker\", \"marker\": {\"sizeref\": 200000, \"sizemode\": \"area\", \"size\": []}, \"name\": \"Taiwan\", \"x\": []}, {\"text\": [], \"y\": [], \"mode\": \"marker\", \"marker\": {\"sizeref\": 200000, \"sizemode\": \"area\", \"size\": []}, \"name\": \"Eritrea\", \"x\": []}, {\"text\": [], \"y\": [], \"mode\": \"marker\", \"marker\": {\"sizeref\": 200000, \"sizemode\": \"area\", \"size\": []}, \"name\": \"Comoros\", \"x\": []}, {\"text\": [], \"y\": [], \"mode\": \"marker\", \"marker\": {\"sizeref\": 200000, \"sizemode\": \"area\", \"size\": []}, \"name\": \"Martinique\", \"x\": []}, {\"text\": [], \"y\": [], \"mode\": \"marker\", \"marker\": {\"sizeref\": 200000, \"sizemode\": \"area\", \"size\": []}, \"name\": \"Samoa\", \"x\": []}, {\"text\": [], \"y\": [], \"mode\": \"marker\", \"marker\": {\"sizeref\": 200000, \"sizemode\": \"area\", \"size\": []}, \"name\": \"Cameroon\", \"x\": []}, {\"text\": [], \"y\": [], \"mode\": \"marker\", \"marker\": {\"sizeref\": 200000, \"sizemode\": \"area\", \"size\": []}, \"name\": \"Trinidad \", \"x\": []}, {\"text\": [], \"y\": [], \"mode\": \"marker\", \"marker\": {\"sizeref\": 200000, \"sizemode\": \"area\", \"size\": []}, \"name\": \"Congo, DRC\", \"x\": []}, {\"text\": [], \"y\": [], \"mode\": \"marker\", \"marker\": {\"sizeref\": 200000, \"sizemode\": \"area\", \"size\": []}, \"name\": \"Costa Rica\", \"x\": []}, {\"text\": [], \"y\": [], \"mode\": \"marker\", \"marker\": {\"sizeref\": 200000, \"sizemode\": \"area\", \"size\": []}, \"name\": \"Antarctica\", \"x\": []}, {\"text\": [], \"y\": [], \"mode\": \"marker\", \"marker\": {\"sizeref\": 200000, \"sizemode\": \"area\", \"size\": []}, \"name\": \"Reunion\", \"x\": []}, {\"text\": [], \"y\": [], \"mode\": \"marker\", \"marker\": {\"sizeref\": 200000, \"sizemode\": \"area\", \"size\": []}, \"name\": \"Montserrat\", \"x\": []}], \"name\": \"1920\"}, {\"data\": [{\"text\": [], \"y\": [], \"mode\": \"marker\", \"marker\": {\"sizeref\": 200000, \"sizemode\": \"area\", \"size\": []}, \"name\": null, \"x\": []}, {\"text\": [], \"y\": [], \"mode\": \"marker\", \"marker\": {\"sizeref\": 200000, \"sizemode\": \"area\", \"size\": []}, \"name\": \"New Zealand\", \"x\": []}, {\"text\": [\"Japan\"], \"y\": [36.4], \"mode\": \"marker\", \"marker\": {\"sizeref\": 200000, \"sizemode\": \"area\", \"size\": [3.0]}, \"name\": \"Japan\", \"x\": [138.53]}, {\"text\": [], \"y\": [], \"mode\": \"marker\", \"marker\": {\"sizeref\": 200000, \"sizemode\": \"area\", \"size\": []}, \"name\": \"Nicaragua\", \"x\": []}, {\"text\": [], \"y\": [], \"mode\": \"marker\", \"marker\": {\"sizeref\": 200000, \"sizemode\": \"area\", \"size\": []}, \"name\": \"Papua New Guinea\", \"x\": []}, {\"text\": [], \"y\": [], \"mode\": \"marker\", \"marker\": {\"sizeref\": 200000, \"sizemode\": \"area\", \"size\": []}, \"name\": \"Philippines\", \"x\": []}, {\"text\": [\"Italy\"], \"y\": [38.789], \"mode\": \"marker\", \"marker\": {\"sizeref\": 200000, \"sizemode\": \"area\", \"size\": [3.0]}, \"name\": \"Italy\", \"x\": [15.213]}, {\"text\": [], \"y\": [], \"mode\": \"marker\", \"marker\": {\"sizeref\": 200000, \"sizemode\": \"area\", \"size\": []}, \"name\": \"United States\", \"x\": []}, {\"text\": [], \"y\": [], \"mode\": \"marker\", \"marker\": {\"sizeref\": 200000, \"sizemode\": \"area\", \"size\": []}, \"name\": \"Greece\", \"x\": []}, {\"text\": [], \"y\": [], \"mode\": \"marker\", \"marker\": {\"sizeref\": 200000, \"sizemode\": \"area\", \"size\": []}, \"name\": \"Ecuador\", \"x\": []}, {\"text\": [], \"y\": [], \"mode\": \"marker\", \"marker\": {\"sizeref\": 200000, \"sizemode\": \"area\", \"size\": []}, \"name\": \"Vanuatu\", \"x\": []}, {\"text\": [], \"y\": [], \"mode\": \"marker\", \"marker\": {\"sizeref\": 200000, \"sizemode\": \"area\", \"size\": []}, \"name\": \"Yemen\", \"x\": []}, {\"text\": [], \"y\": [], \"mode\": \"marker\", \"marker\": {\"sizeref\": 200000, \"sizemode\": \"area\", \"size\": []}, \"name\": \"Russia\", \"x\": []}, {\"text\": [\"Indonesia\", \"Indonesia\"], \"y\": [-6.102, -7.542000000000001], \"mode\": \"marker\", \"marker\": {\"sizeref\": 200000, \"sizemode\": \"area\", \"size\": [2.0, 3.0]}, \"name\": \"Indonesia\", \"x\": [105.42299999999999, 110.44200000000001]}, {\"text\": [], \"y\": [], \"mode\": \"marker\", \"marker\": {\"sizeref\": 200000, \"sizemode\": \"area\", \"size\": []}, \"name\": \"El Salvador\", \"x\": []}, {\"text\": [], \"y\": [], \"mode\": \"marker\", \"marker\": {\"sizeref\": 200000, \"sizemode\": \"area\", \"size\": []}, \"name\": \"Saudi Arabia\", \"x\": []}, {\"text\": [], \"y\": [], \"mode\": \"marker\", \"marker\": {\"sizeref\": 200000, \"sizemode\": \"area\", \"size\": []}, \"name\": \"Iceland\", \"x\": []}, {\"text\": [], \"y\": [], \"mode\": \"marker\", \"marker\": {\"sizeref\": 200000, \"sizemode\": \"area\", \"size\": []}, \"name\": \"Mexico\", \"x\": []}, {\"text\": [], \"y\": [], \"mode\": \"marker\", \"marker\": {\"sizeref\": 200000, \"sizemode\": \"area\", \"size\": []}, \"name\": \"North Korea\", \"x\": []}, {\"text\": [], \"y\": [], \"mode\": \"marker\", \"marker\": {\"sizeref\": 200000, \"sizemode\": \"area\", \"size\": []}, \"name\": \"Ethiopia\", \"x\": []}, {\"text\": [], \"y\": [], \"mode\": \"marker\", \"marker\": {\"sizeref\": 200000, \"sizemode\": \"area\", \"size\": []}, \"name\": \"Guatemala\", \"x\": []}, {\"text\": [], \"y\": [], \"mode\": \"marker\", \"marker\": {\"sizeref\": 200000, \"sizemode\": \"area\", \"size\": []}, \"name\": \"Solomon Is.\", \"x\": []}, {\"text\": [], \"y\": [], \"mode\": \"marker\", \"marker\": {\"sizeref\": 200000, \"sizemode\": \"area\", \"size\": []}, \"name\": \"Portugal\", \"x\": []}, {\"text\": [], \"y\": [], \"mode\": \"marker\", \"marker\": {\"sizeref\": 200000, \"sizemode\": \"area\", \"size\": []}, \"name\": \"Colombia\", \"x\": []}, {\"text\": [], \"y\": [], \"mode\": \"marker\", \"marker\": {\"sizeref\": 200000, \"sizemode\": \"area\", \"size\": []}, \"name\": \"Pacific Ocean\", \"x\": []}, {\"text\": [], \"y\": [], \"mode\": \"marker\", \"marker\": {\"sizeref\": 200000, \"sizemode\": \"area\", \"size\": []}, \"name\": \"Peru\", \"x\": []}, {\"text\": [], \"y\": [], \"mode\": \"marker\", \"marker\": {\"sizeref\": 200000, \"sizemode\": \"area\", \"size\": []}, \"name\": \"China\", \"x\": []}, {\"text\": [], \"y\": [], \"mode\": \"marker\", \"marker\": {\"sizeref\": 200000, \"sizemode\": \"area\", \"size\": []}, \"name\": \"Spain\", \"x\": []}, {\"text\": [], \"y\": [], \"mode\": \"marker\", \"marker\": {\"sizeref\": 200000, \"sizemode\": \"area\", \"size\": []}, \"name\": \"Canada\", \"x\": []}, {\"text\": [], \"y\": [], \"mode\": \"marker\", \"marker\": {\"sizeref\": 200000, \"sizemode\": \"area\", \"size\": []}, \"name\": \"Tanzania\", \"x\": []}, {\"text\": [], \"y\": [], \"mode\": \"marker\", \"marker\": {\"sizeref\": 200000, \"sizemode\": \"area\", \"size\": []}, \"name\": \"St. Vincent & the Grenadines\", \"x\": []}, {\"text\": [], \"y\": [], \"mode\": \"marker\", \"marker\": {\"sizeref\": 200000, \"sizemode\": \"area\", \"size\": []}, \"name\": \"Chile\", \"x\": []}, {\"text\": [], \"y\": [], \"mode\": \"marker\", \"marker\": {\"sizeref\": 200000, \"sizemode\": \"area\", \"size\": []}, \"name\": \"Turkey\", \"x\": []}, {\"text\": [], \"y\": [], \"mode\": \"marker\", \"marker\": {\"sizeref\": 200000, \"sizemode\": \"area\", \"size\": []}, \"name\": \"St. Kitts & Nevis\", \"x\": []}, {\"text\": [], \"y\": [], \"mode\": \"marker\", \"marker\": {\"sizeref\": 200000, \"sizemode\": \"area\", \"size\": []}, \"name\": \"Guadeloupe\", \"x\": []}, {\"text\": [], \"y\": [], \"mode\": \"marker\", \"marker\": {\"sizeref\": 200000, \"sizemode\": \"area\", \"size\": []}, \"name\": \"Cape Verde\", \"x\": []}, {\"text\": [], \"y\": [], \"mode\": \"marker\", \"marker\": {\"sizeref\": 200000, \"sizemode\": \"area\", \"size\": []}, \"name\": \"Tonga\", \"x\": []}, {\"text\": [], \"y\": [], \"mode\": \"marker\", \"marker\": {\"sizeref\": 200000, \"sizemode\": \"area\", \"size\": []}, \"name\": \"Taiwan\", \"x\": []}, {\"text\": [], \"y\": [], \"mode\": \"marker\", \"marker\": {\"sizeref\": 200000, \"sizemode\": \"area\", \"size\": []}, \"name\": \"Eritrea\", \"x\": []}, {\"text\": [], \"y\": [], \"mode\": \"marker\", \"marker\": {\"sizeref\": 200000, \"sizemode\": \"area\", \"size\": []}, \"name\": \"Comoros\", \"x\": []}, {\"text\": [], \"y\": [], \"mode\": \"marker\", \"marker\": {\"sizeref\": 200000, \"sizemode\": \"area\", \"size\": []}, \"name\": \"Martinique\", \"x\": []}, {\"text\": [], \"y\": [], \"mode\": \"marker\", \"marker\": {\"sizeref\": 200000, \"sizemode\": \"area\", \"size\": []}, \"name\": \"Samoa\", \"x\": []}, {\"text\": [], \"y\": [], \"mode\": \"marker\", \"marker\": {\"sizeref\": 200000, \"sizemode\": \"area\", \"size\": []}, \"name\": \"Cameroon\", \"x\": []}, {\"text\": [], \"y\": [], \"mode\": \"marker\", \"marker\": {\"sizeref\": 200000, \"sizemode\": \"area\", \"size\": []}, \"name\": \"Trinidad \", \"x\": []}, {\"text\": [], \"y\": [], \"mode\": \"marker\", \"marker\": {\"sizeref\": 200000, \"sizemode\": \"area\", \"size\": []}, \"name\": \"Congo, DRC\", \"x\": []}, {\"text\": [], \"y\": [], \"mode\": \"marker\", \"marker\": {\"sizeref\": 200000, \"sizemode\": \"area\", \"size\": []}, \"name\": \"Costa Rica\", \"x\": []}, {\"text\": [], \"y\": [], \"mode\": \"marker\", \"marker\": {\"sizeref\": 200000, \"sizemode\": \"area\", \"size\": []}, \"name\": \"Antarctica\", \"x\": []}, {\"text\": [], \"y\": [], \"mode\": \"marker\", \"marker\": {\"sizeref\": 200000, \"sizemode\": \"area\", \"size\": []}, \"name\": \"Reunion\", \"x\": []}, {\"text\": [], \"y\": [], \"mode\": \"marker\", \"marker\": {\"sizeref\": 200000, \"sizemode\": \"area\", \"size\": []}, \"name\": \"Montserrat\", \"x\": []}], \"name\": \"1930\"}, {\"data\": [{\"text\": [], \"y\": [], \"mode\": \"marker\", \"marker\": {\"sizeref\": 200000, \"sizemode\": \"area\", \"size\": []}, \"name\": null, \"x\": []}, {\"text\": [], \"y\": [], \"mode\": \"marker\", \"marker\": {\"sizeref\": 200000, \"sizemode\": \"area\", \"size\": []}, \"name\": \"New Zealand\", \"x\": []}, {\"text\": [\"Japan\"], \"y\": [34.08], \"mode\": \"marker\", \"marker\": {\"sizeref\": 200000, \"sizemode\": \"area\", \"size\": [2.0]}, \"name\": \"Japan\", \"x\": [139.53]}, {\"text\": [], \"y\": [], \"mode\": \"marker\", \"marker\": {\"sizeref\": 200000, \"sizemode\": \"area\", \"size\": []}, \"name\": \"Nicaragua\", \"x\": []}, {\"text\": [], \"y\": [], \"mode\": \"marker\", \"marker\": {\"sizeref\": 200000, \"sizemode\": \"area\", \"size\": []}, \"name\": \"Papua New Guinea\", \"x\": []}, {\"text\": [], \"y\": [], \"mode\": \"marker\", \"marker\": {\"sizeref\": 200000, \"sizemode\": \"area\", \"size\": []}, \"name\": \"Philippines\", \"x\": []}, {\"text\": [], \"y\": [], \"mode\": \"marker\", \"marker\": {\"sizeref\": 200000, \"sizemode\": \"area\", \"size\": []}, \"name\": \"Italy\", \"x\": []}, {\"text\": [], \"y\": [], \"mode\": \"marker\", \"marker\": {\"sizeref\": 200000, \"sizemode\": \"area\", \"size\": []}, \"name\": \"United States\", \"x\": []}, {\"text\": [], \"y\": [], \"mode\": \"marker\", \"marker\": {\"sizeref\": 200000, \"sizemode\": \"area\", \"size\": []}, \"name\": \"Greece\", \"x\": []}, {\"text\": [], \"y\": [], \"mode\": \"marker\", \"marker\": {\"sizeref\": 200000, \"sizemode\": \"area\", \"size\": []}, \"name\": \"Ecuador\", \"x\": []}, {\"text\": [], \"y\": [], \"mode\": \"marker\", \"marker\": {\"sizeref\": 200000, \"sizemode\": \"area\", \"size\": []}, \"name\": \"Vanuatu\", \"x\": []}, {\"text\": [], \"y\": [], \"mode\": \"marker\", \"marker\": {\"sizeref\": 200000, \"sizemode\": \"area\", \"size\": []}, \"name\": \"Yemen\", \"x\": []}, {\"text\": [], \"y\": [], \"mode\": \"marker\", \"marker\": {\"sizeref\": 200000, \"sizemode\": \"area\", \"size\": []}, \"name\": \"Russia\", \"x\": []}, {\"text\": [\"Indonesia\"], \"y\": [2.78], \"mode\": \"marker\", \"marker\": {\"sizeref\": 200000, \"sizemode\": \"area\", \"size\": [2.0]}, \"name\": \"Indonesia\", \"x\": [125.48]}, {\"text\": [], \"y\": [], \"mode\": \"marker\", \"marker\": {\"sizeref\": 200000, \"sizemode\": \"area\", \"size\": []}, \"name\": \"El Salvador\", \"x\": []}, {\"text\": [], \"y\": [], \"mode\": \"marker\", \"marker\": {\"sizeref\": 200000, \"sizemode\": \"area\", \"size\": []}, \"name\": \"Saudi Arabia\", \"x\": []}, {\"text\": [], \"y\": [], \"mode\": \"marker\", \"marker\": {\"sizeref\": 200000, \"sizemode\": \"area\", \"size\": []}, \"name\": \"Iceland\", \"x\": []}, {\"text\": [], \"y\": [], \"mode\": \"marker\", \"marker\": {\"sizeref\": 200000, \"sizemode\": \"area\", \"size\": []}, \"name\": \"Mexico\", \"x\": []}, {\"text\": [], \"y\": [], \"mode\": \"marker\", \"marker\": {\"sizeref\": 200000, \"sizemode\": \"area\", \"size\": []}, \"name\": \"North Korea\", \"x\": []}, {\"text\": [], \"y\": [], \"mode\": \"marker\", \"marker\": {\"sizeref\": 200000, \"sizemode\": \"area\", \"size\": []}, \"name\": \"Ethiopia\", \"x\": []}, {\"text\": [], \"y\": [], \"mode\": \"marker\", \"marker\": {\"sizeref\": 200000, \"sizemode\": \"area\", \"size\": []}, \"name\": \"Guatemala\", \"x\": []}, {\"text\": [], \"y\": [], \"mode\": \"marker\", \"marker\": {\"sizeref\": 200000, \"sizemode\": \"area\", \"size\": []}, \"name\": \"Solomon Is.\", \"x\": []}, {\"text\": [], \"y\": [], \"mode\": \"marker\", \"marker\": {\"sizeref\": 200000, \"sizemode\": \"area\", \"size\": []}, \"name\": \"Portugal\", \"x\": []}, {\"text\": [], \"y\": [], \"mode\": \"marker\", \"marker\": {\"sizeref\": 200000, \"sizemode\": \"area\", \"size\": []}, \"name\": \"Colombia\", \"x\": []}, {\"text\": [], \"y\": [], \"mode\": \"marker\", \"marker\": {\"sizeref\": 200000, \"sizemode\": \"area\", \"size\": []}, \"name\": \"Pacific Ocean\", \"x\": []}, {\"text\": [], \"y\": [], \"mode\": \"marker\", \"marker\": {\"sizeref\": 200000, \"sizemode\": \"area\", \"size\": []}, \"name\": \"Peru\", \"x\": []}, {\"text\": [], \"y\": [], \"mode\": \"marker\", \"marker\": {\"sizeref\": 200000, \"sizemode\": \"area\", \"size\": []}, \"name\": \"China\", \"x\": []}, {\"text\": [], \"y\": [], \"mode\": \"marker\", \"marker\": {\"sizeref\": 200000, \"sizemode\": \"area\", \"size\": []}, \"name\": \"Spain\", \"x\": []}, {\"text\": [], \"y\": [], \"mode\": \"marker\", \"marker\": {\"sizeref\": 200000, \"sizemode\": \"area\", \"size\": []}, \"name\": \"Canada\", \"x\": []}, {\"text\": [\"Tanzania\"], \"y\": [-2.7510000000000003], \"mode\": \"marker\", \"marker\": {\"sizeref\": 200000, \"sizemode\": \"area\", \"size\": [2.0]}, \"name\": \"Tanzania\", \"x\": [35.902]}, {\"text\": [], \"y\": [], \"mode\": \"marker\", \"marker\": {\"sizeref\": 200000, \"sizemode\": \"area\", \"size\": []}, \"name\": \"St. Vincent & the Grenadines\", \"x\": []}, {\"text\": [], \"y\": [], \"mode\": \"marker\", \"marker\": {\"sizeref\": 200000, \"sizemode\": \"area\", \"size\": []}, \"name\": \"Chile\", \"x\": []}, {\"text\": [], \"y\": [], \"mode\": \"marker\", \"marker\": {\"sizeref\": 200000, \"sizemode\": \"area\", \"size\": []}, \"name\": \"Turkey\", \"x\": []}, {\"text\": [], \"y\": [], \"mode\": \"marker\", \"marker\": {\"sizeref\": 200000, \"sizemode\": \"area\", \"size\": []}, \"name\": \"St. Kitts & Nevis\", \"x\": []}, {\"text\": [], \"y\": [], \"mode\": \"marker\", \"marker\": {\"sizeref\": 200000, \"sizemode\": \"area\", \"size\": []}, \"name\": \"Guadeloupe\", \"x\": []}, {\"text\": [], \"y\": [], \"mode\": \"marker\", \"marker\": {\"sizeref\": 200000, \"sizemode\": \"area\", \"size\": []}, \"name\": \"Cape Verde\", \"x\": []}, {\"text\": [], \"y\": [], \"mode\": \"marker\", \"marker\": {\"sizeref\": 200000, \"sizemode\": \"area\", \"size\": []}, \"name\": \"Tonga\", \"x\": []}, {\"text\": [], \"y\": [], \"mode\": \"marker\", \"marker\": {\"sizeref\": 200000, \"sizemode\": \"area\", \"size\": []}, \"name\": \"Taiwan\", \"x\": []}, {\"text\": [], \"y\": [], \"mode\": \"marker\", \"marker\": {\"sizeref\": 200000, \"sizemode\": \"area\", \"size\": []}, \"name\": \"Eritrea\", \"x\": []}, {\"text\": [], \"y\": [], \"mode\": \"marker\", \"marker\": {\"sizeref\": 200000, \"sizemode\": \"area\", \"size\": []}, \"name\": \"Comoros\", \"x\": []}, {\"text\": [], \"y\": [], \"mode\": \"marker\", \"marker\": {\"sizeref\": 200000, \"sizemode\": \"area\", \"size\": []}, \"name\": \"Martinique\", \"x\": []}, {\"text\": [], \"y\": [], \"mode\": \"marker\", \"marker\": {\"sizeref\": 200000, \"sizemode\": \"area\", \"size\": []}, \"name\": \"Samoa\", \"x\": []}, {\"text\": [], \"y\": [], \"mode\": \"marker\", \"marker\": {\"sizeref\": 200000, \"sizemode\": \"area\", \"size\": []}, \"name\": \"Cameroon\", \"x\": []}, {\"text\": [], \"y\": [], \"mode\": \"marker\", \"marker\": {\"sizeref\": 200000, \"sizemode\": \"area\", \"size\": []}, \"name\": \"Trinidad \", \"x\": []}, {\"text\": [], \"y\": [], \"mode\": \"marker\", \"marker\": {\"sizeref\": 200000, \"sizemode\": \"area\", \"size\": []}, \"name\": \"Congo, DRC\", \"x\": []}, {\"text\": [], \"y\": [], \"mode\": \"marker\", \"marker\": {\"sizeref\": 200000, \"sizemode\": \"area\", \"size\": []}, \"name\": \"Costa Rica\", \"x\": []}, {\"text\": [], \"y\": [], \"mode\": \"marker\", \"marker\": {\"sizeref\": 200000, \"sizemode\": \"area\", \"size\": []}, \"name\": \"Antarctica\", \"x\": []}, {\"text\": [], \"y\": [], \"mode\": \"marker\", \"marker\": {\"sizeref\": 200000, \"sizemode\": \"area\", \"size\": []}, \"name\": \"Reunion\", \"x\": []}, {\"text\": [], \"y\": [], \"mode\": \"marker\", \"marker\": {\"sizeref\": 200000, \"sizemode\": \"area\", \"size\": []}, \"name\": \"Montserrat\", \"x\": []}], \"name\": \"1940\"}, {\"data\": [{\"text\": [], \"y\": [], \"mode\": \"marker\", \"marker\": {\"sizeref\": 200000, \"sizemode\": \"area\", \"size\": []}, \"name\": null, \"x\": []}, {\"text\": [], \"y\": [], \"mode\": \"marker\", \"marker\": {\"sizeref\": 200000, \"sizemode\": \"area\", \"size\": []}, \"name\": \"New Zealand\", \"x\": []}, {\"text\": [\"Japan\"], \"y\": [36.4], \"mode\": \"marker\", \"marker\": {\"sizeref\": 200000, \"sizemode\": \"area\", \"size\": [2.0]}, \"name\": \"Japan\", \"x\": [138.53]}, {\"text\": [], \"y\": [], \"mode\": \"marker\", \"marker\": {\"sizeref\": 200000, \"sizemode\": \"area\", \"size\": []}, \"name\": \"Nicaragua\", \"x\": []}, {\"text\": [], \"y\": [], \"mode\": \"marker\", \"marker\": {\"sizeref\": 200000, \"sizemode\": \"area\", \"size\": []}, \"name\": \"Papua New Guinea\", \"x\": []}, {\"text\": [\"Philippines\"], \"y\": [9.203], \"mode\": \"marker\", \"marker\": {\"sizeref\": 200000, \"sizemode\": \"area\", \"size\": [3.0]}, \"name\": \"Philippines\", \"x\": [124.67299999999999]}, {\"text\": [], \"y\": [], \"mode\": \"marker\", \"marker\": {\"sizeref\": 200000, \"sizemode\": \"area\", \"size\": []}, \"name\": \"Italy\", \"x\": []}, {\"text\": [], \"y\": [], \"mode\": \"marker\", \"marker\": {\"sizeref\": 200000, \"sizemode\": \"area\", \"size\": []}, \"name\": \"United States\", \"x\": []}, {\"text\": [], \"y\": [], \"mode\": \"marker\", \"marker\": {\"sizeref\": 200000, \"sizemode\": \"area\", \"size\": []}, \"name\": \"Greece\", \"x\": []}, {\"text\": [], \"y\": [], \"mode\": \"marker\", \"marker\": {\"sizeref\": 200000, \"sizemode\": \"area\", \"size\": []}, \"name\": \"Ecuador\", \"x\": []}, {\"text\": [], \"y\": [], \"mode\": \"marker\", \"marker\": {\"sizeref\": 200000, \"sizemode\": \"area\", \"size\": []}, \"name\": \"Vanuatu\", \"x\": []}, {\"text\": [], \"y\": [], \"mode\": \"marker\", \"marker\": {\"sizeref\": 200000, \"sizemode\": \"area\", \"size\": []}, \"name\": \"Yemen\", \"x\": []}, {\"text\": [], \"y\": [], \"mode\": \"marker\", \"marker\": {\"sizeref\": 200000, \"sizemode\": \"area\", \"size\": []}, \"name\": \"Russia\", \"x\": []}, {\"text\": [\"Indonesia\"], \"y\": [-8.107999999999999], \"mode\": \"marker\", \"marker\": {\"sizeref\": 200000, \"sizemode\": \"area\", \"size\": [1.0]}, \"name\": \"Indonesia\", \"x\": [112.92]}, {\"text\": [], \"y\": [], \"mode\": \"marker\", \"marker\": {\"sizeref\": 200000, \"sizemode\": \"area\", \"size\": []}, \"name\": \"El Salvador\", \"x\": []}, {\"text\": [], \"y\": [], \"mode\": \"marker\", \"marker\": {\"sizeref\": 200000, \"sizemode\": \"area\", \"size\": []}, \"name\": \"Saudi Arabia\", \"x\": []}, {\"text\": [], \"y\": [], \"mode\": \"marker\", \"marker\": {\"sizeref\": 200000, \"sizemode\": \"area\", \"size\": []}, \"name\": \"Iceland\", \"x\": []}, {\"text\": [], \"y\": [], \"mode\": \"marker\", \"marker\": {\"sizeref\": 200000, \"sizemode\": \"area\", \"size\": []}, \"name\": \"Mexico\", \"x\": []}, {\"text\": [], \"y\": [], \"mode\": \"marker\", \"marker\": {\"sizeref\": 200000, \"sizemode\": \"area\", \"size\": []}, \"name\": \"North Korea\", \"x\": []}, {\"text\": [], \"y\": [], \"mode\": \"marker\", \"marker\": {\"sizeref\": 200000, \"sizemode\": \"area\", \"size\": []}, \"name\": \"Ethiopia\", \"x\": []}, {\"text\": [], \"y\": [], \"mode\": \"marker\", \"marker\": {\"sizeref\": 200000, \"sizemode\": \"area\", \"size\": []}, \"name\": \"Guatemala\", \"x\": []}, {\"text\": [], \"y\": [], \"mode\": \"marker\", \"marker\": {\"sizeref\": 200000, \"sizemode\": \"area\", \"size\": []}, \"name\": \"Solomon Is.\", \"x\": []}, {\"text\": [], \"y\": [], \"mode\": \"marker\", \"marker\": {\"sizeref\": 200000, \"sizemode\": \"area\", \"size\": []}, \"name\": \"Portugal\", \"x\": []}, {\"text\": [], \"y\": [], \"mode\": \"marker\", \"marker\": {\"sizeref\": 200000, \"sizemode\": \"area\", \"size\": []}, \"name\": \"Colombia\", \"x\": []}, {\"text\": [], \"y\": [], \"mode\": \"marker\", \"marker\": {\"sizeref\": 200000, \"sizemode\": \"area\", \"size\": []}, \"name\": \"Pacific Ocean\", \"x\": []}, {\"text\": [], \"y\": [], \"mode\": \"marker\", \"marker\": {\"sizeref\": 200000, \"sizemode\": \"area\", \"size\": []}, \"name\": \"Peru\", \"x\": []}, {\"text\": [], \"y\": [], \"mode\": \"marker\", \"marker\": {\"sizeref\": 200000, \"sizemode\": \"area\", \"size\": []}, \"name\": \"China\", \"x\": []}, {\"text\": [], \"y\": [], \"mode\": \"marker\", \"marker\": {\"sizeref\": 200000, \"sizemode\": \"area\", \"size\": []}, \"name\": \"Spain\", \"x\": []}, {\"text\": [], \"y\": [], \"mode\": \"marker\", \"marker\": {\"sizeref\": 200000, \"sizemode\": \"area\", \"size\": []}, \"name\": \"Canada\", \"x\": []}, {\"text\": [], \"y\": [], \"mode\": \"marker\", \"marker\": {\"sizeref\": 200000, \"sizemode\": \"area\", \"size\": []}, \"name\": \"Tanzania\", \"x\": []}, {\"text\": [], \"y\": [], \"mode\": \"marker\", \"marker\": {\"sizeref\": 200000, \"sizemode\": \"area\", \"size\": []}, \"name\": \"St. Vincent & the Grenadines\", \"x\": []}, {\"text\": [], \"y\": [], \"mode\": \"marker\", \"marker\": {\"sizeref\": 200000, \"sizemode\": \"area\", \"size\": []}, \"name\": \"Chile\", \"x\": []}, {\"text\": [], \"y\": [], \"mode\": \"marker\", \"marker\": {\"sizeref\": 200000, \"sizemode\": \"area\", \"size\": []}, \"name\": \"Turkey\", \"x\": []}, {\"text\": [], \"y\": [], \"mode\": \"marker\", \"marker\": {\"sizeref\": 200000, \"sizemode\": \"area\", \"size\": []}, \"name\": \"St. Kitts & Nevis\", \"x\": []}, {\"text\": [], \"y\": [], \"mode\": \"marker\", \"marker\": {\"sizeref\": 200000, \"sizemode\": \"area\", \"size\": []}, \"name\": \"Guadeloupe\", \"x\": []}, {\"text\": [], \"y\": [], \"mode\": \"marker\", \"marker\": {\"sizeref\": 200000, \"sizemode\": \"area\", \"size\": []}, \"name\": \"Cape Verde\", \"x\": []}, {\"text\": [], \"y\": [], \"mode\": \"marker\", \"marker\": {\"sizeref\": 200000, \"sizemode\": \"area\", \"size\": []}, \"name\": \"Tonga\", \"x\": []}, {\"text\": [], \"y\": [], \"mode\": \"marker\", \"marker\": {\"sizeref\": 200000, \"sizemode\": \"area\", \"size\": []}, \"name\": \"Taiwan\", \"x\": []}, {\"text\": [], \"y\": [], \"mode\": \"marker\", \"marker\": {\"sizeref\": 200000, \"sizemode\": \"area\", \"size\": []}, \"name\": \"Eritrea\", \"x\": []}, {\"text\": [], \"y\": [], \"mode\": \"marker\", \"marker\": {\"sizeref\": 200000, \"sizemode\": \"area\", \"size\": []}, \"name\": \"Comoros\", \"x\": []}, {\"text\": [], \"y\": [], \"mode\": \"marker\", \"marker\": {\"sizeref\": 200000, \"sizemode\": \"area\", \"size\": []}, \"name\": \"Martinique\", \"x\": []}, {\"text\": [], \"y\": [], \"mode\": \"marker\", \"marker\": {\"sizeref\": 200000, \"sizemode\": \"area\", \"size\": []}, \"name\": \"Samoa\", \"x\": []}, {\"text\": [], \"y\": [], \"mode\": \"marker\", \"marker\": {\"sizeref\": 200000, \"sizemode\": \"area\", \"size\": []}, \"name\": \"Cameroon\", \"x\": []}, {\"text\": [], \"y\": [], \"mode\": \"marker\", \"marker\": {\"sizeref\": 200000, \"sizemode\": \"area\", \"size\": []}, \"name\": \"Trinidad \", \"x\": []}, {\"text\": [], \"y\": [], \"mode\": \"marker\", \"marker\": {\"sizeref\": 200000, \"sizemode\": \"area\", \"size\": []}, \"name\": \"Congo, DRC\", \"x\": []}, {\"text\": [], \"y\": [], \"mode\": \"marker\", \"marker\": {\"sizeref\": 200000, \"sizemode\": \"area\", \"size\": []}, \"name\": \"Costa Rica\", \"x\": []}, {\"text\": [], \"y\": [], \"mode\": \"marker\", \"marker\": {\"sizeref\": 200000, \"sizemode\": \"area\", \"size\": []}, \"name\": \"Antarctica\", \"x\": []}, {\"text\": [], \"y\": [], \"mode\": \"marker\", \"marker\": {\"sizeref\": 200000, \"sizemode\": \"area\", \"size\": []}, \"name\": \"Reunion\", \"x\": []}, {\"text\": [], \"y\": [], \"mode\": \"marker\", \"marker\": {\"sizeref\": 200000, \"sizemode\": \"area\", \"size\": []}, \"name\": \"Montserrat\", \"x\": []}], \"name\": \"1950\"}, {\"data\": [{\"text\": [], \"y\": [], \"mode\": \"marker\", \"marker\": {\"sizeref\": 200000, \"sizemode\": \"area\", \"size\": []}, \"name\": null, \"x\": []}, {\"text\": [], \"y\": [], \"mode\": \"marker\", \"marker\": {\"sizeref\": 200000, \"sizemode\": \"area\", \"size\": []}, \"name\": \"New Zealand\", \"x\": []}, {\"text\": [], \"y\": [], \"mode\": \"marker\", \"marker\": {\"sizeref\": 200000, \"sizemode\": \"area\", \"size\": []}, \"name\": \"Japan\", \"x\": []}, {\"text\": [], \"y\": [], \"mode\": \"marker\", \"marker\": {\"sizeref\": 200000, \"sizemode\": \"area\", \"size\": []}, \"name\": \"Nicaragua\", \"x\": []}, {\"text\": [], \"y\": [], \"mode\": \"marker\", \"marker\": {\"sizeref\": 200000, \"sizemode\": \"area\", \"size\": []}, \"name\": \"Papua New Guinea\", \"x\": []}, {\"text\": [], \"y\": [], \"mode\": \"marker\", \"marker\": {\"sizeref\": 200000, \"sizemode\": \"area\", \"size\": []}, \"name\": \"Philippines\", \"x\": []}, {\"text\": [], \"y\": [], \"mode\": \"marker\", \"marker\": {\"sizeref\": 200000, \"sizemode\": \"area\", \"size\": []}, \"name\": \"Italy\", \"x\": []}, {\"text\": [], \"y\": [], \"mode\": \"marker\", \"marker\": {\"sizeref\": 200000, \"sizemode\": \"area\", \"size\": []}, \"name\": \"United States\", \"x\": []}, {\"text\": [], \"y\": [], \"mode\": \"marker\", \"marker\": {\"sizeref\": 200000, \"sizemode\": \"area\", \"size\": []}, \"name\": \"Greece\", \"x\": []}, {\"text\": [], \"y\": [], \"mode\": \"marker\", \"marker\": {\"sizeref\": 200000, \"sizemode\": \"area\", \"size\": []}, \"name\": \"Ecuador\", \"x\": []}, {\"text\": [], \"y\": [], \"mode\": \"marker\", \"marker\": {\"sizeref\": 200000, \"sizemode\": \"area\", \"size\": []}, \"name\": \"Vanuatu\", \"x\": []}, {\"text\": [], \"y\": [], \"mode\": \"marker\", \"marker\": {\"sizeref\": 200000, \"sizemode\": \"area\", \"size\": []}, \"name\": \"Yemen\", \"x\": []}, {\"text\": [], \"y\": [], \"mode\": \"marker\", \"marker\": {\"sizeref\": 200000, \"sizemode\": \"area\", \"size\": []}, \"name\": \"Russia\", \"x\": []}, {\"text\": [], \"y\": [], \"mode\": \"marker\", \"marker\": {\"sizeref\": 200000, \"sizemode\": \"area\", \"size\": []}, \"name\": \"Indonesia\", \"x\": []}, {\"text\": [], \"y\": [], \"mode\": \"marker\", \"marker\": {\"sizeref\": 200000, \"sizemode\": \"area\", \"size\": []}, \"name\": \"El Salvador\", \"x\": []}, {\"text\": [], \"y\": [], \"mode\": \"marker\", \"marker\": {\"sizeref\": 200000, \"sizemode\": \"area\", \"size\": []}, \"name\": \"Saudi Arabia\", \"x\": []}, {\"text\": [], \"y\": [], \"mode\": \"marker\", \"marker\": {\"sizeref\": 200000, \"sizemode\": \"area\", \"size\": []}, \"name\": \"Iceland\", \"x\": []}, {\"text\": [], \"y\": [], \"mode\": \"marker\", \"marker\": {\"sizeref\": 200000, \"sizemode\": \"area\", \"size\": []}, \"name\": \"Mexico\", \"x\": []}, {\"text\": [], \"y\": [], \"mode\": \"marker\", \"marker\": {\"sizeref\": 200000, \"sizemode\": \"area\", \"size\": []}, \"name\": \"North Korea\", \"x\": []}, {\"text\": [], \"y\": [], \"mode\": \"marker\", \"marker\": {\"sizeref\": 200000, \"sizemode\": \"area\", \"size\": []}, \"name\": \"Ethiopia\", \"x\": []}, {\"text\": [], \"y\": [], \"mode\": \"marker\", \"marker\": {\"sizeref\": 200000, \"sizemode\": \"area\", \"size\": []}, \"name\": \"Guatemala\", \"x\": []}, {\"text\": [], \"y\": [], \"mode\": \"marker\", \"marker\": {\"sizeref\": 200000, \"sizemode\": \"area\", \"size\": []}, \"name\": \"Solomon Is.\", \"x\": []}, {\"text\": [], \"y\": [], \"mode\": \"marker\", \"marker\": {\"sizeref\": 200000, \"sizemode\": \"area\", \"size\": []}, \"name\": \"Portugal\", \"x\": []}, {\"text\": [], \"y\": [], \"mode\": \"marker\", \"marker\": {\"sizeref\": 200000, \"sizemode\": \"area\", \"size\": []}, \"name\": \"Colombia\", \"x\": []}, {\"text\": [], \"y\": [], \"mode\": \"marker\", \"marker\": {\"sizeref\": 200000, \"sizemode\": \"area\", \"size\": []}, \"name\": \"Pacific Ocean\", \"x\": []}, {\"text\": [], \"y\": [], \"mode\": \"marker\", \"marker\": {\"sizeref\": 200000, \"sizemode\": \"area\", \"size\": []}, \"name\": \"Peru\", \"x\": []}, {\"text\": [], \"y\": [], \"mode\": \"marker\", \"marker\": {\"sizeref\": 200000, \"sizemode\": \"area\", \"size\": []}, \"name\": \"China\", \"x\": []}, {\"text\": [], \"y\": [], \"mode\": \"marker\", \"marker\": {\"sizeref\": 200000, \"sizemode\": \"area\", \"size\": []}, \"name\": \"Spain\", \"x\": []}, {\"text\": [], \"y\": [], \"mode\": \"marker\", \"marker\": {\"sizeref\": 200000, \"sizemode\": \"area\", \"size\": []}, \"name\": \"Canada\", \"x\": []}, {\"text\": [], \"y\": [], \"mode\": \"marker\", \"marker\": {\"sizeref\": 200000, \"sizemode\": \"area\", \"size\": []}, \"name\": \"Tanzania\", \"x\": []}, {\"text\": [], \"y\": [], \"mode\": \"marker\", \"marker\": {\"sizeref\": 200000, \"sizemode\": \"area\", \"size\": []}, \"name\": \"St. Vincent & the Grenadines\", \"x\": []}, {\"text\": [\"Chile\"], \"y\": [-40.59], \"mode\": \"marker\", \"marker\": {\"sizeref\": 200000, \"sizemode\": \"area\", \"size\": [3.0]}, \"name\": \"Chile\", \"x\": [-72.117]}, {\"text\": [], \"y\": [], \"mode\": \"marker\", \"marker\": {\"sizeref\": 200000, \"sizemode\": \"area\", \"size\": []}, \"name\": \"Turkey\", \"x\": []}, {\"text\": [], \"y\": [], \"mode\": \"marker\", \"marker\": {\"sizeref\": 200000, \"sizemode\": \"area\", \"size\": []}, \"name\": \"St. Kitts & Nevis\", \"x\": []}, {\"text\": [], \"y\": [], \"mode\": \"marker\", \"marker\": {\"sizeref\": 200000, \"sizemode\": \"area\", \"size\": []}, \"name\": \"Guadeloupe\", \"x\": []}, {\"text\": [], \"y\": [], \"mode\": \"marker\", \"marker\": {\"sizeref\": 200000, \"sizemode\": \"area\", \"size\": []}, \"name\": \"Cape Verde\", \"x\": []}, {\"text\": [], \"y\": [], \"mode\": \"marker\", \"marker\": {\"sizeref\": 200000, \"sizemode\": \"area\", \"size\": []}, \"name\": \"Tonga\", \"x\": []}, {\"text\": [], \"y\": [], \"mode\": \"marker\", \"marker\": {\"sizeref\": 200000, \"sizemode\": \"area\", \"size\": []}, \"name\": \"Taiwan\", \"x\": []}, {\"text\": [], \"y\": [], \"mode\": \"marker\", \"marker\": {\"sizeref\": 200000, \"sizemode\": \"area\", \"size\": []}, \"name\": \"Eritrea\", \"x\": []}, {\"text\": [], \"y\": [], \"mode\": \"marker\", \"marker\": {\"sizeref\": 200000, \"sizemode\": \"area\", \"size\": []}, \"name\": \"Comoros\", \"x\": []}, {\"text\": [], \"y\": [], \"mode\": \"marker\", \"marker\": {\"sizeref\": 200000, \"sizemode\": \"area\", \"size\": []}, \"name\": \"Martinique\", \"x\": []}, {\"text\": [], \"y\": [], \"mode\": \"marker\", \"marker\": {\"sizeref\": 200000, \"sizemode\": \"area\", \"size\": []}, \"name\": \"Samoa\", \"x\": []}, {\"text\": [], \"y\": [], \"mode\": \"marker\", \"marker\": {\"sizeref\": 200000, \"sizemode\": \"area\", \"size\": []}, \"name\": \"Cameroon\", \"x\": []}, {\"text\": [], \"y\": [], \"mode\": \"marker\", \"marker\": {\"sizeref\": 200000, \"sizemode\": \"area\", \"size\": []}, \"name\": \"Trinidad \", \"x\": []}, {\"text\": [], \"y\": [], \"mode\": \"marker\", \"marker\": {\"sizeref\": 200000, \"sizemode\": \"area\", \"size\": []}, \"name\": \"Congo, DRC\", \"x\": []}, {\"text\": [], \"y\": [], \"mode\": \"marker\", \"marker\": {\"sizeref\": 200000, \"sizemode\": \"area\", \"size\": []}, \"name\": \"Costa Rica\", \"x\": []}, {\"text\": [], \"y\": [], \"mode\": \"marker\", \"marker\": {\"sizeref\": 200000, \"sizemode\": \"area\", \"size\": []}, \"name\": \"Antarctica\", \"x\": []}, {\"text\": [], \"y\": [], \"mode\": \"marker\", \"marker\": {\"sizeref\": 200000, \"sizemode\": \"area\", \"size\": []}, \"name\": \"Reunion\", \"x\": []}, {\"text\": [], \"y\": [], \"mode\": \"marker\", \"marker\": {\"sizeref\": 200000, \"sizemode\": \"area\", \"size\": []}, \"name\": \"Montserrat\", \"x\": []}], \"name\": \"1960\"}, {\"data\": [{\"text\": [], \"y\": [], \"mode\": \"marker\", \"marker\": {\"sizeref\": 200000, \"sizemode\": \"area\", \"size\": []}, \"name\": null, \"x\": []}, {\"text\": [], \"y\": [], \"mode\": \"marker\", \"marker\": {\"sizeref\": 200000, \"sizemode\": \"area\", \"size\": []}, \"name\": \"New Zealand\", \"x\": []}, {\"text\": [], \"y\": [], \"mode\": \"marker\", \"marker\": {\"sizeref\": 200000, \"sizemode\": \"area\", \"size\": []}, \"name\": \"Japan\", \"x\": []}, {\"text\": [], \"y\": [], \"mode\": \"marker\", \"marker\": {\"sizeref\": 200000, \"sizemode\": \"area\", \"size\": []}, \"name\": \"Nicaragua\", \"x\": []}, {\"text\": [], \"y\": [], \"mode\": \"marker\", \"marker\": {\"sizeref\": 200000, \"sizemode\": \"area\", \"size\": []}, \"name\": \"Papua New Guinea\", \"x\": []}, {\"text\": [], \"y\": [], \"mode\": \"marker\", \"marker\": {\"sizeref\": 200000, \"sizemode\": \"area\", \"size\": []}, \"name\": \"Philippines\", \"x\": []}, {\"text\": [\"Italy\"], \"y\": [40.827], \"mode\": \"marker\", \"marker\": {\"sizeref\": 200000, \"sizemode\": \"area\", \"size\": [null]}, \"name\": \"Italy\", \"x\": [14.139000000000001]}, {\"text\": [], \"y\": [], \"mode\": \"marker\", \"marker\": {\"sizeref\": 200000, \"sizemode\": \"area\", \"size\": []}, \"name\": \"United States\", \"x\": []}, {\"text\": [], \"y\": [], \"mode\": \"marker\", \"marker\": {\"sizeref\": 200000, \"sizemode\": \"area\", \"size\": []}, \"name\": \"Greece\", \"x\": []}, {\"text\": [], \"y\": [], \"mode\": \"marker\", \"marker\": {\"sizeref\": 200000, \"sizemode\": \"area\", \"size\": []}, \"name\": \"Ecuador\", \"x\": []}, {\"text\": [], \"y\": [], \"mode\": \"marker\", \"marker\": {\"sizeref\": 200000, \"sizemode\": \"area\", \"size\": []}, \"name\": \"Vanuatu\", \"x\": []}, {\"text\": [], \"y\": [], \"mode\": \"marker\", \"marker\": {\"sizeref\": 200000, \"sizemode\": \"area\", \"size\": []}, \"name\": \"Yemen\", \"x\": []}, {\"text\": [], \"y\": [], \"mode\": \"marker\", \"marker\": {\"sizeref\": 200000, \"sizemode\": \"area\", \"size\": []}, \"name\": \"Russia\", \"x\": []}, {\"text\": [], \"y\": [], \"mode\": \"marker\", \"marker\": {\"sizeref\": 200000, \"sizemode\": \"area\", \"size\": []}, \"name\": \"Indonesia\", \"x\": []}, {\"text\": [], \"y\": [], \"mode\": \"marker\", \"marker\": {\"sizeref\": 200000, \"sizemode\": \"area\", \"size\": []}, \"name\": \"El Salvador\", \"x\": []}, {\"text\": [], \"y\": [], \"mode\": \"marker\", \"marker\": {\"sizeref\": 200000, \"sizemode\": \"area\", \"size\": []}, \"name\": \"Saudi Arabia\", \"x\": []}, {\"text\": [\"Iceland\"], \"y\": [63.98], \"mode\": \"marker\", \"marker\": {\"sizeref\": 200000, \"sizemode\": \"area\", \"size\": [3.0]}, \"name\": \"Iceland\", \"x\": [-19.7]}, {\"text\": [], \"y\": [], \"mode\": \"marker\", \"marker\": {\"sizeref\": 200000, \"sizemode\": \"area\", \"size\": []}, \"name\": \"Mexico\", \"x\": []}, {\"text\": [], \"y\": [], \"mode\": \"marker\", \"marker\": {\"sizeref\": 200000, \"sizemode\": \"area\", \"size\": []}, \"name\": \"North Korea\", \"x\": []}, {\"text\": [], \"y\": [], \"mode\": \"marker\", \"marker\": {\"sizeref\": 200000, \"sizemode\": \"area\", \"size\": []}, \"name\": \"Ethiopia\", \"x\": []}, {\"text\": [], \"y\": [], \"mode\": \"marker\", \"marker\": {\"sizeref\": 200000, \"sizemode\": \"area\", \"size\": []}, \"name\": \"Guatemala\", \"x\": []}, {\"text\": [], \"y\": [], \"mode\": \"marker\", \"marker\": {\"sizeref\": 200000, \"sizemode\": \"area\", \"size\": []}, \"name\": \"Solomon Is.\", \"x\": []}, {\"text\": [], \"y\": [], \"mode\": \"marker\", \"marker\": {\"sizeref\": 200000, \"sizemode\": \"area\", \"size\": []}, \"name\": \"Portugal\", \"x\": []}, {\"text\": [], \"y\": [], \"mode\": \"marker\", \"marker\": {\"sizeref\": 200000, \"sizemode\": \"area\", \"size\": []}, \"name\": \"Colombia\", \"x\": []}, {\"text\": [], \"y\": [], \"mode\": \"marker\", \"marker\": {\"sizeref\": 200000, \"sizemode\": \"area\", \"size\": []}, \"name\": \"Pacific Ocean\", \"x\": []}, {\"text\": [], \"y\": [], \"mode\": \"marker\", \"marker\": {\"sizeref\": 200000, \"sizemode\": \"area\", \"size\": []}, \"name\": \"Peru\", \"x\": []}, {\"text\": [], \"y\": [], \"mode\": \"marker\", \"marker\": {\"sizeref\": 200000, \"sizemode\": \"area\", \"size\": []}, \"name\": \"China\", \"x\": []}, {\"text\": [], \"y\": [], \"mode\": \"marker\", \"marker\": {\"sizeref\": 200000, \"sizemode\": \"area\", \"size\": []}, \"name\": \"Spain\", \"x\": []}, {\"text\": [], \"y\": [], \"mode\": \"marker\", \"marker\": {\"sizeref\": 200000, \"sizemode\": \"area\", \"size\": []}, \"name\": \"Canada\", \"x\": []}, {\"text\": [], \"y\": [], \"mode\": \"marker\", \"marker\": {\"sizeref\": 200000, \"sizemode\": \"area\", \"size\": []}, \"name\": \"Tanzania\", \"x\": []}, {\"text\": [], \"y\": [], \"mode\": \"marker\", \"marker\": {\"sizeref\": 200000, \"sizemode\": \"area\", \"size\": []}, \"name\": \"St. Vincent & the Grenadines\", \"x\": []}, {\"text\": [], \"y\": [], \"mode\": \"marker\", \"marker\": {\"sizeref\": 200000, \"sizemode\": \"area\", \"size\": []}, \"name\": \"Chile\", \"x\": []}, {\"text\": [], \"y\": [], \"mode\": \"marker\", \"marker\": {\"sizeref\": 200000, \"sizemode\": \"area\", \"size\": []}, \"name\": \"Turkey\", \"x\": []}, {\"text\": [], \"y\": [], \"mode\": \"marker\", \"marker\": {\"sizeref\": 200000, \"sizemode\": \"area\", \"size\": []}, \"name\": \"St. Kitts & Nevis\", \"x\": []}, {\"text\": [], \"y\": [], \"mode\": \"marker\", \"marker\": {\"sizeref\": 200000, \"sizemode\": \"area\", \"size\": []}, \"name\": \"Guadeloupe\", \"x\": []}, {\"text\": [], \"y\": [], \"mode\": \"marker\", \"marker\": {\"sizeref\": 200000, \"sizemode\": \"area\", \"size\": []}, \"name\": \"Cape Verde\", \"x\": []}, {\"text\": [], \"y\": [], \"mode\": \"marker\", \"marker\": {\"sizeref\": 200000, \"sizemode\": \"area\", \"size\": []}, \"name\": \"Tonga\", \"x\": []}, {\"text\": [], \"y\": [], \"mode\": \"marker\", \"marker\": {\"sizeref\": 200000, \"sizemode\": \"area\", \"size\": []}, \"name\": \"Taiwan\", \"x\": []}, {\"text\": [], \"y\": [], \"mode\": \"marker\", \"marker\": {\"sizeref\": 200000, \"sizemode\": \"area\", \"size\": []}, \"name\": \"Eritrea\", \"x\": []}, {\"text\": [], \"y\": [], \"mode\": \"marker\", \"marker\": {\"sizeref\": 200000, \"sizemode\": \"area\", \"size\": []}, \"name\": \"Comoros\", \"x\": []}, {\"text\": [], \"y\": [], \"mode\": \"marker\", \"marker\": {\"sizeref\": 200000, \"sizemode\": \"area\", \"size\": []}, \"name\": \"Martinique\", \"x\": []}, {\"text\": [], \"y\": [], \"mode\": \"marker\", \"marker\": {\"sizeref\": 200000, \"sizemode\": \"area\", \"size\": []}, \"name\": \"Samoa\", \"x\": []}, {\"text\": [], \"y\": [], \"mode\": \"marker\", \"marker\": {\"sizeref\": 200000, \"sizemode\": \"area\", \"size\": []}, \"name\": \"Cameroon\", \"x\": []}, {\"text\": [], \"y\": [], \"mode\": \"marker\", \"marker\": {\"sizeref\": 200000, \"sizemode\": \"area\", \"size\": []}, \"name\": \"Trinidad \", \"x\": []}, {\"text\": [], \"y\": [], \"mode\": \"marker\", \"marker\": {\"sizeref\": 200000, \"sizemode\": \"area\", \"size\": []}, \"name\": \"Congo, DRC\", \"x\": []}, {\"text\": [], \"y\": [], \"mode\": \"marker\", \"marker\": {\"sizeref\": 200000, \"sizemode\": \"area\", \"size\": []}, \"name\": \"Costa Rica\", \"x\": []}, {\"text\": [], \"y\": [], \"mode\": \"marker\", \"marker\": {\"sizeref\": 200000, \"sizemode\": \"area\", \"size\": []}, \"name\": \"Antarctica\", \"x\": []}, {\"text\": [], \"y\": [], \"mode\": \"marker\", \"marker\": {\"sizeref\": 200000, \"sizemode\": \"area\", \"size\": []}, \"name\": \"Reunion\", \"x\": []}, {\"text\": [], \"y\": [], \"mode\": \"marker\", \"marker\": {\"sizeref\": 200000, \"sizemode\": \"area\", \"size\": []}, \"name\": \"Montserrat\", \"x\": []}], \"name\": \"1970\"}, {\"data\": [{\"text\": [], \"y\": [], \"mode\": \"marker\", \"marker\": {\"sizeref\": 200000, \"sizemode\": \"area\", \"size\": []}, \"name\": null, \"x\": []}, {\"text\": [], \"y\": [], \"mode\": \"marker\", \"marker\": {\"sizeref\": 200000, \"sizemode\": \"area\", \"size\": []}, \"name\": \"New Zealand\", \"x\": []}, {\"text\": [], \"y\": [], \"mode\": \"marker\", \"marker\": {\"sizeref\": 200000, \"sizemode\": \"area\", \"size\": []}, \"name\": \"Japan\", \"x\": []}, {\"text\": [], \"y\": [], \"mode\": \"marker\", \"marker\": {\"sizeref\": 200000, \"sizemode\": \"area\", \"size\": []}, \"name\": \"Nicaragua\", \"x\": []}, {\"text\": [], \"y\": [], \"mode\": \"marker\", \"marker\": {\"sizeref\": 200000, \"sizemode\": \"area\", \"size\": []}, \"name\": \"Papua New Guinea\", \"x\": []}, {\"text\": [], \"y\": [], \"mode\": \"marker\", \"marker\": {\"sizeref\": 200000, \"sizemode\": \"area\", \"size\": []}, \"name\": \"Philippines\", \"x\": []}, {\"text\": [], \"y\": [], \"mode\": \"marker\", \"marker\": {\"sizeref\": 200000, \"sizemode\": \"area\", \"size\": []}, \"name\": \"Italy\", \"x\": []}, {\"text\": [\"United States\", \"United States\"], \"y\": [46.2, 45.373999999999995], \"mode\": \"marker\", \"marker\": {\"sizeref\": 200000, \"sizemode\": \"area\", \"size\": [5.0, null]}, \"name\": \"United States\", \"x\": [-122.18, -121.694]}, {\"text\": [], \"y\": [], \"mode\": \"marker\", \"marker\": {\"sizeref\": 200000, \"sizemode\": \"area\", \"size\": []}, \"name\": \"Greece\", \"x\": []}, {\"text\": [], \"y\": [], \"mode\": \"marker\", \"marker\": {\"sizeref\": 200000, \"sizemode\": \"area\", \"size\": []}, \"name\": \"Ecuador\", \"x\": []}, {\"text\": [], \"y\": [], \"mode\": \"marker\", \"marker\": {\"sizeref\": 200000, \"sizemode\": \"area\", \"size\": []}, \"name\": \"Vanuatu\", \"x\": []}, {\"text\": [], \"y\": [], \"mode\": \"marker\", \"marker\": {\"sizeref\": 200000, \"sizemode\": \"area\", \"size\": []}, \"name\": \"Yemen\", \"x\": []}, {\"text\": [], \"y\": [], \"mode\": \"marker\", \"marker\": {\"sizeref\": 200000, \"sizemode\": \"area\", \"size\": []}, \"name\": \"Russia\", \"x\": []}, {\"text\": [], \"y\": [], \"mode\": \"marker\", \"marker\": {\"sizeref\": 200000, \"sizemode\": \"area\", \"size\": []}, \"name\": \"Indonesia\", \"x\": []}, {\"text\": [], \"y\": [], \"mode\": \"marker\", \"marker\": {\"sizeref\": 200000, \"sizemode\": \"area\", \"size\": []}, \"name\": \"El Salvador\", \"x\": []}, {\"text\": [], \"y\": [], \"mode\": \"marker\", \"marker\": {\"sizeref\": 200000, \"sizemode\": \"area\", \"size\": []}, \"name\": \"Saudi Arabia\", \"x\": []}, {\"text\": [\"Iceland\"], \"y\": [63.98], \"mode\": \"marker\", \"marker\": {\"sizeref\": 200000, \"sizemode\": \"area\", \"size\": [3.0]}, \"name\": \"Iceland\", \"x\": [-19.7]}, {\"text\": [], \"y\": [], \"mode\": \"marker\", \"marker\": {\"sizeref\": 200000, \"sizemode\": \"area\", \"size\": []}, \"name\": \"Mexico\", \"x\": []}, {\"text\": [], \"y\": [], \"mode\": \"marker\", \"marker\": {\"sizeref\": 200000, \"sizemode\": \"area\", \"size\": []}, \"name\": \"North Korea\", \"x\": []}, {\"text\": [], \"y\": [], \"mode\": \"marker\", \"marker\": {\"sizeref\": 200000, \"sizemode\": \"area\", \"size\": []}, \"name\": \"Ethiopia\", \"x\": []}, {\"text\": [], \"y\": [], \"mode\": \"marker\", \"marker\": {\"sizeref\": 200000, \"sizemode\": \"area\", \"size\": []}, \"name\": \"Guatemala\", \"x\": []}, {\"text\": [], \"y\": [], \"mode\": \"marker\", \"marker\": {\"sizeref\": 200000, \"sizemode\": \"area\", \"size\": []}, \"name\": \"Solomon Is.\", \"x\": []}, {\"text\": [], \"y\": [], \"mode\": \"marker\", \"marker\": {\"sizeref\": 200000, \"sizemode\": \"area\", \"size\": []}, \"name\": \"Portugal\", \"x\": []}, {\"text\": [], \"y\": [], \"mode\": \"marker\", \"marker\": {\"sizeref\": 200000, \"sizemode\": \"area\", \"size\": []}, \"name\": \"Colombia\", \"x\": []}, {\"text\": [], \"y\": [], \"mode\": \"marker\", \"marker\": {\"sizeref\": 200000, \"sizemode\": \"area\", \"size\": []}, \"name\": \"Pacific Ocean\", \"x\": []}, {\"text\": [], \"y\": [], \"mode\": \"marker\", \"marker\": {\"sizeref\": 200000, \"sizemode\": \"area\", \"size\": []}, \"name\": \"Peru\", \"x\": []}, {\"text\": [], \"y\": [], \"mode\": \"marker\", \"marker\": {\"sizeref\": 200000, \"sizemode\": \"area\", \"size\": []}, \"name\": \"China\", \"x\": []}, {\"text\": [], \"y\": [], \"mode\": \"marker\", \"marker\": {\"sizeref\": 200000, \"sizemode\": \"area\", \"size\": []}, \"name\": \"Spain\", \"x\": []}, {\"text\": [], \"y\": [], \"mode\": \"marker\", \"marker\": {\"sizeref\": 200000, \"sizemode\": \"area\", \"size\": []}, \"name\": \"Canada\", \"x\": []}, {\"text\": [], \"y\": [], \"mode\": \"marker\", \"marker\": {\"sizeref\": 200000, \"sizemode\": \"area\", \"size\": []}, \"name\": \"Tanzania\", \"x\": []}, {\"text\": [], \"y\": [], \"mode\": \"marker\", \"marker\": {\"sizeref\": 200000, \"sizemode\": \"area\", \"size\": []}, \"name\": \"St. Vincent & the Grenadines\", \"x\": []}, {\"text\": [], \"y\": [], \"mode\": \"marker\", \"marker\": {\"sizeref\": 200000, \"sizemode\": \"area\", \"size\": []}, \"name\": \"Chile\", \"x\": []}, {\"text\": [], \"y\": [], \"mode\": \"marker\", \"marker\": {\"sizeref\": 200000, \"sizemode\": \"area\", \"size\": []}, \"name\": \"Turkey\", \"x\": []}, {\"text\": [], \"y\": [], \"mode\": \"marker\", \"marker\": {\"sizeref\": 200000, \"sizemode\": \"area\", \"size\": []}, \"name\": \"St. Kitts & Nevis\", \"x\": []}, {\"text\": [], \"y\": [], \"mode\": \"marker\", \"marker\": {\"sizeref\": 200000, \"sizemode\": \"area\", \"size\": []}, \"name\": \"Guadeloupe\", \"x\": []}, {\"text\": [], \"y\": [], \"mode\": \"marker\", \"marker\": {\"sizeref\": 200000, \"sizemode\": \"area\", \"size\": []}, \"name\": \"Cape Verde\", \"x\": []}, {\"text\": [], \"y\": [], \"mode\": \"marker\", \"marker\": {\"sizeref\": 200000, \"sizemode\": \"area\", \"size\": []}, \"name\": \"Tonga\", \"x\": []}, {\"text\": [], \"y\": [], \"mode\": \"marker\", \"marker\": {\"sizeref\": 200000, \"sizemode\": \"area\", \"size\": []}, \"name\": \"Taiwan\", \"x\": []}, {\"text\": [], \"y\": [], \"mode\": \"marker\", \"marker\": {\"sizeref\": 200000, \"sizemode\": \"area\", \"size\": []}, \"name\": \"Eritrea\", \"x\": []}, {\"text\": [], \"y\": [], \"mode\": \"marker\", \"marker\": {\"sizeref\": 200000, \"sizemode\": \"area\", \"size\": []}, \"name\": \"Comoros\", \"x\": []}, {\"text\": [], \"y\": [], \"mode\": \"marker\", \"marker\": {\"sizeref\": 200000, \"sizemode\": \"area\", \"size\": []}, \"name\": \"Martinique\", \"x\": []}, {\"text\": [], \"y\": [], \"mode\": \"marker\", \"marker\": {\"sizeref\": 200000, \"sizemode\": \"area\", \"size\": []}, \"name\": \"Samoa\", \"x\": []}, {\"text\": [], \"y\": [], \"mode\": \"marker\", \"marker\": {\"sizeref\": 200000, \"sizemode\": \"area\", \"size\": []}, \"name\": \"Cameroon\", \"x\": []}, {\"text\": [], \"y\": [], \"mode\": \"marker\", \"marker\": {\"sizeref\": 200000, \"sizemode\": \"area\", \"size\": []}, \"name\": \"Trinidad \", \"x\": []}, {\"text\": [], \"y\": [], \"mode\": \"marker\", \"marker\": {\"sizeref\": 200000, \"sizemode\": \"area\", \"size\": []}, \"name\": \"Congo, DRC\", \"x\": []}, {\"text\": [], \"y\": [], \"mode\": \"marker\", \"marker\": {\"sizeref\": 200000, \"sizemode\": \"area\", \"size\": []}, \"name\": \"Costa Rica\", \"x\": []}, {\"text\": [], \"y\": [], \"mode\": \"marker\", \"marker\": {\"sizeref\": 200000, \"sizemode\": \"area\", \"size\": []}, \"name\": \"Antarctica\", \"x\": []}, {\"text\": [], \"y\": [], \"mode\": \"marker\", \"marker\": {\"sizeref\": 200000, \"sizemode\": \"area\", \"size\": []}, \"name\": \"Reunion\", \"x\": []}, {\"text\": [], \"y\": [], \"mode\": \"marker\", \"marker\": {\"sizeref\": 200000, \"sizemode\": \"area\", \"size\": []}, \"name\": \"Montserrat\", \"x\": []}], \"name\": \"1980\"}, {\"data\": [{\"text\": [], \"y\": [], \"mode\": \"marker\", \"marker\": {\"sizeref\": 200000, \"sizemode\": \"area\", \"size\": []}, \"name\": null, \"x\": []}, {\"text\": [], \"y\": [], \"mode\": \"marker\", \"marker\": {\"sizeref\": 200000, \"sizemode\": \"area\", \"size\": []}, \"name\": \"New Zealand\", \"x\": []}, {\"text\": [\"Japan\", \"Japan\", \"Japan\"], \"y\": [32.88, 32.88, 32.88], \"mode\": \"marker\", \"marker\": {\"sizeref\": 200000, \"sizemode\": \"area\", \"size\": [2.0, 2.0, 2.0]}, \"name\": \"Japan\", \"x\": [131.1, 131.1, 131.1]}, {\"text\": [], \"y\": [], \"mode\": \"marker\", \"marker\": {\"sizeref\": 200000, \"sizemode\": \"area\", \"size\": []}, \"name\": \"Nicaragua\", \"x\": []}, {\"text\": [\"Papua New Guinea\"], \"y\": [-4.271], \"mode\": \"marker\", \"marker\": {\"sizeref\": 200000, \"sizemode\": \"area\", \"size\": [null]}, \"name\": \"Papua New Guinea\", \"x\": [152.203]}, {\"text\": [], \"y\": [], \"mode\": \"marker\", \"marker\": {\"sizeref\": 200000, \"sizemode\": \"area\", \"size\": []}, \"name\": \"Philippines\", \"x\": []}, {\"text\": [], \"y\": [], \"mode\": \"marker\", \"marker\": {\"sizeref\": 200000, \"sizemode\": \"area\", \"size\": []}, \"name\": \"Italy\", \"x\": []}, {\"text\": [], \"y\": [], \"mode\": \"marker\", \"marker\": {\"sizeref\": 200000, \"sizemode\": \"area\", \"size\": []}, \"name\": \"United States\", \"x\": []}, {\"text\": [], \"y\": [], \"mode\": \"marker\", \"marker\": {\"sizeref\": 200000, \"sizemode\": \"area\", \"size\": []}, \"name\": \"Greece\", \"x\": []}, {\"text\": [], \"y\": [], \"mode\": \"marker\", \"marker\": {\"sizeref\": 200000, \"sizemode\": \"area\", \"size\": []}, \"name\": \"Ecuador\", \"x\": []}, {\"text\": [], \"y\": [], \"mode\": \"marker\", \"marker\": {\"sizeref\": 200000, \"sizemode\": \"area\", \"size\": []}, \"name\": \"Vanuatu\", \"x\": []}, {\"text\": [], \"y\": [], \"mode\": \"marker\", \"marker\": {\"sizeref\": 200000, \"sizemode\": \"area\", \"size\": []}, \"name\": \"Yemen\", \"x\": []}, {\"text\": [\"Russia\"], \"y\": [56.653], \"mode\": \"marker\", \"marker\": {\"sizeref\": 200000, \"sizemode\": \"area\", \"size\": [3.0]}, \"name\": \"Russia\", \"x\": [161.36]}, {\"text\": [\"Indonesia\", \"Indonesia\"], \"y\": [-7.93, -7.93], \"mode\": \"marker\", \"marker\": {\"sizeref\": 200000, \"sizemode\": \"area\", \"size\": [4.0, null]}, \"name\": \"Indonesia\", \"x\": [112.30799999999999, 112.30799999999999]}, {\"text\": [], \"y\": [], \"mode\": \"marker\", \"marker\": {\"sizeref\": 200000, \"sizemode\": \"area\", \"size\": []}, \"name\": \"El Salvador\", \"x\": []}, {\"text\": [], \"y\": [], \"mode\": \"marker\", \"marker\": {\"sizeref\": 200000, \"sizemode\": \"area\", \"size\": []}, \"name\": \"Saudi Arabia\", \"x\": []}, {\"text\": [], \"y\": [], \"mode\": \"marker\", \"marker\": {\"sizeref\": 200000, \"sizemode\": \"area\", \"size\": []}, \"name\": \"Iceland\", \"x\": []}, {\"text\": [], \"y\": [], \"mode\": \"marker\", \"marker\": {\"sizeref\": 200000, \"sizemode\": \"area\", \"size\": []}, \"name\": \"Mexico\", \"x\": []}, {\"text\": [], \"y\": [], \"mode\": \"marker\", \"marker\": {\"sizeref\": 200000, \"sizemode\": \"area\", \"size\": []}, \"name\": \"North Korea\", \"x\": []}, {\"text\": [], \"y\": [], \"mode\": \"marker\", \"marker\": {\"sizeref\": 200000, \"sizemode\": \"area\", \"size\": []}, \"name\": \"Ethiopia\", \"x\": []}, {\"text\": [\"Guatemala\"], \"y\": [14.755999999999998], \"mode\": \"marker\", \"marker\": {\"sizeref\": 200000, \"sizemode\": \"area\", \"size\": [3.0]}, \"name\": \"Guatemala\", \"x\": [-91.552]}, {\"text\": [], \"y\": [], \"mode\": \"marker\", \"marker\": {\"sizeref\": 200000, \"sizemode\": \"area\", \"size\": []}, \"name\": \"Solomon Is.\", \"x\": []}, {\"text\": [], \"y\": [], \"mode\": \"marker\", \"marker\": {\"sizeref\": 200000, \"sizemode\": \"area\", \"size\": []}, \"name\": \"Portugal\", \"x\": []}, {\"text\": [], \"y\": [], \"mode\": \"marker\", \"marker\": {\"sizeref\": 200000, \"sizemode\": \"area\", \"size\": []}, \"name\": \"Colombia\", \"x\": []}, {\"text\": [], \"y\": [], \"mode\": \"marker\", \"marker\": {\"sizeref\": 200000, \"sizemode\": \"area\", \"size\": []}, \"name\": \"Pacific Ocean\", \"x\": []}, {\"text\": [\"Peru\"], \"y\": [-15.78], \"mode\": \"marker\", \"marker\": {\"sizeref\": 200000, \"sizemode\": \"area\", \"size\": [3.0]}, \"name\": \"Peru\", \"x\": [-71.85]}, {\"text\": [], \"y\": [], \"mode\": \"marker\", \"marker\": {\"sizeref\": 200000, \"sizemode\": \"area\", \"size\": []}, \"name\": \"China\", \"x\": []}, {\"text\": [], \"y\": [], \"mode\": \"marker\", \"marker\": {\"sizeref\": 200000, \"sizemode\": \"area\", \"size\": []}, \"name\": \"Spain\", \"x\": []}, {\"text\": [], \"y\": [], \"mode\": \"marker\", \"marker\": {\"sizeref\": 200000, \"sizemode\": \"area\", \"size\": []}, \"name\": \"Canada\", \"x\": []}, {\"text\": [], \"y\": [], \"mode\": \"marker\", \"marker\": {\"sizeref\": 200000, \"sizemode\": \"area\", \"size\": []}, \"name\": \"Tanzania\", \"x\": []}, {\"text\": [], \"y\": [], \"mode\": \"marker\", \"marker\": {\"sizeref\": 200000, \"sizemode\": \"area\", \"size\": []}, \"name\": \"St. Vincent & the Grenadines\", \"x\": []}, {\"text\": [], \"y\": [], \"mode\": \"marker\", \"marker\": {\"sizeref\": 200000, \"sizemode\": \"area\", \"size\": []}, \"name\": \"Chile\", \"x\": []}, {\"text\": [], \"y\": [], \"mode\": \"marker\", \"marker\": {\"sizeref\": 200000, \"sizemode\": \"area\", \"size\": []}, \"name\": \"Turkey\", \"x\": []}, {\"text\": [], \"y\": [], \"mode\": \"marker\", \"marker\": {\"sizeref\": 200000, \"sizemode\": \"area\", \"size\": []}, \"name\": \"St. Kitts & Nevis\", \"x\": []}, {\"text\": [], \"y\": [], \"mode\": \"marker\", \"marker\": {\"sizeref\": 200000, \"sizemode\": \"area\", \"size\": []}, \"name\": \"Guadeloupe\", \"x\": []}, {\"text\": [], \"y\": [], \"mode\": \"marker\", \"marker\": {\"sizeref\": 200000, \"sizemode\": \"area\", \"size\": []}, \"name\": \"Cape Verde\", \"x\": []}, {\"text\": [], \"y\": [], \"mode\": \"marker\", \"marker\": {\"sizeref\": 200000, \"sizemode\": \"area\", \"size\": []}, \"name\": \"Tonga\", \"x\": []}, {\"text\": [], \"y\": [], \"mode\": \"marker\", \"marker\": {\"sizeref\": 200000, \"sizemode\": \"area\", \"size\": []}, \"name\": \"Taiwan\", \"x\": []}, {\"text\": [], \"y\": [], \"mode\": \"marker\", \"marker\": {\"sizeref\": 200000, \"sizemode\": \"area\", \"size\": []}, \"name\": \"Eritrea\", \"x\": []}, {\"text\": [], \"y\": [], \"mode\": \"marker\", \"marker\": {\"sizeref\": 200000, \"sizemode\": \"area\", \"size\": []}, \"name\": \"Comoros\", \"x\": []}, {\"text\": [], \"y\": [], \"mode\": \"marker\", \"marker\": {\"sizeref\": 200000, \"sizemode\": \"area\", \"size\": []}, \"name\": \"Martinique\", \"x\": []}, {\"text\": [], \"y\": [], \"mode\": \"marker\", \"marker\": {\"sizeref\": 200000, \"sizemode\": \"area\", \"size\": []}, \"name\": \"Samoa\", \"x\": []}, {\"text\": [], \"y\": [], \"mode\": \"marker\", \"marker\": {\"sizeref\": 200000, \"sizemode\": \"area\", \"size\": []}, \"name\": \"Cameroon\", \"x\": []}, {\"text\": [], \"y\": [], \"mode\": \"marker\", \"marker\": {\"sizeref\": 200000, \"sizemode\": \"area\", \"size\": []}, \"name\": \"Trinidad \", \"x\": []}, {\"text\": [\"Congo, DRC\"], \"y\": [-1.52], \"mode\": \"marker\", \"marker\": {\"sizeref\": 200000, \"sizemode\": \"area\", \"size\": [null]}, \"name\": \"Congo, DRC\", \"x\": [29.25]}, {\"text\": [], \"y\": [], \"mode\": \"marker\", \"marker\": {\"sizeref\": 200000, \"sizemode\": \"area\", \"size\": []}, \"name\": \"Costa Rica\", \"x\": []}, {\"text\": [], \"y\": [], \"mode\": \"marker\", \"marker\": {\"sizeref\": 200000, \"sizemode\": \"area\", \"size\": []}, \"name\": \"Antarctica\", \"x\": []}, {\"text\": [], \"y\": [], \"mode\": \"marker\", \"marker\": {\"sizeref\": 200000, \"sizemode\": \"area\", \"size\": []}, \"name\": \"Reunion\", \"x\": []}, {\"text\": [], \"y\": [], \"mode\": \"marker\", \"marker\": {\"sizeref\": 200000, \"sizemode\": \"area\", \"size\": []}, \"name\": \"Montserrat\", \"x\": []}], \"name\": \"1990\"}, {\"data\": [{\"text\": [], \"y\": [], \"mode\": \"marker\", \"marker\": {\"sizeref\": 200000, \"sizemode\": \"area\", \"size\": []}, \"name\": null, \"x\": []}, {\"text\": [], \"y\": [], \"mode\": \"marker\", \"marker\": {\"sizeref\": 200000, \"sizemode\": \"area\", \"size\": []}, \"name\": \"New Zealand\", \"x\": []}, {\"text\": [\"Japan\"], \"y\": [34.08], \"mode\": \"marker\", \"marker\": {\"sizeref\": 200000, \"sizemode\": \"area\", \"size\": [2.0]}, \"name\": \"Japan\", \"x\": [139.53]}, {\"text\": [], \"y\": [], \"mode\": \"marker\", \"marker\": {\"sizeref\": 200000, \"sizemode\": \"area\", \"size\": []}, \"name\": \"Nicaragua\", \"x\": []}, {\"text\": [], \"y\": [], \"mode\": \"marker\", \"marker\": {\"sizeref\": 200000, \"sizemode\": \"area\", \"size\": []}, \"name\": \"Papua New Guinea\", \"x\": []}, {\"text\": [], \"y\": [], \"mode\": \"marker\", \"marker\": {\"sizeref\": 200000, \"sizemode\": \"area\", \"size\": []}, \"name\": \"Philippines\", \"x\": []}, {\"text\": [], \"y\": [], \"mode\": \"marker\", \"marker\": {\"sizeref\": 200000, \"sizemode\": \"area\", \"size\": []}, \"name\": \"Italy\", \"x\": []}, {\"text\": [\"United States\"], \"y\": [19.425], \"mode\": \"marker\", \"marker\": {\"sizeref\": 200000, \"sizemode\": \"area\", \"size\": [null]}, \"name\": \"United States\", \"x\": [-155.292]}, {\"text\": [], \"y\": [], \"mode\": \"marker\", \"marker\": {\"sizeref\": 200000, \"sizemode\": \"area\", \"size\": []}, \"name\": \"Greece\", \"x\": []}, {\"text\": [], \"y\": [], \"mode\": \"marker\", \"marker\": {\"sizeref\": 200000, \"sizemode\": \"area\", \"size\": []}, \"name\": \"Ecuador\", \"x\": []}, {\"text\": [], \"y\": [], \"mode\": \"marker\", \"marker\": {\"sizeref\": 200000, \"sizemode\": \"area\", \"size\": []}, \"name\": \"Vanuatu\", \"x\": []}, {\"text\": [], \"y\": [], \"mode\": \"marker\", \"marker\": {\"sizeref\": 200000, \"sizemode\": \"area\", \"size\": []}, \"name\": \"Yemen\", \"x\": []}, {\"text\": [], \"y\": [], \"mode\": \"marker\", \"marker\": {\"sizeref\": 200000, \"sizemode\": \"area\", \"size\": []}, \"name\": \"Russia\", \"x\": []}, {\"text\": [\"Indonesia\", \"Indonesia\"], \"y\": [-8.107999999999999, -7.542000000000001], \"mode\": \"marker\", \"marker\": {\"sizeref\": 200000, \"sizemode\": \"area\", \"size\": [3.0, 2.0]}, \"name\": \"Indonesia\", \"x\": [112.92, 110.44200000000001]}, {\"text\": [], \"y\": [], \"mode\": \"marker\", \"marker\": {\"sizeref\": 200000, \"sizemode\": \"area\", \"size\": []}, \"name\": \"El Salvador\", \"x\": []}, {\"text\": [], \"y\": [], \"mode\": \"marker\", \"marker\": {\"sizeref\": 200000, \"sizemode\": \"area\", \"size\": []}, \"name\": \"Saudi Arabia\", \"x\": []}, {\"text\": [], \"y\": [], \"mode\": \"marker\", \"marker\": {\"sizeref\": 200000, \"sizemode\": \"area\", \"size\": []}, \"name\": \"Iceland\", \"x\": []}, {\"text\": [], \"y\": [], \"mode\": \"marker\", \"marker\": {\"sizeref\": 200000, \"sizemode\": \"area\", \"size\": []}, \"name\": \"Mexico\", \"x\": []}, {\"text\": [], \"y\": [], \"mode\": \"marker\", \"marker\": {\"sizeref\": 200000, \"sizemode\": \"area\", \"size\": []}, \"name\": \"North Korea\", \"x\": []}, {\"text\": [], \"y\": [], \"mode\": \"marker\", \"marker\": {\"sizeref\": 200000, \"sizemode\": \"area\", \"size\": []}, \"name\": \"Ethiopia\", \"x\": []}, {\"text\": [], \"y\": [], \"mode\": \"marker\", \"marker\": {\"sizeref\": 200000, \"sizemode\": \"area\", \"size\": []}, \"name\": \"Guatemala\", \"x\": []}, {\"text\": [], \"y\": [], \"mode\": \"marker\", \"marker\": {\"sizeref\": 200000, \"sizemode\": \"area\", \"size\": []}, \"name\": \"Solomon Is.\", \"x\": []}, {\"text\": [], \"y\": [], \"mode\": \"marker\", \"marker\": {\"sizeref\": 200000, \"sizemode\": \"area\", \"size\": []}, \"name\": \"Portugal\", \"x\": []}, {\"text\": [], \"y\": [], \"mode\": \"marker\", \"marker\": {\"sizeref\": 200000, \"sizemode\": \"area\", \"size\": []}, \"name\": \"Colombia\", \"x\": []}, {\"text\": [], \"y\": [], \"mode\": \"marker\", \"marker\": {\"sizeref\": 200000, \"sizemode\": \"area\", \"size\": []}, \"name\": \"Pacific Ocean\", \"x\": []}, {\"text\": [], \"y\": [], \"mode\": \"marker\", \"marker\": {\"sizeref\": 200000, \"sizemode\": \"area\", \"size\": []}, \"name\": \"Peru\", \"x\": []}, {\"text\": [], \"y\": [], \"mode\": \"marker\", \"marker\": {\"sizeref\": 200000, \"sizemode\": \"area\", \"size\": []}, \"name\": \"China\", \"x\": []}, {\"text\": [], \"y\": [], \"mode\": \"marker\", \"marker\": {\"sizeref\": 200000, \"sizemode\": \"area\", \"size\": []}, \"name\": \"Spain\", \"x\": []}, {\"text\": [], \"y\": [], \"mode\": \"marker\", \"marker\": {\"sizeref\": 200000, \"sizemode\": \"area\", \"size\": []}, \"name\": \"Canada\", \"x\": []}, {\"text\": [], \"y\": [], \"mode\": \"marker\", \"marker\": {\"sizeref\": 200000, \"sizemode\": \"area\", \"size\": []}, \"name\": \"Tanzania\", \"x\": []}, {\"text\": [], \"y\": [], \"mode\": \"marker\", \"marker\": {\"sizeref\": 200000, \"sizemode\": \"area\", \"size\": []}, \"name\": \"St. Vincent & the Grenadines\", \"x\": []}, {\"text\": [], \"y\": [], \"mode\": \"marker\", \"marker\": {\"sizeref\": 200000, \"sizemode\": \"area\", \"size\": []}, \"name\": \"Chile\", \"x\": []}, {\"text\": [], \"y\": [], \"mode\": \"marker\", \"marker\": {\"sizeref\": 200000, \"sizemode\": \"area\", \"size\": []}, \"name\": \"Turkey\", \"x\": []}, {\"text\": [], \"y\": [], \"mode\": \"marker\", \"marker\": {\"sizeref\": 200000, \"sizemode\": \"area\", \"size\": []}, \"name\": \"St. Kitts & Nevis\", \"x\": []}, {\"text\": [], \"y\": [], \"mode\": \"marker\", \"marker\": {\"sizeref\": 200000, \"sizemode\": \"area\", \"size\": []}, \"name\": \"Guadeloupe\", \"x\": []}, {\"text\": [], \"y\": [], \"mode\": \"marker\", \"marker\": {\"sizeref\": 200000, \"sizemode\": \"area\", \"size\": []}, \"name\": \"Cape Verde\", \"x\": []}, {\"text\": [], \"y\": [], \"mode\": \"marker\", \"marker\": {\"sizeref\": 200000, \"sizemode\": \"area\", \"size\": []}, \"name\": \"Tonga\", \"x\": []}, {\"text\": [], \"y\": [], \"mode\": \"marker\", \"marker\": {\"sizeref\": 200000, \"sizemode\": \"area\", \"size\": []}, \"name\": \"Taiwan\", \"x\": []}, {\"text\": [], \"y\": [], \"mode\": \"marker\", \"marker\": {\"sizeref\": 200000, \"sizemode\": \"area\", \"size\": []}, \"name\": \"Eritrea\", \"x\": []}, {\"text\": [], \"y\": [], \"mode\": \"marker\", \"marker\": {\"sizeref\": 200000, \"sizemode\": \"area\", \"size\": []}, \"name\": \"Comoros\", \"x\": []}, {\"text\": [], \"y\": [], \"mode\": \"marker\", \"marker\": {\"sizeref\": 200000, \"sizemode\": \"area\", \"size\": []}, \"name\": \"Martinique\", \"x\": []}, {\"text\": [], \"y\": [], \"mode\": \"marker\", \"marker\": {\"sizeref\": 200000, \"sizemode\": \"area\", \"size\": []}, \"name\": \"Samoa\", \"x\": []}, {\"text\": [], \"y\": [], \"mode\": \"marker\", \"marker\": {\"sizeref\": 200000, \"sizemode\": \"area\", \"size\": []}, \"name\": \"Cameroon\", \"x\": []}, {\"text\": [], \"y\": [], \"mode\": \"marker\", \"marker\": {\"sizeref\": 200000, \"sizemode\": \"area\", \"size\": []}, \"name\": \"Trinidad \", \"x\": []}, {\"text\": [], \"y\": [], \"mode\": \"marker\", \"marker\": {\"sizeref\": 200000, \"sizemode\": \"area\", \"size\": []}, \"name\": \"Congo, DRC\", \"x\": []}, {\"text\": [\"Costa Rica\"], \"y\": [10.463], \"mode\": \"marker\", \"marker\": {\"sizeref\": 200000, \"sizemode\": \"area\", \"size\": [3.0]}, \"name\": \"Costa Rica\", \"x\": [-84.70299999999999]}, {\"text\": [], \"y\": [], \"mode\": \"marker\", \"marker\": {\"sizeref\": 200000, \"sizemode\": \"area\", \"size\": []}, \"name\": \"Antarctica\", \"x\": []}, {\"text\": [], \"y\": [], \"mode\": \"marker\", \"marker\": {\"sizeref\": 200000, \"sizemode\": \"area\", \"size\": []}, \"name\": \"Reunion\", \"x\": []}, {\"text\": [], \"y\": [], \"mode\": \"marker\", \"marker\": {\"sizeref\": 200000, \"sizemode\": \"area\", \"size\": []}, \"name\": \"Montserrat\", \"x\": []}], \"name\": \"2000\"}, {\"data\": [{\"text\": [], \"y\": [], \"mode\": \"marker\", \"marker\": {\"sizeref\": 200000, \"sizemode\": \"area\", \"size\": []}, \"name\": null, \"x\": []}, {\"text\": [], \"y\": [], \"mode\": \"marker\", \"marker\": {\"sizeref\": 200000, \"sizemode\": \"area\", \"size\": []}, \"name\": \"New Zealand\", \"x\": []}, {\"text\": [], \"y\": [], \"mode\": \"marker\", \"marker\": {\"sizeref\": 200000, \"sizemode\": \"area\", \"size\": []}, \"name\": \"Japan\", \"x\": []}, {\"text\": [], \"y\": [], \"mode\": \"marker\", \"marker\": {\"sizeref\": 200000, \"sizemode\": \"area\", \"size\": []}, \"name\": \"Nicaragua\", \"x\": []}, {\"text\": [], \"y\": [], \"mode\": \"marker\", \"marker\": {\"sizeref\": 200000, \"sizemode\": \"area\", \"size\": []}, \"name\": \"Papua New Guinea\", \"x\": []}, {\"text\": [], \"y\": [], \"mode\": \"marker\", \"marker\": {\"sizeref\": 200000, \"sizemode\": \"area\", \"size\": []}, \"name\": \"Philippines\", \"x\": []}, {\"text\": [], \"y\": [], \"mode\": \"marker\", \"marker\": {\"sizeref\": 200000, \"sizemode\": \"area\", \"size\": []}, \"name\": \"Italy\", \"x\": []}, {\"text\": [\"United States\"], \"y\": [16.708], \"mode\": \"marker\", \"marker\": {\"sizeref\": 200000, \"sizemode\": \"area\", \"size\": [null]}, \"name\": \"United States\", \"x\": [145.78]}, {\"text\": [], \"y\": [], \"mode\": \"marker\", \"marker\": {\"sizeref\": 200000, \"sizemode\": \"area\", \"size\": []}, \"name\": \"Greece\", \"x\": []}, {\"text\": [\"Ecuador\", \"Ecuador\"], \"y\": [-1.4669999999999999, -1.4669999999999999], \"mode\": \"marker\", \"marker\": {\"sizeref\": 200000, \"sizemode\": \"area\", \"size\": [3.0, 3.0]}, \"name\": \"Ecuador\", \"x\": [-78.442, -78.442]}, {\"text\": [], \"y\": [], \"mode\": \"marker\", \"marker\": {\"sizeref\": 200000, \"sizemode\": \"area\", \"size\": []}, \"name\": \"Vanuatu\", \"x\": []}, {\"text\": [], \"y\": [], \"mode\": \"marker\", \"marker\": {\"sizeref\": 200000, \"sizemode\": \"area\", \"size\": []}, \"name\": \"Yemen\", \"x\": []}, {\"text\": [], \"y\": [], \"mode\": \"marker\", \"marker\": {\"sizeref\": 200000, \"sizemode\": \"area\", \"size\": []}, \"name\": \"Russia\", \"x\": []}, {\"text\": [\"Indonesia\", \"Indonesia\", \"Indonesia\", \"Indonesia\"], \"y\": [2.78, 3.17, -7.542000000000001, -7.942], \"mode\": \"marker\", \"marker\": {\"sizeref\": 200000, \"sizemode\": \"area\", \"size\": [3.0, null, null, null]}, \"name\": \"Indonesia\", \"x\": [125.48, 98.39200000000001, 110.44200000000001, 112.95]}, {\"text\": [], \"y\": [], \"mode\": \"marker\", \"marker\": {\"sizeref\": 200000, \"sizemode\": \"area\", \"size\": []}, \"name\": \"El Salvador\", \"x\": []}, {\"text\": [], \"y\": [], \"mode\": \"marker\", \"marker\": {\"sizeref\": 200000, \"sizemode\": \"area\", \"size\": []}, \"name\": \"Saudi Arabia\", \"x\": []}, {\"text\": [\"Iceland\"], \"y\": [63.63], \"mode\": \"marker\", \"marker\": {\"sizeref\": 200000, \"sizemode\": \"area\", \"size\": [2.0]}, \"name\": \"Iceland\", \"x\": [-19.62]}, {\"text\": [], \"y\": [], \"mode\": \"marker\", \"marker\": {\"sizeref\": 200000, \"sizemode\": \"area\", \"size\": []}, \"name\": \"Mexico\", \"x\": []}, {\"text\": [], \"y\": [], \"mode\": \"marker\", \"marker\": {\"sizeref\": 200000, \"sizemode\": \"area\", \"size\": []}, \"name\": \"North Korea\", \"x\": []}, {\"text\": [], \"y\": [], \"mode\": \"marker\", \"marker\": {\"sizeref\": 200000, \"sizemode\": \"area\", \"size\": []}, \"name\": \"Ethiopia\", \"x\": []}, {\"text\": [\"Guatemala\"], \"y\": [14.380999999999998], \"mode\": \"marker\", \"marker\": {\"sizeref\": 200000, \"sizemode\": \"area\", \"size\": [1.0]}, \"name\": \"Guatemala\", \"x\": [-90.601]}, {\"text\": [], \"y\": [], \"mode\": \"marker\", \"marker\": {\"sizeref\": 200000, \"sizemode\": \"area\", \"size\": []}, \"name\": \"Solomon Is.\", \"x\": []}, {\"text\": [], \"y\": [], \"mode\": \"marker\", \"marker\": {\"sizeref\": 200000, \"sizemode\": \"area\", \"size\": []}, \"name\": \"Portugal\", \"x\": []}, {\"text\": [], \"y\": [], \"mode\": \"marker\", \"marker\": {\"sizeref\": 200000, \"sizemode\": \"area\", \"size\": []}, \"name\": \"Colombia\", \"x\": []}, {\"text\": [], \"y\": [], \"mode\": \"marker\", \"marker\": {\"sizeref\": 200000, \"sizemode\": \"area\", \"size\": []}, \"name\": \"Pacific Ocean\", \"x\": []}, {\"text\": [], \"y\": [], \"mode\": \"marker\", \"marker\": {\"sizeref\": 200000, \"sizemode\": \"area\", \"size\": []}, \"name\": \"Peru\", \"x\": []}, {\"text\": [], \"y\": [], \"mode\": \"marker\", \"marker\": {\"sizeref\": 200000, \"sizemode\": \"area\", \"size\": []}, \"name\": \"China\", \"x\": []}, {\"text\": [], \"y\": [], \"mode\": \"marker\", \"marker\": {\"sizeref\": 200000, \"sizemode\": \"area\", \"size\": []}, \"name\": \"Spain\", \"x\": []}, {\"text\": [], \"y\": [], \"mode\": \"marker\", \"marker\": {\"sizeref\": 200000, \"sizemode\": \"area\", \"size\": []}, \"name\": \"Canada\", \"x\": []}, {\"text\": [], \"y\": [], \"mode\": \"marker\", \"marker\": {\"sizeref\": 200000, \"sizemode\": \"area\", \"size\": []}, \"name\": \"Tanzania\", \"x\": []}, {\"text\": [], \"y\": [], \"mode\": \"marker\", \"marker\": {\"sizeref\": 200000, \"sizemode\": \"area\", \"size\": []}, \"name\": \"St. Vincent & the Grenadines\", \"x\": []}, {\"text\": [], \"y\": [], \"mode\": \"marker\", \"marker\": {\"sizeref\": 200000, \"sizemode\": \"area\", \"size\": []}, \"name\": \"Chile\", \"x\": []}, {\"text\": [], \"y\": [], \"mode\": \"marker\", \"marker\": {\"sizeref\": 200000, \"sizemode\": \"area\", \"size\": []}, \"name\": \"Turkey\", \"x\": []}, {\"text\": [], \"y\": [], \"mode\": \"marker\", \"marker\": {\"sizeref\": 200000, \"sizemode\": \"area\", \"size\": []}, \"name\": \"St. Kitts & Nevis\", \"x\": []}, {\"text\": [], \"y\": [], \"mode\": \"marker\", \"marker\": {\"sizeref\": 200000, \"sizemode\": \"area\", \"size\": []}, \"name\": \"Guadeloupe\", \"x\": []}, {\"text\": [], \"y\": [], \"mode\": \"marker\", \"marker\": {\"sizeref\": 200000, \"sizemode\": \"area\", \"size\": []}, \"name\": \"Cape Verde\", \"x\": []}, {\"text\": [], \"y\": [], \"mode\": \"marker\", \"marker\": {\"sizeref\": 200000, \"sizemode\": \"area\", \"size\": []}, \"name\": \"Tonga\", \"x\": []}, {\"text\": [], \"y\": [], \"mode\": \"marker\", \"marker\": {\"sizeref\": 200000, \"sizemode\": \"area\", \"size\": []}, \"name\": \"Taiwan\", \"x\": []}, {\"text\": [], \"y\": [], \"mode\": \"marker\", \"marker\": {\"sizeref\": 200000, \"sizemode\": \"area\", \"size\": []}, \"name\": \"Eritrea\", \"x\": []}, {\"text\": [], \"y\": [], \"mode\": \"marker\", \"marker\": {\"sizeref\": 200000, \"sizemode\": \"area\", \"size\": []}, \"name\": \"Comoros\", \"x\": []}, {\"text\": [], \"y\": [], \"mode\": \"marker\", \"marker\": {\"sizeref\": 200000, \"sizemode\": \"area\", \"size\": []}, \"name\": \"Martinique\", \"x\": []}, {\"text\": [], \"y\": [], \"mode\": \"marker\", \"marker\": {\"sizeref\": 200000, \"sizemode\": \"area\", \"size\": []}, \"name\": \"Samoa\", \"x\": []}, {\"text\": [], \"y\": [], \"mode\": \"marker\", \"marker\": {\"sizeref\": 200000, \"sizemode\": \"area\", \"size\": []}, \"name\": \"Cameroon\", \"x\": []}, {\"text\": [], \"y\": [], \"mode\": \"marker\", \"marker\": {\"sizeref\": 200000, \"sizemode\": \"area\", \"size\": []}, \"name\": \"Trinidad \", \"x\": []}, {\"text\": [], \"y\": [], \"mode\": \"marker\", \"marker\": {\"sizeref\": 200000, \"sizemode\": \"area\", \"size\": []}, \"name\": \"Congo, DRC\", \"x\": []}, {\"text\": [], \"y\": [], \"mode\": \"marker\", \"marker\": {\"sizeref\": 200000, \"sizemode\": \"area\", \"size\": []}, \"name\": \"Costa Rica\", \"x\": []}, {\"text\": [], \"y\": [], \"mode\": \"marker\", \"marker\": {\"sizeref\": 200000, \"sizemode\": \"area\", \"size\": []}, \"name\": \"Antarctica\", \"x\": []}, {\"text\": [], \"y\": [], \"mode\": \"marker\", \"marker\": {\"sizeref\": 200000, \"sizemode\": \"area\", \"size\": []}, \"name\": \"Reunion\", \"x\": []}, {\"text\": [], \"y\": [], \"mode\": \"marker\", \"marker\": {\"sizeref\": 200000, \"sizemode\": \"area\", \"size\": []}, \"name\": \"Montserrat\", \"x\": []}], \"name\": \"2010\"}, {\"data\": [{\"text\": [], \"y\": [], \"mode\": \"marker\", \"marker\": {\"sizeref\": 200000, \"sizemode\": \"area\", \"size\": []}, \"name\": null, \"x\": []}, {\"text\": [\"New Zealand\"], \"y\": [-38.12], \"mode\": \"marker\", \"marker\": {\"sizeref\": 200000, \"sizemode\": \"area\", \"size\": [null]}, \"name\": \"New Zealand\", \"x\": [176.5]}, {\"text\": [], \"y\": [], \"mode\": \"marker\", \"marker\": {\"sizeref\": 200000, \"sizemode\": \"area\", \"size\": []}, \"name\": \"Japan\", \"x\": []}, {\"text\": [], \"y\": [], \"mode\": \"marker\", \"marker\": {\"sizeref\": 200000, \"sizemode\": \"area\", \"size\": []}, \"name\": \"Nicaragua\", \"x\": []}, {\"text\": [\"Papua New Guinea\"], \"y\": [-4.1], \"mode\": \"marker\", \"marker\": {\"sizeref\": 200000, \"sizemode\": \"area\", \"size\": [2.0]}, \"name\": \"Papua New Guinea\", \"x\": [145.061]}, {\"text\": [], \"y\": [], \"mode\": \"marker\", \"marker\": {\"sizeref\": 200000, \"sizemode\": \"area\", \"size\": []}, \"name\": \"Philippines\", \"x\": []}, {\"text\": [], \"y\": [], \"mode\": \"marker\", \"marker\": {\"sizeref\": 200000, \"sizemode\": \"area\", \"size\": []}, \"name\": \"Italy\", \"x\": []}, {\"text\": [], \"y\": [], \"mode\": \"marker\", \"marker\": {\"sizeref\": 200000, \"sizemode\": \"area\", \"size\": []}, \"name\": \"United States\", \"x\": []}, {\"text\": [], \"y\": [], \"mode\": \"marker\", \"marker\": {\"sizeref\": 200000, \"sizemode\": \"area\", \"size\": []}, \"name\": \"Greece\", \"x\": []}, {\"text\": [], \"y\": [], \"mode\": \"marker\", \"marker\": {\"sizeref\": 200000, \"sizemode\": \"area\", \"size\": []}, \"name\": \"Ecuador\", \"x\": []}, {\"text\": [], \"y\": [], \"mode\": \"marker\", \"marker\": {\"sizeref\": 200000, \"sizemode\": \"area\", \"size\": []}, \"name\": \"Vanuatu\", \"x\": []}, {\"text\": [], \"y\": [], \"mode\": \"marker\", \"marker\": {\"sizeref\": 200000, \"sizemode\": \"area\", \"size\": []}, \"name\": \"Yemen\", \"x\": []}, {\"text\": [], \"y\": [], \"mode\": \"marker\", \"marker\": {\"sizeref\": 200000, \"sizemode\": \"area\", \"size\": []}, \"name\": \"Russia\", \"x\": []}, {\"text\": [\"Indonesia\", \"Indonesia\", \"Indonesia\"], \"y\": [3.17, 2.78, 3.17], \"mode\": \"marker\", \"marker\": {\"sizeref\": 200000, \"sizemode\": \"area\", \"size\": [null, null, null]}, \"name\": \"Indonesia\", \"x\": [98.39200000000001, 125.48, 98.39200000000001]}, {\"text\": [], \"y\": [], \"mode\": \"marker\", \"marker\": {\"sizeref\": 200000, \"sizemode\": \"area\", \"size\": []}, \"name\": \"El Salvador\", \"x\": []}, {\"text\": [], \"y\": [], \"mode\": \"marker\", \"marker\": {\"sizeref\": 200000, \"sizemode\": \"area\", \"size\": []}, \"name\": \"Saudi Arabia\", \"x\": []}, {\"text\": [], \"y\": [], \"mode\": \"marker\", \"marker\": {\"sizeref\": 200000, \"sizemode\": \"area\", \"size\": []}, \"name\": \"Iceland\", \"x\": []}, {\"text\": [], \"y\": [], \"mode\": \"marker\", \"marker\": {\"sizeref\": 200000, \"sizemode\": \"area\", \"size\": []}, \"name\": \"Mexico\", \"x\": []}, {\"text\": [], \"y\": [], \"mode\": \"marker\", \"marker\": {\"sizeref\": 200000, \"sizemode\": \"area\", \"size\": []}, \"name\": \"North Korea\", \"x\": []}, {\"text\": [], \"y\": [], \"mode\": \"marker\", \"marker\": {\"sizeref\": 200000, \"sizemode\": \"area\", \"size\": []}, \"name\": \"Ethiopia\", \"x\": []}, {\"text\": [], \"y\": [], \"mode\": \"marker\", \"marker\": {\"sizeref\": 200000, \"sizemode\": \"area\", \"size\": []}, \"name\": \"Guatemala\", \"x\": []}, {\"text\": [], \"y\": [], \"mode\": \"marker\", \"marker\": {\"sizeref\": 200000, \"sizemode\": \"area\", \"size\": []}, \"name\": \"Solomon Is.\", \"x\": []}, {\"text\": [], \"y\": [], \"mode\": \"marker\", \"marker\": {\"sizeref\": 200000, \"sizemode\": \"area\", \"size\": []}, \"name\": \"Portugal\", \"x\": []}, {\"text\": [], \"y\": [], \"mode\": \"marker\", \"marker\": {\"sizeref\": 200000, \"sizemode\": \"area\", \"size\": []}, \"name\": \"Colombia\", \"x\": []}, {\"text\": [], \"y\": [], \"mode\": \"marker\", \"marker\": {\"sizeref\": 200000, \"sizemode\": \"area\", \"size\": []}, \"name\": \"Pacific Ocean\", \"x\": []}, {\"text\": [], \"y\": [], \"mode\": \"marker\", \"marker\": {\"sizeref\": 200000, \"sizemode\": \"area\", \"size\": []}, \"name\": \"Peru\", \"x\": []}, {\"text\": [], \"y\": [], \"mode\": \"marker\", \"marker\": {\"sizeref\": 200000, \"sizemode\": \"area\", \"size\": []}, \"name\": \"China\", \"x\": []}, {\"text\": [], \"y\": [], \"mode\": \"marker\", \"marker\": {\"sizeref\": 200000, \"sizemode\": \"area\", \"size\": []}, \"name\": \"Spain\", \"x\": []}, {\"text\": [], \"y\": [], \"mode\": \"marker\", \"marker\": {\"sizeref\": 200000, \"sizemode\": \"area\", \"size\": []}, \"name\": \"Canada\", \"x\": []}, {\"text\": [], \"y\": [], \"mode\": \"marker\", \"marker\": {\"sizeref\": 200000, \"sizemode\": \"area\", \"size\": []}, \"name\": \"Tanzania\", \"x\": []}, {\"text\": [], \"y\": [], \"mode\": \"marker\", \"marker\": {\"sizeref\": 200000, \"sizemode\": \"area\", \"size\": []}, \"name\": \"St. Vincent & the Grenadines\", \"x\": []}, {\"text\": [\"Chile\"], \"y\": [-41.326], \"mode\": \"marker\", \"marker\": {\"sizeref\": 200000, \"sizemode\": \"area\", \"size\": [null]}, \"name\": \"Chile\", \"x\": [-72.61399999999999]}, {\"text\": [], \"y\": [], \"mode\": \"marker\", \"marker\": {\"sizeref\": 200000, \"sizemode\": \"area\", \"size\": []}, \"name\": \"Turkey\", \"x\": []}, {\"text\": [], \"y\": [], \"mode\": \"marker\", \"marker\": {\"sizeref\": 200000, \"sizemode\": \"area\", \"size\": []}, \"name\": \"St. Kitts & Nevis\", \"x\": []}, {\"text\": [], \"y\": [], \"mode\": \"marker\", \"marker\": {\"sizeref\": 200000, \"sizemode\": \"area\", \"size\": []}, \"name\": \"Guadeloupe\", \"x\": []}, {\"text\": [], \"y\": [], \"mode\": \"marker\", \"marker\": {\"sizeref\": 200000, \"sizemode\": \"area\", \"size\": []}, \"name\": \"Cape Verde\", \"x\": []}, {\"text\": [], \"y\": [], \"mode\": \"marker\", \"marker\": {\"sizeref\": 200000, \"sizemode\": \"area\", \"size\": []}, \"name\": \"Tonga\", \"x\": []}, {\"text\": [], \"y\": [], \"mode\": \"marker\", \"marker\": {\"sizeref\": 200000, \"sizemode\": \"area\", \"size\": []}, \"name\": \"Taiwan\", \"x\": []}, {\"text\": [], \"y\": [], \"mode\": \"marker\", \"marker\": {\"sizeref\": 200000, \"sizemode\": \"area\", \"size\": []}, \"name\": \"Eritrea\", \"x\": []}, {\"text\": [], \"y\": [], \"mode\": \"marker\", \"marker\": {\"sizeref\": 200000, \"sizemode\": \"area\", \"size\": []}, \"name\": \"Comoros\", \"x\": []}, {\"text\": [], \"y\": [], \"mode\": \"marker\", \"marker\": {\"sizeref\": 200000, \"sizemode\": \"area\", \"size\": []}, \"name\": \"Martinique\", \"x\": []}, {\"text\": [], \"y\": [], \"mode\": \"marker\", \"marker\": {\"sizeref\": 200000, \"sizemode\": \"area\", \"size\": []}, \"name\": \"Samoa\", \"x\": []}, {\"text\": [], \"y\": [], \"mode\": \"marker\", \"marker\": {\"sizeref\": 200000, \"sizemode\": \"area\", \"size\": []}, \"name\": \"Cameroon\", \"x\": []}, {\"text\": [], \"y\": [], \"mode\": \"marker\", \"marker\": {\"sizeref\": 200000, \"sizemode\": \"area\", \"size\": []}, \"name\": \"Trinidad \", \"x\": []}, {\"text\": [], \"y\": [], \"mode\": \"marker\", \"marker\": {\"sizeref\": 200000, \"sizemode\": \"area\", \"size\": []}, \"name\": \"Congo, DRC\", \"x\": []}, {\"text\": [], \"y\": [], \"mode\": \"marker\", \"marker\": {\"sizeref\": 200000, \"sizemode\": \"area\", \"size\": []}, \"name\": \"Costa Rica\", \"x\": []}, {\"text\": [], \"y\": [], \"mode\": \"marker\", \"marker\": {\"sizeref\": 200000, \"sizemode\": \"area\", \"size\": []}, \"name\": \"Antarctica\", \"x\": []}, {\"text\": [], \"y\": [], \"mode\": \"marker\", \"marker\": {\"sizeref\": 200000, \"sizemode\": \"area\", \"size\": []}, \"name\": \"Reunion\", \"x\": []}, {\"text\": [], \"y\": [], \"mode\": \"marker\", \"marker\": {\"sizeref\": 200000, \"sizemode\": \"area\", \"size\": []}, \"name\": \"Montserrat\", \"x\": []}], \"name\": \"2015\"}, {\"data\": [{\"text\": [], \"y\": [], \"mode\": \"marker\", \"marker\": {\"sizeref\": 200000, \"sizemode\": \"area\", \"size\": []}, \"name\": null, \"x\": []}, {\"text\": [], \"y\": [], \"mode\": \"marker\", \"marker\": {\"sizeref\": 200000, \"sizemode\": \"area\", \"size\": []}, \"name\": \"New Zealand\", \"x\": []}, {\"text\": [\"Japan\"], \"y\": [36.62], \"mode\": \"marker\", \"marker\": {\"sizeref\": 200000, \"sizemode\": \"area\", \"size\": [null]}, \"name\": \"Japan\", \"x\": [138.55]}, {\"text\": [], \"y\": [], \"mode\": \"marker\", \"marker\": {\"sizeref\": 200000, \"sizemode\": \"area\", \"size\": []}, \"name\": \"Nicaragua\", \"x\": []}, {\"text\": [\"Papua New Guinea\", \"Papua New Guinea\"], \"y\": [-3.62, -3.62], \"mode\": \"marker\", \"marker\": {\"sizeref\": 200000, \"sizemode\": \"area\", \"size\": [null, null]}, \"name\": \"Papua New Guinea\", \"x\": [144.62, 144.62]}, {\"text\": [\"Philippines\"], \"y\": [13.257], \"mode\": \"marker\", \"marker\": {\"sizeref\": 200000, \"sizemode\": \"area\", \"size\": [null]}, \"name\": \"Philippines\", \"x\": [123.685]}, {\"text\": [], \"y\": [], \"mode\": \"marker\", \"marker\": {\"sizeref\": 200000, \"sizemode\": \"area\", \"size\": []}, \"name\": \"Italy\", \"x\": []}, {\"text\": [\"United States\", \"United States\", \"United States\"], \"y\": [19.425, 19.425, 19.425], \"mode\": \"marker\", \"marker\": {\"sizeref\": 200000, \"sizemode\": \"area\", \"size\": [1.0, 1.0, null]}, \"name\": \"United States\", \"x\": [-155.292, -155.292, -155.292]}, {\"text\": [], \"y\": [], \"mode\": \"marker\", \"marker\": {\"sizeref\": 200000, \"sizemode\": \"area\", \"size\": []}, \"name\": \"Greece\", \"x\": []}, {\"text\": [], \"y\": [], \"mode\": \"marker\", \"marker\": {\"sizeref\": 200000, \"sizemode\": \"area\", \"size\": []}, \"name\": \"Ecuador\", \"x\": []}, {\"text\": [\"Vanuatu\"], \"y\": [-15.4], \"mode\": \"marker\", \"marker\": {\"sizeref\": 200000, \"sizemode\": \"area\", \"size\": [3.0]}, \"name\": \"Vanuatu\", \"x\": [167.83]}, {\"text\": [], \"y\": [], \"mode\": \"marker\", \"marker\": {\"sizeref\": 200000, \"sizemode\": \"area\", \"size\": []}, \"name\": \"Yemen\", \"x\": []}, {\"text\": [], \"y\": [], \"mode\": \"marker\", \"marker\": {\"sizeref\": 200000, \"sizemode\": \"area\", \"size\": []}, \"name\": \"Russia\", \"x\": []}, {\"text\": [\"Indonesia\"], \"y\": [-8.058], \"mode\": \"marker\", \"marker\": {\"sizeref\": 200000, \"sizemode\": \"area\", \"size\": [null]}, \"name\": \"Indonesia\", \"x\": [114.242]}, {\"text\": [], \"y\": [], \"mode\": \"marker\", \"marker\": {\"sizeref\": 200000, \"sizemode\": \"area\", \"size\": []}, \"name\": \"El Salvador\", \"x\": []}, {\"text\": [], \"y\": [], \"mode\": \"marker\", \"marker\": {\"sizeref\": 200000, \"sizemode\": \"area\", \"size\": []}, \"name\": \"Saudi Arabia\", \"x\": []}, {\"text\": [], \"y\": [], \"mode\": \"marker\", \"marker\": {\"sizeref\": 200000, \"sizemode\": \"area\", \"size\": []}, \"name\": \"Iceland\", \"x\": []}, {\"text\": [], \"y\": [], \"mode\": \"marker\", \"marker\": {\"sizeref\": 200000, \"sizemode\": \"area\", \"size\": []}, \"name\": \"Mexico\", \"x\": []}, {\"text\": [], \"y\": [], \"mode\": \"marker\", \"marker\": {\"sizeref\": 200000, \"sizemode\": \"area\", \"size\": []}, \"name\": \"North Korea\", \"x\": []}, {\"text\": [], \"y\": [], \"mode\": \"marker\", \"marker\": {\"sizeref\": 200000, \"sizemode\": \"area\", \"size\": []}, \"name\": \"Ethiopia\", \"x\": []}, {\"text\": [\"Guatemala\"], \"y\": [14.472999999999999], \"mode\": \"marker\", \"marker\": {\"sizeref\": 200000, \"sizemode\": \"area\", \"size\": [2.0]}, \"name\": \"Guatemala\", \"x\": [-90.88]}, {\"text\": [], \"y\": [], \"mode\": \"marker\", \"marker\": {\"sizeref\": 200000, \"sizemode\": \"area\", \"size\": []}, \"name\": \"Solomon Is.\", \"x\": []}, {\"text\": [], \"y\": [], \"mode\": \"marker\", \"marker\": {\"sizeref\": 200000, \"sizemode\": \"area\", \"size\": []}, \"name\": \"Portugal\", \"x\": []}, {\"text\": [], \"y\": [], \"mode\": \"marker\", \"marker\": {\"sizeref\": 200000, \"sizemode\": \"area\", \"size\": []}, \"name\": \"Colombia\", \"x\": []}, {\"text\": [], \"y\": [], \"mode\": \"marker\", \"marker\": {\"sizeref\": 200000, \"sizemode\": \"area\", \"size\": []}, \"name\": \"Pacific Ocean\", \"x\": []}, {\"text\": [], \"y\": [], \"mode\": \"marker\", \"marker\": {\"sizeref\": 200000, \"sizemode\": \"area\", \"size\": []}, \"name\": \"Peru\", \"x\": []}, {\"text\": [], \"y\": [], \"mode\": \"marker\", \"marker\": {\"sizeref\": 200000, \"sizemode\": \"area\", \"size\": []}, \"name\": \"China\", \"x\": []}, {\"text\": [], \"y\": [], \"mode\": \"marker\", \"marker\": {\"sizeref\": 200000, \"sizemode\": \"area\", \"size\": []}, \"name\": \"Spain\", \"x\": []}, {\"text\": [], \"y\": [], \"mode\": \"marker\", \"marker\": {\"sizeref\": 200000, \"sizemode\": \"area\", \"size\": []}, \"name\": \"Canada\", \"x\": []}, {\"text\": [], \"y\": [], \"mode\": \"marker\", \"marker\": {\"sizeref\": 200000, \"sizemode\": \"area\", \"size\": []}, \"name\": \"Tanzania\", \"x\": []}, {\"text\": [], \"y\": [], \"mode\": \"marker\", \"marker\": {\"sizeref\": 200000, \"sizemode\": \"area\", \"size\": []}, \"name\": \"St. Vincent & the Grenadines\", \"x\": []}, {\"text\": [], \"y\": [], \"mode\": \"marker\", \"marker\": {\"sizeref\": 200000, \"sizemode\": \"area\", \"size\": []}, \"name\": \"Chile\", \"x\": []}, {\"text\": [], \"y\": [], \"mode\": \"marker\", \"marker\": {\"sizeref\": 200000, \"sizemode\": \"area\", \"size\": []}, \"name\": \"Turkey\", \"x\": []}, {\"text\": [], \"y\": [], \"mode\": \"marker\", \"marker\": {\"sizeref\": 200000, \"sizemode\": \"area\", \"size\": []}, \"name\": \"St. Kitts & Nevis\", \"x\": []}, {\"text\": [], \"y\": [], \"mode\": \"marker\", \"marker\": {\"sizeref\": 200000, \"sizemode\": \"area\", \"size\": []}, \"name\": \"Guadeloupe\", \"x\": []}, {\"text\": [], \"y\": [], \"mode\": \"marker\", \"marker\": {\"sizeref\": 200000, \"sizemode\": \"area\", \"size\": []}, \"name\": \"Cape Verde\", \"x\": []}, {\"text\": [], \"y\": [], \"mode\": \"marker\", \"marker\": {\"sizeref\": 200000, \"sizemode\": \"area\", \"size\": []}, \"name\": \"Tonga\", \"x\": []}, {\"text\": [], \"y\": [], \"mode\": \"marker\", \"marker\": {\"sizeref\": 200000, \"sizemode\": \"area\", \"size\": []}, \"name\": \"Taiwan\", \"x\": []}, {\"text\": [], \"y\": [], \"mode\": \"marker\", \"marker\": {\"sizeref\": 200000, \"sizemode\": \"area\", \"size\": []}, \"name\": \"Eritrea\", \"x\": []}, {\"text\": [], \"y\": [], \"mode\": \"marker\", \"marker\": {\"sizeref\": 200000, \"sizemode\": \"area\", \"size\": []}, \"name\": \"Comoros\", \"x\": []}, {\"text\": [], \"y\": [], \"mode\": \"marker\", \"marker\": {\"sizeref\": 200000, \"sizemode\": \"area\", \"size\": []}, \"name\": \"Martinique\", \"x\": []}, {\"text\": [], \"y\": [], \"mode\": \"marker\", \"marker\": {\"sizeref\": 200000, \"sizemode\": \"area\", \"size\": []}, \"name\": \"Samoa\", \"x\": []}, {\"text\": [], \"y\": [], \"mode\": \"marker\", \"marker\": {\"sizeref\": 200000, \"sizemode\": \"area\", \"size\": []}, \"name\": \"Cameroon\", \"x\": []}, {\"text\": [], \"y\": [], \"mode\": \"marker\", \"marker\": {\"sizeref\": 200000, \"sizemode\": \"area\", \"size\": []}, \"name\": \"Trinidad \", \"x\": []}, {\"text\": [], \"y\": [], \"mode\": \"marker\", \"marker\": {\"sizeref\": 200000, \"sizemode\": \"area\", \"size\": []}, \"name\": \"Congo, DRC\", \"x\": []}, {\"text\": [], \"y\": [], \"mode\": \"marker\", \"marker\": {\"sizeref\": 200000, \"sizemode\": \"area\", \"size\": []}, \"name\": \"Costa Rica\", \"x\": []}, {\"text\": [], \"y\": [], \"mode\": \"marker\", \"marker\": {\"sizeref\": 200000, \"sizemode\": \"area\", \"size\": []}, \"name\": \"Antarctica\", \"x\": []}, {\"text\": [], \"y\": [], \"mode\": \"marker\", \"marker\": {\"sizeref\": 200000, \"sizemode\": \"area\", \"size\": []}, \"name\": \"Reunion\", \"x\": []}, {\"text\": [], \"y\": [], \"mode\": \"marker\", \"marker\": {\"sizeref\": 200000, \"sizemode\": \"area\", \"size\": []}, \"name\": \"Montserrat\", \"x\": []}], \"name\": \"2018\"}]);}).then(function(){Plotly.animate('3d8bb84c-9b5b-4102-bbfc-167dc00ef41d');})\n",
       "        });</script>"
      ]
     },
     "metadata": {},
     "output_type": "display_data"
    }
   ],
   "source": [
    "iplot(figure)"
   ]
  },
  {
   "cell_type": "code",
   "execution_count": null,
   "metadata": {
    "collapsed": true,
    "deletable": true,
    "editable": true
   },
   "outputs": [],
   "source": []
  },
  {
   "cell_type": "code",
   "execution_count": null,
   "metadata": {
    "collapsed": true,
    "deletable": true,
    "editable": true
   },
   "outputs": [],
   "source": []
  }
 ],
 "metadata": {
  "kernelspec": {
   "display_name": "Python 3",
   "language": "python",
   "name": "python3"
  },
  "language_info": {
   "codemirror_mode": {
    "name": "ipython",
    "version": 3
   },
   "file_extension": ".py",
   "mimetype": "text/x-python",
   "name": "python",
   "nbconvert_exporter": "python",
   "pygments_lexer": "ipython3",
   "version": "3.5.2"
  }
 },
 "nbformat": 4,
 "nbformat_minor": 2
}

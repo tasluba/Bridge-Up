{
 "cells": [
  {
   "cell_type": "markdown",
   "metadata": {
    "deletable": true,
    "editable": true
   },
   "source": [
    "# Final Projects: Calculating evolutionary distance\n",
    "\n",
    "In this notebook you will compare the amino acid sequence of hemoglobin alpha from 3 different species to find out which two are most closely related."
   ]
  },
  {
   "cell_type": "markdown",
   "metadata": {
    "deletable": true,
    "editable": true
   },
   "source": [
    "You'll need to copy and paste the function from last class that finds the number of differences in two sequences:"
   ]
  },
  {
   "cell_type": "code",
   "execution_count": 11,
   "metadata": {
    "collapsed": true,
    "deletable": true,
    "editable": true
   },
   "outputs": [],
   "source": [
    "def proteinDiff (amino_seq1,amino_seq2):\n",
    "    differences=0\n",
    "    for i, aa in enumerate (amino_seq1):\n",
    "        if amino_seq2 [i]!= aa:\n",
    "             differences +=1\n",
    "    print(\"There are\",differences,\"differnces\")\n",
    "    return differences"
   ]
  },
  {
   "cell_type": "markdown",
   "metadata": {
    "deletable": true,
    "editable": true
   },
   "source": [
    "In order to compare the different amino acid sequences, we need to open the files and read the sequences into new variables:"
   ]
  },
  {
   "cell_type": "code",
   "execution_count": 12,
   "metadata": {
    "collapsed": true,
    "deletable": true,
    "editable": true
   },
   "outputs": [],
   "source": [
    "cow = open(\"4_cow_CSN2_DNA.txt\").read() \n",
    "dolphin = open(\"4_dolphin_CSN2_DNA.txt\").read()\n",
    "manatee= open(\"4_manatee_CSN2_DNA.txt\").read()\n"
   ]
  },
  {
   "cell_type": "markdown",
   "metadata": {
    "deletable": true,
    "editable": true
   },
   "source": [
    "Decide as a group whether you want to compare DNA or protein sequences for your species. What are the pros and cons of each?"
   ]
  },
  {
   "cell_type": "markdown",
   "metadata": {
    "deletable": true,
    "editable": true
   },
   "source": [
    "PROTEIN differences"
   ]
  },
  {
   "cell_type": "code",
   "execution_count": 13,
   "metadata": {
    "collapsed": false,
    "deletable": true,
    "editable": true
   },
   "outputs": [],
   "source": [
    "# If you choose to use the transcribe and translate functions, you can copy and paste them here\n",
    "def transcribe(file):\n",
    "    DNA_dict ={\"A\":\"U\",\"T\":\"A\",\"C\":\"G\",\"G\":\"C\"}\n",
    "    rna=\"\"\n",
    "    for item in file:\n",
    "        rna += DNA_dict[item]\n",
    "    return rna\n",
    "        "
   ]
  },
  {
   "cell_type": "code",
   "execution_count": 14,
   "metadata": {
    "collapsed": true,
    "deletable": true,
    "editable": true
   },
   "outputs": [],
   "source": [
    "def translate(rnaseq):\n",
    "    ProteinDict = {\"UUU\":\"F\", \"UUC\":\"F\", \"UUA\":\"L\", \"UUG\":\"L\", \"CUU\":\"L\", \"CUC\":\"L\", \"CUA\":\"L\", \"CUG\":\"L\", \"AUU\":\"I\", \"AUC\":\"I\", \"AUA\":\"I\", \"AUG\":\"M\", \"GUU\":\"V\", \"GUC\":\"V\", \"GUA\":\"V\", \"GUG\":\"V\", \"UCU\":\"S\", \"UCC\":\"S\", \"UCA\":\"S\", \"UCG\":\"S\", \"CCU\":\"P\", \"CCC\":\"P\", \"CCA\":\"P\", \"CCG\":\"P\", \"ACU\":\"T\", \"ACC\":\"T\", \"ACA\":\"T\", \"ACG\":\"T\", \"GCU\":\"A\", \"GCC\":\"A\", \"GCA\":\"A\", \"GCG\":\"A\", \"UAU\":\"Y\", \"UAC\":\"Y\", \"UAA\":\"\", \"UAG\":\"\", \"CAU\":\"H\", \"CAC\":\"H\", \"CAA\":\"Q\", \"CAG\":\"Q\", \"AAU\": \"N\", \"AAC\":\"N\", \"AAA\":\"K\", \"AAG\":\"K\", \"GAU\":\"D\", \"GAC\":\"D\", \"GAA\":\"E\", \"GAG\":\"E\", \"UGU\":\"C\", \"UGC\":\"C\", \"UGA\":\"\", \"UGG\":\"W\", \"CGU\":\"R\", \"CGC\":\"R\", \"CGA\":\"R\", \"CGG\":\"R\", \"AGU\":\"S\", \"AGC\":\"S\", \"AGA\":\"R\", \"AGG\":\"R\", \"GGU\":\"G\", \"GGC\":\"G\", \"GGA\":\"G\", \"GGG\":\"G\"} \n",
    "    codon = \"\"\n",
    "    protein = \"\"\n",
    "    for base in rnaseq:\n",
    "        codon += base\n",
    "        if len(codon) == 3:\n",
    "            protein += ProteinDict[codon]\n",
    "            codon = \"\"\n",
    "    return protein"
   ]
  },
  {
   "cell_type": "code",
   "execution_count": 15,
   "metadata": {
    "collapsed": false,
    "deletable": true,
    "editable": true
   },
   "outputs": [],
   "source": [
    "cow_a=translate(transcribe(cow))\n",
    "dolphin_a=translate(transcribe(dolphin))\n",
    "manatee_a=translate(transcribe(manatee))"
   ]
  },
  {
   "cell_type": "markdown",
   "metadata": {
    "deletable": true,
    "editable": true
   },
   "source": [
    "Now call the number of differences function 3 times to compare all three of your species' sequences."
   ]
  },
  {
   "cell_type": "code",
   "execution_count": 16,
   "metadata": {
    "collapsed": false,
    "deletable": true,
    "editable": true
   },
   "outputs": [
    {
     "name": "stdout",
     "output_type": "stream",
     "text": [
      "There are 64 differnces\n",
      "There are 167 differnces\n",
      "There are 175 differnces\n"
     ]
    },
    {
     "data": {
      "text/plain": [
       "175"
      ]
     },
     "execution_count": 16,
     "metadata": {},
     "output_type": "execute_result"
    }
   ],
   "source": [
    "proteinDiff(cow_a,dolphin_a)\n",
    "proteinDiff(cow_a,manatee_a)\n",
    "proteinDiff(manatee_a,dolphin_a)"
   ]
  },
  {
   "cell_type": "code",
   "execution_count": 31,
   "metadata": {
    "collapsed": false
   },
   "outputs": [
    {
     "name": "stdout",
     "output_type": "stream",
     "text": [
      "The sequences are 30.76923076923077 percent different\n",
      "The sequences are 80.28846153846155 percent different\n",
      "The sequences are 84.13461538461539 percent different\n"
     ]
    }
   ],
   "source": [
    "#perecentage amino acid difference\n",
    "percentDiff(cow_a,dolphin_a)\n",
    "percentDiff(cow_a,manatee_a)\n",
    "percentDiff(manatee_a,dolphin_a)"
   ]
  },
  {
   "cell_type": "code",
   "execution_count": 33,
   "metadata": {
    "collapsed": true
   },
   "outputs": [],
   "source": [
    "cda= 100-30.76923076923077\n",
    "cma=100-80.28846153846155\n",
    "mda=100-84.13461538461539"
   ]
  },
  {
   "cell_type": "markdown",
   "metadata": {
    "deletable": true,
    "editable": true
   },
   "source": [
    "DNA differences"
   ]
  },
  {
   "cell_type": "code",
   "execution_count": 34,
   "metadata": {
    "collapsed": false,
    "deletable": true,
    "editable": true
   },
   "outputs": [
    {
     "name": "stdout",
     "output_type": "stream",
     "text": [
      "There are 116 differnces\n",
      "There are 390 differnces\n",
      "There are 398 differnces\n"
     ]
    },
    {
     "data": {
      "text/plain": [
       "398"
      ]
     },
     "execution_count": 34,
     "metadata": {},
     "output_type": "execute_result"
    }
   ],
   "source": [
    "proteinDiff(cow,dolphin)\n",
    "proteinDiff(cow,manatee)\n",
    "proteinDiff(manatee,dolphin)"
   ]
  },
  {
   "cell_type": "markdown",
   "metadata": {
    "deletable": true,
    "editable": true
   },
   "source": [
    "What can you conclude based on the number of differences between each pair of species?\n",
    "\n",
    "Next, create a function that returns the percent difference between sequences and call it for your three comparisons:"
   ]
  },
  {
   "cell_type": "code",
   "execution_count": 35,
   "metadata": {
    "collapsed": false,
    "deletable": true,
    "editable": true
   },
   "outputs": [],
   "source": [
    "def percentDiff (seq1,seq2):\n",
    "    differences=0\n",
    "    for i, value in enumerate (seq1):\n",
    "        if seq2 [i]!= value:\n",
    "            differences +=1\n",
    "    percent=(differences/len(seq1))*100\n",
    "            \n",
    "    print(\"The sequences are\",percent,\"percent different\")\n",
    "    "
   ]
  },
  {
   "cell_type": "code",
   "execution_count": 36,
   "metadata": {
    "collapsed": false,
    "deletable": true,
    "editable": true
   },
   "outputs": [
    {
     "name": "stdout",
     "output_type": "stream",
     "text": [
      "The sequences are 18.58974358974359 percent different\n",
      "The sequences are 62.5 percent different\n",
      "The sequences are 63.78205128205128 percent different\n"
     ]
    }
   ],
   "source": [
    "#DNA\n",
    "percentDiff(cow,dolphin)\n",
    "percentDiff(cow,manatee)\n",
    "percentDiff(manatee,dolphin)\n"
   ]
  },
  {
   "cell_type": "markdown",
   "metadata": {
    "deletable": true,
    "editable": true
   },
   "source": [
    "Let's visualize these results! Choose a graph type that you think will communicate your conclusions effectively and create it using matplotlib:"
   ]
  },
  {
   "cell_type": "code",
   "execution_count": 37,
   "metadata": {
    "collapsed": false,
    "deletable": true,
    "editable": true
   },
   "outputs": [
    {
     "name": "stdout",
     "output_type": "stream",
     "text": [
      "81.41025641025641\n",
      "37.5\n"
     ]
    }
   ],
   "source": [
    "cd= 100-18.58974358974359\n",
    "cm=100-62.5\n",
    "md=100-63.78205128205128\n",
    "print (cd)\n",
    "print (cm)"
   ]
  },
  {
   "cell_type": "code",
   "execution_count": 38,
   "metadata": {
    "collapsed": false,
    "deletable": true,
    "editable": true
   },
   "outputs": [
    {
     "data": {
      "image/png": "[encoded data removed]",
      "text/plain": [
       "<matplotlib.figure.Figure at 0x11cdafcc0>"
      ]
     },
     "metadata": {},
     "output_type": "display_data"
    }
   ],
   "source": [
    "#percentage difference\n",
    "import matplotlib.pyplot as plt\n",
    " \n",
    "labels = ['Cow Dolphin', 'Cow Manatee', 'Manatee Dolphin']\n",
    "sizes = [18.58974358974359,62.5,63.78205128205128]\n",
    "colors = ['yellowgreen','lightskyblue', 'lightcoral']\n",
    "patches, texts = plt.pie(sizes, colors=colors, shadow=True,startangle=90)\n",
    "plt.legend(patches, labels, loc=\"best\")\n",
    "plt.axis('equal')\n",
    "plt.tight_layout()\n",
    "plt.show()\n"
   ]
  },
  {
   "cell_type": "code",
   "execution_count": 47,
   "metadata": {
    "collapsed": false,
    "deletable": true,
    "editable": true
   },
   "outputs": [
    {
     "data": {
      "image/png": "[encoded data removed]",
      "text/plain": [
       "<matplotlib.figure.Figure at 0x11d17b5c0>"
      ]
     },
     "metadata": {},
     "output_type": "display_data"
    }
   ],
   "source": [
    "#percentage same\n",
    "import matplotlib.pyplot as plt\n",
    " \n",
    "labels = ['Cow Dolphin', 'Cow Manatee', 'Manatee Dolphin']\n",
    "sizes = [cd,cm,md]\n",
    "colors = ['yellowgreen','lightskyblue', 'lightcoral']\n",
    "patches, texts = plt.pie(sizes, colors=colors, shadow=True,startangle=90)\n",
    "plt.legend(patches, labels, loc=\"best\")\n",
    "plt.axis('equal')\n",
    "plt.tight_layout()\n",
    "plt.show()"
   ]
  },
  {
   "cell_type": "code",
   "execution_count": 46,
   "metadata": {
    "collapsed": false
   },
   "outputs": [
    {
     "data": {
      "image/png": "[encoded data removed]",
      "text/plain": [
       "<matplotlib.figure.Figure at 0x11c00ea90>"
      ]
     },
     "metadata": {},
     "output_type": "display_data"
    }
   ],
   "source": [
    "#DNA PERCENT DIFFERENCE\n",
    "plt.bar(1,18.58974358974359,color=\"lightcoral\")\n",
    "plt.bar(2,62.5,color=\"lightskyblue\")\n",
    "plt.bar(3,63.78205128205128,color=\"yellowgreen\")\n",
    "\n",
    "plt.xticks([1,2,3],(\"Cow Dolphin\",\"Cow Manatee\",\"Manatee Dolphin\"))\n",
    "\n",
    "# Add a title and axis labels\n",
    "plt.suptitle(\"Comparison of DNA Seqence\")\n",
    "plt.xlabel(\"organisms\")\n",
    "plt.ylabel(\"percent difference\")\n",
    "\n",
    "# Show the graph\n",
    "plt.show()"
   ]
  },
  {
   "cell_type": "code",
   "execution_count": 41,
   "metadata": {
    "collapsed": false
   },
   "outputs": [
    {
     "data": {
      "image/png": "[encoded data removed]",
      "text/plain": [
       "<matplotlib.figure.Figure at 0x11d102048>"
      ]
     },
     "metadata": {},
     "output_type": "display_data"
    }
   ],
   "source": [
    "#DNA PERCENT SAME\n",
    "plt.bar(1,cd,color=\"lightcoral\")\n",
    "plt.bar(2,cm,color=\"lightskyblue\")\n",
    "plt.bar(3,md,color=\"yellowgreen\")\n",
    "\n",
    "plt.xticks([1,2,3],(\"Cow Dolphin\",\"Cow Manatee\",\"Manatee Dolphin\"))\n",
    "\n",
    "# Add a title and axis labels\n",
    "plt.suptitle(\"Comparison of DNA Seqence\")\n",
    "plt.xlabel(\"organisms\")\n",
    "plt.ylabel(\"percent same\")\n",
    "\n",
    "# Show the graph\n",
    "plt.show()"
   ]
  },
  {
   "cell_type": "code",
   "execution_count": 43,
   "metadata": {
    "collapsed": false
   },
   "outputs": [
    {
     "data": {
      "image/png": "[encoded data removed]",
      "text/plain": [
       "<matplotlib.figure.Figure at 0x11d15f8d0>"
      ]
     },
     "metadata": {},
     "output_type": "display_data"
    }
   ],
   "source": [
    "#amino acid PERCENT DIFFERENCE\n",
    "plt.bar(1,30.76923076923077,color=\"lightcoral\")\n",
    "plt.bar(2,80.28846153846155,color=\"lightskyblue\")\n",
    "plt.bar(3,84.13461538461539,color=\"yellowgreen\")\n",
    "\n",
    "plt.xticks([1,2,3],(\"Cow Dolphin\",\"Cow Manatee\",\"Manatee Dolphin\"))\n",
    "\n",
    "# Add a title and axis labels\n",
    "plt.suptitle(\"Comparison of Amino Acid Seqence\")\n",
    "plt.xlabel(\"organisms\")\n",
    "plt.ylabel(\"percent difference\")\n",
    "\n",
    "# Show the graph\n",
    "plt.show()"
   ]
  },
  {
   "cell_type": "code",
   "execution_count": 44,
   "metadata": {
    "collapsed": false
   },
   "outputs": [
    {
     "data": {
      "image/png": "[encoded data removed]",
      "text/plain": [
       "<matplotlib.figure.Figure at 0x11be68d30>"
      ]
     },
     "metadata": {},
     "output_type": "display_data"
    }
   ],
   "source": [
    "#amino acid PERCENT SAME\n",
    "plt.bar(1,cda,color=\"lightcoral\")\n",
    "plt.bar(2,cma,color=\"lightskyblue\")\n",
    "plt.bar(3,mda,color=\"yellowgreen\")\n",
    "\n",
    "plt.xticks([1,2,3],(\"Cow Dolphin\",\"Cow Manatee\",\"Manatee Dolphin\"))\n",
    "\n",
    "# Add a title and axis labels\n",
    "plt.suptitle(\"Comparison of Amino Acid Seqence\")\n",
    "plt.xlabel(\"organisms\")\n",
    "plt.ylabel(\"percent same\")\n",
    "\n",
    "# Show the graph\n",
    "plt.show()"
   ]
  },
  {
   "cell_type": "markdown",
   "metadata": {
    "deletable": true,
    "editable": true
   },
   "source": [
    "## Coding Challenge\n",
    "If you finish your project and want to try a challenge, come up with a hypothesis about which of the following species are most closely related to humans (carp, chicken, chimp, dog, eel, elephant, frog, gorilla, macaque monkey, mouse, orangutan, pig). Write out a ranked list with the species you think is most related to humans at the top.\n",
    "\n",
    "Then calculate the percent difference between the hemoglobin amino acid sequences of humans and each species to find out how close you came to the right ranking!"
   ]
  },
  {
   "cell_type": "code",
   "execution_count": null,
   "metadata": {
    "collapsed": true,
    "deletable": true,
    "editable": true
   },
   "outputs": [],
   "source": [
    "#ranking: chimp, gorilla, macaque monkey, orangatun, pig, dog, elephant, mouse, chicken, carp, eel, frog"
   ]
  },
  {
   "cell_type": "code",
   "execution_count": 51,
   "metadata": {
    "collapsed": false
   },
   "outputs": [],
   "source": [
    "carp= open(\"Carp_hemoglobin.txt\").read() \n",
    "chicken= open(\"Chicken_hemoglobin.txt\").read() \n",
    "chimp= open(\"Chimp_hemoglobin.txt\").read() \n",
    "dog= open(\"Dog_hemoglobin.txt\").read() \n",
    "eel= open(\"Eel_hemoglobin.txt\").read() \n",
    "elephant= open(\"Elephant_hemoglobin.txt\").read()\n",
    "frog= open(\"Frog_hemoglobin.txt\").read() \n",
    "gorilla= open(\"Gorilla_hemoglobin.txt\").read() \n",
    "macaque= open(\"Macaque_hemoglobin.txt\").read() \n",
    "mouse= open(\"Mouse_hemoglobin.txt\").read() \n",
    "orangutan= open(\"Orangutan_hemoglobin.txt\").read()\n",
    "pig= open(\"Pig_hemoglobin.txt\").read() \n",
    "human= open(\"Human_hemoglobin.txt\").read() "
   ]
  },
  {
   "cell_type": "code",
   "execution_count": 52,
   "metadata": {
    "collapsed": false
   },
   "outputs": [
    {
     "name": "stdout",
     "output_type": "stream",
     "text": [
      "The sequences are 78.72340425531915 percent different\n",
      "The sequences are 29.78723404255319 percent different\n",
      "The sequences are 0.0 percent different\n",
      "The sequences are 16.312056737588655 percent different\n",
      "The sequences are 80.1418439716312 percent different\n",
      "The sequences are 17.02127659574468 percent different\n",
      "The sequences are 42.5531914893617 percent different\n",
      "The sequences are 0.7092198581560284 percent different\n",
      "The sequences are 3.546099290780142 percent different\n",
      "The sequences are 14.184397163120568 percent different\n",
      "The sequences are 2.127659574468085 percent different\n",
      "The sequences are 15.602836879432624 percent different\n"
     ]
    }
   ],
   "source": [
    "carp=percentDiff(human,carp)\n",
    "percentDiff(human,chicken)\n",
    "percentDiff(human,chimp)\n",
    "percentDiff(human,dog)\n",
    "percentDiff(human,eel)\n",
    "percentDiff(human,elephant)\n",
    "percentDiff(human,frog)\n",
    "percentDiff(human,gorilla)\n",
    "percentDiff(human,macaque)\n",
    "percentDiff(human,mouse)\n",
    "percentDiff(human,orangutan)\n",
    "percentDiff(human,pig)\n"
   ]
  },
  {
   "cell_type": "code",
   "execution_count": 56,
   "metadata": {
    "collapsed": false
   },
   "outputs": [],
   "source": [
    "carp=78.72340425531915 \n",
    "chicken=29.78723404255319 \n",
    "chimp=0.0 \n",
    "dog=16.312056737588655 \n",
    "eel=80.1418439716312 \n",
    "elephant=17.02127659574468 \n",
    "frog=42.5531914893617 \n",
    "gorilla=0.7092198581560284 \n",
    "macaque=3.546099290780142 \n",
    "mouse=14.184397163120568 \n",
    "orangutan=2.127659574468085 \n",
    "pig=15.602836879432624 "
   ]
  },
  {
   "cell_type": "code",
   "execution_count": 62,
   "metadata": {
    "collapsed": false
   },
   "outputs": [
    {
     "data": {
      "image/png": "[encoded data removed]",
      "text/plain": [
       "<matplotlib.figure.Figure at 0x11d285828>"
      ]
     },
     "metadata": {},
     "output_type": "display_data"
    }
   ],
   "source": [
    "plt.bar(1,carp)\n",
    "plt.bar(2,chicken)\n",
    "plt.bar(3,chimp)\n",
    "plt.bar(4,dog)\n",
    "plt.bar(5,eel)\n",
    "plt.bar(6,elephant)\n",
    "plt.bar(7,frog)\n",
    "plt.bar(8,gorilla)\n",
    "plt.bar(9,macaque)\n",
    "plt.bar(10,mouse)\n",
    "plt.bar(11,orangutan)\n",
    "plt.bar(12,pig)\n",
    "\n",
    "\n",
    "plt.xticks([1,2,3,4,5,6,7,8,9,10,11,12],(\"Carp\",\"Chicken\",\"Chimp\",\"Dog\",\"Eel\",\"Elephant\",\"Frog\",\"Gorilla\",\"Macaque\",\"Mouse\",\"Orangutan\",\"Pig\"),rotation=55)\n",
    "\n",
    "# Add a title and axis labels\n",
    "plt.suptitle(\"Comparison of Animals to Human Hemoglobin\")\n",
    "plt.xlabel(\"organisms\")\n",
    "plt.ylabel(\"percent similar to humans\")\n",
    "\n",
    "# Show the graph\n",
    "plt.show()"
   ]
  },
  {
   "cell_type": "code",
   "execution_count": 67,
   "metadata": {
    "collapsed": false
   },
   "outputs": [
    {
     "data": {
      "image/png": "[encoded data removed]",
      "text/plain": [
       "<matplotlib.figure.Figure at 0x11d0257b8>"
      ]
     },
     "metadata": {},
     "output_type": "display_data"
    }
   ],
   "source": [
    "plt.bar(1,chimp, edgecolor=\"black\")\n",
    "plt.bar(2,gorilla, color=\"deepskyblue\")\n",
    "plt.bar(3,orangutan)\n",
    "plt.bar(4,macaque)\n",
    "plt.bar(5,mouse)\n",
    "plt.bar(6,pig)\n",
    "plt.bar(7,dog)\n",
    "plt.bar(8,elephant)\n",
    "plt.bar(9,chicken)\n",
    "plt.bar(10,frog)\n",
    "plt.bar(11,carp)\n",
    "plt.bar(12,eel)\n",
    "\n",
    "\n",
    "plt.xticks([1,2,3,4,5,6,7,8,9,10,11,12],(\"Chimp\",\"Gorilla\",\"Orangutan\",\"Macaque\",\"Mouse\",\"Pig\",\"Dog\",\"Elephant\",\"Chicken\",\"Frog\",\"Carp\",\"Eel\"),rotation=55)\n",
    "\n",
    "# Add a title and axis labels\n",
    "plt.suptitle(\"Comparison of Animals to Human Hemoglobin\")\n",
    "plt.xlabel(\"organisms\")\n",
    "plt.ylabel(\"percent different to humans\")\n",
    "\n",
    "# Show the graph\n",
    "plt.show()"
   ]
  },
  {
   "cell_type": "code",
   "execution_count": null,
   "metadata": {
    "collapsed": true
   },
   "outputs": [],
   "source": []
  }
 ],
 "metadata": {
  "kernelspec": {
   "display_name": "Python 3",
   "language": "python",
   "name": "python3"
  },
  "language_info": {
   "codemirror_mode": {
    "name": "ipython",
    "version": 3
   },
   "file_extension": ".py",
   "mimetype": "text/x-python",
   "name": "python",
   "nbconvert_exporter": "python",
   "pygments_lexer": "ipython3",
   "version": "3.5.2"
  }
 },
 "nbformat": 4,
 "nbformat_minor": 2
}
